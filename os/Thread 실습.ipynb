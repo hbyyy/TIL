{
 "cells": [
  {
   "cell_type": "markdown",
   "metadata": {},
   "source": [
    "## 실습1 : Thread}"
   ]
  },
  {
   "cell_type": "code",
   "execution_count": 75,
   "metadata": {},
   "outputs": [],
   "source": [
    "import os\n",
    "import threading\n",
    "g_count = 0                                                             \n",
    "\n"
   ]
  },
  {
   "cell_type": "code",
   "execution_count": 92,
   "metadata": {},
   "outputs": [
    {
     "name": "stdout",
     "output_type": "stream",
     "text": [
      "g_count = 4175915\n"
     ]
    }
   ],
   "source": [
    "g_count = 0\n",
    "def thread_main(): \n",
    "    global g_count\n",
    "#     print(f'process ID : {os.getpid()}')\n",
    "    for i in range(100000): \n",
    "        g_count += 1\n",
    "            \n",
    "threads = list()\n",
    "\n",
    "for i in range(50): \n",
    "   th = threading.Thread(target=thread_main) \n",
    "   threads.append(th)\n",
    "    \n",
    "for th in threads: \n",
    "    th.start()\n",
    "    \n",
    "for th in threads:\n",
    "    th.join()\n",
    "\n",
    "    \n",
    "print(f'g_count = {g_count}')"
   ]
  },
  {
   "cell_type": "code",
   "execution_count": 85,
   "metadata": {},
   "outputs": [],
   "source": [
    "threads = list()                                                      "
   ]
  },
  {
   "cell_type": "code",
   "execution_count": 78,
   "metadata": {},
   "outputs": [],
   "source": [
    "import threading"
   ]
  },
  {
   "cell_type": "code",
   "execution_count": 79,
   "metadata": {},
   "outputs": [],
   "source": [
    "for i in range(50): \n",
    "   th = threading.Thread(target=thread_main) \n",
    "   threads.append(th)"
   ]
  },
  {
   "cell_type": "code",
   "execution_count": 80,
   "metadata": {},
   "outputs": [
    {
     "name": "stdout",
     "output_type": "stream",
     "text": [
      "process ID : 19413\n",
      "process ID : 19413\n",
      "process ID : 19413\n",
      "process ID : 19413\n",
      "process ID : 19413\n",
      "process ID : 19413process ID : 19413\n",
      "process ID : 19413\n",
      "process ID : 19413\n",
      "\n",
      "process ID : 19413\n",
      "process ID : 19413\n",
      "process ID : 19413\n",
      "process ID : 19413\n",
      "process ID : 19413\n",
      "process ID : 19413\n",
      "process ID : 19413\n",
      "process ID : 19413\n",
      "process ID : 19413\n",
      "process ID : 19413\n",
      "process ID : 19413\n",
      "process ID : 19413\n",
      "process ID : 19413\n",
      "process ID : 19413\n",
      "process ID : 19413\n",
      "process ID : 19413\n",
      "process ID : 19413\n",
      "process ID : 19413\n",
      "process ID : 19413\n",
      "process ID : 19413\n",
      "process ID : 19413\n",
      "process ID : 19413\n",
      "process ID : 19413\n",
      "process ID : 19413\n",
      "process ID : 19413\n",
      "process ID : 19413\n",
      "process ID : 19413\n",
      "process ID : 19413\n",
      "process ID : 19413\n",
      "process ID : 19413\n",
      "process ID : 19413\n",
      "process ID : 19413\n",
      "process ID : 19413\n",
      "process ID : 19413\n",
      "process ID : 19413\n",
      "process ID : 19413\n",
      "process ID : 19413\n",
      "process ID : 19413\n",
      "process ID : 19413\n",
      "process ID : 19413process ID : 19413\n",
      "\n"
     ]
    }
   ],
   "source": [
    "for th in threads: \n",
    "    th.start()"
   ]
  },
  {
   "cell_type": "code",
   "execution_count": 81,
   "metadata": {},
   "outputs": [],
   "source": [
    "for th in threads:\n",
    "    th.join()"
   ]
  },
  {
   "cell_type": "code",
   "execution_count": 82,
   "metadata": {},
   "outputs": [
    {
     "name": "stdout",
     "output_type": "stream",
     "text": [
      "g_count = 4267520\n"
     ]
    }
   ],
   "source": [
    "print(f'g_count = {g_count}')"
   ]
  },
  {
   "cell_type": "markdown",
   "metadata": {},
   "source": [
    "## 실습2 : Multi process"
   ]
  },
  {
   "cell_type": "code",
   "execution_count": 50,
   "metadata": {},
   "outputs": [],
   "source": [
    "import multiprocessing"
   ]
  },
  {
   "cell_type": "code",
   "execution_count": 51,
   "metadata": {},
   "outputs": [],
   "source": [
    "g_count = 0"
   ]
  },
  {
   "cell_type": "code",
   "execution_count": 52,
   "metadata": {},
   "outputs": [
    {
     "name": "stdout",
     "output_type": "stream",
     "text": [
      "main process :  19413 \n",
      "\n"
     ]
    }
   ],
   "source": [
    "def process_main():\n",
    "    print ('parent process: ', os.getppid())\n",
    "    print('process id : ', os.getpid())\n",
    "    global g_count\n",
    "    for i in range(10000):\n",
    "        g_count += 1\n",
    "\n",
    "processes = list()\n",
    "print('main process : ', os.getpid(), '\\n')"
   ]
  },
  {
   "cell_type": "code",
   "execution_count": 53,
   "metadata": {},
   "outputs": [
    {
     "name": "stdout",
     "output_type": "stream",
     "text": [
      "parent process:  19413\n",
      "process id :  20287\n",
      "parent process:  19413\n",
      "process id :  20288\n",
      "parent process:  19413\n",
      "parent process:  19413\n",
      "parent process:  19413\n",
      "process id :  20295\n",
      "process id :  20301\n",
      "process id :  20298\n",
      "parent process:  19413\n",
      "parent process:  19413\n",
      "process id :  20310\n",
      "process id :  20313\n",
      "parent process:  19413\n",
      "process id :  20316\n",
      "parent process:  19413\n",
      "process id :  20325\n",
      "parent process:  19413\n",
      "process id :  20328\n",
      "parent process:  19413\n",
      "process id :  20333\n",
      "parent process:  19413\n",
      "parent process:  19413\n",
      "process id :  20345\n",
      "process id :  20338\n",
      "parent process:  19413\n",
      "process id :  20348\n",
      "parent process:  19413\n",
      "process id :  20356\n",
      "parent process:  19413\n",
      "parent process:  19413\n",
      "process id :  20361\n",
      "parent process:  19413\n",
      "process id :  20353\n",
      "process id :  20368\n",
      "parent process:  19413\n",
      "process id :  20375\n",
      "parent process:  19413\n",
      "process id :  20382\n",
      "parent process:  19413\n",
      "process id :  20383\n",
      "parent process:  19413\n",
      "parent process:  19413\n",
      "process id :  20391\n",
      "process id :  20390\n",
      "parent process:  19413\n",
      "process id :  20400\n",
      "parent process:  19413\n",
      "parent process:  19413\n",
      "process id :  20410\n",
      "process id :  20403\n",
      "parent process:  19413\n",
      "process id :  20413\n",
      "parent process:  19413\n",
      "process id :  20420\n",
      "parent process:  19413\n",
      "process id :  20423\n",
      "parent process:  19413\n",
      "process id :  20430\n",
      "parent process:  19413\n",
      "parent process:  19413\n",
      "parent process:  19413\n",
      "process id :  20434\n",
      "process id :  20438\n",
      "process id :  20442\n",
      "parent process:  19413\n",
      "process id :  20448\n",
      "parent process:  19413\n",
      "process id :  20455\n",
      "parent process:  19413\n",
      "process id :  20459\n",
      "parent process:  19413\n",
      "parent process:  19413\n",
      "parent process:  19413\n",
      "process id :  20470\n",
      "process id :  20463\n",
      "process id :  20471\n",
      "parent process:  19413\n",
      "process id :  20482\n",
      "parent process:  19413\n",
      "parent process:  19413\n",
      "parent process:  19413\n",
      "process id :  20485\n",
      "process id :  20490\n",
      "parent process:  19413\n",
      "process id :  20494\n",
      "process id :  20493\n",
      "parent process:  19413\n",
      "process id :  20501\n",
      "parent process:  19413\n",
      "process id :  20512\n",
      "parent process:  19413\n",
      "parent process:  19413\n",
      "process id :  20513\n",
      "process id :  20520\n",
      "parent process:  19413\n",
      "process id :  20525\n",
      "parent process:  19413\n",
      "process id :  20529\n",
      "g_count : 0\n"
     ]
    }
   ],
   "source": [
    "for i in range(50):\n",
    "    process = multiprocessing.Process(target=process_main)\n",
    "    processes.append(process)\n",
    "\n",
    "for process in processes:\n",
    "    process.start()\n",
    "    \n",
    "for process in processes:\n",
    "    process.join()\n",
    "\n",
    "print('g_count :', g_count)"
   ]
  },
  {
   "cell_type": "code",
   "execution_count": 54,
   "metadata": {},
   "outputs": [],
   "source": [
    "import subprocess"
   ]
  },
  {
   "cell_type": "code",
   "execution_count": 64,
   "metadata": {},
   "outputs": [
    {
     "name": "stdout",
     "output_type": "stream",
     "text": [
      "proc id  19413\n"
     ]
    },
    {
     "ename": "FileNotFoundError",
     "evalue": "[Errno 2] No such file or directory: 'print(f\"hello : {os.getpid()}\")': 'print(f\"hello : {os.getpid()}\")'",
     "output_type": "error",
     "traceback": [
      "\u001b[0;31m---------------------------------------------------------------------------\u001b[0m",
      "\u001b[0;31mFileNotFoundError\u001b[0m                         Traceback (most recent call last)",
      "\u001b[0;32m<ipython-input-64-af2492492721>\u001b[0m in \u001b[0;36m<module>\u001b[0;34m\u001b[0m\n\u001b[1;32m      1\u001b[0m \u001b[0mprint\u001b[0m\u001b[0;34m(\u001b[0m\u001b[0;34m'proc id '\u001b[0m \u001b[0;34m,\u001b[0m \u001b[0mos\u001b[0m\u001b[0;34m.\u001b[0m\u001b[0mgetpid\u001b[0m\u001b[0;34m(\u001b[0m\u001b[0;34m)\u001b[0m\u001b[0;34m)\u001b[0m\u001b[0;34m\u001b[0m\u001b[0;34m\u001b[0m\u001b[0m\n\u001b[0;32m----> 2\u001b[0;31m \u001b[0msubprocess\u001b[0m\u001b[0;34m.\u001b[0m\u001b[0mcheck_output\u001b[0m\u001b[0;34m(\u001b[0m\u001b[0;34m'print(f\"hello : {os.getpid()}\")'\u001b[0m\u001b[0;34m)\u001b[0m\u001b[0;34m\u001b[0m\u001b[0;34m\u001b[0m\u001b[0m\n\u001b[0m",
      "\u001b[0;32m~/.pyenv/versions/3.7.5/lib/python3.7/subprocess.py\u001b[0m in \u001b[0;36mcheck_output\u001b[0;34m(timeout, *popenargs, **kwargs)\u001b[0m\n\u001b[1;32m    409\u001b[0m \u001b[0;34m\u001b[0m\u001b[0m\n\u001b[1;32m    410\u001b[0m     return run(*popenargs, stdout=PIPE, timeout=timeout, check=True,\n\u001b[0;32m--> 411\u001b[0;31m                **kwargs).stdout\n\u001b[0m\u001b[1;32m    412\u001b[0m \u001b[0;34m\u001b[0m\u001b[0m\n\u001b[1;32m    413\u001b[0m \u001b[0;34m\u001b[0m\u001b[0m\n",
      "\u001b[0;32m~/.pyenv/versions/3.7.5/lib/python3.7/subprocess.py\u001b[0m in \u001b[0;36mrun\u001b[0;34m(input, capture_output, timeout, check, *popenargs, **kwargs)\u001b[0m\n\u001b[1;32m    486\u001b[0m         \u001b[0mkwargs\u001b[0m\u001b[0;34m[\u001b[0m\u001b[0;34m'stderr'\u001b[0m\u001b[0;34m]\u001b[0m \u001b[0;34m=\u001b[0m \u001b[0mPIPE\u001b[0m\u001b[0;34m\u001b[0m\u001b[0;34m\u001b[0m\u001b[0m\n\u001b[1;32m    487\u001b[0m \u001b[0;34m\u001b[0m\u001b[0m\n\u001b[0;32m--> 488\u001b[0;31m     \u001b[0;32mwith\u001b[0m \u001b[0mPopen\u001b[0m\u001b[0;34m(\u001b[0m\u001b[0;34m*\u001b[0m\u001b[0mpopenargs\u001b[0m\u001b[0;34m,\u001b[0m \u001b[0;34m**\u001b[0m\u001b[0mkwargs\u001b[0m\u001b[0;34m)\u001b[0m \u001b[0;32mas\u001b[0m \u001b[0mprocess\u001b[0m\u001b[0;34m:\u001b[0m\u001b[0;34m\u001b[0m\u001b[0;34m\u001b[0m\u001b[0m\n\u001b[0m\u001b[1;32m    489\u001b[0m         \u001b[0;32mtry\u001b[0m\u001b[0;34m:\u001b[0m\u001b[0;34m\u001b[0m\u001b[0;34m\u001b[0m\u001b[0m\n\u001b[1;32m    490\u001b[0m             \u001b[0mstdout\u001b[0m\u001b[0;34m,\u001b[0m \u001b[0mstderr\u001b[0m \u001b[0;34m=\u001b[0m \u001b[0mprocess\u001b[0m\u001b[0;34m.\u001b[0m\u001b[0mcommunicate\u001b[0m\u001b[0;34m(\u001b[0m\u001b[0minput\u001b[0m\u001b[0;34m,\u001b[0m \u001b[0mtimeout\u001b[0m\u001b[0;34m=\u001b[0m\u001b[0mtimeout\u001b[0m\u001b[0;34m)\u001b[0m\u001b[0;34m\u001b[0m\u001b[0;34m\u001b[0m\u001b[0m\n",
      "\u001b[0;32m~/.pyenv/versions/3.7.5/lib/python3.7/subprocess.py\u001b[0m in \u001b[0;36m__init__\u001b[0;34m(self, args, bufsize, executable, stdin, stdout, stderr, preexec_fn, close_fds, shell, cwd, env, universal_newlines, startupinfo, creationflags, restore_signals, start_new_session, pass_fds, encoding, errors, text)\u001b[0m\n\u001b[1;32m    798\u001b[0m                                 \u001b[0mc2pread\u001b[0m\u001b[0;34m,\u001b[0m \u001b[0mc2pwrite\u001b[0m\u001b[0;34m,\u001b[0m\u001b[0;34m\u001b[0m\u001b[0;34m\u001b[0m\u001b[0m\n\u001b[1;32m    799\u001b[0m                                 \u001b[0merrread\u001b[0m\u001b[0;34m,\u001b[0m \u001b[0merrwrite\u001b[0m\u001b[0;34m,\u001b[0m\u001b[0;34m\u001b[0m\u001b[0;34m\u001b[0m\u001b[0m\n\u001b[0;32m--> 800\u001b[0;31m                                 restore_signals, start_new_session)\n\u001b[0m\u001b[1;32m    801\u001b[0m         \u001b[0;32mexcept\u001b[0m\u001b[0;34m:\u001b[0m\u001b[0;34m\u001b[0m\u001b[0;34m\u001b[0m\u001b[0m\n\u001b[1;32m    802\u001b[0m             \u001b[0;31m# Cleanup if the child failed starting.\u001b[0m\u001b[0;34m\u001b[0m\u001b[0;34m\u001b[0m\u001b[0;34m\u001b[0m\u001b[0m\n",
      "\u001b[0;32m~/.pyenv/versions/3.7.5/lib/python3.7/subprocess.py\u001b[0m in \u001b[0;36m_execute_child\u001b[0;34m(self, args, executable, preexec_fn, close_fds, pass_fds, cwd, env, startupinfo, creationflags, shell, p2cread, p2cwrite, c2pread, c2pwrite, errread, errwrite, restore_signals, start_new_session)\u001b[0m\n\u001b[1;32m   1549\u001b[0m                         \u001b[0;32mif\u001b[0m \u001b[0merrno_num\u001b[0m \u001b[0;34m==\u001b[0m \u001b[0merrno\u001b[0m\u001b[0;34m.\u001b[0m\u001b[0mENOENT\u001b[0m\u001b[0;34m:\u001b[0m\u001b[0;34m\u001b[0m\u001b[0;34m\u001b[0m\u001b[0m\n\u001b[1;32m   1550\u001b[0m                             \u001b[0merr_msg\u001b[0m \u001b[0;34m+=\u001b[0m \u001b[0;34m': '\u001b[0m \u001b[0;34m+\u001b[0m \u001b[0mrepr\u001b[0m\u001b[0;34m(\u001b[0m\u001b[0merr_filename\u001b[0m\u001b[0;34m)\u001b[0m\u001b[0;34m\u001b[0m\u001b[0;34m\u001b[0m\u001b[0m\n\u001b[0;32m-> 1551\u001b[0;31m                     \u001b[0;32mraise\u001b[0m \u001b[0mchild_exception_type\u001b[0m\u001b[0;34m(\u001b[0m\u001b[0merrno_num\u001b[0m\u001b[0;34m,\u001b[0m \u001b[0merr_msg\u001b[0m\u001b[0;34m,\u001b[0m \u001b[0merr_filename\u001b[0m\u001b[0;34m)\u001b[0m\u001b[0;34m\u001b[0m\u001b[0;34m\u001b[0m\u001b[0m\n\u001b[0m\u001b[1;32m   1552\u001b[0m                 \u001b[0;32mraise\u001b[0m \u001b[0mchild_exception_type\u001b[0m\u001b[0;34m(\u001b[0m\u001b[0merr_msg\u001b[0m\u001b[0;34m)\u001b[0m\u001b[0;34m\u001b[0m\u001b[0;34m\u001b[0m\u001b[0m\n\u001b[1;32m   1553\u001b[0m \u001b[0;34m\u001b[0m\u001b[0m\n",
      "\u001b[0;31mFileNotFoundError\u001b[0m: [Errno 2] No such file or directory: 'print(f\"hello : {os.getpid()}\")': 'print(f\"hello : {os.getpid()}\")'"
     ]
    }
   ],
   "source": [
    "print('proc id ' , os.getpid())\n",
    "subprocess.check_output('print(f\"hello : {os.getpid()}\")')"
   ]
  },
  {
   "cell_type": "markdown",
   "metadata": {},
   "source": [
    "## 실습3. 동기화 이슈 해결"
   ]
  },
  {
   "cell_type": "code",
   "execution_count": 97,
   "metadata": {},
   "outputs": [
    {
     "name": "stdout",
     "output_type": "stream",
     "text": [
      "g_count = 500000000\n"
     ]
    }
   ],
   "source": [
    "g_count = 0\n",
    "def thread_main(): \n",
    "    global g_count\n",
    "#     print(f'process ID : {os.getpid()}')\n",
    "    lock.acquire()\n",
    "    for i in range(10000000): \n",
    "        g_count += 1\n",
    "    lock.release()\n",
    "\n",
    "threads = list()\n",
    "lock = threading.Lock()\n",
    "\n",
    "for i in range(50): \n",
    "   th = threading.Thread(target=thread_main) \n",
    "   threads.append(th)\n",
    "    \n",
    "for th in threads: \n",
    "    th.start()\n",
    "    \n",
    "for th in threads:\n",
    "    th.join()\n",
    "\n",
    "    \n",
    "print(f'g_count = {g_count}')"
   ]
  },
  {
   "cell_type": "markdown",
   "metadata": {},
   "source": [
    "## 실습4 : 세마포어 사용"
   ]
  },
  {
   "cell_type": "code",
   "execution_count": 98,
   "metadata": {},
   "outputs": [
    {
     "name": "stdout",
     "output_type": "stream",
     "text": [
      "g_count = 327875188\n"
     ]
    }
   ],
   "source": [
    "g_count = 0\n",
    "def thread_main(): \n",
    "    global g_count\n",
    "#     print(f'process ID : {os.getpid()}')\n",
    "    lock.acquire()\n",
    "    for i in range(10000000): \n",
    "        g_count += 1\n",
    "    lock.release()\n",
    "\n",
    "threads = list()\n",
    "lock = threading.Semaphore(2)\n",
    "for i in range(50): \n",
    "   th = threading.Thread(target=thread_main) \n",
    "   threads.append(th)\n",
    "    \n",
    "for th in threads: \n",
    "    th.start()\n",
    "    \n",
    "for th in threads:\n",
    "    th.join()\n",
    "\n",
    "    \n",
    "print(f'g_count = {g_count}')"
   ]
  },
  {
   "cell_type": "markdown",
   "metadata": {},
   "source": [
    "## 실습 5 : 파이썬은 한번에 쓰레드 1개만 사용 가능\n",
    "- 파이썬은 쓰레드가 필요가 없나?"
   ]
  },
  {
   "cell_type": "code",
   "execution_count": 107,
   "metadata": {},
   "outputs": [
    {
     "name": "stdout",
     "output_type": "stream",
     "text": [
      "g_count = 50000000\n",
      "3.638641834259033\n"
     ]
    }
   ],
   "source": [
    "import time\n",
    "\n",
    "\n",
    "\n",
    "g_count = 0\n",
    "\n",
    "def thread_main(): \n",
    "    global g_count\n",
    "#     print(f'process ID : {os.getpid()}')\n",
    "    lock.acquire()\n",
    "    for i in range(500000): \n",
    "        g_count += 1\n",
    "    lock.release()\n",
    "    \n",
    "    time.sleep(0.1)\n",
    "    \n",
    "    lock.acquire()\n",
    "    for i in range(500000): \n",
    "        g_count += 1\n",
    "    lock.release()\n",
    "    \n",
    "\n",
    "threads = list()\n",
    "lock = threading.Lock()\n",
    "start = time.time()\n",
    "\n",
    "for i in range(50): \n",
    "   th = threading.Thread(target=thread_main) \n",
    "   threads.append(th)\n",
    "\n",
    "for th in threads: \n",
    "    th.start()\n",
    "\n",
    "for th in threads:\n",
    "    th.join()\n",
    "\n",
    "    \n",
    "print(f'g_count = {g_count}')\n",
    "print(time.time() - start)"
   ]
  },
  {
   "cell_type": "code",
   "execution_count": 105,
   "metadata": {},
   "outputs": [
    {
     "name": "stdout",
     "output_type": "stream",
     "text": [
      "g_count = 50000000\n",
      "10.020273685455322\n"
     ]
    }
   ],
   "source": [
    "import time\n",
    "\n",
    "\n",
    "# 쓰레드를 사용하지 않는 프로그램\n",
    "g_count = 0\n",
    "\n",
    "def thread_main(): \n",
    "    global g_count\n",
    "#     print(f'process ID : {os.getpid()}')\n",
    "    lock.acquire()\n",
    "    for i in range(500000): \n",
    "        g_count += 1\n",
    "    lock.release()\n",
    "    \n",
    "    time.sleep(0.1)\n",
    "    \n",
    "    lock.acquire()\n",
    "    for i in range(500000): \n",
    "        g_count += 1\n",
    "    lock.release()\n",
    "    \n",
    "\n",
    "threads = list()\n",
    "lock = threading.Lock()\n",
    "start = time.time()\n",
    "\n",
    "for i in range(50): \n",
    "#    th = threading.Thread(target=thread_main) \n",
    "#    threads.append(th)\n",
    "    thread_main()\n",
    "    \n",
    "print(f'g_count = {g_count}')\n",
    "print(time.time() - start)"
   ]
  },
  {
   "cell_type": "code",
   "execution_count": null,
   "metadata": {},
   "outputs": [],
   "source": []
  }
 ],
 "metadata": {
  "kernelspec": {
   "display_name": "Python 3",
   "language": "python",
   "name": "python3"
  },
  "language_info": {
   "codemirror_mode": {
    "name": "ipython",
    "version": 3
   },
   "file_extension": ".py",
   "mimetype": "text/x-python",
   "name": "python",
   "nbconvert_exporter": "python",
   "pygments_lexer": "ipython3",
   "version": "3.7.5"
  }
 },
 "nbformat": 4,
 "nbformat_minor": 4
}
