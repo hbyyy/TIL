{
 "cells": [
  {
   "cell_type": "code",
   "execution_count": 35,
   "metadata": {},
   "outputs": [
    {
     "name": "stdout",
     "output_type": "stream",
     "text": [
      "asd\n"
     ]
    }
   ],
   "source": [
    "class Node:\n",
    "    def __init__(self, item):\n",
    "        self.__item = item\n",
    "    \n",
    "    def __eq__(self, value):\n",
    "        return self.__item == value\n",
    "    \n",
    "    @property\n",
    "    def item(self):\n",
    "        return self.__item\n",
    "    \n",
    "NodeList = []\n",
    "NodeList.append(Node('1'))\n",
    "NodeList.append(Node('2'))\n",
    "NodeList.append(Node('3'))\n",
    "NodeList.append(Node('4'))\n",
    "NodeList.append(Node('5'))\n",
    "NodeList.append(Node('6'))\n",
    "\n",
    "if '1' in NodeList:\n",
    "    print('asd')"
   ]
  },
  {
   "cell_type": "code",
   "execution_count": 20,
   "metadata": {},
   "outputs": [],
   "source": [
    "node = Node(1)"
   ]
  },
  {
   "cell_type": "code",
   "execution_count": 12,
   "metadata": {},
   "outputs": [],
   "source": [
    "class Node:\n",
    "    def __init__(self, item):\n",
    "        self.item = item\n",
    "        "
   ]
  },
  {
   "cell_type": "code",
   "execution_count": 13,
   "metadata": {},
   "outputs": [],
   "source": [
    "node = Node(1)"
   ]
  },
  {
   "cell_type": "code",
   "execution_count": 15,
   "metadata": {},
   "outputs": [
    {
     "data": {
      "text/plain": [
       "<__main__.Node at 0x7efd7c7e7350>"
      ]
     },
     "execution_count": 15,
     "metadata": {},
     "output_type": "execute_result"
    }
   ],
   "source": [
    "Node('1')"
   ]
  },
  {
   "cell_type": "code",
   "execution_count": 76,
   "metadata": {},
   "outputs": [],
   "source": [
    "class Node:\n",
    "    def __init__(self, item, pointer=None):\n",
    "        self.item = item\n",
    "        self.pointer = pointer\n",
    "        self.left = None\n",
    "        self.right = None\n",
    "        \n",
    "    \n",
    "    def __eq__(self, value):\n",
    "        return self.item == value\n",
    "\n",
    "\n",
    "class Tree:\n",
    "    def __init__(self, node):\n",
    "        self.root = node\n",
    "    \n",
    "    def preorder_traversal(self, node):\n",
    "        print(node.item, end='')\n",
    "        if node.left is not None:\n",
    "            self.preorder_traversal(node.left)\n",
    "        if node.right is not None:\n",
    "            self.preorder_traversal(node.right)\n",
    "    \n",
    "    def inorder_traversal(self, node):\n",
    "        if node.left is not None:\n",
    "            self.inorder_traversal(node.left)\n",
    "        print(node.item, end='')\n",
    "        if node.right is not None:\n",
    "            self.inorder_traversal(node.right)\n",
    "    \n",
    "    def postorder_traversal(self, node):\n",
    "        if node.left is not None:\n",
    "            self.postorder_traversal(node.left)\n",
    "        if node.right is not None:\n",
    "            self.postorder_traversal(node.right)\n",
    "        print(node.item, end='')\n",
    "    \n",
    "    "
   ]
  },
  {
   "cell_type": "code",
   "execution_count": 81,
   "metadata": {},
   "outputs": [
    {
     "name": "stdout",
     "output_type": "stream",
     "text": [
      "7\n",
      "A B C\n",
      "B D .\n",
      "C E F\n",
      "E . .\n",
      "F . G\n",
      "D . .\n",
      "G . .\n"
     ]
    }
   ],
   "source": [
    "n = int(input())\n",
    "NodeList = []\n",
    "for i in range(n):\n",
    "    n_list = list(input().split())\n",
    "    if i == 0:\n",
    "        root = Node(n_list[0])\n",
    "        tree = Tree(root)\n",
    "        NodeList.append(root)\n",
    "    else:\n",
    "        idx = NodeList.index(n_list[0])\n",
    "        root = NodeList[idx]\n",
    "    root.left = Node(n_list[1]) if n_list[1] != '.' else None\n",
    "    root.right = Node(n_list[2]) if n_list[2] != '.' else None\n",
    "    if n_list[1] != '.' : NodeList.append(root.left)\n",
    "    if n_list[2] != '.' : NodeList.append(root.right)"
   ]
  },
  {
   "cell_type": "code",
   "execution_count": 82,
   "metadata": {},
   "outputs": [
    {
     "name": "stdout",
     "output_type": "stream",
     "text": [
      "ABDCEFG"
     ]
    }
   ],
   "source": [
    "tree.preorder_traversal(tree.root)"
   ]
  },
  {
   "cell_type": "code",
   "execution_count": 83,
   "metadata": {},
   "outputs": [
    {
     "name": "stdout",
     "output_type": "stream",
     "text": [
      "DBAECFG\n",
      "DBEGFCA"
     ]
    }
   ],
   "source": [
    "tree.inorder_traversal(tree.root)\n",
    "print()\n",
    "tree.postorder_traversal(tree.root)"
   ]
  },
  {
   "cell_type": "code",
   "execution_count": null,
   "metadata": {},
   "outputs": [],
   "source": []
  }
 ],
 "metadata": {
  "kernelspec": {
   "display_name": "Python 3",
   "language": "python",
   "name": "python3"
  },
  "language_info": {
   "codemirror_mode": {
    "name": "ipython",
    "version": 3
   },
   "file_extension": ".py",
   "mimetype": "text/x-python",
   "name": "python",
   "nbconvert_exporter": "python",
   "pygments_lexer": "ipython3",
   "version": "3.7.5"
  }
 },
 "nbformat": 4,
 "nbformat_minor": 2
}
