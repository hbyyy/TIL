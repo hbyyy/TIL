{
 "cells": [
  {
   "cell_type": "code",
   "execution_count": 2,
   "metadata": {},
   "outputs": [
    {
     "name": "stdout",
     "output_type": "stream",
     "text": [
      "3 is odd !\n",
      "4 is not odd !\n"
     ]
    }
   ],
   "source": [
    "#q1\n",
    "\n",
    "def is_odd(number):\n",
    "    if number % 2 == 0:\n",
    "        print(f'{number} is not odd !')\n",
    "    else:\n",
    "        print(f'{number} is odd !')\n",
    "        \n",
    "is_odd(3)\n",
    "is_odd(4)"
   ]
  },
  {
   "cell_type": "code",
   "execution_count": 6,
   "metadata": {},
   "outputs": [
    {
     "data": {
      "text/plain": [
       "1.5"
      ]
     },
     "execution_count": 6,
     "metadata": {},
     "output_type": "execute_result"
    }
   ],
   "source": [
    "#q2\n",
    "\n",
    "def average_number(*args):\n",
    "    sum = 0\n",
    "    for i in args:\n",
    "        sum += int(i)\n",
    "        \n",
    "    return sum / len(args)\n",
    "\n",
    "average_number(1,2)\n",
    "    "
   ]
  },
  {
   "cell_type": "code",
   "execution_count": 7,
   "metadata": {},
   "outputs": [
    {
     "name": "stdout",
     "output_type": "stream",
     "text": [
      "youneedpython\n",
      "youneedpython\n",
      "you need python\n",
      "youneedpython\n"
     ]
    }
   ],
   "source": [
    "#q4\n",
    "    print(\"you\" \"need\" \"python\")\n",
    "    print(\"you\"+\"need\"+\"python\")\n",
    "    print(\"you\", \"need\", \"python\")\n",
    "    print(\"\".join([\"you\", \"need\", \"python\"]))\n"
   ]
  },
  {
   "cell_type": "code",
   "execution_count": null,
   "metadata": {},
   "outputs": [],
   "source": []
  }
 ],
 "metadata": {
  "kernelspec": {
   "display_name": "Python 3",
   "language": "python",
   "name": "python3"
  },
  "language_info": {
   "codemirror_mode": {
    "name": "ipython",
    "version": 3
   },
   "file_extension": ".py",
   "mimetype": "text/x-python",
   "name": "python",
   "nbconvert_exporter": "python",
   "pygments_lexer": "ipython3",
   "version": "3.7.5"
  }
 },
 "nbformat": 4,
 "nbformat_minor": 2
}
