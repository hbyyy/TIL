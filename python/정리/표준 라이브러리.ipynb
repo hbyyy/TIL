{
 "cells": [
  {
   "cell_type": "markdown",
   "metadata": {},
   "source": [
    "## 누락된 키 처리하기\n",
    "##### 1. `setdefault()`\n",
    "##### 2. `defaultdict()`"
   ]
  },
  {
   "cell_type": "code",
   "execution_count": 10,
   "metadata": {},
   "outputs": [
    {
     "name": "stdout",
     "output_type": "stream",
     "text": [
      "{'Hydrogen': 1, 'Helium': 2}\n"
     ]
    }
   ],
   "source": [
    "# setdefault()\n",
    "# get() 함수와 비슷하지만, 존재하지 않는 키라면 딕셔너리에 값을 할당한다.\n",
    "\n",
    "periodic_table = {'Hydrogen': 1, 'Helium': 2}\n",
    "print(periodic_table)"
   ]
  },
  {
   "cell_type": "code",
   "execution_count": 12,
   "metadata": {},
   "outputs": [
    {
     "name": "stdout",
     "output_type": "stream",
     "text": [
      "12\n",
      "1\n",
      "{'Hydrogen': 1, 'Helium': 2, 'Carbon': 12}\n"
     ]
    }
   ],
   "source": [
    "# 딕셔너리에 Carbon이 없다면 Carbon을 추가하고 값을 12로 할당\n",
    "carbon = periodic_table.setdefault('Carbon', 12)\n",
    "# Hydrogen이 이미 존재하므로 딕셔너리의 Hydrogen의 값을 가져옴\n",
    "hydrogen = periodic_table.setdefault('Hydrogen', 15)\n",
    "print(carbon)\n",
    "print(hydrogen)\n",
    "print(periodic_table)"
   ]
  },
  {
   "cell_type": "code",
   "execution_count": 54,
   "metadata": {},
   "outputs": [
    {
     "name": "stdout",
     "output_type": "stream",
     "text": [
      "defaultdict(<function <lambda> at 0x7f87268bdb00>, {})\n",
      "defaultdict(<function <lambda> at 0x7f87268bdb00>, {'hydrogen': '1313'})\n",
      "defaultdict(<function <lambda> at 0x7f87268bdb00>, {'hydrogen': '1313', 'helium': 'ㅁㅇ'})\n",
      "defaultdict(<function <lambda> at 0x7f87268bdb00>, {'hydrogen': '1313', 'helium': 'ㅁㅇ'})\n"
     ]
    }
   ],
   "source": [
    "# defaultdict()\n",
    "# defaultdict(함수) 가 들어간다. 함수는 모든 새 키에 대한 기본값을 지정한다.\n",
    "# 인수로는 함수가 들어간다.\n",
    "\n",
    "from collections import defaultdict\n",
    "\n",
    "def test():\n",
    "    pass\n",
    "\n",
    "periodic_table = defaultdict(lambda : 'ㅁㅇ')\n",
    "print(periodic_table)\n",
    "periodic_table['hydrogen'] = '1313'\n",
    "print(periodic_table)\n",
    "periodic_table['helium']\n",
    "print(periodic_table)\n",
    "periodic_table['helium']\n",
    "print(periodic_table)"
   ]
  },
  {
   "cell_type": "markdown",
   "metadata": {},
   "source": [
    "## 항목 세기\n",
    "\n",
    "##### `counter()`"
   ]
  },
  {
   "cell_type": "code",
   "execution_count": 71,
   "metadata": {},
   "outputs": [
    {
     "name": "stdout",
     "output_type": "stream",
     "text": [
      "Counter({'spam': 3, 'egg': 1})\n",
      "<class 'collections.Counter'>\n",
      "[('spam', 3), ('egg', 1)]\n",
      "[('spam', 3)]\n",
      "[('spam', 3), ('egg', 1)]\n"
     ]
    }
   ],
   "source": [
    "from collections import Counter\n",
    "breakfast = ['spam', 'spam', 'egg', 'spam']\n",
    "\n",
    "breakfast_counter = Counter(breakfast)\n",
    "print(breakfast_counter)\n",
    "print(type(breakfast_counter))\n",
    "\n",
    "print(breakfast_counter.most_common())\n",
    "print(breakfast_counter.most_common(1))\n",
    "print(breakfast_counter.most_common(2))"
   ]
  },
  {
   "cell_type": "code",
   "execution_count": 72,
   "metadata": {},
   "outputs": [],
   "source": [
    "lunch = ['spam', 'egg', 'egg', 'egg', 'bacon']\n",
    "lunch_counter = Counter(lunch)"
   ]
  },
  {
   "cell_type": "code",
   "execution_count": 73,
   "metadata": {},
   "outputs": [
    {
     "name": "stdout",
     "output_type": "stream",
     "text": [
      "Counter({'spam': 3, 'egg': 1})\n",
      "Counter({'egg': 3, 'spam': 1, 'bacon': 1})\n",
      "Counter({'spam': 4, 'egg': 4, 'bacon': 1})\n",
      "Counter({'spam': 2})\n",
      "Counter({'spam': 1, 'egg': 1})\n"
     ]
    }
   ],
   "source": [
    "#연산 가능\n",
    "print(breakfast_counter)\n",
    "print(lunch_counter)\n",
    "print(breakfast_counter + lunch_counter)\n",
    "print(breakfast_counter - lunch_counter)\n",
    "print(breakfast_counter & lunch_counter)\n"
   ]
  },
  {
   "cell_type": "markdown",
   "metadata": {},
   "source": [
    "## 키 정렬하기\n",
    "##### `OrderedDict()`\n",
    "- 순서가 있는 딕셔너리이다.\n",
    "- 키우"
   ]
  },
  {
   "cell_type": "code",
   "execution_count": 74,
   "metadata": {},
   "outputs": [],
   "source": [
    "number_dict = {\n",
    "    1:'a',\n",
    "    2: 'b',\n",
    "    3: 'c',\n",
    "    4: 'd'\n",
    "}"
   ]
  },
  {
   "cell_type": "code",
   "execution_count": 80,
   "metadata": {},
   "outputs": [
    {
     "name": "stdout",
     "output_type": "stream",
     "text": [
      "1\n",
      "2\n",
      "3\n",
      "4\n",
      "5\n"
     ]
    }
   ],
   "source": [
    "number_dict[5] ='e'\n",
    "for i in number_dict:\n",
    "    print(i)"
   ]
  },
  {
   "cell_type": "code",
   "execution_count": 81,
   "metadata": {},
   "outputs": [],
   "source": [
    "from collections import OrderedDict\n",
    "number_dict = OrderedDict([\n",
    "    (1, 'a'),\n",
    "    (2, 'b'),\n",
    "    (3, 'c'),\n",
    "    (4, 'd'),\n",
    "    (5, 'e')\n",
    "])"
   ]
  },
  {
   "cell_type": "code",
   "execution_count": 82,
   "metadata": {},
   "outputs": [
    {
     "name": "stdout",
     "output_type": "stream",
     "text": [
      "1\n",
      "2\n",
      "3\n",
      "4\n",
      "5\n"
     ]
    }
   ],
   "source": [
    "for i in number_dict:\n",
    "    print(i)"
   ]
  },
  {
   "cell_type": "code",
   "execution_count": null,
   "metadata": {},
   "outputs": [],
   "source": []
  }
 ],
 "metadata": {
  "kernelspec": {
   "display_name": "Python 3",
   "language": "python",
   "name": "python3"
  },
  "language_info": {
   "codemirror_mode": {
    "name": "ipython",
    "version": 3
   },
   "file_extension": ".py",
   "mimetype": "text/x-python",
   "name": "python",
   "nbconvert_exporter": "python",
   "pygments_lexer": "ipython3",
   "version": "3.7.5"
  }
 },
 "nbformat": 4,
 "nbformat_minor": 2
}
