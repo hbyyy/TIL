{
 "cells": [
  {
   "cell_type": "code",
   "execution_count": 17,
   "metadata": {},
   "outputs": [],
   "source": [
    "number_thing = (number for number in range(1, 7))"
   ]
  },
  {
   "cell_type": "code",
   "execution_count": 18,
   "metadata": {},
   "outputs": [
    {
     "data": {
      "text/plain": [
       "generator"
      ]
     },
     "execution_count": 18,
     "metadata": {},
     "output_type": "execute_result"
    }
   ],
   "source": [
    "type(number_thing)"
   ]
  },
  {
   "cell_type": "code",
   "execution_count": 19,
   "metadata": {},
   "outputs": [
    {
     "data": {
      "text/plain": [
       "<generator object <genexpr> at 0x7fa013ee0f50>"
      ]
     },
     "execution_count": 19,
     "metadata": {},
     "output_type": "execute_result"
    }
   ],
   "source": [
    "number_thing"
   ]
  },
  {
   "cell_type": "code",
   "execution_count": 20,
   "metadata": {},
   "outputs": [
    {
     "name": "stdout",
     "output_type": "stream",
     "text": [
      "1\n",
      "2\n",
      "3\n",
      "4\n",
      "5\n",
      "6\n"
     ]
    }
   ],
   "source": [
    "for i in number_thing:\n",
    "    print(i)"
   ]
  },
  {
   "cell_type": "code",
   "execution_count": 32,
   "metadata": {},
   "outputs": [
    {
     "name": "stdout",
     "output_type": "stream",
     "text": [
      "시간, 합>>> 1.2329297065734863 49999995000000\n"
     ]
    }
   ],
   "source": [
    "import time\n",
    "\n",
    "start = time.time()\n",
    "sum = 0\n",
    "for i in [number for number in range(10000000)]:\n",
    "    sum += i\n",
    "\n",
    "print('시간, 합>>>',time.time() - start, sum)"
   ]
  },
  {
   "cell_type": "code",
   "execution_count": 33,
   "metadata": {},
   "outputs": [
    {
     "name": "stdout",
     "output_type": "stream",
     "text": [
      "시간, 합>>> 0.9273240566253662 49999995000000\n"
     ]
    }
   ],
   "source": [
    "import time\n",
    "\n",
    "start = time.time()\n",
    "sum = 0\n",
    "for i in range(10000000):\n",
    "    sum += i\n",
    "\n",
    "print('시간, 합>>>',time.time() - start, sum)"
   ]
  },
  {
   "cell_type": "code",
   "execution_count": 66,
   "metadata": {},
   "outputs": [],
   "source": [
    "def outer(a,b):\n",
    "    print('1', locals())\n",
    "    print(globals())\n",
    "    def inner():\n",
    "        print('2',locals())\n",
    "        return a + b\n",
    "        \n",
    "    return inner\n"
   ]
  },
  {
   "cell_type": "code",
   "execution_count": 67,
   "metadata": {},
   "outputs": [
    {
     "name": "stdout",
     "output_type": "stream",
     "text": [
      "1 {'a': 1, 'b': 2}\n",
      "{'__name__': '__main__', '__doc__': 'Automatically created module for IPython interactive environment', '__package__': None, '__loader__': None, '__spec__': None, '__builtin__': <module 'builtins' (built-in)>, '__builtins__': <module 'builtins' (built-in)>, '_ih': ['', 'number_thing = (number for number in range(1, 7))', 'type(number_thing)', 'number_thing', 'number_thing.__next__()', 'number_thing.__next__()', 'number_thing.__next__()', 'number_thing.__next__()', 'number_thing.__next__()', 'number_thing.__next__()', 'number_thing.__next__()', 'number_thing.__next__()', 'type(number_thing)', 'number_thing = (number for number in range(1, 7))', 'type(number_thing)', 'number_thing', 'number_thing', 'number_thing = (number for number in range(1, 7))', 'type(number_thing)', 'number_thing', 'for i in number_thing:\\n    print(i)', 'for i in (number for number in range(34)):\\n    print(i)', 'for i in (number for number in range(1000000)):\\n    print(i)', \"import time\\n\\nstart = time.time()\\nsum = 0\\nfor i in (number for number in range(100)):\\n    sum += i\\n\\nprint('시간, 합>>>',time.time() - start, sum)\", \"import time\\n\\nstart = time.time()\\nsum = 0\\nfor i in (number for number in range(1000)):\\n    sum += i\\n\\nprint('시간, 합>>>',time.time() - start, sum)\", \"import time\\n\\nstart = time.time()\\nsum = 0\\nfor i in (number for number in range(10000)):\\n    sum += i\\n\\nprint('시간, 합>>>',time.time() - start, sum)\", \"import time\\n\\nstart = time.time()\\nsum = 0\\nfor i in (number for number in range(1000000)):\\n    sum += i\\n\\nprint('시간, 합>>>',time.time() - start, sum)\", \"import time\\n\\nstart = time.time()\\nsum = 0\\nfor i in (number for number in range(10000000)):\\n    sum += i\\n\\nprint('시간, 합>>>',time.time() - start, sum)\", \"import time\\n\\nstart = time.time()\\nsum = 0\\nfor i in (number for number in range(10000000)):\\n    sum += i\\n\\nprint('시간, 합>>>',time.time() - start, sum)\", \"import time\\n\\nstart = time.time()\\nsum = 0\\nfor i in range(10000000):\\n    sum += i\\n\\nprint('시간, 합>>>',time.time() - start, sum)\", \"import time\\n\\nstart = time.time()\\nsum = 0\\nfor i in (number for number in range(10000000)):\\n    sum += i\\n\\nprint('시간, 합>>>',time.time() - start, sum)\", \"import time\\n\\nstart = time.time()\\nsum = 0\\nfor i in range(10000000):\\n    sum += i\\n\\nprint('시간, 합>>>',time.time() - start, sum)\", \"import time\\n\\nstart = time.time()\\nsum = 0\\nfor i in [number for number in range(10000000)]:\\n    sum += i\\n\\nprint('시간, 합>>>',time.time() - start, sum)\", \"import time\\n\\nstart = time.time()\\nsum = 0\\nfor i in range(10000000):\\n    sum += i\\n\\nprint('시간, 합>>>',time.time() - start, sum)\", 'def outer(a,b):\\n    def inner(num1,num2):\\n        return num1 + num2\\n    return inner(a,b)', 'outer(2,3)', 'def outer(a,b):\\n    def inner():\\n        return a + b\\n    return inner', 'outer(2,3)', 'x = outer(1,2)', 'x()', 'sum(range(100))', 'sum(range(1, 100))', 'x()\\ndel sum', 'sum(range(1, 100))', 's = (i for i in range(100))', 'type(s)', 'sum(s)', 'sum([1,2,3,4,5])', 'print(list(range(2)))', '[range(2)]', 'type([range(2)])', 'u = [range(2)]', 'type(u[0])', 'u[0]', 'u[0][1]', 'u[0][0]', 'locals()', 'def outer(a,b):\\n    print(locals())\\n    def inner():\\n        print(locals())\\n        return a + b\\n        \\n    return inner', 'x = outer(1,2)', \"def outer(a,b):\\n    print('1', locals())\\n    def inner():\\n        print('2',locals())\\n        return a + b\\n        \\n    return inner\", 'x = outer(1,2)', 'x()\\ndel sum', \"def outer(a,b):\\n    print('1', locals())\\n    def inner():\\n        print('2',locals())\\n        return a + b\\n        \\n    return inner\", 'x = outer(1,2)', 'x()', 'sum(range(1, 100))', \"def outer(a,b):\\n    print('1', locals())\\n    print(globals())\\n    def inner():\\n        print('2',locals())\\n        return a + b\\n        \\n    return inner\", 'x = outer(1,2)'], '_oh': {2: <class 'generator'>, 3: <generator object <genexpr> at 0x7fa03132ded0>, 4: 1, 5: 2, 6: 3, 7: 4, 8: 5, 9: 6, 12: <class 'generator'>, 14: <class 'generator'>, 15: <generator object <genexpr> at 0x7fa013e5b5d0>, 16: <generator object <genexpr> at 0x7fa013e5b5d0>, 18: <class 'generator'>, 19: <generator object <genexpr> at 0x7fa013ee0f50>, 35: 5, 37: <function outer.<locals>.inner at 0x7fa013e42c20>, 39: 3, 43: 4950, 45: <class 'generator'>, 46: 4950, 47: 15, 49: [range(0, 2)], 50: <class 'list'>, 52: <class 'range'>, 53: range(0, 2), 54: 1, 55: 0, 56: {...}, 64: 3, 65: 4950}, '_dh': ['/home/hby/projects/wps12th/TIL/python/191127-python-review'], 'In': ['', 'number_thing = (number for number in range(1, 7))', 'type(number_thing)', 'number_thing', 'number_thing.__next__()', 'number_thing.__next__()', 'number_thing.__next__()', 'number_thing.__next__()', 'number_thing.__next__()', 'number_thing.__next__()', 'number_thing.__next__()', 'number_thing.__next__()', 'type(number_thing)', 'number_thing = (number for number in range(1, 7))', 'type(number_thing)', 'number_thing', 'number_thing', 'number_thing = (number for number in range(1, 7))', 'type(number_thing)', 'number_thing', 'for i in number_thing:\\n    print(i)', 'for i in (number for number in range(34)):\\n    print(i)', 'for i in (number for number in range(1000000)):\\n    print(i)', \"import time\\n\\nstart = time.time()\\nsum = 0\\nfor i in (number for number in range(100)):\\n    sum += i\\n\\nprint('시간, 합>>>',time.time() - start, sum)\", \"import time\\n\\nstart = time.time()\\nsum = 0\\nfor i in (number for number in range(1000)):\\n    sum += i\\n\\nprint('시간, 합>>>',time.time() - start, sum)\", \"import time\\n\\nstart = time.time()\\nsum = 0\\nfor i in (number for number in range(10000)):\\n    sum += i\\n\\nprint('시간, 합>>>',time.time() - start, sum)\", \"import time\\n\\nstart = time.time()\\nsum = 0\\nfor i in (number for number in range(1000000)):\\n    sum += i\\n\\nprint('시간, 합>>>',time.time() - start, sum)\", \"import time\\n\\nstart = time.time()\\nsum = 0\\nfor i in (number for number in range(10000000)):\\n    sum += i\\n\\nprint('시간, 합>>>',time.time() - start, sum)\", \"import time\\n\\nstart = time.time()\\nsum = 0\\nfor i in (number for number in range(10000000)):\\n    sum += i\\n\\nprint('시간, 합>>>',time.time() - start, sum)\", \"import time\\n\\nstart = time.time()\\nsum = 0\\nfor i in range(10000000):\\n    sum += i\\n\\nprint('시간, 합>>>',time.time() - start, sum)\", \"import time\\n\\nstart = time.time()\\nsum = 0\\nfor i in (number for number in range(10000000)):\\n    sum += i\\n\\nprint('시간, 합>>>',time.time() - start, sum)\", \"import time\\n\\nstart = time.time()\\nsum = 0\\nfor i in range(10000000):\\n    sum += i\\n\\nprint('시간, 합>>>',time.time() - start, sum)\", \"import time\\n\\nstart = time.time()\\nsum = 0\\nfor i in [number for number in range(10000000)]:\\n    sum += i\\n\\nprint('시간, 합>>>',time.time() - start, sum)\", \"import time\\n\\nstart = time.time()\\nsum = 0\\nfor i in range(10000000):\\n    sum += i\\n\\nprint('시간, 합>>>',time.time() - start, sum)\", 'def outer(a,b):\\n    def inner(num1,num2):\\n        return num1 + num2\\n    return inner(a,b)', 'outer(2,3)', 'def outer(a,b):\\n    def inner():\\n        return a + b\\n    return inner', 'outer(2,3)', 'x = outer(1,2)', 'x()', 'sum(range(100))', 'sum(range(1, 100))', 'x()\\ndel sum', 'sum(range(1, 100))', 's = (i for i in range(100))', 'type(s)', 'sum(s)', 'sum([1,2,3,4,5])', 'print(list(range(2)))', '[range(2)]', 'type([range(2)])', 'u = [range(2)]', 'type(u[0])', 'u[0]', 'u[0][1]', 'u[0][0]', 'locals()', 'def outer(a,b):\\n    print(locals())\\n    def inner():\\n        print(locals())\\n        return a + b\\n        \\n    return inner', 'x = outer(1,2)', \"def outer(a,b):\\n    print('1', locals())\\n    def inner():\\n        print('2',locals())\\n        return a + b\\n        \\n    return inner\", 'x = outer(1,2)', 'x()\\ndel sum', \"def outer(a,b):\\n    print('1', locals())\\n    def inner():\\n        print('2',locals())\\n        return a + b\\n        \\n    return inner\", 'x = outer(1,2)', 'x()', 'sum(range(1, 100))', \"def outer(a,b):\\n    print('1', locals())\\n    print(globals())\\n    def inner():\\n        print('2',locals())\\n        return a + b\\n        \\n    return inner\", 'x = outer(1,2)'], 'Out': {2: <class 'generator'>, 3: <generator object <genexpr> at 0x7fa03132ded0>, 4: 1, 5: 2, 6: 3, 7: 4, 8: 5, 9: 6, 12: <class 'generator'>, 14: <class 'generator'>, 15: <generator object <genexpr> at 0x7fa013e5b5d0>, 16: <generator object <genexpr> at 0x7fa013e5b5d0>, 18: <class 'generator'>, 19: <generator object <genexpr> at 0x7fa013ee0f50>, 35: 5, 37: <function outer.<locals>.inner at 0x7fa013e42c20>, 39: 3, 43: 4950, 45: <class 'generator'>, 46: 4950, 47: 15, 49: [range(0, 2)], 50: <class 'list'>, 52: <class 'range'>, 53: range(0, 2), 54: 1, 55: 0, 56: {...}, 64: 3, 65: 4950}, 'get_ipython': <bound method InteractiveShell.get_ipython of <ipykernel.zmqshell.ZMQInteractiveShell object at 0x7fa03136f610>>, 'exit': <IPython.core.autocall.ZMQExitAutocall object at 0x7fa0302c54d0>, 'quit': <IPython.core.autocall.ZMQExitAutocall object at 0x7fa0302c54d0>, '_': 4950, '__': 3, '___': {...}, '_i': \"def outer(a,b):\\n    print('1', locals())\\n    print(globals())\\n    def inner():\\n        print('2',locals())\\n        return a + b\\n        \\n    return inner\", '_ii': 'sum(range(1, 100))', '_iii': 'x()', '_i1': 'number_thing = (number for number in range(1, 7))', 'number_thing': <generator object <genexpr> at 0x7fa013ee0f50>, '_i2': 'type(number_thing)', '_2': <class 'generator'>, '_i3': 'number_thing', '_3': <generator object <genexpr> at 0x7fa03132ded0>, '_i4': 'number_thing.__next__()', '_4': 1, '_i5': '\\nnumber_thing.__next__()', '_5': 2, '_i6': 'number_thing.__next__()', '_6': 3, '_i7': 'number_thing.__next__()', '_7': 4, '_i8': 'number_thing.__next__()', '_8': 5, '_i9': 'number_thing.__next__()', '_9': 6, '_i10': 'number_thing.__next__()', '_i11': 'number_thing.__next__()', '_i12': 'type(number_thing)', '_12': <class 'generator'>, '_i13': 'number_thing = (number for number in range(1, 7))', '_i14': 'type(number_thing)', '_14': <class 'generator'>, '_i15': 'number_thing', '_15': <generator object <genexpr> at 0x7fa013e5b5d0>, '_i16': 'number_thing', '_16': <generator object <genexpr> at 0x7fa013e5b5d0>, '_i17': 'number_thing = (number for number in range(1, 7))', '_i18': 'type(number_thing)', '_18': <class 'generator'>, '_i19': 'number_thing', '_19': <generator object <genexpr> at 0x7fa013ee0f50>, '_i20': 'for i in number_thing:\\n    print(i)', 'i': 9999999, '_i21': 'for i in (number for number in range(34)):\\n    print(i)', '_i22': 'for i in (number for number in range(1000000)):\\n    print(i)', '_i23': \"import time\\n\\nstart = time.time()\\nsum = 0\\nfor i in (number for number in range(100)):\\n    sum += i\\n\\nprint('시간, 합>>>',time.time() - start, sum)\", 'time': <module 'time' (built-in)>, 'start': 1574828869.385569, '_i24': \"import time\\n\\nstart = time.time()\\nsum = 0\\nfor i in (number for number in range(1000)):\\n    sum += i\\n\\nprint('시간, 합>>>',time.time() - start, sum)\", '_i25': \"import time\\n\\nstart = time.time()\\nsum = 0\\nfor i in (number for number in range(10000)):\\n    sum += i\\n\\nprint('시간, 합>>>',time.time() - start, sum)\", '_i26': \"import time\\n\\nstart = time.time()\\nsum = 0\\nfor i in (number for number in range(1000000)):\\n    sum += i\\n\\nprint('시간, 합>>>',time.time() - start, sum)\", '_i27': \"import time\\n\\nstart = time.time()\\nsum = 0\\nfor i in (number for number in range(10000000)):\\n    sum += i\\n\\nprint('시간, 합>>>',time.time() - start, sum)\", '_i28': \"import time\\n\\nstart = time.time()\\nsum = 0\\nfor i in (number for number in range(10000000)):\\n    sum += i\\n\\nprint('시간, 합>>>',time.time() - start, sum)\", '_i29': \"import time\\n\\nstart = time.time()\\nsum = 0\\nfor i in range(10000000):\\n    sum += i\\n\\nprint('시간, 합>>>',time.time() - start, sum)\", '_i30': \"import time\\n\\nstart = time.time()\\nsum = 0\\nfor i in (number for number in range(10000000)):\\n    sum += i\\n\\nprint('시간, 합>>>',time.time() - start, sum)\", '_i31': \"import time\\n\\nstart = time.time()\\nsum = 0\\nfor i in range(10000000):\\n    sum += i\\n\\nprint('시간, 합>>>',time.time() - start, sum)\", '_i32': \"import time\\n\\nstart = time.time()\\nsum = 0\\nfor i in [number for number in range(10000000)]:\\n    sum += i\\n\\nprint('시간, 합>>>',time.time() - start, sum)\", '_i33': \"import time\\n\\nstart = time.time()\\nsum = 0\\nfor i in range(10000000):\\n    sum += i\\n\\nprint('시간, 합>>>',time.time() - start, sum)\", '_i34': 'def outer(a,b):\\n    def inner(num1,num2):\\n        return num1 + num2\\n    return inner(a,b)', 'outer': <function outer at 0x7fa028130440>, '_i35': 'outer(2,3)', '_35': 5, '_i36': 'def outer(a,b):\\n    def inner():\\n        return a + b\\n    return inner', '_i37': 'outer(2,3)', '_37': <function outer.<locals>.inner at 0x7fa013e42c20>, '_i38': 'x = outer(1,2)', 'x': <function outer.<locals>.inner at 0x7fa0281303b0>, '_i39': 'x()', '_39': 3, '_i40': 'sum(range(100))', '_i41': 'sum(range(1, 100))', '_i42': 'x()\\ndel sum', '_i43': 'sum(range(1, 100))', '_43': 4950, '_i44': 's = (i for i in range(100))', 's': <generator object <genexpr> at 0x7fa03132d1d0>, '_i45': 'type(s)', '_45': <class 'generator'>, '_i46': 'sum(s)', '_46': 4950, '_i47': 'sum([1,2,3,4,5])', '_47': 15, '_i48': 'print(list(range(2)))', '_i49': '[range(2)]', '_49': [range(0, 2)], '_i50': 'type([range(2)])', '_50': <class 'list'>, '_i51': 'u = [range(2)]', 'u': [range(0, 2)], '_i52': 'type(u[0])', '_52': <class 'range'>, '_i53': 'u[0]', '_53': range(0, 2), '_i54': 'u[0][1]', '_54': 1, '_i55': 'u[0][0]', '_55': 0, '_i56': 'locals()', '_56': {...}, '_i57': 'def outer(a,b):\\n    print(locals())\\n    def inner():\\n        print(locals())\\n        return a + b\\n        \\n    return inner', '_i58': 'x = outer(1,2)', '_i59': \"def outer(a,b):\\n    print('1', locals())\\n    def inner():\\n        print('2',locals())\\n        return a + b\\n        \\n    return inner\", '_i60': 'x = outer(1,2)', '_i61': 'x()\\ndel sum', '_i62': \"def outer(a,b):\\n    print('1', locals())\\n    def inner():\\n        print('2',locals())\\n        return a + b\\n        \\n    return inner\", '_i63': 'x = outer(1,2)', '_i64': 'x()', '_64': 3, '_i65': 'sum(range(1, 100))', '_65': 4950, '_i66': \"def outer(a,b):\\n    print('1', locals())\\n    print(globals())\\n    def inner():\\n        print('2',locals())\\n        return a + b\\n        \\n    return inner\", '_i67': 'x = outer(1,2)'}\n"
     ]
    }
   ],
   "source": [
    "x = outer(1,2)"
   ]
  },
  {
   "cell_type": "code",
   "execution_count": 64,
   "metadata": {},
   "outputs": [
    {
     "name": "stdout",
     "output_type": "stream",
     "text": [
      "2 {'a': 1, 'b': 2}\n"
     ]
    },
    {
     "data": {
      "text/plain": [
       "3"
      ]
     },
     "execution_count": 64,
     "metadata": {},
     "output_type": "execute_result"
    }
   ],
   "source": [
    "x()"
   ]
  },
  {
   "cell_type": "code",
   "execution_count": 65,
   "metadata": {},
   "outputs": [
    {
     "data": {
      "text/plain": [
       "4950"
      ]
     },
     "execution_count": 65,
     "metadata": {},
     "output_type": "execute_result"
    }
   ],
   "source": [
    "sum(range(1, 100))"
   ]
  },
  {
   "cell_type": "code",
   "execution_count": 44,
   "metadata": {},
   "outputs": [],
   "source": [
    "s = (i for i in range(100))"
   ]
  },
  {
   "cell_type": "code",
   "execution_count": 45,
   "metadata": {},
   "outputs": [
    {
     "data": {
      "text/plain": [
       "generator"
      ]
     },
     "execution_count": 45,
     "metadata": {},
     "output_type": "execute_result"
    }
   ],
   "source": [
    "type(s)"
   ]
  },
  {
   "cell_type": "code",
   "execution_count": 46,
   "metadata": {},
   "outputs": [
    {
     "data": {
      "text/plain": [
       "4950"
      ]
     },
     "execution_count": 46,
     "metadata": {},
     "output_type": "execute_result"
    }
   ],
   "source": [
    "sum(s)"
   ]
  },
  {
   "cell_type": "code",
   "execution_count": 47,
   "metadata": {},
   "outputs": [
    {
     "data": {
      "text/plain": [
       "15"
      ]
     },
     "execution_count": 47,
     "metadata": {},
     "output_type": "execute_result"
    }
   ],
   "source": [
    "sum([1,2,3,4,5])"
   ]
  },
  {
   "cell_type": "code",
   "execution_count": 48,
   "metadata": {},
   "outputs": [
    {
     "name": "stdout",
     "output_type": "stream",
     "text": [
      "[0, 1]\n"
     ]
    }
   ],
   "source": [
    "print(list(range(2)))"
   ]
  },
  {
   "cell_type": "code",
   "execution_count": 49,
   "metadata": {},
   "outputs": [
    {
     "data": {
      "text/plain": [
       "[range(0, 2)]"
      ]
     },
     "execution_count": 49,
     "metadata": {},
     "output_type": "execute_result"
    }
   ],
   "source": [
    "[range(2)]"
   ]
  },
  {
   "cell_type": "code",
   "execution_count": 50,
   "metadata": {},
   "outputs": [
    {
     "data": {
      "text/plain": [
       "list"
      ]
     },
     "execution_count": 50,
     "metadata": {},
     "output_type": "execute_result"
    }
   ],
   "source": [
    "type([range(2)])"
   ]
  },
  {
   "cell_type": "code",
   "execution_count": 51,
   "metadata": {},
   "outputs": [],
   "source": [
    "u = [range(2)]"
   ]
  },
  {
   "cell_type": "code",
   "execution_count": 55,
   "metadata": {},
   "outputs": [
    {
     "data": {
      "text/plain": [
       "0"
      ]
     },
     "execution_count": 55,
     "metadata": {},
     "output_type": "execute_result"
    }
   ],
   "source": [
    "u[0][0]"
   ]
  },
  {
   "cell_type": "code",
   "execution_count": 56,
   "metadata": {},
   "outputs": [
    {
     "data": {
      "text/plain": [
       "{'__name__': '__main__',\n",
       " '__doc__': 'Automatically created module for IPython interactive environment',\n",
       " '__package__': None,\n",
       " '__loader__': None,\n",
       " '__spec__': None,\n",
       " '__builtin__': <module 'builtins' (built-in)>,\n",
       " '__builtins__': <module 'builtins' (built-in)>,\n",
       " '_ih': ['',\n",
       "  'number_thing = (number for number in range(1, 7))',\n",
       "  'type(number_thing)',\n",
       "  'number_thing',\n",
       "  'number_thing.__next__()',\n",
       "  'number_thing.__next__()',\n",
       "  'number_thing.__next__()',\n",
       "  'number_thing.__next__()',\n",
       "  'number_thing.__next__()',\n",
       "  'number_thing.__next__()',\n",
       "  'number_thing.__next__()',\n",
       "  'number_thing.__next__()',\n",
       "  'type(number_thing)',\n",
       "  'number_thing = (number for number in range(1, 7))',\n",
       "  'type(number_thing)',\n",
       "  'number_thing',\n",
       "  'number_thing',\n",
       "  'number_thing = (number for number in range(1, 7))',\n",
       "  'type(number_thing)',\n",
       "  'number_thing',\n",
       "  'for i in number_thing:\\n    print(i)',\n",
       "  'for i in (number for number in range(34)):\\n    print(i)',\n",
       "  'for i in (number for number in range(1000000)):\\n    print(i)',\n",
       "  \"import time\\n\\nstart = time.time()\\nsum = 0\\nfor i in (number for number in range(100)):\\n    sum += i\\n\\nprint('시간, 합>>>',time.time() - start, sum)\",\n",
       "  \"import time\\n\\nstart = time.time()\\nsum = 0\\nfor i in (number for number in range(1000)):\\n    sum += i\\n\\nprint('시간, 합>>>',time.time() - start, sum)\",\n",
       "  \"import time\\n\\nstart = time.time()\\nsum = 0\\nfor i in (number for number in range(10000)):\\n    sum += i\\n\\nprint('시간, 합>>>',time.time() - start, sum)\",\n",
       "  \"import time\\n\\nstart = time.time()\\nsum = 0\\nfor i in (number for number in range(1000000)):\\n    sum += i\\n\\nprint('시간, 합>>>',time.time() - start, sum)\",\n",
       "  \"import time\\n\\nstart = time.time()\\nsum = 0\\nfor i in (number for number in range(10000000)):\\n    sum += i\\n\\nprint('시간, 합>>>',time.time() - start, sum)\",\n",
       "  \"import time\\n\\nstart = time.time()\\nsum = 0\\nfor i in (number for number in range(10000000)):\\n    sum += i\\n\\nprint('시간, 합>>>',time.time() - start, sum)\",\n",
       "  \"import time\\n\\nstart = time.time()\\nsum = 0\\nfor i in range(10000000):\\n    sum += i\\n\\nprint('시간, 합>>>',time.time() - start, sum)\",\n",
       "  \"import time\\n\\nstart = time.time()\\nsum = 0\\nfor i in (number for number in range(10000000)):\\n    sum += i\\n\\nprint('시간, 합>>>',time.time() - start, sum)\",\n",
       "  \"import time\\n\\nstart = time.time()\\nsum = 0\\nfor i in range(10000000):\\n    sum += i\\n\\nprint('시간, 합>>>',time.time() - start, sum)\",\n",
       "  \"import time\\n\\nstart = time.time()\\nsum = 0\\nfor i in [number for number in range(10000000)]:\\n    sum += i\\n\\nprint('시간, 합>>>',time.time() - start, sum)\",\n",
       "  \"import time\\n\\nstart = time.time()\\nsum = 0\\nfor i in range(10000000):\\n    sum += i\\n\\nprint('시간, 합>>>',time.time() - start, sum)\",\n",
       "  'def outer(a,b):\\n    def inner(num1,num2):\\n        return num1 + num2\\n    return inner(a,b)',\n",
       "  'outer(2,3)',\n",
       "  'def outer(a,b):\\n    def inner():\\n        return a + b\\n    return inner',\n",
       "  'outer(2,3)',\n",
       "  'x = outer(1,2)',\n",
       "  'x()',\n",
       "  'sum(range(100))',\n",
       "  'sum(range(1, 100))',\n",
       "  'x()\\ndel sum',\n",
       "  'sum(range(1, 100))',\n",
       "  's = (i for i in range(100))',\n",
       "  'type(s)',\n",
       "  'sum(s)',\n",
       "  'sum([1,2,3,4,5])',\n",
       "  'print(list(range(2)))',\n",
       "  '[range(2)]',\n",
       "  'type([range(2)])',\n",
       "  'u = [range(2)]',\n",
       "  'type(u[0])',\n",
       "  'u[0]',\n",
       "  'u[0][1]',\n",
       "  'u[0][0]',\n",
       "  'locals()'],\n",
       " '_oh': {2: generator,\n",
       "  3: <generator object <genexpr> at 0x7fa03132ded0>,\n",
       "  4: 1,\n",
       "  5: 2,\n",
       "  6: 3,\n",
       "  7: 4,\n",
       "  8: 5,\n",
       "  9: 6,\n",
       "  12: generator,\n",
       "  14: generator,\n",
       "  15: <generator object <genexpr> at 0x7fa013e5b5d0>,\n",
       "  16: <generator object <genexpr> at 0x7fa013e5b5d0>,\n",
       "  18: generator,\n",
       "  19: <generator object <genexpr> at 0x7fa013ee0f50>,\n",
       "  35: 5,\n",
       "  37: <function __main__.outer.<locals>.inner()>,\n",
       "  39: 3,\n",
       "  43: 4950,\n",
       "  45: generator,\n",
       "  46: 4950,\n",
       "  47: 15,\n",
       "  49: [range(0, 2)],\n",
       "  50: list,\n",
       "  52: range,\n",
       "  53: range(0, 2),\n",
       "  54: 1,\n",
       "  55: 0},\n",
       " '_dh': ['/home/hby/projects/wps12th/TIL/python/191127-python-review'],\n",
       " 'In': ['',\n",
       "  'number_thing = (number for number in range(1, 7))',\n",
       "  'type(number_thing)',\n",
       "  'number_thing',\n",
       "  'number_thing.__next__()',\n",
       "  'number_thing.__next__()',\n",
       "  'number_thing.__next__()',\n",
       "  'number_thing.__next__()',\n",
       "  'number_thing.__next__()',\n",
       "  'number_thing.__next__()',\n",
       "  'number_thing.__next__()',\n",
       "  'number_thing.__next__()',\n",
       "  'type(number_thing)',\n",
       "  'number_thing = (number for number in range(1, 7))',\n",
       "  'type(number_thing)',\n",
       "  'number_thing',\n",
       "  'number_thing',\n",
       "  'number_thing = (number for number in range(1, 7))',\n",
       "  'type(number_thing)',\n",
       "  'number_thing',\n",
       "  'for i in number_thing:\\n    print(i)',\n",
       "  'for i in (number for number in range(34)):\\n    print(i)',\n",
       "  'for i in (number for number in range(1000000)):\\n    print(i)',\n",
       "  \"import time\\n\\nstart = time.time()\\nsum = 0\\nfor i in (number for number in range(100)):\\n    sum += i\\n\\nprint('시간, 합>>>',time.time() - start, sum)\",\n",
       "  \"import time\\n\\nstart = time.time()\\nsum = 0\\nfor i in (number for number in range(1000)):\\n    sum += i\\n\\nprint('시간, 합>>>',time.time() - start, sum)\",\n",
       "  \"import time\\n\\nstart = time.time()\\nsum = 0\\nfor i in (number for number in range(10000)):\\n    sum += i\\n\\nprint('시간, 합>>>',time.time() - start, sum)\",\n",
       "  \"import time\\n\\nstart = time.time()\\nsum = 0\\nfor i in (number for number in range(1000000)):\\n    sum += i\\n\\nprint('시간, 합>>>',time.time() - start, sum)\",\n",
       "  \"import time\\n\\nstart = time.time()\\nsum = 0\\nfor i in (number for number in range(10000000)):\\n    sum += i\\n\\nprint('시간, 합>>>',time.time() - start, sum)\",\n",
       "  \"import time\\n\\nstart = time.time()\\nsum = 0\\nfor i in (number for number in range(10000000)):\\n    sum += i\\n\\nprint('시간, 합>>>',time.time() - start, sum)\",\n",
       "  \"import time\\n\\nstart = time.time()\\nsum = 0\\nfor i in range(10000000):\\n    sum += i\\n\\nprint('시간, 합>>>',time.time() - start, sum)\",\n",
       "  \"import time\\n\\nstart = time.time()\\nsum = 0\\nfor i in (number for number in range(10000000)):\\n    sum += i\\n\\nprint('시간, 합>>>',time.time() - start, sum)\",\n",
       "  \"import time\\n\\nstart = time.time()\\nsum = 0\\nfor i in range(10000000):\\n    sum += i\\n\\nprint('시간, 합>>>',time.time() - start, sum)\",\n",
       "  \"import time\\n\\nstart = time.time()\\nsum = 0\\nfor i in [number for number in range(10000000)]:\\n    sum += i\\n\\nprint('시간, 합>>>',time.time() - start, sum)\",\n",
       "  \"import time\\n\\nstart = time.time()\\nsum = 0\\nfor i in range(10000000):\\n    sum += i\\n\\nprint('시간, 합>>>',time.time() - start, sum)\",\n",
       "  'def outer(a,b):\\n    def inner(num1,num2):\\n        return num1 + num2\\n    return inner(a,b)',\n",
       "  'outer(2,3)',\n",
       "  'def outer(a,b):\\n    def inner():\\n        return a + b\\n    return inner',\n",
       "  'outer(2,3)',\n",
       "  'x = outer(1,2)',\n",
       "  'x()',\n",
       "  'sum(range(100))',\n",
       "  'sum(range(1, 100))',\n",
       "  'x()\\ndel sum',\n",
       "  'sum(range(1, 100))',\n",
       "  's = (i for i in range(100))',\n",
       "  'type(s)',\n",
       "  'sum(s)',\n",
       "  'sum([1,2,3,4,5])',\n",
       "  'print(list(range(2)))',\n",
       "  '[range(2)]',\n",
       "  'type([range(2)])',\n",
       "  'u = [range(2)]',\n",
       "  'type(u[0])',\n",
       "  'u[0]',\n",
       "  'u[0][1]',\n",
       "  'u[0][0]',\n",
       "  'locals()'],\n",
       " 'Out': {2: generator,\n",
       "  3: <generator object <genexpr> at 0x7fa03132ded0>,\n",
       "  4: 1,\n",
       "  5: 2,\n",
       "  6: 3,\n",
       "  7: 4,\n",
       "  8: 5,\n",
       "  9: 6,\n",
       "  12: generator,\n",
       "  14: generator,\n",
       "  15: <generator object <genexpr> at 0x7fa013e5b5d0>,\n",
       "  16: <generator object <genexpr> at 0x7fa013e5b5d0>,\n",
       "  18: generator,\n",
       "  19: <generator object <genexpr> at 0x7fa013ee0f50>,\n",
       "  35: 5,\n",
       "  37: <function __main__.outer.<locals>.inner()>,\n",
       "  39: 3,\n",
       "  43: 4950,\n",
       "  45: generator,\n",
       "  46: 4950,\n",
       "  47: 15,\n",
       "  49: [range(0, 2)],\n",
       "  50: list,\n",
       "  52: range,\n",
       "  53: range(0, 2),\n",
       "  54: 1,\n",
       "  55: 0},\n",
       " 'get_ipython': <bound method InteractiveShell.get_ipython of <ipykernel.zmqshell.ZMQInteractiveShell object at 0x7fa03136f610>>,\n",
       " 'exit': <IPython.core.autocall.ZMQExitAutocall at 0x7fa0302c54d0>,\n",
       " 'quit': <IPython.core.autocall.ZMQExitAutocall at 0x7fa0302c54d0>,\n",
       " '_': 0,\n",
       " '__': 1,\n",
       " '___': range(0, 2),\n",
       " '_i': 'u[0][0]',\n",
       " '_ii': 'u[0][1]',\n",
       " '_iii': 'u[0]',\n",
       " '_i1': 'number_thing = (number for number in range(1, 7))',\n",
       " 'number_thing': <generator object <genexpr> at 0x7fa013ee0f50>,\n",
       " '_i2': 'type(number_thing)',\n",
       " '_2': generator,\n",
       " '_i3': 'number_thing',\n",
       " '_3': <generator object <genexpr> at 0x7fa03132ded0>,\n",
       " '_i4': 'number_thing.__next__()',\n",
       " '_4': 1,\n",
       " '_i5': '\\nnumber_thing.__next__()',\n",
       " '_5': 2,\n",
       " '_i6': 'number_thing.__next__()',\n",
       " '_6': 3,\n",
       " '_i7': 'number_thing.__next__()',\n",
       " '_7': 4,\n",
       " '_i8': 'number_thing.__next__()',\n",
       " '_8': 5,\n",
       " '_i9': 'number_thing.__next__()',\n",
       " '_9': 6,\n",
       " '_i10': 'number_thing.__next__()',\n",
       " '_i11': 'number_thing.__next__()',\n",
       " '_i12': 'type(number_thing)',\n",
       " '_12': generator,\n",
       " '_i13': 'number_thing = (number for number in range(1, 7))',\n",
       " '_i14': 'type(number_thing)',\n",
       " '_14': generator,\n",
       " '_i15': 'number_thing',\n",
       " '_15': <generator object <genexpr> at 0x7fa013e5b5d0>,\n",
       " '_i16': 'number_thing',\n",
       " '_16': <generator object <genexpr> at 0x7fa013e5b5d0>,\n",
       " '_i17': 'number_thing = (number for number in range(1, 7))',\n",
       " '_i18': 'type(number_thing)',\n",
       " '_18': generator,\n",
       " '_i19': 'number_thing',\n",
       " '_19': <generator object <genexpr> at 0x7fa013ee0f50>,\n",
       " '_i20': 'for i in number_thing:\\n    print(i)',\n",
       " 'i': 9999999,\n",
       " '_i21': 'for i in (number for number in range(34)):\\n    print(i)',\n",
       " '_i22': 'for i in (number for number in range(1000000)):\\n    print(i)',\n",
       " '_i23': \"import time\\n\\nstart = time.time()\\nsum = 0\\nfor i in (number for number in range(100)):\\n    sum += i\\n\\nprint('시간, 합>>>',time.time() - start, sum)\",\n",
       " 'time': <module 'time' (built-in)>,\n",
       " 'start': 1574828869.385569,\n",
       " '_i24': \"import time\\n\\nstart = time.time()\\nsum = 0\\nfor i in (number for number in range(1000)):\\n    sum += i\\n\\nprint('시간, 합>>>',time.time() - start, sum)\",\n",
       " '_i25': \"import time\\n\\nstart = time.time()\\nsum = 0\\nfor i in (number for number in range(10000)):\\n    sum += i\\n\\nprint('시간, 합>>>',time.time() - start, sum)\",\n",
       " '_i26': \"import time\\n\\nstart = time.time()\\nsum = 0\\nfor i in (number for number in range(1000000)):\\n    sum += i\\n\\nprint('시간, 합>>>',time.time() - start, sum)\",\n",
       " '_i27': \"import time\\n\\nstart = time.time()\\nsum = 0\\nfor i in (number for number in range(10000000)):\\n    sum += i\\n\\nprint('시간, 합>>>',time.time() - start, sum)\",\n",
       " '_i28': \"import time\\n\\nstart = time.time()\\nsum = 0\\nfor i in (number for number in range(10000000)):\\n    sum += i\\n\\nprint('시간, 합>>>',time.time() - start, sum)\",\n",
       " '_i29': \"import time\\n\\nstart = time.time()\\nsum = 0\\nfor i in range(10000000):\\n    sum += i\\n\\nprint('시간, 합>>>',time.time() - start, sum)\",\n",
       " '_i30': \"import time\\n\\nstart = time.time()\\nsum = 0\\nfor i in (number for number in range(10000000)):\\n    sum += i\\n\\nprint('시간, 합>>>',time.time() - start, sum)\",\n",
       " '_i31': \"import time\\n\\nstart = time.time()\\nsum = 0\\nfor i in range(10000000):\\n    sum += i\\n\\nprint('시간, 합>>>',time.time() - start, sum)\",\n",
       " '_i32': \"import time\\n\\nstart = time.time()\\nsum = 0\\nfor i in [number for number in range(10000000)]:\\n    sum += i\\n\\nprint('시간, 합>>>',time.time() - start, sum)\",\n",
       " '_i33': \"import time\\n\\nstart = time.time()\\nsum = 0\\nfor i in range(10000000):\\n    sum += i\\n\\nprint('시간, 합>>>',time.time() - start, sum)\",\n",
       " '_i34': 'def outer(a,b):\\n    def inner(num1,num2):\\n        return num1 + num2\\n    return inner(a,b)',\n",
       " 'outer': <function __main__.outer(a, b)>,\n",
       " '_i35': 'outer(2,3)',\n",
       " '_35': 5,\n",
       " '_i36': 'def outer(a,b):\\n    def inner():\\n        return a + b\\n    return inner',\n",
       " '_i37': 'outer(2,3)',\n",
       " '_37': <function __main__.outer.<locals>.inner()>,\n",
       " '_i38': 'x = outer(1,2)',\n",
       " 'x': <function __main__.outer.<locals>.inner()>,\n",
       " '_i39': 'x()',\n",
       " '_39': 3,\n",
       " '_i40': 'sum(range(100))',\n",
       " '_i41': 'sum(range(1, 100))',\n",
       " '_i42': 'x()\\ndel sum',\n",
       " '_i43': 'sum(range(1, 100))',\n",
       " '_43': 4950,\n",
       " '_i44': 's = (i for i in range(100))',\n",
       " 's': <generator object <genexpr> at 0x7fa03132d1d0>,\n",
       " '_i45': 'type(s)',\n",
       " '_45': generator,\n",
       " '_i46': 'sum(s)',\n",
       " '_46': 4950,\n",
       " '_i47': 'sum([1,2,3,4,5])',\n",
       " '_47': 15,\n",
       " '_i48': 'print(list(range(2)))',\n",
       " '_i49': '[range(2)]',\n",
       " '_49': [range(0, 2)],\n",
       " '_i50': 'type([range(2)])',\n",
       " '_50': list,\n",
       " '_i51': 'u = [range(2)]',\n",
       " 'u': [range(0, 2)],\n",
       " '_i52': 'type(u[0])',\n",
       " '_52': range,\n",
       " '_i53': 'u[0]',\n",
       " '_53': range(0, 2),\n",
       " '_i54': 'u[0][1]',\n",
       " '_54': 1,\n",
       " '_i55': 'u[0][0]',\n",
       " '_55': 0,\n",
       " '_i56': 'locals()'}"
      ]
     },
     "execution_count": 56,
     "metadata": {},
     "output_type": "execute_result"
    }
   ],
   "source": [
    "locals()"
   ]
  },
  {
   "cell_type": "code",
   "execution_count": 139,
   "metadata": {},
   "outputs": [],
   "source": [
    "str1 = 'asdaasdadad'"
   ]
  },
  {
   "cell_type": "code",
   "execution_count": 140,
   "metadata": {},
   "outputs": [],
   "source": [
    "lasd = str1.split('a', maxsplit = -1)"
   ]
  },
  {
   "cell_type": "code",
   "execution_count": 141,
   "metadata": {},
   "outputs": [
    {
     "data": {
      "text/plain": [
       "['', 'sd', '', 'sd', 'd', 'd']"
      ]
     },
     "execution_count": 141,
     "metadata": {},
     "output_type": "execute_result"
    }
   ],
   "source": [
    "lasd"
   ]
  },
  {
   "cell_type": "code",
   "execution_count": 142,
   "metadata": {},
   "outputs": [
    {
     "ename": "IndexError",
     "evalue": "list index out of range",
     "output_type": "error",
     "traceback": [
      "\u001b[0;31m---------------------------------------------------------------------------\u001b[0m",
      "\u001b[0;31mIndexError\u001b[0m                                Traceback (most recent call last)",
      "\u001b[0;32m<ipython-input-142-9b9c4870500f>\u001b[0m in \u001b[0;36m<module>\u001b[0;34m\u001b[0m\n\u001b[1;32m      1\u001b[0m \u001b[0;32mfor\u001b[0m \u001b[0midx\u001b[0m\u001b[0;34m,\u001b[0m \u001b[0mitem\u001b[0m \u001b[0;32min\u001b[0m \u001b[0menumerate\u001b[0m\u001b[0;34m(\u001b[0m\u001b[0mlasd\u001b[0m\u001b[0;34m.\u001b[0m\u001b[0mcopy\u001b[0m\u001b[0;34m(\u001b[0m\u001b[0;34m)\u001b[0m\u001b[0;34m)\u001b[0m\u001b[0;34m:\u001b[0m\u001b[0;34m\u001b[0m\u001b[0;34m\u001b[0m\u001b[0m\n\u001b[1;32m      2\u001b[0m \u001b[0;34m\u001b[0m\u001b[0m\n\u001b[0;32m----> 3\u001b[0;31m      \u001b[0;32mif\u001b[0m \u001b[0mlasd\u001b[0m\u001b[0;34m[\u001b[0m\u001b[0midx\u001b[0m\u001b[0;34m]\u001b[0m \u001b[0;34m==\u001b[0m \u001b[0;34m''\u001b[0m\u001b[0;34m:\u001b[0m\u001b[0;34m\u001b[0m\u001b[0;34m\u001b[0m\u001b[0m\n\u001b[0m\u001b[1;32m      4\u001b[0m          \u001b[0;32mdel\u001b[0m \u001b[0mlasd\u001b[0m\u001b[0;34m[\u001b[0m\u001b[0midx\u001b[0m\u001b[0;34m]\u001b[0m\u001b[0;34m\u001b[0m\u001b[0;34m\u001b[0m\u001b[0m\n\u001b[1;32m      5\u001b[0m \u001b[0;34m\u001b[0m\u001b[0m\n",
      "\u001b[0;31mIndexError\u001b[0m: list index out of range"
     ]
    }
   ],
   "source": [
    "for idx, item in enumerate(lasd.copy()):\n",
    "    \n",
    "     if lasd[idx] == '':\n",
    "         del lasd[idx]\n",
    "        "
   ]
  },
  {
   "cell_type": "code",
   "execution_count": 143,
   "metadata": {},
   "outputs": [
    {
     "data": {
      "text/plain": [
       "['sd', 'sd', 'd', 'd']"
      ]
     },
     "execution_count": 143,
     "metadata": {},
     "output_type": "execute_result"
    }
   ],
   "source": [
    "lasd"
   ]
  },
  {
   "cell_type": "code",
   "execution_count": null,
   "metadata": {},
   "outputs": [],
   "source": []
  },
  {
   "cell_type": "code",
   "execution_count": null,
   "metadata": {},
   "outputs": [],
   "source": []
  }
 ],
 "metadata": {
  "kernelspec": {
   "display_name": "Python 3",
   "language": "python",
   "name": "python3"
  },
  "language_info": {
   "codemirror_mode": {
    "name": "ipython",
    "version": 3
   },
   "file_extension": ".py",
   "mimetype": "text/x-python",
   "name": "python",
   "nbconvert_exporter": "python",
   "pygments_lexer": "ipython3",
   "version": "3.7.5"
  }
 },
 "nbformat": 4,
 "nbformat_minor": 2
}
