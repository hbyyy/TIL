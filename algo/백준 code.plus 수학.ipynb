{
 "cells": [
  {
   "cell_type": "markdown",
   "metadata": {},
   "source": [
    "# GCD 합\n",
    "(https://www.acmicpc.net/problem/9613)"
   ]
  },
  {
   "cell_type": "code",
   "execution_count": 3,
   "metadata": {},
   "outputs": [],
   "source": [
    "a, *numbers = (1,2,3,4,5)"
   ]
  },
  {
   "cell_type": "code",
   "execution_count": 5,
   "metadata": {},
   "outputs": [
    {
     "data": {
      "text/plain": [
       "1"
      ]
     },
     "execution_count": 5,
     "metadata": {},
     "output_type": "execute_result"
    }
   ],
   "source": [
    "a"
   ]
  },
  {
   "cell_type": "code",
   "execution_count": 6,
   "metadata": {},
   "outputs": [
    {
     "data": {
      "text/plain": [
       "[2, 3, 4, 5]"
      ]
     },
     "execution_count": 6,
     "metadata": {},
     "output_type": "execute_result"
    }
   ],
   "source": [
    "numbers"
   ]
  },
  {
   "cell_type": "code",
   "execution_count": null,
   "metadata": {},
   "outputs": [],
   "source": []
  },
  {
   "cell_type": "markdown",
   "metadata": {},
   "source": [
    "# 소수 찾기\n",
    "(https://www.acmicpc.net/problem/1978)"
   ]
  },
  {
   "cell_type": "code",
   "execution_count": 3,
   "metadata": {},
   "outputs": [
    {
     "name": "stdout",
     "output_type": "stream",
     "text": [
      "4\n",
      "1 3 5 7\n",
      "3\n"
     ]
    }
   ],
   "source": [
    "import math\n",
    "\n",
    "n = int(input())\n",
    "numbers = list(map(int, input().split()))\n",
    "\n",
    "count = 0\n",
    "for num in numbers:\n",
    "    i = 2\n",
    "    is_prime = True\n",
    "    if num == 1:\n",
    "        continue\n",
    "    sqrt = int(math.sqrt(num))\n",
    "    while i <= sqrt:\n",
    "        if num % i == 0:\n",
    "            is_prime = False\n",
    "            break\n",
    "        i += 1\n",
    "    \n",
    "    if is_prime: count += 1\n",
    "    \n",
    "print(count)\n"
   ]
  },
  {
   "cell_type": "code",
   "execution_count": 5,
   "metadata": {},
   "outputs": [],
   "source": [
    "import math\n",
    "def is_prime(number):\n",
    "    is_prime = True\n",
    "    if number == 1:\n",
    "        return False\n",
    "    for i in range(2, int(math.sqrt(number) + 1)):\n",
    "        if number % i == 0:\n",
    "            is_prime = False\n",
    "            break\n",
    "    \n",
    "    return is_prime\n",
    "                       \n",
    "                   "
   ]
  },
  {
   "cell_type": "code",
   "execution_count": 13,
   "metadata": {},
   "outputs": [
    {
     "data": {
      "text/plain": [
       "False"
      ]
     },
     "execution_count": 13,
     "metadata": {},
     "output_type": "execute_result"
    }
   ],
   "source": [
    "is_prime(9)"
   ]
  },
  {
   "cell_type": "markdown",
   "metadata": {},
   "source": [
    "# 골드바흐의 추측\n",
    "(https://www.acmicpc.net/problem/6588)"
   ]
  },
  {
   "cell_type": "code",
   "execution_count": 40,
   "metadata": {},
   "outputs": [],
   "source": [
    "import math\n",
    "n = 120\n",
    "prime_number = []\n",
    "array = [0 for i in range(n +1)]\n",
    "\n"
   ]
  },
  {
   "cell_type": "code",
   "execution_count": 41,
   "metadata": {},
   "outputs": [
    {
     "name": "stdout",
     "output_type": "stream",
     "text": [
      "4\n",
      "8\n",
      "16\n",
      "32\n",
      "64\n",
      "128\n",
      "6\n",
      "12\n",
      "24\n",
      "48\n",
      "96\n",
      "192\n",
      "8\n",
      "16\n",
      "32\n",
      "64\n",
      "128\n",
      "10\n",
      "20\n",
      "40\n",
      "80\n",
      "160\n",
      "12\n",
      "24\n",
      "48\n",
      "96\n",
      "192\n",
      "14\n",
      "28\n",
      "56\n",
      "112\n",
      "224\n",
      "16\n",
      "32\n",
      "64\n",
      "128\n",
      "18\n",
      "36\n",
      "72\n",
      "144\n",
      "20\n",
      "40\n",
      "80\n",
      "160\n"
     ]
    }
   ],
   "source": [
    "result = []\n",
    "for i in range(2, int(math.sqrt(n)) + 1):\n",
    "    tmp = i\n",
    "    if is_prime(i) and not array[i]:\n",
    "        result.append(i)\n",
    "    while True:\n",
    "        try:\n",
    "            array[tmp] = 1\n",
    "            tmp *= 2\n",
    "            print(tmp)\n",
    "        except IndexError:\n",
    "            break\n",
    "for i in range(result[-1], len(array)):\n",
    "    if array[i] == 0:\n",
    "        result.append(i)"
   ]
  },
  {
   "cell_type": "code",
   "execution_count": 63,
   "metadata": {},
   "outputs": [
    {
     "name": "stdout",
     "output_type": "stream",
     "text": [
      "0\t\n",
      "1\t1\t1\t1\t\n",
      "1\t1\t1\t1\t1\t\n",
      "0\t1\t0\t1\t0\t\n",
      "1\t0\t1\t0\t1\t\n",
      "0\t0\t0\t1\t0\t\n",
      "0\t0\t1\t0\t0\t\n",
      "0\t1\t0\t0\t0\t\n",
      "1\t0\t0\t0\t1\t\n",
      "0\t0\t0\t0\t0\t\n",
      "0\t0\t1\t0\t0\t\n",
      "0\t0\t0\t0\t0\t\n",
      "1\t0\t0\t0\t0\t\n",
      "0\t0\t0\t1\t0\t\n",
      "0\t0\t0\t0\t0\t\n",
      "0\t1\t0\t0\t0\t\n",
      "0\t0\t0\t0\t1\t\n",
      "0\t0\t0\t0\t0\t\n",
      "0\t0\t0\t0\t0\t\n",
      "0\t0\t0\t0\t0\t\n",
      "1\t0\t0\t0\t0\t\n",
      "0\t0\t0\t0\t0\t\n",
      "0\t0\t0\t0\t0\t\n",
      "0\t1\t0\t0\t0\t\n",
      "0\t0\t0\t0\t0\t\n"
     ]
    }
   ],
   "source": [
    "for i,num  in enumerate(array):\n",
    "    if i == 1:\n",
    "        continue\n",
    "    print(num, end='\\t')\n",
    "    if i % 5 == 0:\n",
    "        print()"
   ]
  },
  {
   "cell_type": "code",
   "execution_count": 35,
   "metadata": {},
   "outputs": [
    {
     "data": {
      "text/plain": [
       "600"
      ]
     },
     "execution_count": 35,
     "metadata": {},
     "output_type": "execute_result"
    }
   ],
   "source": [
    "result[-1]"
   ]
  },
  {
   "cell_type": "code",
   "execution_count": 56,
   "metadata": {},
   "outputs": [
    {
     "data": {
      "text/plain": [
       "\"<class 'enumerate'>\""
      ]
     },
     "execution_count": 56,
     "metadata": {},
     "output_type": "execute_result"
    }
   ],
   "source": [
    "str(enumerate)"
   ]
  },
  {
   "cell_type": "code",
   "execution_count": 1,
   "metadata": {},
   "outputs": [
    {
     "name": "stdout",
     "output_type": "stream",
     "text": [
      "8\n",
      "8 = 3 + 5\n",
      "20\n",
      "20 = 3 + 17\n",
      "42\n",
      "42 = 5 + 37\n",
      "0\n"
     ]
    }
   ],
   "source": [
    "import math\n",
    "\n",
    "def is_prime(num):\n",
    "    is_prime = True\n",
    "    if num == 1 :\n",
    "        return False\n",
    "    for i in range(2, int(math.sqrt(num)) + 1):\n",
    "        if num % i == 0:\n",
    "            is_prime = False\n",
    "            break\n",
    "    return is_prime\n",
    "\n",
    "while True:\n",
    "    num = int(input())\n",
    "    if not num:\n",
    "        break\n",
    "    \n",
    "    b = num - 3\n",
    "    a = num - b\n",
    "    while a < b:\n",
    "        if is_prime(b):\n",
    "            a = num - b\n",
    "            if is_prime(a):\n",
    "                print(f'{num} = {a} + {b}')\n",
    "                break\n",
    "        b -= 1\n",
    "    else:\n",
    "        print(\"Goldbach's conjecture is wrong.\")\n",
    "        break"
   ]
  },
  {
   "cell_type": "code",
   "execution_count": null,
   "metadata": {},
   "outputs": [
    {
     "name": "stdout",
     "output_type": "stream",
     "text": [
      "6\n",
      "6 = 3 + 3\n"
     ]
    }
   ],
   "source": [
    "import math\n",
    "import sys\n",
    "\n",
    "def is_prime(num):\n",
    "    is_prime = True\n",
    "    if num == 1 :\n",
    "        return False\n",
    "    for i in range(2, int(math.sqrt(num)) + 1):\n",
    "        if num % i == 0:\n",
    "            is_prime = False\n",
    "            break\n",
    "    return is_prime\n",
    "\n",
    "while True:\n",
    "    num = int(input())\n",
    "    if not num:\n",
    "        break\n",
    "    \n",
    "    b = num - 3\n",
    "    a = num - b\n",
    "    while a <= b:\n",
    "        if is_prime(b):\n",
    "            a = num - b\n",
    "            if is_prime(a):\n",
    "                print(f'{num} = {a} + {b}')\n",
    "                break\n",
    "        b -= 1\n",
    "    else:\n",
    "        print(\"Goldbach's conjecture is wrong.\")"
   ]
  },
  {
   "cell_type": "code",
   "execution_count": 4,
   "metadata": {},
   "outputs": [],
   "source": [
    "import sys\n",
    "a = sys.stdin.readline()"
   ]
  },
  {
   "cell_type": "code",
   "execution_count": null,
   "metadata": {},
   "outputs": [
    {
     "name": "stdout",
     "output_type": "stream",
     "text": [
      "1\n",
      "Goldbach's conjecture is wrong.\n",
      "2\n",
      "Goldbach's conjecture is wrong.\n",
      "3\n",
      "Goldbach's conjecture is wrong.\n",
      "4\n",
      "Goldbach's conjecture is wrong.\n",
      "5\n",
      "Goldbach's conjecture is wrong.\n",
      "6\n",
      "6 = 3 + 3\n",
      "7\n",
      "Goldbach's conjecture is wrong.\n",
      "8\n",
      "8 = 3 + 5\n",
      "9\n",
      "Goldbach's conjecture is wrong.\n",
      "10\n",
      "10 = 3 + 7\n",
      "11\n",
      "Goldbach's conjecture is wrong.\n",
      "12\n",
      "12 = 5 + 7\n"
     ]
    }
   ],
   "source": [
    "import math\n",
    "import sys\n",
    "\n",
    "def is_prime(num):\n",
    "    is_prime = True\n",
    "    if num == 1 :\n",
    "        return False\n",
    "    for i in range(2, int(math.sqrt(num)) + 1):\n",
    "        if num % i == 0:\n",
    "            is_prime = False\n",
    "            break\n",
    "    return is_prime\n",
    "\n",
    "while True:\n",
    "    num = int(input())\n",
    "    if not num:\n",
    "        break\n",
    "    \n",
    "    a = 3\n",
    "    b = num - a\n",
    "    while a <= b:\n",
    "        if is_prime(a):\n",
    "            if is_prime(b):\n",
    "                print(f'{num} = {a} + {b}')\n",
    "                break\n",
    "        a += 2\n",
    "        b = num - a\n",
    "    else:\n",
    "        print(\"Goldbach's conjecture is wrong.\")"
   ]
  },
  {
   "cell_type": "code",
   "execution_count": null,
   "metadata": {},
   "outputs": [],
   "source": []
  }
 ],
 "metadata": {
  "kernelspec": {
   "display_name": "Python 3",
   "language": "python",
   "name": "python3"
  },
  "language_info": {
   "codemirror_mode": {
    "name": "ipython",
    "version": 3
   },
   "file_extension": ".py",
   "mimetype": "text/x-python",
   "name": "python",
   "nbconvert_exporter": "python",
   "pygments_lexer": "ipython3",
   "version": "3.7.5"
  }
 },
 "nbformat": 4,
 "nbformat_minor": 2
}
