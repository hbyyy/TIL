{
 "cells": [
  {
   "cell_type": "code",
   "execution_count": 1,
   "metadata": {},
   "outputs": [],
   "source": [
    "l1 = []"
   ]
  },
  {
   "cell_type": "markdown",
   "metadata": {},
   "source": [
    "# 스택 수열\n",
    "(https://www.acmicpc.net/problem/1874)"
   ]
  },
  {
   "cell_type": "code",
   "execution_count": 11,
   "metadata": {},
   "outputs": [
    {
     "name": "stdout",
     "output_type": "stream",
     "text": [
      "8\n",
      "4\n",
      "3\n",
      "6\n",
      "8\n",
      "7\n",
      "5\n",
      "2\n",
      "1\n",
      "+\n",
      "+\n",
      "+\n",
      "+\n",
      "-\n",
      "-\n",
      "+\n",
      "+\n",
      "-\n",
      "+\n",
      "+\n",
      "-\n",
      "-\n",
      "-\n",
      "-\n",
      "-\n"
     ]
    }
   ],
   "source": [
    "n = int(input())\n",
    "\n",
    "result = []\n",
    "num = 1 \n",
    "num_list = [num]\n",
    "result.append('+')\n",
    "is_possible = True\n",
    "\n",
    "for _ in range(n):\n",
    "    if is_possible is False:\n",
    "        break\n",
    "        \n",
    "    input_num = int(input())\n",
    "    if input_num >= num:\n",
    "        while input_num != num:\n",
    "            num += 1\n",
    "            num_list.append(num)\n",
    "            result.append('+')\n",
    "        num_list.pop()\n",
    "        result.append('-')\n",
    "    elif input_num < num:\n",
    "        while is_possible:\n",
    "            try:\n",
    "                tmp = num_list.pop()\n",
    "                result.append('-')\n",
    "                if tmp == input_num:\n",
    "                    break;\n",
    "            except IndexError:\n",
    "                is_possible = False\n",
    "        \n",
    "        \n",
    "if is_possible:\n",
    "    for i in result:\n",
    "        print(i)\n",
    "else:\n",
    "    print('NO')"
   ]
  },
  {
   "cell_type": "code",
   "execution_count": 12,
   "metadata": {},
   "outputs": [
    {
     "name": "stdout",
     "output_type": "stream",
     "text": [
      "8\n",
      "4\n",
      "3\n",
      "6\n",
      "8\n",
      "7\n",
      "5\n",
      "2\n",
      "1\n",
      "+\n",
      "+\n",
      "+\n",
      "+\n",
      "-\n",
      "-\n",
      "+\n",
      "+\n",
      "-\n",
      "+\n",
      "+\n",
      "-\n",
      "-\n",
      "-\n",
      "-\n",
      "-\n"
     ]
    }
   ],
   "source": [
    "n = int(input())\n",
    "\n",
    "result = []\n",
    "num = 1 \n",
    "stack = []\n",
    "is_possible = True\n",
    "\n",
    "for _ in range(n):\n",
    "    input_num = int(input())\n",
    "\n",
    "    while num <= input_num:\n",
    "        stack.append(num)\n",
    "        num += 1\n",
    "        result.append('+')\n",
    "    if stack[-1] == input_num:\n",
    "        stack.pop()\n",
    "        result.append('-')\n",
    "    else:\n",
    "        is_possible = False\n",
    "        break\n",
    "        \n",
    "        \n",
    "if is_possible:\n",
    "    for i in result:\n",
    "        print(i)\n",
    "else:\n",
    "    print('NO')"
   ]
  },
  {
   "cell_type": "markdown",
   "metadata": {},
   "source": [
    "# 프린터 큐\n",
    "(https://www.acmicpc.net/problem/1966)"
   ]
  },
  {
   "cell_type": "code",
   "execution_count": 13,
   "metadata": {},
   "outputs": [],
   "source": [
    "from collections import deque"
   ]
  },
  {
   "cell_type": "code",
   "execution_count": 14,
   "metadata": {},
   "outputs": [],
   "source": [
    "q = deque([1,5,4,2,])"
   ]
  },
  {
   "cell_type": "code",
   "execution_count": 15,
   "metadata": {},
   "outputs": [
    {
     "data": {
      "text/plain": [
       "5"
      ]
     },
     "execution_count": 15,
     "metadata": {},
     "output_type": "execute_result"
    }
   ],
   "source": [
    "max(q)"
   ]
  },
  {
   "cell_type": "code",
   "execution_count": 25,
   "metadata": {},
   "outputs": [
    {
     "name": "stdout",
     "output_type": "stream",
     "text": [
      "3\n",
      "1 0\n",
      "5\n",
      "4 2\n",
      "1 2 3 4\n",
      "6 0\n",
      "1 1 9 1 1 1\n",
      "1\n",
      "2\n",
      "5\n"
     ]
    }
   ],
   "source": [
    "from collections import deque\n",
    "\n",
    "result = []\n",
    "for _ in range(int(input())):\n",
    "    count = 0\n",
    "    n, idx = map(int, input().split())\n",
    "    queue = deque([*map(int, input().split())])\n",
    "    \n",
    "    while True:\n",
    "        if queue[0] == max(queue):\n",
    "            count += 1\n",
    "            if idx == 0:\n",
    "                break\n",
    "            else:\n",
    "                queue.popleft()\n",
    "                idx -= 1\n",
    "        else:\n",
    "            queue.append(queue.popleft())\n",
    "            if idx == 0:\n",
    "                idx = len(queue)-1\n",
    "            else:\n",
    "                idx -= 1\n",
    "                \n",
    "    result.append(count)\n",
    "\n",
    "for i in result:\n",
    "    print(i)"
   ]
  },
  {
   "cell_type": "markdown",
   "metadata": {},
   "source": [
    "# 키로커\n",
    "(https://www.acmicpc.net/problem/5397)"
   ]
  },
  {
   "cell_type": "code",
   "execution_count": 44,
   "metadata": {},
   "outputs": [],
   "source": [
    "curser = 1"
   ]
  },
  {
   "cell_type": "code",
   "execution_count": 45,
   "metadata": {},
   "outputs": [],
   "source": [
    "a = ['B', 'P']"
   ]
  },
  {
   "cell_type": "code",
   "execution_count": 46,
   "metadata": {},
   "outputs": [],
   "source": [
    "a.insert(curser, 'A')"
   ]
  },
  {
   "cell_type": "code",
   "execution_count": 1,
   "metadata": {},
   "outputs": [
    {
     "ename": "NameError",
     "evalue": "name 'a' is not defined",
     "output_type": "error",
     "traceback": [
      "\u001b[0;31m---------------------------------------------------------------------------\u001b[0m",
      "\u001b[0;31mNameError\u001b[0m                                 Traceback (most recent call last)",
      "\u001b[0;32m<ipython-input-1-3f786850e387>\u001b[0m in \u001b[0;36m<module>\u001b[0;34m\u001b[0m\n\u001b[0;32m----> 1\u001b[0;31m \u001b[0ma\u001b[0m\u001b[0;34m\u001b[0m\u001b[0;34m\u001b[0m\u001b[0m\n\u001b[0m",
      "\u001b[0;31mNameError\u001b[0m: name 'a' is not defined"
     ]
    }
   ],
   "source": [
    "a"
   ]
  },
  {
   "cell_type": "code",
   "execution_count": 3,
   "metadata": {},
   "outputs": [
    {
     "name": "stdout",
     "output_type": "stream",
     "text": [
      "2\n",
      "<<BP<A>>Cd-\n",
      "<\n",
      "0\n",
      "<\n",
      "0\n",
      "B\n",
      "0\n",
      "P\n",
      "1\n",
      "<\n",
      "2\n",
      "A\n",
      "1\n",
      ">\n",
      "2\n",
      ">\n",
      "3\n",
      "C\n",
      "3\n",
      "d\n",
      "4\n",
      "-\n",
      "5\n",
      "BAPC\n",
      "ThIsIsS3Cr3t\n",
      "T\n",
      "0\n",
      "h\n",
      "1\n",
      "I\n",
      "2\n",
      "s\n",
      "3\n",
      "I\n",
      "4\n",
      "s\n",
      "5\n",
      "S\n",
      "6\n",
      "3\n",
      "7\n",
      "C\n",
      "8\n",
      "r\n",
      "9\n",
      "3\n",
      "10\n",
      "t\n",
      "11\n",
      "ThIsIsS3Cr3t\n"
     ]
    }
   ],
   "source": [
    "for _ in range(int(input())):\n",
    "    curser = 0\n",
    "    answer = []\n",
    "    \n",
    "    for char in input():\n",
    "        if char == '<':\n",
    "            if curser != 0:\n",
    "                curser -= 1\n",
    "        elif char == '>':\n",
    "            if curser != len(answer):\n",
    "                curser += 1\n",
    "        elif char == '-':\n",
    "            if answer:\n",
    "                answer.pop(curser-1)\n",
    "                curser -= 1\n",
    "        else:\n",
    "            if curser == len(answer):\n",
    "                answer.append(char)\n",
    "            else:\n",
    "                answer.insert(curser, 'A')\n",
    "            curser += 1\n",
    "    print(''.join(answer))"
   ]
  },
  {
   "cell_type": "code",
   "execution_count": 5,
   "metadata": {},
   "outputs": [
    {
     "name": "stdout",
     "output_type": "stream",
     "text": [
      "2\n",
      "<<BP<A>>Cd-<<BP<A>>Cd-<<BP<A>>Cd-<<BP<A>>Cd-<<BP<A>>Cd-<<BP<A>>Cd-<<BP<A>>Cd-<<BP<A>>Cd-<<BP<A>>Cd-<<BP<A>>Cd-<<BP<A>>Cd-<<BP<A>>Cd-<<BP<A>>Cd-<<BP<A>>Cd-<<BP<A>>Cd-<<BP<A>>Cd-<<BP<A>>Cd-<<BP<A>>Cd-<<BP<A>>Cd-<<BP<A>>Cd-<<BP<A>>Cd-<<BP<A>>Cd-<<BP<A>>Cd-<<BP<A>>Cd-<<BP<A>>Cd-<<BP<A>>Cd-<<BP<A>>Cd-<<BP<A>>Cd-<<BP<A>>Cd-<<BP<A>>Cd-<<BP<A>>Cd-<<BP<A>>Cd-<<BP<A>>Cd-<<BP<A>>Cd-<<BP<A>>Cd-<<BP<A>>Cd-<<BP<A>>Cd-<<BP<A>>Cd-<<BP<A>>Cd-<<BP<A>>Cd-<<BP<A>>Cd-<<BP<A>>Cd-<<BP<A>>Cd-<<BP<A>>Cd-<<BP<A>>Cd-<<BP<A>>Cd-<<BP<A>>Cd-<<BP<A>>Cd-<<BP<A>>Cd-<<BP<A>>Cd-<<BP<A>>Cd-<<BP<A>>Cd-<<BP<A>>Cd-<<BP<A>>Cd-<<BP<A>>Cd-<<BP<A>>Cd-<<BP<A>>Cd-<<BP<A>>Cd-<<BP<A>>Cd-<<BP<A>>Cd-<<BP<A>>Cd-<<BP<A>>Cd-<<BP<A>>Cd-<<BP<A>>Cd-<<BP<A>>Cd-<<BP<A>>Cd-<<BP<A>>Cd-<<BP<A>>Cd-<<BP<A>>Cd-<<BP<A>>Cd-<<BP<A>>Cd-<<BP<A>>Cd-<<BP<A>>Cd-<<BP<A>>Cd-<<BP<A>>Cd-<<BP<A>>Cd-<<BP<A>>Cd-<<BP<A>>Cd-<<BP<A>>Cd-<<BP<A>>Cd-<<BP<A>>Cd-<<BP<A>>Cd-<<BP<A>>Cd-\n",
      "BAAAAAAAAAAAAAAAAAAAAAAAAAAAAAAAAAAAAAAAAAAAAAAAAAAAAAAAAAAAAAAAAAAAAAAAAAAAAAAAAAAAAAAAAAAAAAAAAAAAAAAAAAAAAAAAAAAAAAAAAAAAAAAAAAAAAAAAAAAAAAAAAAAAAAAAAAAAAAAAAAAAAAAAAAAAAAAAAAAAAAAAAAAAAAAAAAAAAAAAAAAAAAAAAAAAAAAAAAAAAAAAAAAAAAAAAAAAAAAAAAAAAAAAPAAAAAAAAAAAAAAAAAAAAAAAAAAAAAAAAAAAAAAAAAAAAAAAAAAAAAAAAAAAAAAAAAAAAAAAAAAAAAAAAAAC\n",
      "<<BP<A>>Cd-<<BP<A>>Cd-<<BP<A>>Cd-<<BP<A>>Cd-<<BP<A>>Cd-<<BP<A>>Cd-<<BP<A>>Cd-<<BP<A>>Cd-<<BP<A>>Cd-<<BP<A>>Cd-<<BP<A>>Cd-<<BP<A>>Cd-<<BP<A>>Cd-<<BP<A>>Cd-<<BP<A>>Cd-<<BP<A>>Cd-<<BP<A>>Cd-<<BP<A>>Cd-<<BP<A>>Cd-<<BP<A>>Cd-<<BP<A>>Cd-<<BP<A>>Cd-<<BP<A>>Cd-<<BP<A>>Cd-<<BP<A>>Cd-<<BP<A>>Cd-<<BP<A>>Cd-<<BP<A>>Cd-<<BP<A>>Cd-<<BP<A>>Cd-<<BP<A>>Cd-<<BP<A>>Cd-<<BP<A>>Cd-<<BP<A>>Cd-<<BP<A>>Cd-<<BP<A>>Cd-<<BP<A>>Cd-<<BP<A>>Cd-<<BP<A>>Cd-<<BP<A>>Cd-<<BP<A>>Cd-<<BP<A>>Cd-<<BP<A>>Cd-<<BP<A>>Cd-<<BP<A>>Cd-<<BP<A>>Cd-<<BP<A>>Cd-<<BP<A>>Cd-<<BP<A>>Cd-<<BP<A>>Cd-<<BP<A>>Cd-<<BP<A>>Cd-<<BP<A>>Cd-<<BP<A>>Cd-<<BP<A>>Cd-<<BP<A>>Cd-<<BP<A>>Cd-<<BP<A>>Cd-<<BP<A>>Cd-<<BP<A>>Cd-<<BP<A>>Cd-<<BP<A>>Cd-<<BP<A>>Cd-<<BP<A>>Cd-<<BP<A>>Cd-<<BP<A>>Cd-<<BP<A>>Cd-<<BP<A>>Cd-<<BP<A>>Cd-<<BP<A>>Cd-<<BP<A>>Cd-<<BP<A>>Cd-<<BP<A>>Cd-<<BP<A>>Cd-<<BP<A>>Cd-<<BP<A>>Cd-<<BP<A>>Cd-<<BP<A>>Cd-<<BP<A>>Cd-<<BP<A>>Cd-<<BP<A>>Cd-<<BP<A>>Cd-<<BP<A>>Cd-<<BP<A>>Cd-<<BP<A>>Cd-<<BP<A>>Cd-<<BP<A>>Cd-<<BP<A>>Cd-<<BP<A>>Cd-<<BP<A>>Cd-<<BP<A>>Cd-<<BP<A>>Cd-<<BP<A>>Cd-<<BP<A>>Cd-<<BP<A>>Cd-<<BP<A>>Cd-<<BP<A>>Cd-<<BP<A>>Cd-<<BP<A>>Cd-<<BP<A>>Cd-<<BP<A>>Cd-<<BP<A>>Cd-<<BP<A>>Cd-<<BP<A>>Cd-<<BP<A>>Cd-<<BP<A>>Cd-<<BP<A>>Cd-<<BP<A>>Cd-<<BP<A>>Cd-<<BP<A>>Cd-<<BP<A>>Cd-<<BP<A>>Cd-<<BP<A>>Cd-<<BP<A>>Cd-<<BP<A>>Cd-<<BP<A>>Cd-<<BP<A>>Cd-<<BP<A>>Cd-<<BP<A>>Cd-<<BP<A>>Cd-<<BP<A>>Cd-<<BP<A>>Cd-<<BP<A>>Cd-<<BP<A>>Cd-<<BP<A>>Cd-<<BP<A>>Cd-<<BP<A>>Cd-<<BP<A>>Cd-<<BP<A>>Cd-<<BP<A>>Cd-<<BP<A>>Cd-<<BP<A>>Cd-<<BP<A>>Cd-<<BP<A>>Cd-<<BP<A>>Cd-<<BP<A>>Cd-<<BP<A>>Cd-<<BP<A>>Cd-<<BP<A>>Cd-<<BP<A>>Cd-<<BP<A>>Cd-<<BP<A>>Cd-<<BP<A>>Cd-<<BP<A>>Cd-<<BP<A>>Cd-<<BP<A>>Cd-<<BP<A>>Cd-<<BP<A>>Cd-<<BP<A>>Cd-<<BP<A>>Cd-<<BP<A>>Cd-<<BP<A>>Cd-<<BP<A>>Cd-<<BP<A>>Cd-<<BP<A>>Cd-<<BP<A>>Cd-<<BP<A>>Cd-<<BP<A>>Cd-<<BP<A>>Cd-<<BP<A>>Cd-<<BP<A>>Cd-<<BP<A>>Cd-<<BP<A>>Cd-<<BP<A>>Cd-<<BP<A>>Cd-<<BP<A>>Cd-<<BP<A>>Cd-<<BP<A>>Cd-<<BP<A>>Cd-<<BP<A>>Cd-<<BP<A>>Cd-<<BP<A>>Cd-<<BP<A>>Cd-<<BP<A>>Cd-<<BP<A>>Cd-<<BP<A>>Cd-<<BP<A>>Cd-<<BP<A>>Cd-<<BP<A>>Cd-<<BP<A>>Cd-<<BP<A>>Cd-<<BP<A>>Cd-<<BP<A>>Cd-<<BP<A>>Cd-<<BP<A>>Cd-<<BP<A>>Cd-<<BP<A>>Cd-<<BP<A>>Cd-<<BP<A>>Cd-<<BP<A>>Cd-<<BP<A>>Cd-<<BP<A>>Cd-<<BP<A>>Cd-<<BP<A>>Cd-<<BP<A>>Cd-<<BP<A>>Cd-<<BP<A>>Cd-<<BP<A>>Cd-<<BP<A>>Cd-<<BP<A>>Cd-<<BP<A>>Cd-<<BP<A>>Cd-<<BP<A>>Cd-<<BP<A>>Cd-<<BP<A>>Cd-<<BP<A>>Cd-<<BP<A>>Cd-<<BP<A>>Cd-<<BP<A>>Cd-<<BP<A>>Cd-<<BP<A>>Cd-<<BP<A>>Cd-<<BP<A>>Cd-<<BP<A>>Cd-<<BP<A>>Cd-<<BP<A>>Cd-<<BP<A>>Cd-<<BP<A>>Cd-<<BP<A>>Cd-<<BP<A>>Cd-<<BP<A>>Cd-<<BP<A>>Cd-<<BP<A>>Cd-<<BP<A>>Cd-<<BP<A>>Cd-<<BP<A>>Cd-<<BP<A>>Cd-<<BP<A>>Cd-<<BP<A>>Cd-<<BP<A>>Cd-<<BP<A>>Cd-<<BP<A>>Cd-<<BP<A>>Cd-<<BP<A>>Cd-<<BP<A>>Cd-<<BP<A>>Cd-<<BP<A>>Cd-<<BP<A>>Cd-<<BP<A>>Cd-<<BP<A>>Cd-<<BP<A>>Cd-<<BP<A>>Cd-<<BP<A>>Cd-<<BP<A>>Cd-<<BP<A>>Cd-<<BP<A>>Cd-<<BP<A>>Cd-<<BP<A>>Cd-<<BP<A>>Cd-<<BP<A>>Cd-<<BP<A>>Cd-<<BP<A>>Cd-<<BP<A>>Cd-<<BP<A>>Cd-<<BP<A>>Cd-<<BP<A>>Cd-<<BP<A>>Cd-<<BP<A>>Cd-<<BP<A>>Cd-<<BP<A>>Cd-<<BP<A>>Cd-<<BP<A>>Cd-<<BP<A>>Cd-<<BP<A>>Cd-<<BP<A>>Cd-<<BP<A>>Cd-<<BP<A>>Cd-<<BP<A>>Cd-<<BP<A>>Cd-<<BP<A>>Cd-<<BP<A>>Cd-<<BP<A>>Cd-<<BP<A>>Cd-<<BP<A>>Cd-<<BP<A>>Cd-<<BP<A>>Cd-<<BP<A>>Cd-<<BP<A>>Cd-<<BP<A>>Cd-<<BP<A>>Cd-<<BP<A>>Cd-<<BP<A>>Cd-<<BP<A>>Cd-<<BP<A>>Cd-<<BP<A>>Cd-<<BP<A>>Cd-<<BP<A>>Cd-<<BP<A>>Cd-<<BP<A>>Cd-<<BP<A>>Cd-<<BP<A>>Cd-<<BP<A>>Cd-<<BP<A>>Cd-<<BP<A>>Cd-<<BP<A>>Cd-<<BP<A>>Cd-<<BP<A>>Cd-<<BP<A>>Cd-<<BP<A>>Cd-<<BP<A>>Cd-<<BP<A>>Cd-<<BP<A>>Cd-<<BP<A>>Cd-<<BP<A>>Cd-<<BP<A>>Cd-<<BP<A>>Cd-<<BP<A>>Cd-<<BP<A>>Cd-<<BP<A>>Cd-<<BP<A>>Cd-<<BP<A>>Cd-<<BP<A>>Cd-<<BP<A>>Cd-<<BP<A>>Cd-<<BP<A>>Cd-<<BP<A>>Cd-<<BP<A>>Cd-<<BP<A>>Cd-<<BP<A>>Cd-<<BP<A>>Cd-<<BP<A>>Cd-<<BP<A>>Cd-<<BP<A>>Cd-<<BP<A>>Cd-<<BP<A>>Cd-<<BP<A>>Cd-<<BP<A>>Cd-<<BP<A>>Cd-<<BP<A>>Cd-<<BP<A>>Cd-<<BP<A>>Cd-<<BP<A>>Cd-<<BP<A>>Cd-<<BP<A>>Cd-<<BP<A>>Cd-<<BP<A>>Cd-<<BP<A>>Cd-<<BP<A>>Cd-<<BP<A>>Cd-<<BP<A>>Cd-<<BP<A>>Cd-<<BP<A>>Cd-<<BP<A>>Cd-<<BP<A>>Cd-<<BP<A>>Cd-<<BP<A>>Cd-<<BP<A>>Cd-<<BP<A>>Cd-<<BP<A>>Cd-<<BP<A>>Cd-<<BP<A>>Cd-<<BP<A>>Cd-<<BP<A>>Cd-<<BP<A>>Cd-<<BP<A>>Cd-<<BP<A>>Cd-<<BP<A>>Cd-<<BP<A>>Cd-<<BP<A>>Cd-<<BP<A>>Cd-<<BP<A>>Cd-<<BP<A>>Cd-<<BP<A>>Cd-<<BP<A>>Cd-<<BP<A>>Cd-<<BP<A>>Cd-<<BP<A>>Cd-<<BP<A>>Cd-<<BP<A>>Cd-<<BP<A>>Cd-<<BP<A>>Cd-<<BP<A>>Cd-<<BP<A>>Cd-<<BP<A>>Cd-<<BP<A>>Cd-<<BP<A>>Cd-<<BP<A>>Cd-<<BP<A>>Cd-<<BP<A>>Cd-<<BP<A>>Cd-<<BP<A>>Cd-<<BP<A>>Cd-<<BP<A>>Cd-<<BP<A>>Cd-<<BP<A>>Cd-<<BP<A>>Cd-<<BP<A>>Cd-<<BP<A>>Cd-<<BP<A>>Cd-<<BP<A>>Cd-<<BP<A>>Cd-<<BP<A>>Cd-<<BP<A>>Cd-<<BP<A>>Cd-<<BP<A>>Cd-<<BP<A>>Cd-<<BP<A>>Cd-<<BP<A>>Cd-<<BP<A>>Cd-<<BP<A>>Cd-<<BP<A>>Cd-<<BP<A>>Cd-<<BP<A>>Cd-<<BP<A>>Cd-<<BP<A>>Cd-<<BP<A>>Cd-<<BP<A>>Cd-<<BP<A>>Cd-<<BP<A>>Cd-<<BP<A>>Cd-<<BP<A>>Cd-<<BP<A>>Cd-<<BP<A>>Cd-<<BP<A>>Cd-<<BP<A>>Cd-<<BP<A>>Cd-<<BP<A>>Cd-<<BP<A>>Cd-<<BP<A>>Cd-<<BP<A>>Cd-<<BP<A>>Cd-<<BP<A>>Cd-<<BP<A>>Cd-<<BP<A>>Cd-<<BP<A>>Cd-<<BP<A>>Cd-<<BP<A>>Cd-<<BP<A>>Cd-<<BP<A>>Cd-<<BP<A>>Cd-<<BP<A>>Cd-<<BP<A>>Cd-<<BP<A>>Cd-<<BP<A>>Cd-<<BP<A>>Cd-<<BP<A>>Cd-<<BP<A>>Cd-<<BP<A>>Cd-<<BP<A>>Cd-<<BP<A>>Cd-<<BP<A>>Cd-<<BP<A>>Cd-<<BP<A>>Cd-<<BP<A>>Cd-<<BP<A>>Cd-<<BP<A>>Cd-<<BP<A>>Cd-<<BP<A>>Cd-<<BP<A>>Cd-<<BP<A>>Cd-<<BP<A>>Cd-<<BP<A>>Cd-<<BP<A>>Cd-<<BP<A>>Cd-<<BP<A>>Cd-<<BP<A>>Cd-<<BP<A>>Cd-<<BP<A>>Cd-<<BP<A>>Cd-<<BP<A>>Cd-<<BP<A>>Cd-<<BP<A>>Cd-<<BP<A>>Cd-<<BP<A>>Cd-<<BP<A>>Cd-<<BP<A>>Cd-<<BP<A>>Cd-<<BP<A>>Cd-<<BP<A>>Cd-<<BP<A>>Cd-<<BP<A>>Cd-<<BP<A>>Cd-<<BP<A>>Cd-<<BP<A>>Cd-<<BP<A>>Cd-<<BP<A>>Cd-<<BP<A>>Cd-<<BP<A>>Cd-<<BP<A>>Cd-<<BP<A>>Cd-<<BP<A>>Cd-<<BP<A>>Cd-<<BP<A>>Cd-<<BP<A>>Cd-<<BP<A>>Cd-<<BP<A>>Cd-<<BP<A>>Cd-<<BP<A>>Cd-<<BP<A>>Cd-<<BP<A>>Cd-<<BP<A>>Cd-<<BP<A>>Cd-<<BP<A>>Cd-<<BP<A>>Cd-<<BP<A>>Cd-<<BP<A>>Cd-<<BP<A>>Cd-<<BP<A>>Cd-<<BP<A>>Cd-<<BP<A>>Cd-<<BP<A>>Cd-<<BP<A>>Cd-<<BP<A>>Cd-<<BP<A>>Cd-<<BP<A>>Cd-<<BP<A>>Cd-<<BP<A>>Cd-<<BP<A>>Cd-<<BP<A>>Cd-<<BP<A>>Cd-<<BP<A>>Cd-<<BP<A>>Cd-<<BP<A>>Cd-<<BP<A>>Cd-<<BP<A>>Cd-<<BP<A>>Cd-<<BP<A>>Cd-<<BP<A>>Cd-<<BP<A>>Cd-<<BP<A>>Cd-<<BP<A>>Cd-<<BP<A>>Cd-<<BP<A>>Cd-<<BP<A>>Cd-<<BP<A>>Cd-<<BP<A>>Cd-<<BP<A>>Cd-<<BP<A>>Cd-<<BP<A>>Cd-<<BP<A>>Cd-<<BP<A>>Cd-<<BP<A>>Cd-<<BP<A>>Cd-<<BP<A>>Cd-<<BP<A>>Cd-<<BP<A>>Cd-<<BP<A>>Cd-<<BP<A>>Cd-<<BP<A>>Cd-<<BP<A>>Cd-<<BP<A>>Cd-<<BP<A>>Cd-<<BP<A>>Cd-<<BP<A>>Cd-<<BP<A>>Cd-<<BP<A>>Cd-<<BP<A>>Cd-<<BP<A>>Cd-<<BP<A>>Cd-<<BP<A>>Cd-<<BP<A>>Cd-<<BP<A>>Cd-<<BP<A>>Cd-<<BP<A>>Cd-<<BP<A>>Cd-<<BP<A>>Cd-<<BP<A>>Cd-<<BP<A>>Cd-<<BP<A>>Cd-<<BP<A>>Cd-<<BP<A>>Cd-<<BP<A>>Cd-<<BP<A>>Cd-<<BP<A>>Cd-<<BP<A>>Cd-<<BP<A>>Cd-<<BP<A>>Cd-<<BP<A>>Cd-<<BP<A>>Cd-<<BP<A>>Cd-<<BP<A>>Cd-<<BP<A>>Cd-<<BP<A>>Cd-<<BP<A>>Cd-<<BP<A>>Cd-<<BP<A>>Cd-<<BP<A>>Cd-<<BP<A>>Cd-<<BP<A>>Cd-<<BP<A>>Cd-<<BP<A>>Cd-<<BP<A>>Cd-<<BP<A>>Cd-<<BP<A>>Cd-<<BP<A>>Cd-<<BP<A>>Cd-<<BP<A>>Cd-<<BP<A>>Cd-<<BP<A>>Cd-<<BP<A>>Cd-<<BP<A>>Cd-<<BP<A>>Cd-<<BP<A>>Cd-<<BP<A>>Cd-<<BP<A>>Cd-<<BP<A>>Cd-<<BP<A>>Cd-<<BP<A>>Cd-<<BP<A>>Cd-<<BP<A>>Cd-<<BP<A>>Cd-<<BP<A>>Cd-<<BP<A>>Cd-<<BP<A>>Cd-<<BP<A>>Cd-<<BP<A>>Cd-<<BP<A>>Cd-<<BP<A>>Cd-<<BP<A>>Cd-<<BP<A>>Cd-<<BP<A>>Cd-<<BP<A>>Cd-<<BP<A>>Cd-<<BP<A>>Cd-<<BP<A>>Cd-<<BP<A>>Cd-<<BP<A>>Cd-<<BP<A>>Cd-<<BP<A>>Cd-<<BP<A>>Cd-<<BP<A>>Cd-<<BP<A>>Cd-<<BP<A>>Cd-<<BP<A>>Cd-<<BP<A>>Cd-<<BP<A>>Cd-<<BP<A>>Cd-<<BP<A>>Cd-<<BP<A>>Cd-<<BP<A>>Cd-<<BP<A>>Cd-<<BP<A>>Cd-<<BP<A>>Cd-<<BP<A>>Cd-<<BP<A>>Cd-<<BP<A>>Cd-<<BP<A>>Cd-<<BP<A>>Cd-<<BP<A>>Cd-<<BP<A>>Cd-<<BP<A>>Cd-<<BP<A>>Cd-<<BP<A>>Cd-<<BP<A>>Cd-<<BP<A>>Cd-<<BP<A>>Cd-<<BP<A>>Cd-<<BP<A>>Cd-<<BP<A>>Cd-<<BP<A>>Cd-<<BP<A>>Cd-<<BP<A>>Cd-<<BP<A>>Cd-<<BP<A>>Cd-<<BP<A>>Cd-<<BP<A>>Cd-<<BP<A>>Cd-<<BP<A>>Cd-<<BP<A>>Cd-<<BP<A>>Cd-<<BP<A>>Cd-<<BP<A>>Cd-<<BP<A>>Cd-<<BP<A>>Cd-<<BP<A>>Cd-<<BP<A>>Cd-<<BP<A>>Cd-<<BP<A>>Cd-<<BP<A>>Cd-<<BP<A>>Cd-<<BP<A>>Cd-<<BP<A>>Cd-<<BP<A>>Cd-<<BP<A>>Cd-<<BP<A>>Cd-<<BP<A>>Cd-<<BP<A>>Cd-<<BP<A>>Cd-<<BP<A>>Cd-<<BP<A>>Cd-<<BP<A>>Cd-<<BP<A>>Cd-<<BP<A>>Cd-<<BP<A>>Cd-<<BP<A>>Cd-<<BP<A>>Cd-<<BP<A>>Cd-<<BP<A>>Cd-<<BP<A>>Cd-<<BP<A>>Cd-<<BP<A>>Cd-<<BP<A>>Cd-<<BP<A>>Cd-<<BP<A>>Cd-<<BP<A>>Cd-<<BP<A>>Cd-<<BP<A>>Cd-<<BP<A>>Cd-<<BP<A>>Cd-<<BP<A>>Cd-<<BP<A>>Cd-<<BP<A>>Cd-<<BP<A>>Cd-<<BP<A>>Cd-<<BP<A>>Cd-<<BP<A>>Cd-<<BP<A>>Cd-<<BP<A>>Cd-<<BP<A>>Cd-<<BP<A>>Cd-<<BP<A>>Cd-<<BP<A>>Cd-<<BP<A>>Cd-<<BP<A>>Cd-<<BP<A>>Cd-<<BP<A>>Cd-<<BP<A>>Cd-<<BP<A>>Cd-<<BP<A>>Cd-<<BP<A>>Cd-<<BP<A>>Cd-<<BP<A>>Cd-<<BP<A>>Cd-<<BP<A>>Cd-<<BP<A>>Cd-<<BP<A>>Cd-<<BP<A>>Cd-<<BP<A>>Cd-<<BP<A>>Cd-<<BP<A>>Cd-<<BP<A>>Cd-<<BP<A>>Cd-<<BP<A>>Cd-<<BP<A>>Cd-<<BP<A>>Cd-<<BP<A>>Cd-<<BP<A>>Cd-<<BP<A>>Cd-<<BP<A>>Cd-<<BP<A>>Cd-<<BP<A>>Cd-<<BP<A>>Cd-<<BP<A>>Cd-<<BP<A>>Cd-<<BP<A>>Cd-<<BP<A>>Cd-<<BP<A>>Cd-<<BP<A>>Cd-<<BP<A>>Cd-<<BP<A>>Cd-<<BP<A>>Cd-<<BP<A>>Cd-<<BP<A>>Cd-<<BP<A>>Cd-<<BP<A>>Cd-<<BP<A>>Cd-<<BP<A>>Cd-<<BP<A>>Cd-<<BP<A>>Cd-<<BP<A>>Cd-<<BP<A>>Cd-<<BP<A>>Cd-<<BP<A>>Cd-<<BP<A>>Cd-<<BP<A>>Cd-<<BP<A>>Cd-<<BP<A>>Cd-<<BP<A>>Cd-<<BP<A>>Cd-<<BP<A>>Cd-<<BP<A>>Cd-<<BP<A>>Cd-<<BP<A>>Cd-<<BP<A>>Cd-<<BP<A>>Cd-<<BP<A>>Cd-<<BP<A>>Cd-<<BP<A>>Cd-<<BP<A>>Cd-<<BP<A>>Cd-<<BP<A>>Cd-<<BP<A>>Cd-<<BP<A>>Cd-<<BP<A>>Cd-<<BP<A>>Cd-<<BP<A>>Cd-<<BP<A>>Cd-<<BP<A>>Cd-<<BP<A>>Cd-<<BP<A>>Cd-<<BP<A>>Cd-<<BP<A>>Cd-<<BP<A>>Cd-<<BP<A>>Cd-<<BP<A>>Cd-<<BP<A>>Cd-<<BP<A>>Cd-<<BP<A>>Cd-<<BP<A>>Cd-<<BP<A>>Cd-<<BP<A>>Cd-<<BP<A>>Cd-<<BP<A>>Cd-<<BP<A>>Cd-<<BP<A>>Cd-<<BP<A>>Cd-<<BP<A>>Cd-<<BP<A>>Cd-<<BP<A>>Cd-<<BP<A>>Cd-<<BP<A>>Cd-<<BP<A>>Cd-<<BP<A>>Cd-<<BP<A>>Cd-<<BP<A>>Cd-<<BP<A>>Cd-<<BP<A>>Cd-<<BP<A>>Cd-<<BP<A>>Cd-<<BP<A>>Cd-<<BP<A>>Cd-<<BP<A>>Cd-<<BP<A>>Cd-<<BP<A>>Cd-<<BP<A>>Cd-<<BP<A>>Cd-<<BP<A>>Cd-<<BP<A>>Cd-<<BP<A>>Cd-<<BP<A>>Cd-<<BP<A>>Cd-<<BP<A>>Cd-<<BP<A>>Cd-<<BP<A>>Cd-<<BP<A>>Cd-<<BP<A>>Cd-<<BP<A>>Cd-<<BP<A>>Cd-<<BP<A>>Cd-<<BP<A>>Cd-<<BP<A>>Cd-<<BP<A>>Cd-<<BP<A>>Cd-<<BP<A>>Cd-<<BP<A>>Cd-<<BP<A>>Cd-<<BP<A>>Cd-<<BP<A>>Cd-<<BP<A>>Cd-<<BP<A>>Cd-<<BP<A>>Cd-<<BP<A>>Cd-<<BP<A>>Cd-<<BP<A>>Cd-<<BP<A>>Cd-<<BP<A>>Cd-<<BP<A>>Cd-<<BP<A>>Cd-<<BP<A>>Cd-<<BP<A>>Cd-<<BP<A>>Cd-<<BP<A>>Cd-<<BP<A>>Cd-<<BP<A>>Cd-<<BP<A>>Cd-<<BP<A>>Cd-<<BP<A>>Cd-<<BP<A>>Cd-<<BP<A>>Cd-<<BP<A>>Cd-<<BP<A>>Cd-<<BP<A>>Cd-<<BP<A>>Cd-<<BP<A>>Cd-<<BP<A>>Cd-<<BP<A>>Cd-<<BP<A>>Cd-<<BP<A>>Cd-<<BP<A>>Cd-<<BP<A>>Cd-<<BP<A>>Cd-<<BP<A>>Cd-<<BP<A>>Cd-<<BP<A>>Cd-<<BP<A>>Cd-<<BP<A>>Cd-<<BP<A>>Cd-<<BP<A>>Cd-<<BP<A>>Cd-<<BP<A>>Cd-<<BP<A>>Cd-<<BP<A>>Cd-<<BP<A>>Cd-<<BP<A>>Cd-<<BP<A>>Cd-<<BP<A>>Cd-<<BP<A>>Cd-<<BP<A>>Cd-<<BP<A>>Cd-<<BP<A>>Cd-<<BP<A>>Cd-<<BP<A>>Cd-<<BP<A>>Cd-<<BP<A>>Cd-<<BP<A>>Cd-<<BP<A>>Cd-<<BP<A>>Cd-<<BP<A>>Cd-<<BP<A>>Cd-<<BP<A>>Cd-<<BP<A>>Cd-<<BP<A>>Cd-<<BP<A>>Cd-<<BP<A>>Cd-<<BP<A>>Cd-<<BP<A>>Cd-<<BP<A>>Cd-<<BP<A>>Cd-<<BP<A>>Cd-<<BP<A>>Cd-<<BP<A>>Cd-<<BP<A>>Cd-<<BP<A>>Cd-<<BP<A>>Cd-<<BP<A>>Cd-<<BP<A>>Cd-<<BP<A>>Cd-<<BP<A>>Cd-<<BP<A>>Cd-<<BP<A>>Cd-<<BP<A>>Cd-<<BP<A>>Cd-<<BP<A>>Cd-<<BP<A>>Cd-<<BP<A>>Cd-<<BP<A>>Cd-<<BP<A>>Cd-<<BP<A>>Cd-<<BP<A>>Cd-<<BP<A>>Cd-<<BP<A>>Cd-<<BP<A>>Cd-<<BP<A>>Cd-<<BP<A>>Cd-<<BP<A>>Cd-<<BP<A>>Cd-<<BP<A>>Cd-<<BP<A>>Cd-<<BP<A>>Cd-<<BP<A>>Cd-<<BP<A>>Cd-<<BP<A>>Cd-<<BP<A>>Cd-<<BP<A>>Cd-<<BP<A>>Cd-<<BP<A>>Cd-<<BP<A>>Cd-<<BP<A>>Cd-<<BP<A>>Cd-<<BP<A>>Cd-<<BP<A>>Cd-<<BP<A>>Cd-<<BP<A>>Cd-<<BP<A>>Cd-<<BP<A>>Cd-<<BP<A>>Cd-<<BP<A>>Cd-<<BP<A>>Cd-<<BP<A>>Cd-<<BP<A>>Cd-<<BP<A>>Cd-<<BP<A>>Cd-<<BP<A>>Cd-<<BP<A>>Cd-<<BP<A>>Cd-<<BP<A>>Cd-<<BP<A>>Cd-<<BP<A>>Cd-<<BP<A>>Cd-<<BP<A>>Cd-<<BP<A>>Cd-<<BP<A>>Cd-<<BP<A>>Cd-<<BP<A>>Cd-<<BP<A>>Cd-<<BP<A>>Cd-<<BP<A>>Cd-<<BP<A>>Cd-<<BP<A>>Cd-<<BP<A>>Cd-<<BP<A>>Cd-<<BP<A>>Cd-<<BP<A>>Cd-<<BP<A>>Cd-<<BP<A>>Cd-<<BP<A>>Cd-<<BP<A>>Cd-<<BP<A>>Cd-<<BP<A>>Cd-<<BP<A>>Cd-<<BP<A>>Cd-<<BP<A>>Cd-<<BP<A>>Cd-<<BP<A>>Cd-<<BP<A>>Cd-<<BP<A>>Cd-<<BP<A>>Cd-<<BP<A>>Cd-<<BP<A>>Cd-<<BP<A>>Cd-<<BP<A>>Cd-<<BP<A>>Cd-<<BP<A>>Cd-<<BP<A>>Cd-<<BP<A>>Cd-<<BP<A>>Cd-<<BP<A>>Cd-<<BP<A>>Cd-<<BP<A>>Cd-<<BP<A>>Cd-<<BP<A>>Cd-<<BP<A>>Cd-<<BP<A>>Cd-<<BP<A>>Cd-<<BP<A>>Cd-<<BP<A>>Cd-<<BP<A>>Cd-<<BP<A>>Cd-<<BP<A>>Cd-<<BP<A>>Cd-<<BP<A>>Cd-<<BP<A>>Cd-<<BP<A>>Cd-<<BP<A>>Cd-<<BP<A>>Cd-<<BP<A>>Cd-<<BP<A>>Cd-<<BP<A>>Cd-<<BP<A>>Cd-<<BP<A>>Cd-<<BP<A>>Cd-<<BP<A>>Cd-<<BP<A>>Cd-<<BP<A>>Cd-<<BP<A>>Cd-<<BP<A>>Cd-<<BP<A>>Cd-<<BP<A>>Cd-<<BP<A>>Cd-<<BP<A>>Cd-<<BP<A>>Cd-<<BP<A>>Cd-<<BP<A>>Cd-<<BP<A>>Cd-<<BP<A>>Cd-<<BP<A>>Cd-<<BP<A>>Cd-<<BP<A>>Cd-<<BP<A>>Cd-<<BP<A>>Cd-<<BP<A>>Cd-<<BP<A>>Cd-<<BP<A>>Cd-<<BP<A>>Cd-<<BP<A>>Cd-<<BP<A>>Cd-<<BP<A>>Cd-<<BP<A>>Cd-<<BP<A>>Cd-<<BP<A>>Cd-<<BP<A>>Cd-<<BP<A>>Cd-<<BP<A>>Cd-<<BP<A>>Cd-<<BP<A>>Cd-<<BP<A>>Cd-<<BP<A>>Cd-<<BP<A>>Cd-<<BP<A>>Cd-<<BP<A>>Cd-<<BP<A>>Cd-<<BP<A>>Cd-<<BP<A>>Cd-<<BP<A>>Cd-<<BP<A>>Cd-<<BP<A>>Cd-<<BP<A>>Cd-<<BP<A>>Cd-<<BP<A>>Cd-<<BP<A>>Cd-<<BP<A>>Cd-<<BP<A>>Cd-<<BP<A>>Cd-<<BP<A>>Cd-<<BP<A>>Cd-<<BP<A>>Cd-<<BP<A>>Cd-<<BP<A>>Cd-<<BP<A>>Cd-<<BP<A>>Cd-<<BP<A>>Cd-<<BP<A>>Cd-<<BP<A>>Cd-<<BP<A>>Cd-<<BP<A>>Cd-<<BP<A>>Cd-<<BP<A>>Cd-<<BP<A>>Cd-<<BP<A>>Cd-<<BP<A>>Cd-<<BP<A>>Cd-<<BP<A>>Cd-<<BP<A>>Cd-<<BP<A>>Cd-<<BP<A>>Cd-<<BP<A>>Cd-<<BP<A>>Cd-<<BP<A>>Cd-<<BP<A>>Cd-<<BP<A>>Cd-<<BP<A>>Cd-<<BP<A>>Cd-<<BP<A>>Cd-<<BP<A>>Cd-<<BP<A>>Cd-<<BP<A>>Cd-<<BP<A>>Cd-<<BP<A>>Cd-<<BP<A>>Cd-<<BP<A>>Cd-<<BP<A>>Cd-<<BP<A>>Cd-<<BP<A>>Cd-<<BP<A>>Cd-<<BP<A>>Cd-<<BP<A>>Cd-<<BP<A>>Cd-<<BP<A>>Cd-<<BP<A>>Cd-<<BP<A>>Cd-<<BP<A>>Cd-<<BP<A>>Cd-<<BP<A>>Cd-<<BP<A>>Cd-<<BP<A>>Cd-<<BP<A>>Cd-<<BP<A>>Cd-<<BP<A>>Cd-<<BP<A>>Cd-<<BP<A>>Cd-<<BP<A>>Cd-<<BP<A>>Cd-<<BP<A>>Cd-<<BP<A>>Cd-<<BP<A>>Cd-<<BP<A>>Cd-<<BP<A>>Cd-<<BP<A>>Cd-<<BP<A>>Cd-<<BP<A>>Cd-<<BP<A>>Cd-<<BP<A>>Cd-<<BP<A>>Cd-<<BP<A>>Cd-<<BP<A>>Cd-<<BP<A>>Cd-<<BP<A>>Cd-<<BP<A>>Cd-<<BP<A>>Cd-<<BP<A>>Cd-<<BP<A>>Cd-<<BP<A>>Cd-<<BP<A>>Cd-<<BP<A>>Cd-<<BP<A>>Cd-<<BP<A>>Cd-<<BP<A>>Cd-<<BP<A>>Cd-<<BP<A>>Cd-<<BP<A>>Cd-<<BP<A>>Cd-<<BP<A>>Cd-<<BP<A>>Cd-<<BP<A>>Cd-<<BP<A>>Cd-<<BP<A>>Cd-<<BP<A>>Cd-<<BP<A>>Cd-<<BP<A>>Cd-<<BP<A>>Cd-<<BP<A>>Cd-<<BP<A>>Cd-<<BP<A>>Cd-<<BP<A>>Cd-<<BP<A>>Cd-<<BP<A>>Cd-<<BP<A>>Cd-<<BP<A>>Cd-<<BP<A>>Cd-<<BP<A>>Cd-<<BP<A>>Cd-<<BP<A>>Cd-<<BP<A>>Cd-<<BP<A>>Cd-<<BP<A>>Cd-<<BP<A>>Cd-<<BP<A>>Cd-<<BP<A>>Cd-<<BP<A>>Cd-<<BP<A>>Cd-<<BP<A>>Cd-<<BP<A>>Cd-<<BP<A>>Cd-<<BP<A>>Cd-<<BP<A>>Cd-<<BP<A>>Cd-<<BP<A>>Cd-<<BP<A>>Cd-<<BP<A>>Cd-<<BP<A>>Cd-<<BP<A>>Cd-<<BP<A>>Cd-<<BP<A>>Cd-<<BP<A>>Cd-<<BP<A>>Cd-<<BP<A>>Cd-<<BP<A>>Cd-<<BP<A>>Cd-<<BP<A>>Cd-<<BP<A>>Cd-<<BP<A>>Cd-<<BP<A>>Cd-<<BP<A>>Cd-<<BP<A>>Cd-<<BP<A>>Cd-<<BP<A>>Cd-<<BP<A>>Cd-<<BP<A>>Cd-<<BP<A>>Cd-<<BP<A>>Cd-<<BP<A>>Cd-<<BP<A>>Cd-<<BP<A>>Cd-<<BP<A>>Cd-<<BP<A>>Cd-<<BP<A>>Cd-<<BP<A>>Cd-<<BP<A>>Cd-<<BP<A>>Cd-<<BP<A>>Cd-<<BP<A>>Cd-<<BP<A>>Cd-<<BP<A>>Cd-<<BP<A>>Cd-<<BP<A>>Cd-<<BP<A>>Cd-<<BP<A>>Cd-<<BP<A>>Cd-<<BP<A>>Cd-<<BP<A>>Cd-<<BP<A>>Cd-<<BP<A>>Cd-<<BP<A>>Cd-<<BP<A>>Cd-<<BP<A>>Cd-<<BP<A>>Cd-<<BP<A>>Cd-<<BP<A>>Cd-<<BP<A>>Cd-<<BP<A>>Cd-<<BP<A>>Cd-<<BP<A>>Cd-<<BP<A>>Cd-<<BP<A>>Cd-<<BP<A>>Cd-<<BP<A>>Cd-<<BP<A>>Cd-<<BP<A>>Cd-<<BP<A>>Cd-<<BP<A>>Cd-<<BP<A>>Cd-<<BP<A>>Cd-<<BP<A>>Cd-<<BP<A>>Cd-<<BP<A>>Cd-<<BP<A>>Cd-<<BP<A>>Cd-<<BP<A>>Cd-<<BP<A>>Cd-<<BP<A>>Cd-<<BP<A>>Cd-<<BP<A>>Cd-<<BP<A>>Cd-<<BP<A>>Cd-<<BP<A>>Cd-<<BP<A>>Cd-<<BP<A>>Cd-<<BP<A>>Cd-<<BP<A>>Cd-<<BP<A>>Cd-<<BP<A>>Cd-<<BP<A>>Cd-<<BP<A>>Cd-<<BP<A>>Cd-<<BP<A>>Cd-<<BP<A>>Cd-<<BP<A>>Cd-<<BP<A>>Cd-<<BP<A>>Cd-<<BP<A>>Cd-<<BP<A>>Cd-<<BP<A>>Cd-<<BP<A>>Cd-<<BP<A>>Cd-<<BP<A>>Cd-<<BP<A>>Cd-<<BP<A>>Cd-<<BP<A>>Cd-<<BP<A>>Cd-<<BP<A>>Cd-<<BP<A>>Cd-<<BP<A>>Cd-<<BP<A>>Cd-<<BP<A>>Cd-<<BP<A>>Cd-<<BP<A>>Cd-<<BP<A>>Cd-<<BP<A>>Cd-<<BP<A>>Cd-<<BP<A>>Cd-<<BP<A>>Cd-<<BP<A>>Cd-<<BP<A>>Cd-<<BP<A>>Cd-<<BP<A>>Cd-<<BP<A>>Cd-<<BP<A>>Cd-<<BP<A>>Cd-<<BP<A>>Cd-<<BP<A>>Cd-<<BP<A>>Cd-<<BP<A>>Cd-<<BP<A>>Cd-<<BP<A>>Cd-<<BP<A>>Cd-<<BP<A>>Cd-<<BP<A>>Cd-<<BP<A>>Cd-<<BP<A>>Cd-<<BP<A>>Cd-<<BP<A>>Cd-<<BP<A>>Cd-<<BP<A>>Cd-<<BP<A>>Cd-<<BP<A>>Cd-<<BP<A>>Cd-<<BP<A>>Cd-<<BP<A>>Cd-<<BP<A>>Cd-<<BP<A>>Cd-<<BP<A>>Cd-<<BP<A>>Cd-<<BP<A>>Cd-<<BP<A>>Cd-<<BP<A>>Cd-<<BP<A>>Cd-<<BP<A>>Cd-<<BP<A>>Cd-<<BP<A>>Cd-<<BP<A>>Cd-<<BP<A>>Cd-<<BP<A>>Cd-<<BP<A>>Cd-<<BP<A>>Cd-<<BP<A>>Cd-<<BP<A>>Cd-<<BP<A>>Cd-<<BP<A>>Cd-<<BP<A>>Cd-<<BP<A>>Cd-<<BP<A>>Cd-<<BP<A>>Cd-<<BP<A>>Cd-<<BP<A>>Cd-<<BP<A>>Cd-<<BP<A>>Cd-<<BP<A>>Cd-<<BP<A>>Cd-<<BP<A>>Cd-<<BP<A>>Cd-<<BP<A>>Cd-<<BP<A>>Cd-<<BP<A>>Cd-<<BP<A>>Cd-<<BP<A>>Cd-<<BP<A>>Cd-<<BP<A>>Cd-<<BP<A>>Cd-<<BP<A>>Cd-<<BP<A>>Cd-<<BP<A>>Cd-<<BP<A>>Cd-<<BP<A>>Cd-<<BP<A>>Cd-<<BP<A>>Cd-<<BP<A>>Cd-<<BP<A>>Cd-<<BP<A>>Cd-<<BP<A>>Cd-<<BP<A>>Cd-<<BP<A>>Cd-<<BP<A>>Cd-<<BP<A>>Cd-<<BP<A>>Cd-<<BP<A>>Cd-<<BP<A>>Cd-<<BP<A>>Cd-<<BP<A>>Cd-<<BP<A>>Cd-<<BP<A>>Cd-<<BP<A>>Cd-<<BP<A>>Cd-<<BP<A>>Cd-<<BP<A>>Cd-<<BP<A>>Cd-<<BP<A>>Cd-<<BP<A>>Cd-<<BP<A>>Cd-<<BP<A>>Cd-<<BP<A>>Cd-<<BP<A>>Cd-<<BP<A>>Cd-<<BP<A>>Cd-<<BP<A>>Cd-<<BP<A>>Cd-<<BP<A>>Cd-<<BP<A>>Cd-<<BP<A>>Cd-<<BP<A>>Cd-<<BP<A>>Cd-<<BP<A>>Cd-<<BP<A>>Cd-<<BP<A>>Cd-<<BP<A>>Cd-<<BP<A>>Cd-<<BP<A>>Cd-<<BP<A>>Cd-<<BP<A>>Cd-<<BP<A>>Cd-<<BP<A>>Cd-<<BP<A>>Cd-<<BP<A>>Cd-<<BP<A>>Cd-<<BP<A>>Cd-<<BP<A>>Cd-<<BP<A>>Cd-<<BP<A>>Cd-<<BP<A>>Cd-<<BP<A>>Cd-<<BP<A>>Cd-<<BP<A>>Cd-<<BP<A>>Cd-<<BP<A>>Cd-<<BP<A>>Cd-<<BP<A>>Cd-<<BP<A>>Cd-<<BP<A>>Cd-<<BP<A>>Cd-<<BP<A>>Cd-<<BP<A>>Cd-<<BP<A>>Cd-<<BP<A>>Cd-<<BP<A>>Cd-<<BP<A>>Cd-<<BP<A>>Cd-<<BP<A>>Cd-<<BP<A>>Cd-<<BP<A>>Cd-<<BP<A>>Cd-<<BP<A>>Cd-<<BP<A>>Cd-<<BP<A>>Cd-<<BP<A>>Cd-<<BP<A>>Cd-<<BP<A>>Cd-<<BP<A>>Cd-<<BP<A>>Cd-<<BP<A>>Cd-<<BP<A>>Cd-<<BP<A>>Cd-<<BP<A>>Cd-<<BP<A>>Cd-<<BP<A>>Cd-<<BP<A>>Cd-<<BP<A>>Cd-<<BP<A>>Cd-<<BP<A>>Cd-<<BP<A>>Cd-<<BP<A>>Cd-<<BP<A>>Cd-<<BP<A>>Cd-<<BP<A>>Cd-<<BP<A>>Cd-<<BP<A>>Cd-<<BP<A>>Cd-<<BP<A>>Cd-<<BP<A>>Cd-<<BP<A>>Cd-<<BP<A>>Cd-<<BP<A>>Cd-<<BP<A>>Cd-<<BP<A>>Cd-<<BP<A>>Cd-<<BP<A>>Cd-<<BP<A>>Cd-<<BP<A>>Cd-<<BP<A>>Cd-<<BP<A>>Cd-<<BP<A>>Cd-<<BP<A>>Cd-<<BP<A>>Cd-<<BP<A>>Cd-<<BP<A>>Cd-<<BP<A>>Cd-<<BP<A>>Cd-<<BP<A>>Cd-<<BP<A>>Cd-<<BP<A>>Cd-<<BP<A>>Cd-<<BP<A>>Cd-<<BP<A>>Cd-<<BP<A>>Cd-<<BP<A>>Cd-<<BP<A>>Cd-<<BP<A>>Cd-<<BP<A>>Cd-<<BP<A>>Cd-<<BP<A>>Cd-<<BP<A>>Cd-<<BP<A>>Cd-<<BP<A>>Cd-<<BP<A>>Cd-<<BP<A>>Cd-<<BP<A>>Cd-<<BP<A>>Cd-<<BP<A>>Cd-<<BP<A>>Cd-<<BP<A>>Cd-<<BP<A>>Cd-<<BP<A>>Cd-<<BP<A>>Cd-<<BP<A>>Cd-<<BP<A>>Cd-<<BP<A>>Cd-<<BP<A>>Cd-<<BP<A>>Cd-<<BP<A>>Cd-<<BP<A>>Cd-<<BP<A>>Cd-<<BP<A>>Cd-<<BP<A>>Cd-<<BP<A>>Cd-<<BP<A>>Cd-<<BP<A>>Cd-<<BP<A>>Cd-<<BP<A>>Cd-<<BP<A>>Cd-<<BP<A>>Cd-<<BP<A>>Cd-<<BP<A>>Cd-<<BP<A>>Cd-<<BP<A>>Cd-<<BP<A>>Cd-<<BP<A>>Cd-<<BP<A>>Cd-<<BP<A>>Cd-<<BP<A>>Cd-<<BP<A>>Cd-<<BP<A>>Cd-<<BP<A>>Cd-<<BP<A>>Cd-<<BP<A>>Cd-<<BP<A>>Cd-<<BP<A>>Cd-<<BP<A>>Cd-<<BP<A>>Cd-<<BP<A>>Cd-<<BP<A>>Cd-<<BP<A>>Cd-<<BP<A>>Cd-<<BP<A>>Cd-<<BP<A>>Cd-<<BP<A>>Cd-<<BP<A>>Cd-<<BP<A>>Cd-<<BP<A>>Cd-<<BP<A>>Cd-<<BP<A>>Cd-<<BP<A>>Cd-<<BP<A>>Cd-<<BP<A>>Cd-<<BP<A>>Cd-<<BP<A>>Cd-<<BP<A>>Cd-<<BP<A>>Cd-<<BP<A>>Cd-<<BP<A>>Cd-<<BP<A>>Cd-<<BP<A>>Cd-<<BP<A>>Cd-<<BP<A>>Cd-<<BP<A>>Cd-<<BP<A>>Cd-<<BP<A>>Cd-<<BP<A>>Cd-<<BP<A>>Cd-<<BP<A>>Cd-<<BP<A>>Cd-<<BP<A>>Cd-<<BP<A>>Cd-<<BP<A>>Cd-<<BP<A>>Cd-<<BP<A>>Cd-<<BP<A>>Cd-<<BP<A>>Cd-<<BP<A>>Cd-<<BP<A>>Cd-<<BP<A>>Cd-<<BP<A>>Cd-<<BP<A>>Cd-<<BP<A>>Cd-<<BP<A>>Cd-<<BP<A>>Cd-<<BP<A>>Cd-<<BP<A>>Cd-<<BP<A>>Cd-<<BP<A>>Cd-<<BP<A>>Cd-<<BP<A>>Cd-<<BP<A>>Cd-<<BP<A>>Cd-<<BP<A>>Cd-<<BP<A>>Cd-<<BP<A>>Cd-<<BP<A>>Cd-<<BP<A>>Cd-<<BP<A>>Cd-<<BP<A>>Cd-<<BP<A>>Cd-<<BP<A>>Cd-<<BP<A>>Cd-<<BP<A>>Cd-<<BP<A>>Cd-<<BP<A>>Cd-<<BP<A>>Cd-<<BP<A>>Cd-<<BP<A>>Cd-<<BP<A>>Cd-<<BP<A>>Cd-<<BP<A>>Cd-<<BP<A>>Cd-<<BP<A>>Cd-<<BP<A>>Cd-<<BP<A>>Cd-<<BP<A>>Cd-<<BP<A>>Cd-<<BP<A>>Cd-<<BP<A>>Cd-<<BP<A>>Cd-<<BP<A>>Cd-<<BP<A>>Cd-<<BP<A>>Cd-<<BP<A>>Cd-<<BP<A>>Cd-<<BP<A>>Cd-<<BP<A>>Cd-<<BP<A>>Cd-<<BP<A>>Cd-<<BP<A>>Cd-<<BP<A>>Cd-<<BP<A>>Cd-<<BP<A>>Cd-<<BP<A>>Cd-<<BP<A>>Cd-<<BP<A>>Cd-<<BP<A>>Cd-<<BP<A>>Cd-<<BP<A>>Cd-<<BP<A>>Cd-<<BP<A>>Cd-<<BP<A>>Cd-<<BP<A>>Cd-<<BP<A>>Cd-<<BP<A>>Cd-<<BP<A>>Cd-<<BP<A>>Cd-<<BP<A>>Cd-<<BP<A>>Cd-<<BP<A>>Cd-<<BP<A>>Cd-<<BP<A>>Cd-<<BP<A>>Cd-<<BP<A>>Cd-<<BP<A>>Cd-<<BP<A>>Cd-<<BP<A>>Cd-<<BP<A>>Cd-<<BP<A>>Cd-<<BP<A>>Cd-<<BP<A>>Cd-<<BP<A>>Cd-<<BP<A>>Cd-<<BP<A>>Cd-<<BP<A>>Cd-<<BP<A>>Cd-<<BP<A>>Cd-<<BP<A>>Cd-<<BP<A>>Cd-<<BP<A>>Cd-<<BP<A>>Cd-<<BP<A>>Cd-<<BP<A>>Cd-<<BP<A>>Cd-<<BP<A>>Cd-<<BP<A>>Cd-<<BP<A>>Cd-<<BP<A>>Cd-<<BP<A>>Cd-<<BP<A>>Cd-<<BP<A>>Cd-<<BP<A>>Cd-<<BP<A>>Cd-<<BP<A>>Cd-<<BP<A>>Cd-<<BP<A>>Cd-<<BP<A>>Cd-<<BP<A>>Cd-<<BP<A>>Cd-<<BP<A>>Cd-<<BP<A>>Cd-<<BP<A>>Cd-<<BP<A>>Cd-<<BP<A>>Cd-<<BP<A>>Cd-<<BP<A>>Cd-<<BP<A>>Cd-<<BP<A>>Cd-<<BP<A>>Cd-<<BP<A>>Cd-<<BP<A>>Cd-<<BP<A>>Cd-<<BP<A>>Cd-<<BP<A>>Cd-<<BP<A>>Cd-<<BP<A>>Cd-<<BP<A>>Cd-<<BP<A>>Cd-<<BP<A>>Cd-<<BP<A>>Cd-<<BP<A>>Cd-<<BP<A>>Cd-<<BP<A>>Cd-<<BP<A>>Cd-<<BP<A>>Cd-<<BP<A>>Cd-<<BP<A>>Cd-<<BP<A>>Cd-<<BP<A>>Cd-<<BP<A>>Cd-<<BP<A>>Cd-<<BP<A>>Cd-<<BP<A>>Cd-<<BP<A>>Cd-<<BP<A>>Cd-<<BP<A>>Cd-<<BP<A>>Cd-<<BP<A>>Cd-<<BP<A>>Cd-<<BP<A>>Cd-<<BP<A>>Cd-<<BP<A>>Cd-<<BP<A>>Cd-<<BP<A>>Cd-<<BP<A>>Cd-<<BP<A>>Cd-<<BP<A>>Cd-<<BP<A>>Cd-<<BP<A>>Cd-<<BP<A>>Cd-<<BP<A>>Cd-<<BP<A>>Cd-<<BP<A>>Cd-<<BP<A>>Cd-<<BP<A>>Cd-<<BP<A>>Cd-<<BP<A>>Cd-<<BP<A>>Cd-<<BP<A>>Cd-<<BP<A>>Cd-<<BP<A>>Cd-<<BP<A>>Cd-<<BP<A>>Cd-<<BP<A>>Cd-<<BP<A>>Cd-<<BP<A>>Cd-<<BP<A>>Cd-<<BP<A>>Cd-<<BP<A>>Cd-<<BP<A>>Cd-<<BP<A>>Cd-<<BP<A>>Cd-<<BP<A>>Cd-<<BP<A>>Cd-<<BP<A>>Cd-<<BP<A>>Cd-<<BP<A>>Cd-<<BP<A>>Cd-<<BP<A>>Cd-<<BP<A>>Cd-<<BP<A>>Cd-<<BP<A>>Cd-<<BP<A>>Cd-<<BP<A>>Cd-<<BP<A>>Cd-<<BP<A>>Cd-<<BP<A>>Cd-<<BP<A>>Cd-<<BP<A>>Cd-<<BP<A>>Cd-<<BP<A>>Cd-<<BP<A>>Cd-<<BP<A>>Cd-<<BP<A>>Cd-<<BP<A>>Cd-<<BP<A>>Cd-<<BP<A>>Cd-<<BP<A>>Cd-<<BP<A>>Cd-<<BP<A>>Cd-<<BP<A>>Cd-<<BP<A>>Cd-<<BP<A>>Cd-<<BP<A>>Cd-<<BP<A>>Cd-<<BP<A>>Cd-<<BP<A>>Cd-<<BP<A>>Cd-<<BP<A>>Cd-<<BP<A>>Cd-<<BP<A>>Cd-<<BP<A>>Cd-<<BP<A>>Cd-<<BP<A>>Cd-<<BP<A>>Cd-<<BP<A>>Cd-<<BP<A>>Cd-<<BP<A>>Cd-<<BP<A>>Cd-<<BP<A>>Cd-<<BP<A>>Cd-<<BP<A>>Cd-<<BP<A>>Cd-<<BP<A>>Cd-<<BP<A>>Cd-<<BP<A>>Cd-<<BP<A>>Cd-<<BP<A>>Cd-<<BP<A>>Cd-<<BP<A>>Cd-<<BP<A>>Cd-<<BP<A>>Cd-<<BP<A>>Cd-<<BP<A>>Cd-<<BP<A>>Cd-<<BP<A>>Cd-<<BP<A>>Cd-<<BP<A>>Cd-<<BP<A>>Cd-<<BP<A>>Cd-<<BP<A>>Cd-<<BP<A>>Cd-<<BP<A>>Cd-<<BP<A>>Cd-<<BP<A>>Cd-<<BP<A>>Cd-<<BP<A>>Cd-<<BP<A>>Cd-<<BP<A>>Cd-<<BP<A>>Cd-<<BP<A>>Cd-<<BP<A>>Cd-<<BP<A>>Cd-<<BP<A>>Cd-<<BP<A>>Cd-<<BP<A>>Cd-<<BP<A>>Cd-<<BP<A>>Cd-<<BP<A>>Cd-<<BP<A>>Cd-<<BP<A>>Cd-<<BP<A>>Cd-<<BP<A>>Cd-<<BP<A>>Cd-<<BP<A>>Cd-<<BP<A>>Cd-<<BP<A>>Cd-<<BP<A>>Cd-<<BP<A>>Cd-<<BP<A>>Cd-<<BP<A>>Cd-<<BP<A>>Cd-<<BP<A>>Cd-<<BP<A>>Cd-<<BP<A>>Cd-<<BP<A>>Cd-<<BP<A>>Cd-<<BP<A>>Cd-<<BP<A>>Cd-<<BP<A>>Cd-<<BP<A>>Cd-<<BP<A>>Cd-<<BP<A>>Cd-<<BP<A>>Cd-<<BP<A>>Cd-<<BP<A>>Cd-<<BP<A>>Cd-<<BP<A>>Cd-<<BP<A>>Cd-<<BP<A>>Cd-<<BP<A>>Cd-<<BP<A>>Cd-<<BP<A>>Cd-<<BP<A>>Cd-<<BP<A>>Cd-<<BP<A>>Cd-<<BP<A>>Cd-<<BP<A>>Cd-<<BP<A>>Cd-<<BP<A>>Cd-<<BP<A>>Cd-<<BP<A>>Cd-<<BP<A>>Cd-<<BP<A>>Cd-<<BP<A>>Cd-<<BP<A>>Cd-<<BP<A>>Cd-<<BP<A>>Cd-<<BP<A>>Cd-<<BP<A>>Cd-<<BP<A>>Cd-<<BP<A>>Cd-<<BP<A>>Cd-<<BP<A>>Cd-<<BP<A>>Cd-<<BP<A>>Cd-<<BP<A>>Cd-<<BP<A>>Cd-<<BP<A>>Cd-<<BP<A>>Cd-<<BP<A>>Cd-<<BP<A>>Cd-<<BP<A>>Cd-<<BP<A>>Cd-<<BP<A>>Cd-<<BP<A>>Cd-<<BP<A>>Cd-<<BP<A>>Cd-<<BP<A>>Cd-<<BP<A>>Cd-<<BP<A>>Cd-<<BP<A>>Cd-<<BP<A>>Cd-<<BP<A>>Cd-<<BP<A>>Cd-<<BP<A>>Cd-<<BP<A>>Cd-<<BP<A>>Cd-<<BP<A>>Cd-<<BP<A>>Cd-<<BP<A>>Cd-<<BP<A>>Cd-<<BP<A>>Cd-<<BP<A>>Cd-<<BP<A>>Cd-<<BP<A>>Cd-<<BP<A>>Cd-<<BP<A>>Cd-<<BP<A>>Cd-<<BP<A>>Cd-<<BP<A>>Cd-<<BP<A>>Cd-<<BP<A>>Cd-<<BP<A>>Cd-<<BP<A>>Cd-<<BP<A>>Cd-<<BP<A>>Cd-<<BP<A>>Cd-<<BP<A>>Cd-<<BP<A>>Cd-<<BP<A>>Cd-<<BP<A>>Cd-<<BP<A>>Cd-<<BP<A>>Cd-<<BP<A>>Cd-<<BP<A>>Cd-<<BP<A>>Cd-<<BP<A>>Cd-<<BP<A>>Cd-<<BP<A>>Cd-<<BP<A>>Cd-<<BP<A>>Cd-<<BP<A>>Cd-<<BP<A>>Cd-<<BP<A>>Cd-<<BP<A>>Cd-<<BP<A>>Cd-<<BP<A>>Cd-<<BP<A>>Cd-<<BP<A>>Cd-<<BP<A>>Cd-<<BP<A>>Cd-<<BP<A>>Cd-<<BP<A>>Cd-<<BP<A>>Cd-<<BP<A>>Cd-<<BP<A>>Cd-<<BP<A>>Cd-<<BP<A>>Cd-<<BP<A>>Cd-<<BP<A>>Cd-<<BP<A>>Cd-<<BP<A>>Cd-<<BP<A>>Cd-<<BP<A>>Cd-<<BP<A>>Cd-<<BP<A>>Cd-<<BP<A>>Cd-<<BP<A>>Cd-<<BP<A>>Cd-<<BP<A>>Cd-<<BP<A>>Cd-<<BP<A>>Cd-<<BP<A>>Cd-<<BP<A>>Cd-<<BP<A>>Cd-<<BP<A>>Cd-<<BP<A>>Cd-<<BP<A>>Cd-<<BP<A>>Cd-<<BP<A>>Cd-<<BP<A>>Cd-<<BP<A>>Cd-<<BP<A>>Cd-<<BP<A>>Cd-<<BP<A>>Cd-<<BP<A>>Cd-<<BP<A>>Cd-<<BP<A>>Cd-<<BP<A>>Cd-<<BP<A>>Cd-<<BP<A>>Cd-<<BP<A>>Cd-<<BP<A>>Cd-<<BP<A>>Cd-<<BP<A>>Cd-<<BP<A>>Cd-<<BP<A>>Cd-<<BP<A>>Cd-<<BP<A>>Cd-<<BP<A>>Cd-<<BP<A>>Cd-<<BP<A>>Cd-<<BP<A>>Cd-<<BP<A>>Cd-<<BP<A>>Cd-<<BP<A>>Cd-<<BP<A>>Cd-<<BP<A>>Cd-<<BP<A>>Cd-<<BP<A>>Cd-<<BP<A>>Cd-<<BP<A>>Cd-<<BP<A>>Cd-<<BP<A>>Cd-<<BP<A>>Cd-<<BP<A>>Cd-<<BP<A>>Cd-<<BP<A>>Cd-<<BP<A>>Cd-<<BP<A>>Cd-<<BP<A>>Cd-<<BP<A>>Cd-<<BP<A>>Cd-<<BP<A>>Cd-<<BP<A>>Cd-<<BP<A>>Cd-<<BP<A>>Cd-<<BP<A>>Cd-<<BP<A>>Cd-<<BP<A>>Cd-<<BP<A>>Cd-<<BP<A>>Cd-<<BP<A>>Cd-<<BP<A>>Cd-<<BP<A>>Cd-<<BP<A>>Cd-<<BP<A>>Cd-<<BP<A>>Cd-<<BP<A>>Cd-<<BP<A>>Cd-<<BP<A>>Cd-<<BP<A>>Cd-<<BP<A>>Cd-<<BP<A>>Cd-<<BP<A>>Cd-<<BP<A>>Cd-<<BP<A>>Cd-<<BP<A>>Cd-<<BP<A>>Cd-<<BP<A>>Cd-<<BP<A>>Cd-<<BP<A>>Cd-<<BP<A>>Cd-<<BP<A>>Cd-<<BP<A>>Cd-<<BP<A>>Cd-<<BP<A>>Cd-<<BP<A>>Cd-<<BP<A>>Cd-<<BP<A>>Cd-<<BP<A>>Cd-<<BP<A>>Cd-<<BP<A>>Cd-<<BP<A>>Cd-<<BP<A>>Cd-<<BP<A>>Cd-<<BP<A>>Cd-<<BP<A>>Cd-<<BP<A>>Cd-<<BP<A>>Cd-<<BP<A>>Cd-<<BP<A>>Cd-<<BP<A>>Cd-<<BP<A>>Cd-<<BP<A>>Cd-<<BP<A>>Cd-<<BP<A>>Cd-<<BP<A>>Cd-<<BP<A>>Cd-<<BP<A>>Cd-<<BP<A>>Cd-<<BP<A>>Cd-<<BP<A>>Cd-<<BP<A>>Cd-<<BP<A>>Cd-<<BP<A>>Cd-<<BP<A>>Cd-<<BP<A>>Cd-<<BP<A>>Cd-<<BP<A>>Cd-<<BP<A>>Cd-<<BP<A>>Cd-<<BP<A>>Cd-<<BP<A>>Cd-<<BP<A>>Cd-<<BP<A>>Cd-<<BP<A>>Cd-<<BP<A>>Cd-<<BP<A>>Cd-<<BP<A>>Cd-<<BP<A>>Cd-<<BP<A>>Cd-<<BP<A>>Cd-<<BP<A>>Cd-<<BP<A>>Cd-<<BP<A>>Cd-<<BP<A>>Cd-<<BP<A>>Cd-<<BP<A>>Cd-<<BP<A>>Cd-<<BP<A>>Cd-<<BP<A>>Cd-<<BP<A>>Cd-<<BP<A>>Cd-<<BP<A>>Cd-<<BP<A>>Cd-<<BP<A>>Cd-<<BP<A>>Cd-<<BP<A>>Cd-<<BP<A>>Cd-<<BP<A>>Cd-<<BP<A>>Cd-<<BP<A>>Cd-<<BP<A>>Cd-<<BP<A>>Cd-<<BP<A>>Cd-<<BP<A>>Cd-<<BP<A>>Cd-<<BP<A>>Cd-<<BP<A>>Cd-<<BP<A>>Cd-<<BP<A>>Cd-<<BP<A>>Cd-<<BP<A>>Cd-<<BP<A>>Cd-<<BP<A>>Cd-<<BP<A>>Cd-<<BP<A>>Cd-<<BP<A>>Cd-<<BP<A>>Cd-<<BP<A>>Cd-<<BP<A>>Cd-<<BP<A>>Cd-<<BP<A>>Cd-<<BP<A>>Cd-<<BP<A>>Cd-<<BP<A>>Cd-<<BP<A>>Cd-<<BP<A>>Cd-<<BP<A>>Cd-<<BP<A>>Cd-<<BP<A>>Cd-<<BP<A>>Cd-<<BP<A>>Cd-<<BP<A>>Cd-<<BP<A>>Cd-<<BP<A>>Cd-<<BP<A>>Cd-<<BP<A>>Cd-<<BP<A>>Cd-<<BP<A>>Cd-<<BP<A>>Cd-<<BP<A>>Cd-<<BP<A>>Cd-<<BP<A>>Cd-<<BP<A>>Cd-<<BP<A>>Cd-<<BP<A>>Cd-<<BP<A>>Cd-<<BP<A>>Cd-<<BP<A>>Cd-<<BP<A>>Cd-<<BP<A>>Cd-<<BP<A>>Cd-<<BP<A>>Cd-<<BP<A>>Cd-<<BP<A>>Cd-<<BP<A>>Cd-<<BP<A>>Cd-<<BP<A>>Cd-<<BP<A>>Cd-<<BP<A>>Cd-<<BP<A>>Cd-<<BP<A>>Cd-<<BP<A>>Cd-<<BP<A>>Cd-<<BP<A>>Cd-<<BP<A>>Cd-<<BP<A>>Cd-<<BP<A>>Cd-<<BP<A>>Cd-<<BP<A>>Cd-<<BP<A>>Cd-<<BP<A>>Cd-<<BP<A>>Cd-<<BP<A>>Cd-<<BP<A>>Cd-<<BP<A>>Cd-<<BP<A>>Cd-<<BP<A>>Cd-<<BP<A>>Cd-<<BP<A>>Cd-<<BP<A>>Cd-<<BP<A>>Cd-<<BP<A>>Cd-<<BP<A>>Cd-<<BP<A>>Cd-<<BP<A>>Cd-<<BP<A>>Cd-<<BP<A>>Cd-<<BP<A>>Cd-<<BP<A>>Cd-<<BP<A>>Cd-<<BP<A>>Cd-<<BP<A>>Cd-<<BP<A>>Cd-<<BP<A>>Cd-<<BP<A>>Cd-<<BP<A>>Cd-<<BP<A>>Cd-<<BP<A>>Cd-<<BP<A>>Cd-<<BP<A>>Cd-<<BP<A>>Cd-<<BP<A>>Cd-<<BP<A>>Cd-<<BP<A>>Cd-<<BP<A>>Cd-<<BP<A>>Cd-<<BP<A>>Cd-<<BP<A>>Cd-<<BP<A>>Cd-<<BP<A>>Cd-<<BP<A>>Cd-<<BP<A>>Cd-<<BP<A>>Cd-<<BP<A>>Cd-<<BP<A>>Cd-<<BP<A>>Cd-<<BP<A>>Cd-<<BP<A>>Cd-<<BP<A>>Cd-<<BP<A>>Cd-<<BP<A>>Cd-<<BP<A>>Cd-<<BP<A>>Cd-<<BP<A>>Cd-<<BP<A>>Cd-<<BP<A>>Cd-<<BP<A>>Cd-<<BP<A>>Cd-<<BP<A>>Cd-<<BP<A>>Cd-<<BP<A>>Cd-<<BP<A>>Cd-<<BP<A>>Cd-<<BP<A>>Cd-<<BP<A>>Cd-<<BP<A>>Cd-<<BP<A>>Cd-<<BP<A>>Cd-<<BP<A>>Cd-<<BP<A>>Cd-<<BP<A>>Cd-<<BP<A>>Cd-<<BP<A>>Cd-<<BP<A>>Cd-<<BP<A>>Cd-<<BP<A>>Cd-<<BP<A>>Cd-<<BP<A>>Cd-<<BP<A>>Cd-<<BP<A>>Cd-<<BP<A>>Cd-<<BP<A>>Cd-<<BP<A>>Cd-<<BP<A>>Cd-<<BP<A>>Cd-<<BP<A>>Cd-<<BP<A>>Cd-<<BP<A>>Cd-<<BP<A>>Cd-<<BP<A>>Cd-<<BP<A>>Cd-<<BP<A>>Cd-<<BP<A>>Cd-<<BP<A>>Cd-<<BP<A>>Cd-<<BP<A>>Cd-<<BP<A>>Cd-<<BP<A>>Cd-<<BP<A>>Cd-<<BP<A>>Cd-<<BP<A>>Cd-<<BP<A>>Cd-<<BP<A>>Cd-<<BP<A>>Cd-<<BP<A>>Cd-<<BP<A>>Cd-<<BP<A>>Cd-<<BP<A>>Cd-<<BP<A>>Cd-<<BP<A>>Cd-<<BP<A>>Cd-<<BP<A>>Cd-<<BP<A>>Cd-<<BP<A>>Cd-<<BP<A>>Cd-<<BP<A>>Cd-<<BP<A>>Cd-<<BP<A>>Cd-<<BP<A>>Cd-<<BP<A>>Cd-<<BP<A>>Cd-<<BP<A>>Cd-<<BP<A>>Cd-<<BP<A>>Cd-<<BP<A>>Cd-<<BP<A>>Cd-<<BP<A>>Cd-<<BP<A>>Cd-<<BP<A>>Cd-<<BP<A>>Cd-<<BP<A>>Cd-<<BP<A>>Cd-<<BP<A>>Cd-<<BP<A>>Cd-<<BP<A>>Cd-<<BP<A>>Cd-<<BP<A>>Cd-<<BP<A>>Cd-<<BP<A>>Cd-<<BP<A>>Cd-<<BP<A>>Cd-<<BP<A>>Cd-<<BP<A>>Cd-<<BP<A>>Cd-<<BP<A>>Cd-<<BP<A>>Cd-<<BP<A>>Cd-<<BP<A>>Cd-<<BP<A>>Cd-<<BP<A>>Cd-<<BP<A>>Cd-<<BP<A>>Cd-<<BP<A>>Cd-<<BP<A>>Cd-<<BP<A>>Cd-<<BP<A>>Cd-<<BP<A>>Cd-<<BP<A>>Cd-<<BP<A>>Cd-<<BP<A>>Cd-<<BP<A>>Cd-<<BP<A>>Cd-<<BP<A>>Cd-<<BP<A>>Cd-<<BP<A>>Cd-<<BP<A>>Cd-<<BP<A>>Cd-<<BP<A>>Cd-<<BP<A>>Cd-<<BP<A>>Cd-<<BP<A>>Cd-<<BP<A>>Cd-<<BP<A>>Cd-<<BP<A>>Cd-<<BP<A>>Cd-<<BP<A>>Cd-<<BP<A>>Cd-<<BP<A>>Cd-<<BP<A>>Cd-<<BP<A>>Cd-<<BP<A>>Cd-<<BP<A>>Cd-<<BP<A>>Cd-<<BP<A>>Cd-<<BP<A>>Cd-<<BP<A>>Cd-<<BP<A>>Cd-<<BP<A>>Cd-<<BP<A>>Cd-<<BP<A>>Cd-<<BP<A>>Cd-<<BP<A>>Cd-<<BP<A>>Cd-<<BP<A>>Cd-<<BP<A>>Cd-<<BP<A>>Cd-<<BP<A>>Cd-<<BP<A>>Cd-<<BP<A>>Cd-<<BP<A>>Cd-<<BP<A>>Cd-<<BP<A>>Cd-<<BP<A>>Cd-<<BP<A>>Cd-<<BP<A>>Cd-<<BP<A>>Cd-<<BP<A>>Cd-<<BP<A>>Cd-<<BP<A>>Cd-<<BP<A>>Cd-<<BP<A>>Cd-<<BP<A>>Cd-<<BP<A>>Cd-<<BP<A>>Cd-<<BP<A>>Cd-<<BP<A>>Cd-<<BP<A>>Cd-<<BP<A>>Cd-<<BP<A>>Cd-<<BP<A>>Cd-<<BP<A>>Cd-<<BP<A>>Cd-<<BP<A>>Cd-<<BP<A>>Cd-<<BP<A>>Cd-<<BP<A>>Cd-<<BP<A>>Cd-<<BP<A>>Cd-<<BP<A>>Cd-<<BP<A>>Cd-<<BP<A>>Cd-<<BP<A>>Cd-<<BP<A>>Cd-<<BP<A>>Cd-<<BP<A>>Cd-<<BP<A>>Cd-<<BP<A>>Cd-<<BP<A>>Cd-<<BP<A>>Cd-<<BP<A>>Cd-<<BP<A>>Cd-<<BP<A>>Cd-<<BP<A>>Cd-<<BP<A>>Cd-<<BP<A>>Cd-<<BP<A>>Cd-<<BP<A>>Cd-<<BP<A>>Cd-<<BP<A>>Cd-<<BP<A>>Cd-<<BP<A>>Cd-<<BP<A>>Cd-<<BP<A>>Cd-<<BP<A>>Cd-<<BP<A>>Cd-<<BP<A>>Cd-<<BP<A>>Cd-<<BP<A>>Cd-<<BP<A>>Cd-<<BP<A>>Cd-<<BP<A>>Cd-<<BP<A>>Cd-<<BP<A>>Cd-<<BP<A>>Cd-<<BP<A>>Cd-<<BP<A>>Cd-<<BP<A>>Cd-<<BP<A>>Cd-<<BP<A>>Cd-<<BP<A>>Cd-<<BP<A>>Cd-<<BP<A>>Cd-<<BP<A>>Cd-<<BP<A>>Cd-<<BP<A>>Cd-<<BP<A>>Cd-<<BP<A>>Cd-<<BP<A>>Cd-<<BP<A>>Cd-<<BP<A>>Cd-<<BP<A>>Cd-<<BP<A>>Cd-<<BP<A>>Cd-<<BP<A>>Cd-<<BP<A>>Cd-<<BP<A>>Cd-<<BP<A>>Cd-<<BP<A>>Cd-<<BP<A>>Cd-<<BP<A>>Cd-<<BP<A>>Cd-<<BP<A>>Cd-<<BP<A>>Cd-<<BP<A>>Cd-<<BP<A>>Cd-<<BP<A>>Cd-<<BP<A>>Cd-<<BP<A>>Cd-<<BP<A>>Cd-<<BP<A>>Cd-<<BP<A>>Cd-<<BP<A>>Cd-<<BP<A>>Cd-<<BP<A>>Cd-<<BP<A>>Cd-<<BP<A>>Cd-<<BP<A>>Cd-<<BP<A>>Cd-<<BP<A>>Cd-<<BP<A>>Cd-<<BP<A>>Cd-<<BP<A>>Cd-<<BP<A>>Cd-<<BP<A>>Cd-<<BP<A>>Cd-<<BP<A>>Cd-<<BP<A>>Cd-<<BP<A>>Cd-<<BP<A>>Cd-<<BP<A>>Cd-<<BP<A>>Cd-<<BP<A>>Cd-<<BP<A>>Cd-<<BP<A>>Cd-<<BP<A>>Cd-<<BP<A>>Cd-<<BP<A>>Cd-<<BP<A>>Cd-<<BP<A>>Cd-<<BP<A>>Cd-<<BP<A>>Cd-<<BP<A>>Cd-<<BP<A>>Cd-<<BP<A>>Cd-<<BP<A>>Cd-<<BP<A>>Cd-<<BP<A>>Cd-<<BP<A>>Cd-<<BP<A>>Cd-<<BP<A>>Cd-<<BP<A>>Cd-<<BP<A>>Cd-<<BP<A>>Cd-<<BP<A>>Cd-<<BP<A>>Cd-<<BP<A>>Cd-<<BP<A>>Cd-<<BP<A>>Cd-<<BP<A>>Cd-<<BP<A>>Cd-<<BP<A>>Cd-<<BP<A>>Cd-<<BP<A>>Cd-<<BP<A>>Cd-<<BP<A>>Cd-<<BP<A>>Cd-<<BP<A>>Cd-<<BP<A>>Cd-<<BP<A>>Cd-<<BP<A>>Cd-<<BP<A>>Cd-<<BP<A>>Cd-<<BP<A>>Cd-<<BP<A>>Cd-<<BP<A>>Cd-<<BP<A>>Cd-<<BP<A>>Cd-<<BP<A>>Cd-<<BP<A>>Cd-<<BP<A>>Cd-<<BP<A>>Cd-<<BP<A>>Cd-<<BP<A>>Cd-<<BP<A>>Cd-<<BP<A>>Cd-<<BP<A>>Cd-<<BP<A>>Cd-<<BP<A>>Cd-<<BP<A>>Cd-<<BP<A>>Cd-<<BP<A>>Cd-<<BP<A>>Cd-<<BP<A>>Cd-<<BP<A>>Cd-<<BP<A>>Cd-<<BP<A>>Cd-<<BP<A>>Cd-<<BP<A>>Cd-<<BP<A>>Cd-<<BP<A>>Cd-<<BP<A>>Cd-<<BP<A>>Cd-<<BP<A>>Cd-<<BP<A>>Cd-<<BP<A>>Cd-<<BP<A>>Cd-<<BP<A>>Cd-<<BP<A>>Cd-<<BP<A>>Cd-<<BP<A>>Cd-<<BP<A>>Cd-<<BP<A>>Cd-<<BP<A>>Cd-<<BP<A>>Cd-<<BP<A>>Cd-<<BP<A>>Cd-<<BP<A>>Cd-<<BP<A>>Cd-<<BP<A>>Cd-<<BP<A>>Cd-<<BP<A>>Cd-<<BP<A>>Cd-<<BP<A>>Cd-<<BP<A>>Cd-<<BP<A>>Cd-<<BP<A>>Cd-<<BP<A>>Cd-<<BP<A>>Cd-<<BP<A>>Cd-<<BP<A>>Cd-<<BP<A>>Cd-<<BP<A>>Cd-<<BP<A>>Cd-<<BP<A>>Cd-<<BP<A>>Cd-<<BP<A>>Cd-<<BP<A>>Cd-<<BP<A>>Cd-<<BP<A>>Cd-<<BP<A>>Cd-<<BP<A>>Cd-<<BP<A>>Cd-<<BP<A>>Cd-<<BP<A>>Cd-<<BP<A>>Cd-<<BP<A>>Cd-<<BP<A>>Cd-<<BP<A>>Cd-<<BP<A>>Cd-<<BP<A>>Cd-<<BP<A>>Cd-<<BP<A>>Cd-<<BP<A>>Cd-<<BP<A>>Cd-<<BP<A>>Cd-<<BP<A>>Cd-<<BP<A>>Cd-<<BP<A>>Cd-<<BP<A>>Cd-<<BP<A>>Cd-<<BP<A>>Cd-<<BP<A>>Cd-<<BP<A>>Cd-<<BP<A>>Cd-<<BP<A>>Cd-<<BP<A>>Cd-<<BP<A>>Cd-<<BP<A>>Cd-<<BP<A>>Cd-<<BP<A>>Cd-<<BP<A>>Cd-<<BP<A>>Cd-<<BP<A>>Cd-<<BP<A>>Cd-<<BP<A>>Cd-<<BP<A>>Cd-<<BP<A>>Cd-<<BP<A>>Cd-<<BP<A>>Cd-<<BP<A>>Cd-<<BP<A>>Cd-<<BP<A>>Cd-<<BP<A>>Cd-<<BP<A>>Cd-<<BP<A>>Cd-<<BP<A>>Cd-<<BP<A>>Cd-<<BP<A>>Cd-<<BP<A>>Cd-<<BP<A>>Cd-<<BP<A>>Cd-<<BP<A>>Cd-<<BP<A>>Cd-<<BP<A>>Cd-<<BP<A>>Cd-<<BP<A>>Cd-<<BP<A>>Cd-<<BP<A>>Cd-<<BP<A>>Cd-<<BP<A>>Cd-<<BP<A>>Cd-<<BP<A>>Cd-<<BP<A>>Cd-<<BP<A>>Cd-<<BP<A>>Cd-<<BP<A>>Cd-<<BP<A>>Cd-<<BP<A>>Cd-<<BP<A>>Cd-<<BP<A>>Cd-<<BP<A>>Cd-<<BP<A>>Cd-<<BP<A>>Cd-<<BP<A>>Cd-<<BP<A>>Cd-<<BP<A>>Cd-<<BP<A>>Cd-<<BP<A>>Cd-<<BP<A>>Cd-<<BP<A>>Cd-<<BP<A>>Cd-<<BP<A>>Cd-<<BP<A>>Cd-<<BP<A>>Cd-<<BP<A>>Cd-<<BP<A>>Cd-<<BP<A>>Cd-<<BP<A>>Cd-<<BP<A>>Cd-<<BP<A>>Cd-<<BP<A>>Cd-<<BP<A>>Cd-<<BP<A>>Cd-<<BP<A>>Cd-<<BP<A>>Cd-<<BP<A>>Cd-<<BP<A>>Cd-<<BP<A>>Cd-<<BP<A>>Cd-<<BP<A>>Cd-<<BP<A>>Cd-<<BP<A>>Cd-<<BP<A>>Cd-<<BP<A>>Cd-<<BP<A>>Cd-<<BP<A>>Cd-<<BP<A>>Cd-<<BP<A>>Cd-<<BP<A>>Cd-<<BP<A>>Cd-<<BP<A>>Cd-<<BP<A>>Cd-<<BP<A>>Cd-<<BP<A>>Cd-<<BP<A>>Cd-<<BP<A>>Cd-<<BP<A>>Cd-<<BP<A>>Cd-<<BP<A>>Cd-<<BP<A>>Cd-<<BP<A>>Cd-<<BP<A>>Cd-<<BP<A>>Cd-<<BP<A>>Cd-<<BP<A>>Cd-<<BP<A>>Cd-<<BP<A>>Cd-<<BP<A>>Cd-<<BP<A>>Cd-<<BP<A>>Cd-<<BP<A>>Cd-<<BP<A>>Cd-<<BP<A>>Cd-<<BP<A>>Cd-<<BP<A>>Cd-<<BP<A>>Cd-<<BP<A>>Cd-<<BP<A>>Cd-<<BP<A>>Cd-<<BP<A>>Cd-<<BP<A>>Cd-<<BP<A>>Cd-<<BP<A>>Cd-<<BP<A>>Cd-<<BP<A>>Cd-<<BP<A>>Cd-<<BP<A>>Cd-<<BP<A>>Cd-<<BP<A>>Cd-<<BP<A>>Cd-<<BP<A>>Cd-<<BP<A>>Cd-<<BP<A>>Cd-<<BP<A>>Cd-<<BP<A>>Cd-<<BP<A>>Cd-<<BP<A>>Cd-<<BP<A>>Cd-<<BP<A>>Cd-<<BP<A>>Cd-<<BP<A>>Cd-<<BP<A>>Cd-<<BP<A>>Cd-<<BP<A>>Cd-<<BP<A>>Cd-<<BP<A>>Cd-<<BP<A>>Cd-<<BP<A>>Cd-<<BP<A>>Cd-<<BP<A>>Cd-<<BP<A>>Cd-<<BP<A>>Cd-<<BP<A>>Cd-<<BP<A>>Cd-<<BP<A>>Cd-<<BP<A>>Cd-<<BP<A>>Cd-<<BP<A>>Cd-<<BP<A>>Cd-<<BP<A>>Cd-<<BP<A>>Cd-<<BP<A>>Cd-<<BP<A>>Cd-<<BP<A>>Cd-<<BP<A>>Cd-<<BP<A>>Cd-<<BP<A>>Cd-<<BP<A>>Cd-<<BP<A>>Cd-<<BP<A>>Cd-<<BP<A>>Cd-<<BP<A>>Cd-<<BP<A>>Cd-<<BP<A>>Cd-<<BP<A>>Cd-<<BP<A>>Cd-<<BP<A>>Cd-<<BP<A>>Cd-<<BP<A>>Cd-<<BP<A>>Cd-<<BP<A>>Cd-<<BP<A>>Cd-<<BP<A>>Cd-<<BP<A>>Cd-<<BP<A>>Cd-<<BP<A>>Cd-<<BP<A>>Cd-<<BP<A>>Cd-<<BP<A>>Cd-<<BP<A>>Cd-<<BP<A>>Cd-<<BP<A>>Cd-<<BP<A>>Cd-<<BP<A>>Cd-<<BP<A>>Cd-<<BP<A>>Cd-<<BP<A>>Cd-<<BP<A>>Cd-<<BP<A>>Cd-<<BP<A>>Cd-<<BP<A>>Cd-<<BP<A>>Cd-<<BP<A>>Cd-<<BP<A>>Cd-<<BP<A>>Cd-<<BP<A>>Cd-<<BP<A>>Cd-<<BP<A>>Cd-<<BP<A>>Cd-<<BP<A>>Cd-<<BP<A>>Cd-<<BP<A>>Cd-<<BP<A>>Cd-<<BP<A>>Cd-<<BP<A>>Cd-<<BP<A>>Cd-<<BP<A>>Cd-<<BP<A>>Cd-<<BP<A>>Cd-<<BP<A>>Cd-<<BP<A>>Cd-<<BP<A>>Cd-<<BP<A>>Cd-<<BP<A>>Cd-<<BP<A>>Cd-<<BP<A>>Cd-<<BP<A>>Cd-<<BP<A>>Cd-<<BP<A>>Cd-<<BP<A>>Cd-<<BP<A>>Cd-<<BP<A>>Cd-<<BP<A>>Cd-<<BP<A>>Cd-<<BP<A>>Cd-<<BP<A>>Cd-<<BP<A>>Cd-<<BP<A>>Cd-<<BP<A>>Cd-<<BP<A>>Cd-<<BP<A>>Cd-<<BP<A>>Cd-<<BP<A>>Cd-<<BP<A>>Cd-<<BP<A>>Cd-<<BP<A>>Cd-<<BP<A>>Cd-<<BP<A>>Cd-<<BP<A>>Cd-<<BP<A>>Cd-<<BP<A>>Cd-<<BP<A>>Cd-<<BP<A>>Cd-<<BP<A>>Cd-<<BP<A>>Cd-<<BP<A>>Cd-<<BP<A>>Cd-<<BP<A>>Cd-<<BP<A>>Cd-<<BP<A>>Cd-<<BP<A>>Cd-<<BP<A>>Cd-<<BP<A>>Cd-<<BP<A>>Cd-<<BP<A>>Cd-<<BP<A>>Cd-<<BP<A>>Cd-<<BP<A>>Cd-<<BP<A>>Cd-<<BP<A>>Cd-<<BP<A>>Cd-<<BP<A>>Cd-<<BP<A>>Cd-<<BP<A>>Cd-<<BP<A>>Cd-<<BP<A>>Cd-<<BP<A>>Cd-<<BP<A>>Cd-<<BP<A>>Cd-<<BP<A>>Cd-<<BP<A>>Cd-<<BP<A>>Cd-<<BP<A>>Cd-<<BP<A>>Cd-<<BP<A>>Cd-<<BP<A>>Cd-<<BP<A>>Cd-<<BP<A>>Cd-<<BP<A>>Cd-<<BP<A>>Cd-<<BP<A>>Cd-<<BP<A>>Cd-<<BP<A>>Cd-<<BP<A>>Cd-<<BP<A>>Cd-<<BP<A>>Cd-<<BP<A>>Cd-<<BP<A>>Cd-<<BP<A>>Cd-<<BP<A>>Cd-<<BP<A>>Cd-<<BP<A>>Cd-<<BP<A>>Cd-<<BP<A>>Cd-<<BP<A>>Cd-<<BP<A>>Cd-<<BP<A>>Cd-<<BP<A>>Cd-<<BP<A>>Cd-<<BP<A>>Cd-<<BP<A>>Cd-<<BP<A>>Cd-<<BP<A>>Cd-<<BP<A>>Cd-<<BP<A>>Cd-<<BP<A>>Cd-<<BP<A>>Cd-<<BP<A>>Cd-<<BP<A>>Cd-<<BP<A>>Cd-<<BP<A>>Cd-<<BP<A>>Cd-<<BP<A>>Cd-<<BP<A>>Cd-<<BP<A>>Cd-<<BP<A>>Cd-<<BP<A>>Cd-<<BP<A>>Cd-<<BP<A>>Cd-<<BP<A>>Cd-<<BP<A>>Cd-<<BP<A>>Cd-<<BP<A>>Cd-<<BP<A>>Cd-<<BP<A>>Cd-<<BP<A>>Cd-<<BP<A>>Cd-<<BP<A>>Cd-<<BP<A>>Cd-<<BP<A>>Cd-<<BP<A>>Cd-<<BP<A>>Cd-<<BP<A>>Cd-<<BP<A>>Cd-<<BP<A>>Cd-<<BP<A>>Cd-<<BP<A>>Cd-<<BP<A>>Cd-<<BP<A>>Cd-<<BP<A>>Cd-<<BP<A>>Cd-<<BP<A>>Cd-<<BP<A>>Cd-<<BP<A>>Cd-<<BP<A>>Cd-<<BP<A>>Cd-<<BP<A>>Cd-<<BP<A>>Cd-<<BP<A>>Cd-<<BP<A>>Cd-<<BP<A>>Cd-<<BP<A>>Cd-<<BP<A>>Cd-<<BP<A>>Cd-<<BP<A>>Cd-<<BP<A>>Cd-<<BP<A>>Cd-<<BP<A>>Cd-<<BP<A>>Cd-<<BP<A>>Cd-<<BP<A>>Cd-<<BP<A>>Cd-<<BP<A>>Cd-<<BP<A>>Cd-<<BP<A>>Cd-<<BP<A>>Cd-<<BP<A>>Cd-<<BP<A>>Cd-<<BP<A>>Cd-<<BP<A>>Cd-<<BP<A>>Cd-<<BP<A>>Cd-<<BP<A>>Cd-<<BP<A>>Cd-<<BP<A>>Cd-<<BP<A>>Cd-<<BP<A>>Cd-<<BP<A>>Cd-<<BP<A>>Cd-<<BP<A>>Cd-<<BP<A>>Cd-<<BP<A>>Cd-<<BP<A>>Cd-<<BP<A>>Cd-<<BP<A>>Cd-<<BP<A>>Cd-<<BP<A>>Cd-<<BP<A>>Cd-<<BP<A>>Cd-<<BP<A>>Cd-<<BP<A>>Cd-<<BP<A>>Cd-<<BP<A>>Cd-<<BP<A>>Cd-<<BP<A>>Cd-<<BP<A>>Cd-<<BP<A>>Cd-<<BP<A>>Cd-<<BP<A>>Cd-<<BP<A>>Cd-<<BP<A>>Cd-<<BP<A>>Cd-<<BP<A>>Cd-<<BP<A>>Cd-<<BP<A>>Cd-<<BP<A>>Cd-<<BP<A>>Cd-<<BP<A>>Cd-<<BP<A>>Cd-<<BP<A>>Cd-<<BP<A>>Cd-<<BP<A>>Cd-<<BP<A>>Cd-<<BP<A>>Cd-<<BP<A>>Cd-<<BP<A>>Cd-<<BP<A>>Cd-<<BP<A>>Cd-<<BP<A>>Cd-<<BP<A>>Cd-<<BP<A>>Cd-<<BP<A>>Cd-<<BP<A>>Cd-<<BP<A>>Cd-<<BP<A>>Cd-<<BP<A>>Cd-<<BP<A>>Cd-<<BP<A>>Cd-<<BP<A>>Cd-<<BP<A>>Cd-<<BP<A>>Cd-<<BP<A>>Cd-<<BP<A>>Cd-<<BP<A>>Cd-<<BP<A>>Cd-<<BP<A>>Cd-<<BP<A>>Cd-<<BP<A>>Cd-<<BP<A>>Cd-<<BP<A>>Cd-<<BP<A>>Cd-<<BP<A>>Cd-<<BP<A>>Cd-<<BP<A>>Cd-<<BP<A>>Cd-<<BP<A>>Cd-<<BP<A>>Cd-<<BP<A>>Cd-<<BP<A>>Cd-<<BP<A>>Cd-<<BP<A>>Cd-<<BP<A>>Cd-<<BP<A>>Cd-<<BP<A>>Cd-<<BP<A>>Cd-<<BP<A>>Cd-<<BP<A>>Cd-<<BP<A>>Cd-<<BP<A>>Cd-<<BP<A>>Cd-<<BP<A>>Cd-<<BP<A>>Cd-<<BP<A>>Cd-<<BP<A>>Cd-<<BP<A>>Cd-<<BP<A>>Cd-<<BP<A>>Cd-<<BP<A>>Cd-<<BP<A>>Cd-<<BP<A>>Cd-<<BP<A>>Cd-<<BP<A>>Cd-<<BP<A>>Cd-<<BP<A>>Cd-<<BP<A>>Cd-<<BP<A>>Cd-<<BP<A>>Cd-<<BP<A>>Cd-<<BP<A>>Cd-<<BP<A>>Cd-<<BP<A>>Cd-<<BP<A>>Cd-<<BP<A>>Cd-<<BP<A>>Cd-<<BP<A>>Cd-<<BP<A>>Cd-<<BP<A>>Cd-<<BP<A>>Cd-<<BP<A>>Cd-<<BP<A>>Cd-<<BP<A>>Cd-<<BP<A>>Cd-<<BP<A>>Cd-<<BP<A>>Cd-<<BP<A>>Cd-<<BP<A>>Cd-<<BP<A>>Cd-<<BP<A>>Cd-<<BP<A>>Cd-<<BP<A>>Cd-<<BP<A>>Cd-<<BP<A>>Cd-<<BP<A>>Cd-<<BP<A>>Cd-<<BP<A>>Cd-<<BP<A>>Cd-<<BP<A>>Cd-<<BP<A>>Cd-<<BP<A>>Cd-<<BP<A>>Cd-<<BP<A>>Cd-<<BP<A>>Cd-<<BP<A>>Cd-<<BP<A>>Cd-<<BP<A>>Cd-<<BP<A>>Cd-<<BP<A>>Cd-<<BP<A>>Cd-<<BP<A>>Cd-<<BP<A>>Cd-<<BP<A>>Cd-<<BP<A>>Cd-<<BP<A>>Cd-<<BP<A>>Cd-<<BP<A>>Cd-<<BP<A>>Cd-<<BP<A>>Cd-<<BP<A>>Cd-<<BP<A>>Cd-<<BP<A>>Cd-<<BP<A>>Cd-<<BP<A>>Cd-<<BP<A>>Cd-<<BP<A>>Cd-<<BP<A>>Cd-<<BP<A>>Cd-<<BP<A>>Cd-<<BP<A>>Cd-<<BP<A>>Cd-<<BP<A>>Cd-<<BP<A>>Cd-<<BP<A>>Cd-<<BP<A>>Cd-<<BP<A>>Cd-<<BP<A>>Cd-<<BP<A>>Cd-<<BP<A>>Cd-<<BP<A>>Cd-<<BP<A>>Cd-<<BP<A>>Cd-<<BP<A>>Cd-<<BP<A>>Cd-<<BP<A>>Cd-<<BP<A>>Cd-<<BP<A>>Cd-<<BP<A>>Cd-<<BP<A>>Cd-<<BP<A>>Cd-<<BP<A>>Cd-<<BP<A>>Cd-<<BP<A>>Cd-<<BP<A>>Cd-<<BP<A>>Cd-<<BP<A>>Cd-<<BP<A>>Cd-<<BP<A>>Cd-<<BP<A>>Cd-<<BP<A>>Cd-<<BP<A>>Cd-<<BP<A>>Cd-<<BP<A>>Cd-<<BP<A>>Cd-<<BP<A>>Cd-<<BP<A>>Cd-<<BP<A>>Cd-<<BP<A>>Cd-<<BP<A>>Cd-<<BP<A>>Cd-<<BP<A>>Cd-<<BP<A>>Cd-<<BP<A>>Cd-<<BP<A>>Cd-<<BP<A>>Cd-<<BP<A>>Cd-<<BP<A>>Cd-<<BP<A>>Cd-<<BP<A>>Cd-<<BP<A>>Cd-<<BP<A>>Cd-<<BP<A>>Cd-<<BP<A>>Cd-<<BP<A>>Cd-<<BP<A>>Cd-<<BP<A>>Cd-<<BP<A>>Cd-<<BP<A>>Cd-<<BP<A>>Cd-<<BP<A>>Cd-<<BP<A>>Cd-<<BP<A>>Cd-<<BP<A>>Cd-<<BP<A>>Cd-<<BP<A>>Cd-<<BP<A>>Cd-<<BP<A>>Cd-<<BP<A>>Cd-<<BP<A>>Cd-<<BP<A>>Cd-<<BP<A>>Cd-<<BP<A>>Cd-<<BP<A>>Cd-<<BP<A>>Cd-<<BP<A>>Cd-<<BP<A>>Cd-<<BP<A>>Cd-<<BP<A>>Cd-<<BP<A>>Cd-<<BP<A>>Cd-<<BP<A>>Cd-<<BP<A>>Cd-<<BP<A>>Cd-<<BP<A>>Cd-<<BP<A>>Cd-<<BP<A>>Cd-<<BP<A>>Cd-<<BP<A>>Cd-<<BP<A>>Cd-<<BP<A>>Cd-<<BP<A>>Cd-<<BP<A>>Cd-<<BP<A>>Cd-<<BP<A>>Cd-<<BP<A>>Cd-<<BP<A>>Cd-<<BP<A>>Cd-<<BP<A>>Cd-<<BP<A>>Cd-<<BP<A>>Cd-<<BP<A>>Cd-<<BP<A>>Cd-<<BP<A>>Cd-<<BP<A>>Cd-<<BP<A>>Cd-<<BP<A>>Cd-<<BP<A>>Cd-<<BP<A>>Cd-<<BP<A>>Cd-<<BP<A>>Cd-<<BP<A>>Cd-<<BP<A>>Cd-<<BP<A>>Cd-<<BP<A>>Cd-<<BP<A>>Cd-<<BP<A>>Cd-<<BP<A>>Cd-<<BP<A>>Cd-<<BP<A>>Cd-<<BP<A>>Cd-<<BP<A>>Cd-<<BP<A>>Cd-<<BP<A>>Cd-<<BP<A>>Cd-<<BP<A>>Cd-<<BP<A>>Cd-<<BP<A>>Cd-<<BP<A>>Cd-<<BP<A>>Cd-<<BP<A>>Cd-<<BP<A>>Cd-<<BP<A>>Cd-<<BP<A>>Cd-<<BP<A>>Cd-<<BP<A>>Cd-<<BP<A>>Cd-<<BP<A>>Cd-<<BP<A>>Cd-<<BP<A>>Cd-<<BP<A>>Cd-<<BP<A>>Cd-<<BP<A>>Cd-<<BP<A>>Cd-<<BP<A>>Cd-<<BP<A>>Cd-<<BP<A>>Cd-<<BP<A>>Cd-<<BP<A>>Cd-<<BP<A>>Cd-<<BP<A>>Cd-<<BP<A>>Cd-<<BP<A>>Cd-<<BP<A>>Cd-<<BP<A>>Cd-<<BP<A>>Cd-<<BP<A>>Cd-<<BP<A>>Cd-<<BP<A>>Cd-<<BP<A>>Cd-<<BP<A>>Cd-<<BP<A>>Cd-<<BP<A>>Cd-<<BP<A>>Cd-<<BP<A>>Cd-<<BP<A>>Cd-<<BP<A>>Cd-<<BP<A>>Cd-<<BP<A>>Cd-<<BP<A>>Cd-<<BP<A>>Cd-<<BP<A>>Cd-<<BP<A>>Cd-<<BP<A>>Cd-<<BP<A>>Cd-<<BP<A>>Cd-<<BP<A>>Cd-<<BP<A>>Cd-<<BP<A>>Cd-<<BP<A>>Cd-<<BP<A>>Cd-<<BP<A>>Cd-<<BP<A>>Cd-<<BP<A>>Cd-<<BP<A>>Cd-<<BP<A>>Cd-<<BP<A>>Cd-<<BP<A>>Cd-<<BP<A>>Cd-<<BP<A>>Cd-<<BP<A>>Cd-<<BP<A>>Cd-<<BP<A>>Cd-<<BP<A>>Cd-<<BP<A>>Cd-<<BP<A>>Cd-<<BP<A>>Cd-<<BP<A>>Cd-<<BP<A>>Cd-<<BP<A>>Cd-<<BP<A>>Cd-<<BP<A>>Cd-<<BP<A>>Cd-<<BP<A>>Cd-<<BP<A>>Cd-<<BP<A>>Cd-<<BP<A>>Cd-<<BP<A>>Cd-<<BP<A>>Cd-<<BP<A>>Cd-<<BP<A>>Cd-<<BP<A>>Cd-<<BP<A>>Cd-<<BP<A>>Cd-<<BP<A>>Cd-<<BP<A>>Cd-<<BP<A>>Cd-<<BP<A>>Cd-<<BP<A>>Cd-<<BP<A>>Cd-<<BP<A>>Cd-<<BP<A>>Cd-<<BP<A>>Cd-<<BP<A>>Cd-<<BP<A>>Cd-<<BP<A>>Cd-<<BP<A>>Cd-<<BP<A>>Cd-<<BP<A>>Cd-<<BP<A>>Cd-<<BP<A>>Cd-<<BP<A>>Cd-<<BP<A>>Cd-<<BP<A>>Cd-<<BP<A>>Cd-<<BP<A>>Cd-<<BP<A>>Cd-<<BP<A>>Cd-<<BP<A>>Cd-<<BP<A>>Cd-<<BP<A>>Cd-<<BP<A>>Cd-<<BP<A>>Cd-<<BP<A>>Cd-<<BP<A>>Cd-<<BP<A>>Cd-<<BP<A>>Cd-<<BP<A>>Cd-<<BP<A>>Cd-<<BP<A>>Cd-<<BP<A>>Cd-<<BP<A>>Cd-<<BP<A>>Cd-<<BP<A>>Cd-<<BP<A>>Cd-<<BP<A>>Cd-<<BP<A>>Cd-<<BP<A>>Cd-<<BP<A>>Cd-<<BP<A>>Cd-<<BP<A>>Cd-<<BP<A>>Cd-<<BP<A>>Cd-<<BP<A>>Cd-<<BP<A>>Cd-<<BP<A>>Cd-<<BP<A>>Cd-<<BP<A>>Cd-<<BP<A>>Cd-<<BP<A>>Cd-<<BP<A>>Cd-<<BP<A>>Cd-<<BP<A>>Cd-<<BP<A>>Cd-<<BP<A>>Cd-<<BP<A>>Cd-<<BP<A>>Cd-<<BP<A>>Cd-<<BP<A>>Cd-<<BP<A>>Cd-<<BP<A>>Cd-<<BP<A>>Cd-<<BP<A>>Cd-<<BP<A>>Cd-<<BP<A>>Cd-<<BP<A>>Cd-<<BP<A>>Cd-<<BP<A>>Cd-<<BP<A>>Cd-<<BP<A>>Cd-<<BP<A>>Cd-<<BP<A>>Cd-<<BP<A>>Cd-<<BP<A>>Cd-<<BP<A>>Cd-<<BP<A>>Cd-<<BP<A>>Cd-<<BP<A>>Cd-<<BP<A>>Cd-<<BP<A>>Cd-<<BP<A>>Cd-<<BP<A>>Cd-<<BP<A>>Cd-<<BP<A>>Cd-<<BP<A>>Cd-<<BP<A>>Cd-<<BP<A>>Cd-<<BP<A>>Cd-<<BP<A>>Cd-<<BP<A>>Cd-<<BP<A>>Cd-<<BP<A>>Cd-<<BP<A>>Cd-<<BP<A>>Cd-<<BP<A>>Cd-<<BP<A>>Cd-<<BP<A>>Cd-<<BP<A>>Cd-<<BP<A>>Cd-<<BP<A>>Cd-<<BP<A>>Cd-<<BP<A>>Cd-<<BP<A>>Cd-<<BP<A>>Cd-<<BP<A>>Cd-<<BP<A>>Cd-<<BP<A>>Cd-<<BP<A>>Cd-<<BP<A>>Cd-<<BP<A>>Cd-<<BP<A>>Cd-<<BP<A>>Cd-<<BP<A>>Cd-<<BP<A>>Cd-<<BP<A>>Cd-<<BP<A>>Cd-<<BP<A>>Cd-<<BP<A>>Cd-<<BP<A>>Cd-<<BP<A>>Cd-<<BP<A>>Cd-<<BP<A>>Cd-<<BP<A>>Cd-<<BP<A>>Cd-<<BP<A>>Cd-<<BP<A>>Cd-<<BP<A>>Cd-<<BP<A>>Cd-<<BP<A>>Cd-<<BP<A>>Cd-<<BP<A>>Cd-<<BP<A>>Cd-<<BP<A>>Cd-<<BP<A>>Cd-<<BP<A>>Cd-<<BP<A>>Cd-<<BP<A>>Cd-<<BP<A>>Cd-<<BP<A>>Cd-<<BP<A>>Cd-<<BP<A>>Cd-<<BP<A>>Cd-<<BP<A>>Cd-<<BP<A>>Cd-<<BP<A>>Cd-<<BP<A>>Cd-<<BP<A>>Cd-<<BP<A>>Cd-<<BP<A>>Cd-<<BP<A>>Cd-<<BP<A>>Cd-<<BP<A>>Cd-<<BP<A>>Cd-<<BP<A>>Cd-<<BP<A>>Cd-<<BP<A>>Cd-<<BP<A>>Cd-<<BP<A>>Cd-<<BP<A>>Cd-<<BP<A>>Cd-<<BP<A>>Cd-<<BP<A>>Cd-<<BP<A>>Cd-<<BP<A>>Cd-<<BP<A>>Cd-<<BP<A>>Cd-<<BP<A>>Cd-<<BP<A>>Cd-<<BP<A>>Cd-<<BP<A>>Cd-<<BP<A>>Cd-<<BP<A>>Cd-<<BP<A>>Cd-<<BP<A>>Cd-<<BP<A>>Cd-<<BP<A>>Cd-<<BP<A>>Cd-<<BP<A>>Cd-<<BP<A>>Cd-<<BP<A>>Cd-<<BP<A>>Cd-<<BP<A>>Cd-<<BP<A>>Cd-<<BP<A>>Cd-<<BP<A>>Cd-<<BP<A>>Cd-<<BP<A>>Cd-<<BP<A>>Cd-<<BP<A>>Cd-<<BP<A>>Cd-<<BP<A>>Cd-<<BP<A>>Cd-<<BP<A>>Cd-<<BP<A>>Cd-<<BP<A>>Cd-<<BP<A>>Cd-<<BP<A>>Cd-<<BP<A>>Cd-<<BP<A>>Cd-<<BP<A>>Cd-<<BP<A>>Cd-<<BP<A>>Cd-<<BP<A>>Cd-<<BP<A>>Cd-<<BP<A>>Cd-<<BP<A>>Cd-<<BP<A>>Cd-<<BP<A>>Cd-<<BP<A>>Cd-<<BP<A>>Cd-<<BP<A>>Cd-<<BP<A>>Cd-<<BP<A>>Cd-<<BP<A>>Cd-<<BP<A>>Cd-<<BP<A>>Cd-<<BP<A>>Cd-<<BP<A>>Cd-<<BP<A>>Cd-<<BP<A>>Cd-<<BP<A>>Cd-<<BP<A>>Cd-<<BP<A>>Cd-<<BP<A>>Cd-<<BP<A>>Cd-<<BP<A>>Cd-<<BP<A>>Cd-<<BP<A>>Cd-<<BP<A>>Cd-<<BP<A>>Cd-<<BP<A>>Cd-<<BP<A>>Cd-<<BP<A>>Cd-<<BP<A>>Cd-<<BP<A>>Cd-<<BP<A>>Cd-<<BP<A>>Cd-<<BP<A>>Cd-<<BP<A>>Cd-<<BP<A>>Cd-<<BP<A>>Cd-<<BP<A>>Cd-<<BP<A>>Cd-<<BP<A>>Cd-<<BP<A>>Cd-<<BP<A>>Cd-<<BP<A>>Cd-<<BP<A>>Cd-<<BP<A>>Cd-<<BP<A>>Cd-<<BP<A>>Cd-<<BP<A>>Cd-<<BP<A>>Cd-<<BP<A>>Cd-<<BP<A>>Cd-<<BP<A>>Cd-<<BP<A>>Cd-<<BP<A>>Cd-<<BP<A>>Cd-<<BP<A>>Cd-<<BP<A>>Cd-<<BP<A>>Cd-<<BP<A>>Cd-<<BP<A>>Cd-<<BP<A>>Cd-<<BP<A>>Cd-<<BP<A>>Cd-<<BP<A>>Cd-<<BP<A>>Cd-<<BP<A>>Cd-<<BP<A>>Cd-<<BP<A>>Cd-<<BP<A>>Cd-<<BP<A>>Cd-<<BP<A>>Cd-<<BP<A>>Cd-<<BP<A>>Cd-<<BP<A>>Cd-<<BP<A>>Cd-<<BP<A>>Cd-<<BP<A>>Cd-<<BP<A>>Cd-<<BP<A>>Cd-<<BP<A>>Cd-<<BP<A>>Cd-<<BP<A>>Cd-<<BP<A>>Cd-<<BP<A>>Cd-<<BP<A>>Cd-<<BP<A>>Cd-<<BP<A>>Cd-<<BP<A>>Cd-<<BP<A>>Cd-<<BP<A>>Cd-<<BP<A>>Cd-<<BP<A>>Cd-<<BP<A>>Cd-<<BP<A>>Cd-<<BP<A>>Cd-<<BP<A>>Cd-<<BP<A>>Cd-<<BP<A>>Cd-<<BP<A>>Cd-<<BP<A>>Cd-<<BP<A>>Cd-<<BP<A>>Cd-<<BP<A>>Cd-<<BP<A>>Cd-<<BP<A>>Cd-<<BP<A>>Cd-<<BP<A>>Cd-<<BP<A>>Cd-<<BP<A>>Cd-<<BP<A>>Cd-<<BP<A>>Cd-<<BP<A>>Cd-<<BP<A>>Cd-<<BP<A>>Cd-<<BP<A>>Cd-<<BP<A>>Cd-<<BP<A>>Cd-<<BP<A>>Cd-<<BP<A>>Cd-<<BP<A>>Cd-<<BP<A>>Cd-<<BP<A>>Cd-<<BP<A>>Cd-<<BP<A>>Cd-<<BP<A>>Cd-<<BP<A>>Cd-<<BP<A>>Cd-<<BP<A>>Cd-<<BP<A>>Cd-<<BP<A>>Cd-<<BP<A>>Cd-<<BP<A>>Cd-<<BP<A>>Cd-<<BP<A>>Cd-<<BP<A>>Cd-<<BP<A>>Cd-<<BP<A>>Cd-<<BP<A>>Cd-<<BP<A>>Cd-<<BP<A>>Cd-<<BP<A>>Cd-<<BP<A>>Cd-<<BP<A>>Cd-<<BP<A>>Cd-<<BP<A>>Cd-<<BP<A>>Cd-<<BP<A>>Cd-<<BP<A>>Cd-<<BP<A>>Cd-<<BP<A>>Cd-<<BP<A>>Cd-<<BP<A>>Cd-<<BP<A>>Cd-<<BP<A>>Cd-<<BP<A>>Cd-<<BP<A>>Cd-<<BP<A>>Cd-<<BP<A>>Cd-<<BP<A>>Cd-<<BP<A>>Cd-<<BP<A>>Cd-<<BP<A>>Cd-<<BP<A>>Cd-<<BP<A>>Cd-<<BP<A>>Cd-<<BP<A>>Cd-<<BP<A>>Cd-<<BP<A>>Cd-<<BP<A>>Cd-<<BP<A>>Cd-<<BP<A>>Cd-<<BP<A>>Cd-<<BP<A>>Cd-<<BP<A>>Cd-<<BP<A>>Cd-<<BP<A>>Cd-<<BP<A>>Cd-<<BP<A>>Cd-<<BP<A>>Cd-<<BP<A>>Cd-<<BP<A>>Cd-<<BP<A>>Cd-<<BP<A>>Cd-<<BP<A>>Cd-<<BP<A>>Cd-<<BP<A>>Cd-<<BP<A>>Cd-<<BP<A>>Cd-<<BP<A>>Cd-<<BP<A>>Cd-<<BP<A>>Cd-<<BP<A>>Cd-<<BP<A>>Cd-<<BP<A>>Cd-<<BP<A>>Cd-<<BP<A>>Cd-<<BP<A>>Cd-<<BP<A>>Cd-<<BP<A>>Cd-<<BP<A>>Cd-<<BP<A>>Cd-<<BP<A>>Cd-<<BP<A>>Cd-<<BP<A>>Cd-<<BP<A>>Cd-<<BP<A>>Cd-<<BP<A>>Cd-<<BP<A>>Cd-<<BP<A>>Cd-<<BP<A>>Cd-<<BP<A>>Cd-<<BP<A>>Cd-<<BP<A>>Cd-<<BP<A>>Cd-<<BP<A>>Cd-<<BP<A>>Cd-<<BP<A>>Cd-<<BP<A>>Cd-<<BP<A>>Cd-<<BP<A>>Cd-<<BP<A>>Cd-<<BP<A>>Cd-<<BP<A>>Cd-<<BP<A>>Cd-<<BP<A>>Cd-<<BP<A>>Cd-<<BP<A>>Cd-<<BP<A>>Cd-<<BP<A>>Cd-<<BP<A>>Cd-<<BP<A>>Cd-<<BP<A>>Cd-<<BP<A>>Cd-<<BP<A>>Cd-<<BP<A>>Cd-<<BP<A>>Cd-<<BP<A>>Cd-<<BP<A>>Cd-<<BP<A>>Cd-<<BP<A>>Cd-<<BP<A>>Cd-<<BP<A>>Cd-<<BP<A>>Cd-<<BP<A>>Cd-<<BP<A>>Cd-<<BP<A>>Cd-<<BP<A>>Cd-<<BP<A>>Cd-<<BP<A>>Cd-<<BP<A>>Cd-<<BP<A>>Cd-<<BP<A>>Cd-<<BP<A>>Cd-<<BP<A>>Cd-<<BP<A>>Cd-<<BP<A>>Cd-<<BP<A>>Cd-<<BP<A>>Cd-<<BP<A>>Cd-<<BP<A>>Cd-<<BP<A>>Cd-<<BP<A>>Cd-<<BP<A>>Cd-<<BP<A>>Cd-<<BP<A>>Cd-<<BP<A>>Cd-<<BP<A>>Cd-<<BP<A>>Cd-<<BP<A>>Cd-<<BP<A>>Cd-<<BP<A>>Cd-<<BP<A>>Cd-<<BP<A>>Cd-<<BP<A>>Cd-<<BP<A>>Cd-<<BP<A>>Cd-<<BP<A>>Cd-<<BP<A>>Cd-<<BP<A>>Cd-<<BP<A>>Cd-<<BP<A>>Cd-<<BP<A>>Cd-<<BP<A>>Cd-<<BP<A>>Cd-<<BP<A>>Cd-<<BP<A>>Cd-<<BP<A>>Cd-<<BP<A>>Cd-<<BP<A>>Cd-<<BP<A>>Cd-<<BP<A>>Cd-<<BP<A>>Cd-<<BP<A>>Cd-<<BP<A>>Cd-<<BP<A>>Cd-<<BP<A>>Cd-<<BP<A>>Cd-<<BP<A>>Cd-<<BP<A>>Cd-<<BP<A>>Cd-<<BP<A>>Cd-<<BP<A>>Cd-<<BP<A>>Cd-<<BP<A>>Cd-<<BP<A>>Cd-<<BP<A>>Cd-<<BP<A>>Cd-<<BP<A>>Cd-<<BP<A>>Cd-<<BP<A>>Cd-<<BP<A>>Cd-<<BP<A>>Cd-<<BP<A>>Cd-<<BP<A>>Cd-<<BP<A>>Cd-<<BP<A>>Cd-<<BP<A>>Cd-<<BP<A>>Cd-<<BP<A>>Cd-<<BP<A>>Cd-<<BP<A>>Cd-<<BP<A>>Cd-<<BP<A>>Cd-<<BP<A>>Cd-<<BP<A>>Cd-<<BP<A>>Cd-<<BP<A>>Cd-<<BP<A>>Cd-<<BP<A>>Cd-<<BP<A>>Cd-<<BP<A>>Cd-<<BP<A>>Cd-<<BP<A>>Cd-<<BP<A>>Cd-<<BP<A>>Cd-<<BP<A>>Cd-<<BP<A>>Cd-<<BP<A>>Cd-<<BP<A>>Cd-<<BP<A>>Cd-<<BP<A>>Cd-<<BP<A>>Cd-<<BP<A>>Cd-<<BP<A>>Cd-<<BP<A>>Cd-<<BP<A>>Cd-<<BP<A>>Cd-<<BP<A>>Cd-<<BP<A>>Cd-<<BP<A>>Cd-<<BP<A>>Cd-<<BP<A>>Cd-<<BP<A>>Cd-<<BP<A>>Cd-<<BP<A>>Cd-<<BP<A>>Cd-<<BP<A>>Cd-<<BP<A>>Cd-<<BP<A>>Cd-<<BP<A>>Cd-<<BP<A>>Cd-<<BP<A>>Cd-<<BP<A>>Cd-<<BP<A>>Cd-<<BP<A>>Cd-<<BP<A>>Cd-<<BP<A>>Cd-<<BP<A>>Cd-<<BP<A>>Cd-<<BP<A>>Cd-<<BP<A>>Cd-<<BP<A>>Cd-<<BP<A>>Cd-<<BP<A>>Cd-<<BP<A>>Cd-<<BP<A>>Cd-<<BP<A>>Cd-<<BP<A>>Cd-<<BP<A>>Cd-<<BP<A>>Cd-<<BP<A>>Cd-<<BP<A>>Cd-<<BP<A>>Cd-<<BP<A>>Cd-<<BP<A>>Cd-<<BP<A>>Cd-<<BP<A>>Cd-<<BP<A>>Cd-<<BP<A>>Cd-<<BP<A>>Cd-<<BP<A>>Cd-<<BP<A>>Cd-<<BP<A>>Cd-<<BP<A>>Cd-<<BP<A>>Cd-<<BP<A>>Cd-<<BP<A>>Cd-<<BP<A>>Cd-<<BP<A>>Cd-<<BP<A>>Cd-<<BP<A>>Cd-<<BP<A>>Cd-<<BP<A>>Cd-<<BP<A>>Cd-<<BP<A>>Cd-<<BP<A>>Cd-<<BP<A>>Cd-<<BP<A>>Cd-<<BP<A>>Cd-<<BP<A>>Cd-<<BP<A>>Cd-<<BP<A>>Cd-<<BP<A>>Cd-<<BP<A>>Cd-<<BP<A>>Cd-<<BP<A>>Cd-<<BP<A>>Cd-<<BP<A>>Cd-<<BP<A>>Cd-<<BP<A>>Cd-<<BP<A>>Cd-<<BP<A>>Cd-<<BP<A>>Cd-<<BP<A>>Cd-<<BP<A>>Cd-<<BP<A>>Cd-<<BP<A>>Cd-<<BP<A>>Cd-<<BP<A>>Cd-<<BP<A>>Cd-<<BP<A>>Cd-<<BP<A>>Cd-<<BP<A>>Cd-<<BP<A>>Cd-<<BP<A>>Cd-<<BP<A>>Cd-<<BP<A>>Cd-<<BP<A>>Cd-<<BP<A>>Cd-<<BP<A>>Cd-<<BP<A>>Cd-<<BP<A>>Cd-<<BP<A>>Cd-<<BP<A>>Cd-<<BP<A>>Cd-<<BP<A>>Cd-<<BP<A>>Cd-<<BP<A>>Cd-<<BP<A>>Cd-<<BP<A>>Cd-<<BP<A>>Cd-<<BP<A>>Cd-<<BP<A>>Cd-<<BP<A>>Cd-<<BP<A>>Cd-<<BP<A>>Cd-<<BP<A>>Cd-<<BP<A>>Cd-<<BP<A>>Cd-<<BP<A>>Cd-<<BP<A>>Cd-<<BP<A>>Cd-<<BP<A>>Cd-<<BP<A>>Cd-<<BP<A>>Cd-<<BP<A>>Cd-<<BP<A>>Cd-<<BP<A>>Cd-<<BP<A>>Cd-<<BP<A>>Cd-<<BP<A>>Cd-<<BP<A>>Cd-<<BP<A>>Cd-<<BP<A>>Cd-<<BP<A>>Cd-<<BP<A>>Cd-<<BP<A>>Cd-<<BP<A>>Cd-<<BP<A>>Cd-<<BP<A>>Cd-<<BP<A>>Cd-<<BP<A>>Cd-<<BP<A>>Cd-<<BP<A>>Cd-<<BP<A>>Cd-<<BP<A>>Cd-<<BP<A>>Cd-<<BP<A>>Cd-<<BP<A>>Cd-<<BP<A>>Cd-<<BP<A>>Cd-<<BP<A>>Cd-<<BP<A>>Cd-<<BP<A>>Cd-<<BP<A>>Cd-<<BP<A>>Cd-<<BP<A>>Cd-<<BP<A>>Cd-<<BP<A>>Cd-<<BP<A>>Cd-<<BP<A>>Cd-<<BP<A>>Cd-<<BP<A>>Cd-<<BP<A>>Cd-<<BP<A>>Cd-<<BP<A>>Cd-<<BP<A>>Cd-<<BP<A>>Cd-<<BP<A>>Cd-<<BP<A>>Cd-<<BP<A>>Cd-<<BP<A>>Cd-<<BP<A>>Cd-<<BP<A>>Cd-<<BP<A>>Cd-<<BP<A>>Cd-<<BP<A>>Cd-<<BP<A>>Cd-<<BP<A>>Cd-<<BP<A>>Cd-<<BP<A>>Cd-<<BP<A>>Cd-<<BP<A>>Cd-<<BP<A>>Cd-<<BP<A>>Cd-<<BP<A>>Cd-<<BP<A>>Cd-<<BP<A>>Cd-<<BP<A>>Cd-<<BP<A>>Cd-<<BP<A>>Cd-<<BP<A>>Cd-<<BP<A>>Cd-<<BP<A>>Cd-<<BP<A>>Cd-<<BP<A>>Cd-<<BP<A>>Cd-<<BP<A>>Cd-<<BP<A>>Cd-<<BP<A>>Cd-<<BP<A>>Cd-<<BP<A>>Cd-<<BP<A>>Cd-<<BP<A>>Cd-<<BP<A>>Cd-<<BP<A>>Cd-<<BP<A>>Cd-<<BP<A>>Cd-<<BP<A>>Cd-<<BP<A>>Cd-<<BP<A>>Cd-<<BP<A>>Cd-<<BP<A>>Cd-<<BP<A>>Cd-<<BP<A>>Cd-<<BP<A>>Cd-<<BP<A>>Cd-<<BP<A>>Cd-<<BP<A>>Cd-<<BP<A>>Cd-<<BP<A>>Cd-<<BP<A>>Cd-<<BP<A>>Cd-<<BP<A>>Cd-<<BP<A>>Cd-<<BP<A>>Cd-<<BP<A>>Cd-<<BP<A>>Cd-<<BP<A>>Cd-<<BP<A>>Cd-<<BP<A>>Cd-<<BP<A>>Cd-<<BP<A>>Cd-<<BP<A>>Cd-<<BP<A>>Cd-<<BP<A>>Cd-<<BP<A>>Cd-<<BP<A>>Cd-<<BP<A>>Cd-<<BP<A>>Cd-<<BP<A>>Cd-<<BP<A>>Cd-<<BP<A>>Cd-<<BP<A>>Cd-<<BP<A>>Cd-<<BP<A>>Cd-<<BP<A>>Cd-<<BP<A>>Cd-<<BP<A>>Cd-<<BP<A>>Cd-<<BP<A>>Cd-<<BP<A>>Cd-<<BP<A>>Cd-<<BP<A>>Cd-<<BP<A>>Cd-<<BP<A>>Cd-<<BP<A>>Cd-<<BP<A>>Cd-<<BP<A>>Cd-<<BP<A>>Cd-<<BP<A>>Cd-<<BP<A>>Cd-<<BP<A>>Cd-<<BP<A>>Cd-<<BP<A>>Cd-<<BP<A>>Cd-<<BP<A>>Cd-<<BP<A>>Cd-<<BP<A>>Cd-<<BP<A>>Cd-<<BP<A>>Cd-<<BP<A>>Cd-<<BP<A>>Cd-<<BP<A>>Cd-<<BP<A>>Cd-<<BP<A>>Cd-<<BP<A>>Cd-<<BP<A>>Cd-<<BP<A>>Cd-<<BP<A>>Cd-<<BP<A>>Cd-<<BP<A>>Cd-<<BP<A>>Cd-<<BP<A>>Cd-<<BP<A>>Cd-<<BP<A>>Cd-<<BP<A>>Cd-<<BP<A>>Cd-<<BP<A>>Cd-<<BP<A>>Cd-<<BP<A>>Cd-<<BP<A>>Cd-<<BP<A>>Cd-<<BP<A>>Cd-<<BP<A>>Cd-<<BP<A>>Cd-<<BP<A>>Cd-<<BP<A>>Cd-<<BP<A>>Cd-<<BP<A>>Cd-<<BP<A>>Cd-<<BP<A>>Cd-<<BP<A>>Cd-<<BP<A>>Cd-<<BP<A>>Cd-<<BP<A>>Cd-<<BP<A>>Cd-<<BP<A>>Cd-<<BP<A>>Cd-<<BP<A>>Cd-<<BP<A>>Cd-<<BP<A>>Cd-<<BP<A>>Cd-<<BP<A>>Cd-<<BP<A>>Cd-<<BP<A>>Cd-<<BP<A>>Cd-<<BP<A>>Cd-<<BP<A>>Cd-<<BP<A>>Cd-<<BP<A>>Cd-<<BP<A>>Cd-<<BP<A>>Cd-<<BP<A>>Cd-<<BP<A>>Cd-<<BP<A>>Cd-<<BP<A>>Cd-<<BP<A>>Cd-<<BP<A>>Cd-<<BP<A>>Cd-<<BP<A>>Cd-<<BP<A>>Cd-<<BP<A>>Cd-<<BP<A>>Cd-<<BP<A>>Cd-<<BP<A>>Cd-<<BP<A>>Cd-<<BP<A>>Cd-<<BP<A>>Cd-<<BP<A>>Cd-<<BP<A>>Cd-<<BP<A>>Cd-<<BP<A>>Cd-<<BP<A>>Cd-<<BP<A>>Cd-<<BP<A>>Cd-<<BP<A>>Cd-<<BP<A>>Cd-<<BP<A>>Cd-<<BP<A>>Cd-<<BP<A>>Cd-<<BP<A>>Cd-<<BP<A>>Cd-<<BP<A>>Cd-<<BP<A>>Cd-<<BP<A>>Cd-<<BP<A>>Cd-<<BP<A>>Cd-<<BP<A>>Cd-<<BP<A>>Cd-<<BP<A>>Cd-<<BP<A>>Cd-<<BP<A>>Cd-<<BP<A>>Cd-<<BP<A>>Cd-<<BP<A>>Cd-<<BP<A>>Cd-<<BP<A>>Cd-<<BP<A>>Cd-<<BP<A>>Cd-<<BP<A>>Cd-<<BP<A>>Cd-<<BP<A>>Cd-<<BP<A>>Cd-<<BP<A>>Cd-<<BP<A>>Cd-<<BP<A>>Cd-<<BP<A>>Cd-<<BP<A>>Cd-<<BP<A>>Cd-<<BP<A>>Cd-<<BP<A>>Cd-<<BP<A>>Cd-<<BP<A>>Cd-<<BP<A>>Cd-<<BP<A>>Cd-<<BP<A>>Cd-<<BP<A>>Cd-<<BP<A>>Cd-<<BP<A>>Cd-<<BP<A>>Cd-<<BP<A>>Cd-<<BP<A>>Cd-<<BP<A>>Cd-<<BP<A>>Cd-<<BP<A>>Cd-<<BP<A>>Cd-<<BP<A>>Cd-<<BP<A>>Cd-<<BP<A>>Cd-<<BP<A>>Cd-<<BP<A>>Cd-<<BP<A>>Cd-<<BP<A>>Cd-<<BP<A>>Cd-<<BP<A>>Cd-<<BP<A>>Cd-<<BP<A>>Cd-<<BP<A>>Cd-<<BP<A>>Cd-<<BP<A>>Cd-<<BP<A>>Cd-<<BP<A>>Cd-<<BP<A>>Cd-<<BP<A>>Cd-<<BP<A>>Cd-<<BP<A>>Cd-<<BP<A>>Cd-<<BP<A>>Cd-<<BP<A>>Cd-<<BP<A>>Cd-<<BP<A>>Cd-<<BP<A>>Cd-<<BP<A>>Cd-<<BP<A>>Cd-<<BP<A>>Cd-<<BP<A>>Cd-<<BP<A>>Cd-<<BP<A>>Cd-<<BP<A>>Cd-<<BP<A>>Cd-<<BP<A>>Cd-<<BP<A>>Cd-<<BP<A>>Cd-<<BP<A>>Cd-<<BP<A>>Cd-<<BP<A>>Cd-<<BP<A>>Cd-<<BP<A>>Cd-<<BP<A>>Cd-<<BP<A>>Cd-<<BP<A>>Cd-<<BP<A>>Cd-<<BP<A>>Cd-<<BP<A>>Cd-<<BP<A>>Cd-<<BP<A>>Cd-<<BP<A>>Cd-<<BP<A>>Cd-<<BP<A>>Cd-<<BP<A>>Cd-<<BP<A>>Cd-<<BP<A>>Cd-<<BP<A>>Cd-<<BP<A>>Cd-<<BP<A>>Cd-<<BP<A>>Cd-<<BP<A>>Cd-<<BP<A>>Cd-<<BP<A>>Cd-<<BP<A>>Cd-<<BP<A>>Cd-<<BP<A>>Cd-<<BP<A>>Cd-<<BP<A>>Cd-<<BP<A>>Cd-<<BP<A>>Cd-<<BP<A>>Cd-<<BP<A>>Cd-<<BP<A>>Cd-<<BP<A>>Cd-<<BP<A>>Cd-<<BP<A>>Cd-<<BP<A>>Cd-<<BP<A>>Cd-<<BP<A>>Cd-<<BP<A>>Cd-<<BP<A>>Cd-<<BP<A>>Cd-<<BP<A>>Cd-<<BP<A>>Cd-<<BP<A>>Cd-<<BP<A>>Cd-<<BP<A>>Cd-<<BP<A>>Cd-<<BP<A>>Cd-<<BP<A>>Cd-<<BP<A>>Cd-<<BP<A>>Cd-<<BP<A>>Cd-<<BP<A>>Cd-<<BP<A>>Cd-<<BP<A>>Cd-<<BP<A>>Cd-<<BP<A>>Cd-<<BP<A>>Cd-<<BP<A>>Cd-<<BP<A>>Cd-<<BP<A>>Cd-<<BP<A>>Cd-<<BP<A>>Cd-<<BP<A>>Cd-<<BP<A>>Cd-<<BP<A>>Cd-<<BP<A>>Cd-<<BP<A>>Cd-<<BP<A>>Cd-<<BP<A>>Cd-<<BP<A>>Cd-<<BP<A>>Cd-<<BP<A>>Cd-<<BP<A>>Cd-<<BP<A>>Cd-<<BP<A>>Cd-<<BP<A>>Cd-<<BP<A>>Cd-<<BP<A>>Cd-<<BP<A>>Cd-<<BP<A>>Cd-<<BP<A>>Cd-<<BP<A>>Cd-<<BP<A>>Cd-<<BP<A>>Cd-<<BP<A>>Cd-<<BP<A>>Cd-<<BP<A>>Cd-<<BP<A>>Cd-<<BP<A>>Cd-<<BP<A>>Cd-<<BP<A>>Cd-<<BP<A>>Cd-<<BP<A>>Cd-<<BP<A>>Cd-<<BP<A>>Cd-<<BP<A>>Cd-<<BP<A>>Cd-<<BP<A>>Cd-<<BP<A>>Cd-<<BP<A>>Cd-<<BP<A>>Cd-<<BP<A>>Cd-<<BP<A>>Cd-<<BP<A>>Cd-<<BP<A>>Cd-<<BP<A>>Cd-<<BP<A>>Cd-<<BP<A>>Cd-<<BP<A>>Cd-<<BP<A>>Cd-<<BP<A>>Cd-<<BP<A>>Cd-<<BP<A>>Cd-<<BP<A>>Cd-<<BP<A>>Cd-<<BP<A>>Cd-<<BP<A>>Cd-<<BP<A>>Cd-<<BP<A>>Cd-<<BP<A>>Cd-<<BP<A>>Cd-<<BP<A>>Cd-<<BP<A>>Cd-<<BP<A>>Cd-<<BP<A>>Cd-<<BP<A>>Cd-<<BP<A>>Cd-<<BP<A>>Cd-<<BP<A>>Cd-<<BP<A>>Cd-<<BP<A>>Cd-<<BP<A>>Cd-<<BP<A>>Cd-<<BP<A>>Cd-<<BP<A>>Cd-<<BP<A>>Cd-<<BP<A>>Cd-<<BP<A>>Cd-<<BP<A>>Cd-<<BP<A>>Cd-<<BP<A>>Cd-<<BP<A>>Cd-<<BP<A>>Cd-<<BP<A>>Cd-<<BP<A>>Cd-<<BP<A>>Cd-<<BP<A>>Cd-<<BP<A>>Cd-<<BP<A>>Cd-<<BP<A>>Cd-<<BP<A>>Cd-<<BP<A>>Cd-<<BP<A>>Cd-<<BP<A>>Cd-<<BP<A>>Cd-<<BP<A>>Cd-<<BP<A>>Cd-<<BP<A>>Cd-<<BP<A>>Cd-<<BP<A>>Cd-<<BP<A>>Cd-<<BP<A>>Cd-<<BP<A>>Cd-<<BP<A>>Cd-<<BP<A>>Cd-<<BP<A>>Cd-<<BP<A>>Cd-<<BP<A>>Cd-<<BP<A>>Cd-<<BP<A>>Cd-<<BP<A>>Cd-<<BP<A>>Cd-<<BP<A>>Cd-<<BP<A>>Cd-<<BP<A>>Cd-<<BP<A>>Cd-<<BP<A>>Cd-<<BP<A>>Cd-<<BP<A>>Cd-<<BP<A>>Cd-<<BP<A>>Cd-<<BP<A>>Cd-<<BP<A>>Cd-<<BP<A>>Cd-<<BP<A>>Cd-<<BP<A>>Cd-<<BP<A>>Cd-<<BP<A>>Cd-<<BP<A>>Cd-<<BP<A>>Cd-<<BP<A>>Cd-<<BP<A>>Cd-<<BP<A>>Cd-<<BP<A>>Cd-<<BP<A>>Cd-<<BP<A>>Cd-<<BP<A>>Cd-<<BP<A>>Cd-<<BP<A>>Cd-<<BP<A>>Cd-<<BP<A>>Cd-<<BP<A>>Cd-<<BP<A>>Cd-<<BP<A>>Cd-<<BP<A>>Cd-<<BP<A>>Cd-<<BP<A>>Cd-<<BP<A>>Cd-<<BP<A>>Cd-<<BP<A>>Cd-<<BP<A>>Cd-<<BP<A>>Cd-<<BP<A>>Cd-<<BP<A>>Cd-<<BP<A>>Cd-<<BP<A>>Cd-<<BP<A>>Cd-<<BP<A>>Cd-<<BP<A>>Cd-<<BP<A>>Cd-<<BP<A>>Cd-<<BP<A>>Cd-<<BP<A>>Cd-<<BP<A>>Cd-<<BP<A>>Cd-<<BP<A>>Cd-<<BP<A>>Cd-<<BP<A>>Cd-<<BP<A>>Cd-<<BP<A>>Cd-<<BP<A>>Cd-<<BP<A>>Cd-<<BP<A>>Cd-<<BP<A>>Cd-<<BP<A>>Cd-<<BP<A>>Cd-<<BP<A>>Cd-<<BP<A>>Cd-<<BP<A>>Cd-<<BP<A>>Cd-<<BP<A>>Cd-<<BP<A>>Cd-<<BP<A>>Cd-<<BP<A>>Cd-<<BP<A>>Cd-<<BP<A>>Cd-<<BP<A>>Cd-<<BP<A>>Cd-<<BP<A>>Cd-<<BP<A>>Cd-<<BP<A>>Cd-<<BP<A>>Cd-<<BP<A>>Cd-<<BP<A>>Cd-<<BP<A>>Cd-<<BP<A>>Cd-<<BP<A>>Cd-<<BP<A>>Cd-<<BP<A>>Cd-<<BP<A>>Cd-<<BP<A>>Cd-<<BP<A>>Cd-<<BP<A>>Cd-<<BP<A>>Cd-<<BP<A>>Cd-<<BP<A>>Cd-<<BP<A>>Cd-<<BP<A>>Cd-<<BP<A>>Cd-<<BP<A>>Cd-<<BP<A>>Cd-<<BP<A>>Cd-<<BP<A>>Cd-<<BP<A>>Cd-<<BP<A>>Cd-<<BP<A>>Cd-<<BP<A>>Cd-<<BP<A>>Cd-<<BP<A>>Cd-<<BP<A>>Cd-<<BP<A>>Cd-<<BP<A>>Cd-<<BP<A>>Cd-<<BP<A>>Cd-<<BP<A>>Cd-<<BP<A>>Cd-<<BP<A>>Cd-<<BP<A>>Cd-<<BP<A>>Cd-<<BP<A>>Cd-<<BP<A>>Cd-<<BP<A>>Cd-<<BP<A>>Cd-<<BP<A>>Cd-<<BP<A>>Cd-<<BP<A>>Cd-<<BP<A>>Cd-<<BP<A>>Cd-<<BP<A>>Cd-<<BP<A>>Cd-<<BP<A>>Cd-<<BP<A>>Cd-<<BP<A>>Cd-<<BP<A>>Cd-<<BP<A>>Cd-<<BP<A>>Cd-<<BP<A>>Cd-<<BP<A>>Cd-<<BP<A>>Cd-<<BP<A>>Cd-<<BP<A>>Cd-<<BP<A>>Cd-<<BP<A>>Cd-<<BP<A>>Cd-<<BP<A>>Cd-<<BP<A>>Cd-<<BP<A>>Cd-<<BP<A>>Cd-<<BP<A>>Cd-<<BP<A>>Cd-<<BP<A>>Cd-<<BP<A>>Cd-<<BP<A>>Cd-<<BP<A>>Cd-<<BP<A>>Cd-<<BP<A>>Cd-<<BP<A>>Cd-<<BP<A>>Cd-<<BP<A>>Cd-<<BP<A>>Cd-<<BP<A>>Cd-<<BP<A>>Cd-<<BP<A>>Cd-<<BP<A>>Cd-<<BP<A>>Cd-<<BP<A>>Cd-<<BP<A>>Cd-<<BP<A>>Cd-<<BP<A>>Cd-<<BP<A>>Cd-<<BP<A>>Cd-<<BP<A>>Cd-<<BP<A>>Cd-<<BP<A>>Cd-<<BP<A>>Cd-<<BP<A>>Cd-<<BP<A>>Cd-<<BP<A>>Cd-<<BP<A>>Cd-<<BP<A>>Cd-<<BP<A>>Cd-<<BP<A>>Cd-<<BP<A>>Cd-<<BP<A>>Cd-<<BP<A>>Cd-<<BP<A>>Cd-<<BP<A>>Cd-<<BP<A>>Cd-<<BP<A>>Cd-<<BP<A>>Cd-<<BP<A>>Cd-<<BP<A>>Cd-<<BP<A>>Cd-<<BP<A>>Cd-<<BP<A>>Cd-<<BP<A>>Cd-<<BP<A>>Cd-<<BP<A>>Cd-<<BP<A>>Cd-<<BP<A>>Cd-<<BP<A>>Cd-<<BP<A>>Cd-<<BP<A>>Cd-<<BP<A>>Cd-<<BP<A>>Cd-<<BP<A>>Cd-<<BP<A>>Cd-<<BP<A>>Cd-<<BP<A>>Cd-<<BP<A>>Cd-<<BP<A>>Cd-<<BP<A>>Cd-<<BP<A>>Cd-<<BP<A>>Cd-<<BP<A>>Cd-<<BP<A>>Cd-<<BP<A>>Cd-<<BP<A>>Cd-<<BP<A>>Cd-<<BP<A>>Cd-<<BP<A>>Cd-<<BP<A>>Cd-<<BP<A>>Cd-<<BP<A>>Cd-<<BP<A>>Cd-<<BP<A>>Cd-<<BP<A>>Cd-<<BP<A>>Cd-<<BP<A>>Cd-<<BP<A>>Cd-<<BP<A>>Cd-<<BP<A>>Cd-<<BP<A>>Cd-<<BP<A>>Cd-<<BP<A>>Cd-<<BP<A>>Cd-<<BP<A>>Cd-<<BP<A>>Cd-<<BP<A>>Cd-<<BP<A>>Cd-<<BP<A>>Cd-<<BP<A>>Cd-<<BP<A>>Cd-<<BP<A>>Cd-<<BP<A>>Cd-<<BP<A>>Cd-<<BP<A>>Cd-<<BP<A>>Cd-<<BP<A>>Cd-<<BP<A>>Cd-<<BP<A>>Cd-<<BP<A>>Cd-<<BP<A>>Cd-<<BP<A>>Cd-<<BP<A>>Cd-<<BP<A>>Cd-<<BP<A>>Cd-<<BP<A>>Cd-<<BP<A>>Cd-<<BP<A>>Cd-<<BP<A>>Cd-<<BP<A>>Cd-<<BP<A>>Cd-<<BP<A>>Cd-<<BP<A>>Cd-<<BP<A>>Cd-<<BP<A>>Cd-<<BP<A>>Cd-<<BP<A>>Cd-<<BP<A>>Cd-<<BP<A>>Cd-<<BP<A>>Cd-<<BP<A>>Cd-<<BP<A>>Cd-<<BP<A>>Cd-<<BP<A>>Cd-<<BP<A>>Cd-<<BP<A>>Cd-<<BP<A>>Cd-<<BP<A>>Cd-<<BP<A>>Cd-<<BP<A>>Cd-<<BP<A>>Cd-<<BP<A>>Cd-<<BP<A>>Cd-<<BP<A>>Cd-<<BP<A>>Cd-<<BP<A>>Cd-<<BP<A>>Cd-<<BP<A>>Cd-<<BP<A>>Cd-<<BP<A>>Cd-<<BP<A>>Cd-<<BP<A>>Cd-<<BP<A>>Cd-<<BP<A>>Cd-<<BP<A>>Cd-<<BP<A>>Cd-<<BP<A>>Cd-<<BP<A>>Cd-<<BP<A>>Cd-<<BP<A>>Cd-<<BP<A>>Cd-<<BP<A>>Cd-<<BP<A>>Cd-<<BP<A>>Cd-<<BP<A>>Cd-<<BP<A>>Cd-<<BP<A>>Cd-<<BP<A>>Cd-<<BP<A>>Cd-<<BP<A>>Cd-<<BP<A>>Cd-<<BP<A>>Cd-<<BP<A>>Cd-<<BP<A>>Cd-<<BP<A>>Cd-<<BP<A>>Cd-<<BP<A>>Cd-<<BP<A>>Cd-<<BP<A>>Cd-<<BP<A>>Cd-<<BP<A>>Cd-<<BP<A>>Cd-<<BP<A>>Cd-<<BP<A>>Cd-<<BP<A>>Cd-<<BP<A>>Cd-<<BP<A>>Cd-<<BP<A>>Cd-<<BP<A>>Cd-<<BP<A>>Cd-<<BP<A>>Cd-<<BP<A>>Cd-<<BP<A>>Cd-<<BP<A>>Cd-<<BP<A>>Cd-<<BP<A>>Cd-<<BP<A>>Cd-<<BP<A>>Cd-<<BP<A>>Cd-<<BP<A>>Cd-<<BP<A>>Cd-<<BP<A>>Cd-<<BP<A>>Cd-<<BP<A>>Cd-<<BP<A>>Cd-<<BP<A>>Cd-<<BP<A>>Cd-<<BP<A>>Cd-<<BP<A>>Cd-<<BP<A>>Cd-<<BP<A>>Cd-<<BP<A>>Cd-<<BP<A>>Cd-<<BP<A>>Cd-<<BP<A>>Cd-<<BP<A>>Cd-<<BP<A>>Cd-<<BP<A>>Cd-<<BP<A>>Cd-<<BP<A>>Cd-<<BP<A>>Cd-<<BP<A>>Cd-<<BP<A>>Cd-<<BP<A>>Cd-<<BP<A>>Cd-<<BP<A>>Cd-<<BP<A>>Cd-<<BP<A>>Cd-<<BP<A>>Cd-<<BP<A>>Cd-<<BP<A>>Cd-<<BP<A>>Cd-<<BP<A>>Cd-<<BP<A>>Cd-<<BP<A>>Cd-<<BP<A>>Cd-<<BP<A>>Cd-<<BP<A>>Cd-<<BP<A>>Cd-<<BP<A>>Cd-<<BP<A>>Cd-<<BP<A>>Cd-<<BP<A>>Cd-<<BP<A>>Cd-<<BP<A>>Cd-<<BP<A>>Cd-<<BP<A>>Cd-<<BP<A>>Cd-<<BP<A>>Cd-<<BP<A>>Cd-<<BP<A>>Cd-<<BP<A>>Cd-<<BP<A>>Cd-<<BP<A>>Cd-<<BP<A>>Cd-<<BP<A>>Cd-<<BP<A>>Cd-<<BP<A>>Cd-<<BP<A>>Cd-<<BP<A>>Cd-<<BP<A>>Cd-<<BP<A>>Cd-<<BP<A>>Cd-<<BP<A>>Cd-<<BP<A>>Cd-<<BP<A>>Cd-<<BP<A>>Cd-<<BP<A>>Cd-<<BP<A>>Cd-<<BP<A>>Cd-<<BP<A>>Cd-<<BP<A>>Cd-<<BP<A>>Cd-<<BP<A>>Cd-<<BP<A>>Cd-<<BP<A>>Cd-<<BP<A>>Cd-<<BP<A>>Cd-<<BP<A>>Cd-<<BP<A>>Cd-<<BP<A>>Cd-<<BP<A>>Cd-<<BP<A>>Cd-<<BP<A>>Cd-<<BP<A>>Cd-<<BP<A>>Cd-<<BP<A>>Cd-<<BP<A>>Cd-<<BP<A>>Cd-<<BP<A>>Cd-<<BP<A>>Cd-<<BP<A>>Cd-<<BP<A>>Cd-<<BP<A>>Cd-<<BP<A>>Cd-<<BP<A>>Cd-<<BP<A>>Cd-<<BP<A>>Cd-<<BP<A>>Cd-<<BP<A>>Cd-<<BP<A>>Cd-<<BP<A>>Cd-<<BP<A>>Cd-<<BP<A>>Cd-<<BP<A>>Cd-<<BP<A>>Cd-<<BP<A>>Cd-<<BP<A>>Cd-<<BP<A>>Cd-<<BP<A>>Cd-<<BP<A>>Cd-<<BP<A>>Cd-<<BP<A>>Cd-<<BP<A>>Cd-<<BP<A>>Cd-<<BP<A>>Cd-<<BP<A>>Cd-<<BP<A>>Cd-<<BP<A>>Cd-<<BP<A>>Cd-<<BP<A>>Cd-<<BP<A>>Cd-<<BP<A>>Cd-<<BP<A>>Cd-<<BP<A>>Cd-<<BP<A>>Cd-<<BP<A>>Cd-<<BP<A>>Cd-<<BP<A>>Cd-<<BP<A>>Cd-<<BP<A>>Cd-<<BP<A>>Cd-<<BP<A>>Cd-<<BP<A>>Cd-<<BP<A>>Cd-<<BP<A>>Cd-<<BP<A>>Cd-<<BP<A>>Cd-<<BP<A>>Cd-<<BP<A>>Cd-<<BP<A>>Cd-<<BP<A>>Cd-<<BP<A>>Cd-<<BP<A>>Cd-<<BP<A>>Cd-<<BP<A>>Cd-<<BP<A>>Cd-<<BP<A>>Cd-<<BP<A>>Cd-<<BP<A>>Cd-<<BP<A>>Cd-<<BP<A>>Cd-<<BP<A>>Cd-<<BP<A>>Cd-<<BP<A>>Cd-<<BP<A>>Cd-<<BP<A>>Cd-<<BP<A>>Cd-<<BP<A>>Cd-<<BP<A>>Cd-<<BP<A>>Cd-<<BP<A>>Cd-<<BP<A>>Cd-<<BP<A>>Cd-<<BP<A>>Cd-<<BP<A>>Cd-<<BP<A>>Cd-<<BP<A>>Cd-<<BP<A>>Cd-<<BP<A>>Cd-<<BP<A>>Cd-<<BP<A>>Cd-<<BP<A>>Cd-<<BP<A>>Cd-<<BP<A>>Cd-<<BP<A>>Cd-<<BP<A>>Cd-<<BP<A>>Cd-<<BP<A>>Cd-<<BP<A>>Cd-<<BP<A>>Cd-<<BP<A>>Cd-<<BP<A>>Cd-<<BP<A>>Cd-<<BP<A>>Cd-<<BP<A>>Cd-<<BP<A>>Cd-<<BP<A>>Cd-<<BP<A>>Cd-<<BP<A>>Cd-<<BP<A>>Cd-<<BP<A>>Cd-<<BP<A>>Cd-<<BP<A>>Cd-<<BP<A>>Cd-<<BP<A>>Cd-<<BP<A>>Cd-<<BP<A>>Cd-<<BP<A>>Cd-<<BP<A>>Cd-<<BP<A>>Cd-<<BP<A>>Cd-<<BP<A>>Cd-<<BP<A>>Cd-<<BP<A>>Cd-<<BP<A>>Cd-<<BP<A>>Cd-<<BP<A>>Cd-<<BP<A>>Cd-<<BP<A>>Cd-<<BP<A>>Cd-<<BP<A>>Cd-<<BP<A>>Cd-<<BP<A>>Cd-<<BP<A>>Cd-<<BP<A>>Cd-<<BP<A>>Cd-<<BP<A>>Cd-<<BP<A>>Cd-<<BP<A>>Cd-<<BP<A>>Cd-<<BP<A>>Cd-<<BP<A>>Cd-<<BP<A>>Cd-<<BP<A>>Cd-<<BP<A>>Cd-<<BP<A>>Cd-<<BP<A>>Cd-<<BP<A>>Cd-<<BP<A>>Cd-<<BP<A>>Cd-<<BP<A>>Cd-<<BP<A>>Cd-<<BP<A>>Cd-<<BP<A>>Cd-<<BP<A>>Cd-<<BP<A>>Cd-<<BP<A>>Cd-<<BP<A>>Cd-<<BP<A>>Cd-<<BP<A>>Cd-<<BP<A>>Cd-<<BP<A>>Cd-<<BP<A>>Cd-<<BP<A>>Cd-<<BP<A>>Cd-<<BP<A>>Cd-<<BP<A>>Cd-<<BP<A>>Cd-<<BP<A>>Cd-<<BP<A>>Cd-<<BP<A>>Cd-<<BP<A>>Cd-<<BP<A>>Cd-<<BP<A>>Cd-<<BP<A>>Cd-<<BP<A>>Cd-<<BP<A>>Cd-<<BP<A>>Cd-<<BP<A>>Cd-<<BP<A>>Cd-<<BP<A>>Cd-<<BP<A>>Cd-<<BP<A>>Cd-<<BP<A>>Cd-<<BP<A>>Cd-<<BP<A>>Cd-<<BP<A>>Cd-<<BP<A>>Cd-<<BP<A>>Cd-<<BP<A>>Cd-<<BP<A>>Cd-<<BP<A>>Cd-<<BP<A>>Cd-<<BP<A>>Cd-<<BP<A>>Cd-<<BP<A>>Cd-<<BP<A>>Cd-<<BP<A>>Cd-<<BP<A>>Cd-<<BP<A>>Cd-<<BP<A>>Cd-<<BP<A>>Cd-<<BP<A>>Cd-<<BP<A>>Cd-<<BP<A>>Cd-<<BP<A>>Cd-<<BP<A>>Cd-<<BP<A>>Cd-<<BP<A>>Cd-<<BP<A>>Cd-<<BP<A>>Cd-<<BP<A>>Cd-<<BP<A>>Cd-<<BP<A>>Cd-<<BP<A>>Cd-<<BP<A>>Cd-<<BP<A>>Cd-<<BP<A>>Cd-<<BP<A>>Cd-<<BP<A>>Cd-<<BP<A>>Cd-<<BP<A>>Cd-<<BP<A>>Cd-<<BP<A>>Cd-<<BP<A>>Cd-<<BP<A>>Cd-<<BP<A>>Cd-<<BP<A>>Cd-<<BP<A>>Cd-<<BP<A>>Cd-<<BP<A>>Cd-<<BP<A>>Cd-<<BP<A>>Cd-<<BP<A>>Cd-<<BP<A>>Cd-<<BP<A>>Cd-<<BP<A>>Cd-<<BP<A>>Cd-<<BP<A>>Cd-<<BP<A>>Cd-<<BP<A>>Cd-<<BP<A>>Cd-<<BP<A>>Cd-<<BP<A>>Cd-<<BP<A>>Cd-<<BP<A>>Cd-<<BP<A>>Cd-<<BP<A>>Cd-<<BP<A>>Cd-<<BP<A>>Cd-<<BP<A>>Cd-<<BP<A>>Cd-<<BP<A>>Cd-<<BP<A>>Cd-<<BP<A>>Cd-<<BP<A>>Cd-<<BP<A>>Cd-<<BP<A>>Cd-<<BP<A>>Cd-<<BP<A>>Cd-<<BP<A>>Cd-<<BP<A>>Cd-<<BP<A>>Cd-<<BP<A>>Cd-<<BP<A>>Cd-<<BP<A>>Cd-<<BP<A>>Cd-<<BP<A>>Cd-<<BP<A>>Cd-<<BP<A>>Cd-<<BP<A>>Cd-<<BP<A>>Cd-<<BP<A>>Cd-<<BP<A>>Cd-<<BP<A>>Cd-<<BP<A>>Cd-<<BP<A>>Cd-<<BP<A>>Cd-<<BP<A>>Cd-<<BP<A>>Cd-<<BP<A>>Cd-<<BP<A>>Cd-<<BP<A>>Cd-<<BP<A>>Cd-<<BP<A>>Cd-<<BP<A>>Cd-<<BP<A>>Cd-<<BP<A>>Cd-<<BP<A>>Cd-<<BP<A>>Cd-<<BP<A>>Cd-<<BP<A>>Cd-<<BP<A>>Cd-<<BP<A>>Cd-<<BP<A>>Cd-<<BP<A>>Cd-<<BP<A>>Cd-<<BP<A>>Cd-<<BP<A>>Cd-<<BP<A>>Cd-<<BP<A>>Cd-<<BP<A>>Cd-<<BP<A>>Cd-<<BP<A>>Cd-<<BP<A>>Cd-<<BP<A>>Cd-<<BP<A>>Cd-<<BP<A>>Cd-<<BP<A>>Cd-<<BP<A>>Cd-<<BP<A>>Cd-<<BP<A>>Cd-<<BP<A>>Cd-<<BP<A>>Cd-<<BP<A>>Cd-<<BP<A>>Cd-<<BP<A>>Cd-<<BP<A>>Cd-<<BP<A>>Cd-<<BP<A>>Cd-<<BP<A>>Cd-<<BP<A>>Cd-<<BP<A>>Cd-<<BP<A>>Cd-<<BP<A>>Cd-<<BP<A>>Cd-<<BP<A>>Cd-<<BP<A>>Cd-<<BP<A>>Cd-<<BP<A>>Cd-<<BP<A>>Cd-<<BP<A>>Cd-<<BP<A>>Cd-<<BP<A>>Cd-<<BP<A>>Cd-<<BP<A>>Cd-<<BP<A>>Cd-<<BP<A>>Cd-<<BP<A>>Cd-<<BP<A>>Cd-<<BP<A>>Cd-<<BP<A>>Cd-<<BP<A>>Cd-<<BP<A>>Cd-<<BP<A>>Cd-<<BP<A>>Cd-<<BP<A>>Cd-<<BP<A>>Cd-<<BP<A>>Cd-<<BP<A>>Cd-<<BP<A>>Cd-<<BP<A>>Cd-<<BP<A>>Cd-<<BP<A>>Cd-<<BP<A>>Cd-<<BP<A>>Cd-<<BP<A>>Cd-<<BP<A>>Cd-<<BP<A>>Cd-<<BP<A>>Cd-<<BP<A>>Cd-<<BP<A>>Cd-<<BP<A>>Cd-<<BP<A>>Cd-<<BP<A>>Cd-<<BP<A>>Cd-<<BP<A>>Cd-<<BP<A>>Cd-<<BP<A>>Cd-<<BP<A>>Cd-<<BP<A>>Cd-<<BP<A>>Cd-<<BP<A>>Cd-<<BP<A>>Cd-<<BP<A>>Cd-<<BP<A>>Cd-<<BP<A>>Cd-<<BP<A>>Cd-<<BP<A>>Cd-<<BP<A>>Cd-<<BP<A>>Cd-<<BP<A>>Cd-<<BP<A>>Cd-<<BP<A>>Cd-<<BP<A>>Cd-<<BP<A>>Cd-<<BP<A>>Cd-<<BP<A>>Cd-<<BP<A>>Cd-<<BP<A>>Cd-<<BP<A>>Cd-<<BP<A>>Cd-<<BP<A>>Cd-<<BP<A>>Cd-<<BP<A>>Cd-<<BP<A>>Cd-<<BP<A>>Cd-<<BP<A>>Cd-<<BP<A>>Cd-<<BP<A>>Cd-<<BP<A>>Cd-<<BP<A>>Cd-<<BP<A>>Cd-<<BP<A>>Cd-<<BP<A>>Cd-<<BP<A>>Cd-<<BP<A>>Cd-<<BP<A>>Cd-<<BP<A>>Cd-<<BP<A>>Cd-<<BP<A>>Cd-<<BP<A>>Cd-<<BP<A>>Cd-<<BP<A>>Cd-<<BP<A>>Cd-<<BP<A>>Cd-<<BP<A>>Cd-<<BP<A>>Cd-<<BP<A>>Cd-<<BP<A>>Cd-<<BP<A>>Cd-<<BP<A>>Cd-<<BP<A>>Cd-<<BP<A>>Cd-<<BP<A>>Cd-<<BP<A>>Cd-<<BP<A>>Cd-<<BP<A>>Cd-<<BP<A>>Cd-<<BP<A>>Cd-<<BP<A>>Cd-<<BP<A>>Cd-<<BP<A>>Cd-<<BP<A>>Cd-<<BP<A>>Cd-<<BP<A>>Cd-<<BP<A>>Cd-<<BP<A>>Cd-<<BP<A>>Cd-<<BP<A>>Cd-<<BP<A>>Cd-<<BP<A>>Cd-<<BP<A>>Cd-<<BP<A>>Cd-<<BP<A>>Cd-<<BP<A>>Cd-<<BP<A>>Cd-<<BP<A>>Cd-<<BP<A>>Cd-<<BP<A>>Cd-<<BP<A>>Cd-<<BP<A>>Cd-<<BP<A>>Cd-<<BP<A>>Cd-<<BP<A>>Cd-<<BP<A>>Cd-<<BP<A>>Cd-<<BP<A>>Cd-<<BP<A>>Cd-<<BP<A>>Cd-<<BP<A>>Cd-<<BP<A>>Cd-<<BP<A>>Cd-<<BP<A>>Cd-<<BP<A>>Cd-<<BP<A>>Cd-<<BP<A>>Cd-<<BP<A>>Cd-<<BP<A>>Cd-<<BP<A>>Cd-<<BP<A>>Cd-<<BP<A>>Cd-<<BP<A>>Cd-<<BP<A>>Cd-<<BP<A>>Cd-<<BP<A>>Cd-<<BP<A>>Cd-<<BP<A>>Cd-<<BP<A>>Cd-<<BP<A>>Cd-<<BP<A>>Cd-<<BP<A>>Cd-<<BP<A>>Cd-<<BP<A>>Cd-<<BP<A>>Cd-<<BP<A>>Cd-<<BP<A>>Cd-<<BP<A>>Cd-<<BP<A>>Cd-<<BP<A>>Cd-<<BP<A>>Cd-<<BP<A>>Cd-<<BP<A>>Cd-<<BP<A>>Cd-<<BP<A>>Cd-<<BP<A>>Cd-<<BP<A>>Cd-<<BP<A>>Cd-<<BP<A>>Cd-<<BP<A>>Cd-<<BP<A>>Cd-<<BP<A>>Cd-<<BP<A>>Cd-<<BP<A>>Cd-<<BP<A>>Cd-<<BP<A>>Cd-<<BP<A>>Cd-<<BP<A>>Cd-<<BP<A>>Cd-<<BP<A>>Cd-<<BP<A>>Cd-<<BP<A>>Cd-<<BP<A>>Cd-<<BP<A>>Cd-<<BP<A>>Cd-<<BP<A>>Cd-<<BP<A>>Cd-<<BP<A>>Cd-<<BP<A>>Cd-<<BP<A>>Cd-<<BP<A>>Cd-<<BP<A>>Cd-<<BP<A>>Cd-<<BP<A>>Cd-<<BP<A>>Cd-<<BP<A>>Cd-<<BP<A>>Cd-<<BP<A>>Cd-<<BP<A>>Cd-<<BP<A>>Cd-<<BP<A>>Cd-<<BP<A>>Cd-<<BP<A>>Cd-<<BP<A>>Cd-<<BP<A>>Cd-<<BP<A>>Cd-<<BP<A>>Cd-<<BP<A>>Cd-<<BP<A>>Cd-<<BP<A>>Cd-<<BP<A>>Cd-<<BP<A>>Cd-<<BP<A>>Cd-<<BP<A>>Cd-<<BP<A>>Cd-<<BP<A>>Cd-<<BP<A>>Cd-<<BP<A>>Cd-<<BP<A>>Cd-<<BP<A>>Cd-<<BP<A>>Cd-<<BP<A>>Cd-<<BP<A>>Cd-<<BP<A>>Cd-<<BP<A>>Cd-<<BP<A>>Cd-<<BP<A>>Cd-<<BP<A>>Cd-<<BP<A>>Cd-<<BP<A>>Cd-<<BP<A>>Cd-<<BP<A>>Cd-<<BP<A>>Cd-<<BP<A>>Cd-<<BP<A>>Cd-<<BP<A>>Cd-<<BP<A>>Cd-<<BP<A>>Cd-<<BP<A>>Cd-<<BP<A>>Cd-<<BP<A>>Cd-<<BP<A>>Cd-<<BP<A>>Cd-<<BP<A>>Cd-<<BP<A>>Cd-<<BP<A>>Cd-<<BP<A>>Cd-<<BP<A>>Cd-<<BP<A>>Cd-<<BP<A>>Cd-<<BP<A>>Cd-<<BP<A>>Cd-<<BP<A>>Cd-<<BP<A>>Cd-<<BP<A>>Cd-<<BP<A>>Cd-<<BP<A>>Cd-<<BP<A>>Cd-<<BP<A>>Cd-<<BP<A>>Cd-<<BP<A>>Cd-<<BP<A>>Cd-<<BP<A>>Cd-<<BP<A>>Cd-<<BP<A>>Cd-<<BP<A>>Cd-<<BP<A>>Cd-<<BP<A>>Cd-<<BP<A>>Cd-<<BP<A>>Cd-<<BP<A>>Cd-<<BP<A>>Cd-<<BP<A>>Cd-<<BP<A>>Cd-<<BP<A>>Cd-<<BP<A>>Cd-<<BP<A>>Cd-<<BP<A>>Cd-<<BP<A>>Cd-<<BP<A>>Cd-<<BP<A>>Cd-<<BP<A>>Cd-<<BP<A>>Cd-<<BP<A>>Cd-<<BP<A>>Cd-<<BP<A>>Cd-<<BP<A>>Cd-<<BP<A>>Cd-<<BP<A>>Cd-<<BP<A>>Cd-<<BP<A>>Cd-<<BP<A>>Cd-<<BP<A>>Cd-<<BP<A>>Cd-<<BP<A>>Cd-<<BP<A>>Cd-<<BP<A>>Cd-<<BP<A>>Cd-<<BP<A>>Cd-<<BP<A>>Cd-<<BP<A>>Cd-<<BP<A>>Cd-<<BP<A>>Cd-<<BP<A>>Cd-<<BP<A>>Cd-<<BP<A>>Cd-<<BP<A>>Cd-<<BP<A>>Cd-<<BP<A>>Cd-<<BP<A>>Cd-<<BP<A>>Cd-<<BP<A>>Cd-<<BP<A>>Cd-<<BP<A>>Cd-<<BP<A>>Cd-<<BP<A>>Cd-<<BP<A>>Cd-<<BP<A>>Cd-<<BP<A>>Cd-<<BP<A>>Cd-<<BP<A>>Cd-<<BP<A>>Cd-<<BP<A>>Cd-<<BP<A>>Cd-<<BP<A>>Cd-<<BP<A>>Cd-<<BP<A>>Cd-<<BP<A>>Cd-<<BP<A>>Cd-<<BP<A>>Cd-<<BP<A>>Cd-<<BP<A>>Cd-<<BP<A>>Cd-<<BP<A>>Cd-<<BP<A>>Cd-<<BP<A>>Cd-<<BP<A>>Cd-<<BP<A>>Cd-<<BP<A>>Cd-<<BP<A>>Cd-<<BP<A>>Cd-<<BP<A>>Cd-<<BP<A>>Cd-<<BP<A>>Cd-<<BP<A>>Cd-<<BP<A>>Cd-<<BP<A>>Cd-<<BP<A>>Cd-<<BP<A>>Cd-<<BP<A>>Cd-<<BP<A>>Cd-<<BP<A>>Cd-<<BP<A>>Cd-<<BP<A>>Cd-<<BP<A>>Cd-<<BP<A>>Cd-<<BP<A>>Cd-<<BP<A>>Cd-<<BP<A>>Cd-<<BP<A>>Cd-<<BP<A>>Cd-<<BP<A>>Cd-<<BP<A>>Cd-<<BP<A>>Cd-<<BP<A>>Cd-<<BP<A>>Cd-<<BP<A>>Cd-<<BP<A>>Cd-<<BP<A>>Cd-<<BP<A>>Cd-<<BP<A>>Cd-<<BP<A>>Cd-<<BP<A>>Cd-<<BP<A>>Cd-<<BP<A>>Cd-<<BP<A>>Cd-<<BP<A>>Cd-<<BP<A>>Cd-<<BP<A>>Cd-<<BP<A>>Cd-<<BP<A>>Cd-<<BP<A>>Cd-<<BP<A>>Cd-<<BP<A>>Cd-<<BP<A>>Cd-<<BP<A>>Cd-<<BP<A>>Cd-<<BP<A>>Cd-<<BP<A>>Cd-<<BP<A>>Cd-<<BP<A>>Cd-<<BP<A>>Cd-<<BP<A>>Cd-<<BP<A>>Cd-<<BP<A>>Cd-<<BP<A>>Cd-<<BP<A>>Cd-<<BP<A>>Cd-<<BP<A>>Cd-<<BP<A>>Cd-<<BP<A>>Cd-<<BP<A>>Cd-<<BP<A>>Cd-<<BP<A>>Cd-<<BP<A>>Cd-<<BP<A>>Cd-<<BP<A>>Cd-<<BP<A>>Cd-<<BP<A>>Cd-<<BP<A>>Cd-<<BP<A>>Cd-<<BP<A>>Cd-<<BP<A>>Cd-<<BP<A>>Cd-<<BP<A>>Cd-<<BP<A>>Cd-<<BP<A>>Cd-<<BP<A>>Cd-<<BP<A>>Cd-<<BP<A>>Cd-<<BP<A>>Cd-<<BP<A>>Cd-<<BP<A>>Cd-<<BP<A>>Cd-<<BP<A>>Cd-<<BP<A>>Cd-<<BP<A>>Cd-<<BP<A>>Cd-<<BP<A>>Cd-<<BP<A>>Cd-<<BP<A>>Cd-<<BP<A>>Cd-<<BP<A>>Cd-<<BP<A>>Cd-<<BP<A>>Cd-<<BP<A>>Cd-<<BP<A>>Cd-<<BP<A>>Cd-<<BP<A>>Cd-<<BP<A>>Cd-<<BP<A>>Cd-<<BP<A>>Cd-<<BP<A>>Cd-<<BP<A>>Cd-<<BP<A>>Cd-<<BP<A>>Cd-<<BP<A>>Cd-<<BP<A>>Cd-<<BP<A>>Cd-<<BP<A>>Cd-<<BP<A>>Cd-<<BP<A>>Cd-<<BP<A>>Cd-<<BP<A>>Cd-<<BP<A>>Cd-<<BP<A>>Cd-<<BP<A>>Cd-<<BP<A>>Cd-<<BP<A>>Cd-<<BP<A>>Cd-<<BP<A>>Cd-<<BP<A>>Cd-<<BP<A>>Cd-<<BP<A>>Cd-<<BP<A>>Cd-<<BP<A>>Cd-<<BP<A>>Cd-<<BP<A>>Cd-<<BP<A>>Cd-<<BP<A>>Cd-<<BP<A>>Cd-<<BP<A>>Cd-<<BP<A>>Cd-<<BP<A>>Cd-<<BP<A>>Cd-<<BP<A>>Cd-<<BP<A>>Cd-<<BP<A>>Cd-<<BP<A>>Cd-<<BP<A>>Cd-<<BP<A>>Cd-<<BP<A>>Cd-<<BP<A>>Cd-<<BP<A>>Cd-<<BP<A>>Cd-<<BP<A>>Cd-<<BP<A>>Cd-<<BP<A>>Cd-<<BP<A>>Cd-<<BP<A>>Cd-<<BP<A>>Cd-<<BP<A>>Cd-<<BP<A>>Cd-<<BP<A>>Cd-<<BP<A>>Cd-<<BP<A>>Cd-<<BP<A>>Cd-<<BP<A>>Cd-<<BP<A>>Cd-<<BP<A>>Cd-<<BP<A>>Cd-<<BP<A>>Cd-<<BP<A>>Cd-<<BP<A>>Cd-<<BP<A>>Cd-<<BP<A>>Cd-<<BP<A>>Cd-<<BP<A>>Cd-<<BP<A>>Cd-<<BP<A>>Cd-<<BP<A>>Cd-<<BP<A>>Cd-<<BP<A>>Cd-<<BP<A>>Cd-<<BP<A>>Cd-<<BP<A>>Cd-<<BP<A>>Cd-<<BP<A>>Cd-<<BP<A>>Cd-<<BP<A>>Cd-<<BP<A>>Cd-<<BP<A>>Cd-<<BP<A>>Cd-<<BP<A>>Cd-<<BP<A>>Cd-<<BP<A>>Cd-<<BP<A>>Cd-<<BP<A>>Cd-<<BP<A>>Cd-<<BP<A>>Cd-<<BP<A>>Cd-<<BP<A>>Cd-<<BP<A>>Cd-<<BP<A>>Cd-<<BP<A>>Cd-<<BP<A>>Cd-<<BP<A>>Cd-<<BP<A>>Cd-<<BP<A>>Cd-<<BP<A>>Cd-<<BP<A>>Cd-<<BP<A>>Cd-<<BP<A>>Cd-<<BP<A>>Cd-<<BP<A>>Cd-<<BP<A>>Cd-<<BP<A>>Cd-<<BP<A>>Cd-<<BP<A>>Cd-<<BP<A>>Cd-<<BP<A>>Cd-<<BP<A>>Cd-<<BP<A>>Cd-<<BP<A>>Cd-<<BP<A>>Cd-<<BP<A>>Cd-<<BP<A>>Cd-<<BP<A>>Cd-<<BP<A>>Cd-<<BP<A>>Cd-<<BP<A>>Cd-<<BP<A>>Cd-<<BP<A>>Cd-<<BP<A>>Cd-<<BP<A>>Cd-<<BP<A>>Cd-<<BP<A>>Cd-<<BP<A>>Cd-<<BP<A>>Cd-<<BP<A>>Cd-<<BP<A>>Cd-<<BP<A>>Cd-<<BP<A>>Cd-<<BP<A>>Cd-<<BP<A>>Cd-<<BP<A>>Cd-<<BP<A>>Cd-<<BP<A>>Cd-<<BP<A>>Cd-<<BP<A>>Cd-<<BP<A>>Cd-<<BP<A>>Cd-<<BP<A>>Cd-<<BP<A>>Cd-<<BP<A>>Cd-<<BP<A>>Cd-<<BP<A>>Cd-<<BP<A>>Cd-<<BP<A>>Cd-<<BP<A>>Cd-<<BP<A>>Cd-<<BP<A>>Cd-<<BP<A>>Cd-<<BP<A>>Cd-<<BP<A>>Cd-<<BP<A>>Cd-<<BP<A>>Cd-<<BP<A>>Cd-<<BP<A>>Cd-<<BP<A>>Cd-<<BP<A>>Cd-<<BP<A>>Cd-<<BP<A>>Cd-<<BP<A>>Cd-<<BP<A>>Cd-<<BP<A>>Cd-<<BP<A>>Cd-<<BP<A>>Cd-<<BP<A>>Cd-<<BP<A>>Cd-<<BP<A>>Cd-<<BP<A>>Cd-<<BP<A>>Cd-<<BP<A>>Cd-<<BP<A>>Cd-<<BP<A>>Cd-<<BP<A>>Cd-<<BP<A>>Cd-<<BP<A>>Cd-<<BP<A>>Cd-<<BP<A>>Cd-<<BP<A>>Cd-<<BP<A>>Cd-<<BP<A>>Cd-<<BP<A>>Cd-<<BP<A>>Cd-<<BP<A>>Cd-<<BP<A>>Cd-<<BP<A>>Cd-<<BP<A>>Cd-<<BP<A>>Cd-<<BP<A>>Cd-<<BP<A>>Cd-<<BP<A>>Cd-<<BP<A>>Cd-<<BP<A>>Cd-<<BP<A>>Cd-<<BP<A>>Cd-<<BP<A>>Cd-<<BP<A>>Cd-<<BP<A>>Cd-<<BP<A>>Cd-<<BP<A>>Cd-<<BP<A>>Cd-<<BP<A>>Cd-<<BP<A>>Cd-<<BP<A>>Cd-<<BP<A>>Cd-<<BP<A>>Cd-<<BP<A>>Cd-<<BP<A>>Cd-<<BP<A>>Cd-<<BP<A>>Cd-<<BP<A>>Cd-<<BP<A>>Cd-<<BP<A>>Cd-<<BP<A>>Cd-<<BP<A>>Cd-<<BP<A>>Cd-<<BP<A>>Cd-<<BP<A>>Cd-<<BP<A>>Cd-<<BP<A>>Cd-<<BP<A>>Cd-<<BP<A>>Cd-<<BP<A>>Cd-<<BP<A>>Cd-<<BP<A>>Cd-<<BP<A>>Cd-<<BP<A>>Cd-<<BP<A>>Cd-<<BP<A>>Cd-<<BP<A>>Cd-<<BP<A>>Cd-<<BP<A>>Cd-<<BP<A>>Cd-<<BP<A>>Cd-<<BP<A>>Cd-<<BP<A>>Cd-<<BP<A>>Cd-<<BP<A>>Cd-<<BP<A>>Cd-<<BP<A>>Cd-<<BP<A>>Cd-<<BP<A>>Cd-<<BP<A>>Cd-<<BP<A>>Cd-<<BP<A>>Cd-<<BP<A>>Cd-<<BP<A>>Cd-<<BP<A>>Cd-<<BP<A>>Cd-<<BP<A>>Cd-<<BP<A>>Cd-<<BP<A>>Cd-<<BP<A>>Cd-<<BP<A>>Cd-<<BP<A>>Cd-<<BP<A>>Cd-<<BP<A>>Cd-<<BP<A>>Cd-<<BP<A>>Cd-<<BP<A>>Cd-<<BP<A>>Cd-<<BP<A>>Cd-<<BP<A>>Cd-<<BP<A>>Cd-<<BP<A>>Cd-<<BP<A>>Cd-<<BP<A>>Cd-<<BP<A>>Cd-<<BP<A>>Cd-<<BP<A>>Cd-<<BP<A>>Cd-<<BP<A>>Cd-<<BP<A>>Cd-<<BP<A>>Cd-<<BP<A>>Cd-<<BP<A>>Cd-<<BP<A>>Cd-<<BP<A>>Cd-<<BP<A>>Cd-<<BP<A>>Cd-<<BP<A>>Cd-<<BP<A>>Cd-<<BP<A>>Cd-<<BP<A>>Cd-<<BP<A>>Cd-<<BP<A>>Cd-<<BP<A>>Cd-<<BP<A>>Cd-<<BP<A>>Cd-<<BP<A>>Cd-<<BP<A>>Cd-<<BP<A>>Cd-<<BP<A>>Cd-<<BP<A>>Cd-<<BP<A>>Cd-<<BP<A>>Cd-<<BP<A>>Cd-<<BP<A>>Cd-<<BP<A>>Cd-<<BP<A>>Cd-<<BP<A>>Cd-<<BP<A>>Cd-<<BP<A>>Cd-<<BP<A>>Cd-<<BP<A>>Cd-<<BP<A>>Cd-<<BP<A>>Cd-<<BP<A>>Cd-<<BP<A>>Cd-<<BP<A>>Cd-<<BP<A>>Cd-<<BP<A>>Cd-<<BP<A>>Cd-<<BP<A>>Cd-<<BP<A>>Cd-<<BP<A>>Cd-<<BP<A>>Cd-<<BP<A>>Cd-<<BP<A>>Cd-<<BP<A>>Cd-<<BP<A>>Cd-<<BP<A>>Cd-<<BP<A>>Cd-<<BP<A>>Cd-<<BP<A>>Cd-<<BP<A>>Cd-<<BP<A>>Cd-<<BP<A>>Cd-<<BP<A>>Cd-<<BP<A>>Cd-<<BP<A>>Cd-<<BP<A>>Cd-<<BP<A>>Cd-<<BP<A>>Cd-<<BP<A>>Cd-<<BP<A>>Cd-<<BP<A>>Cd-<<BP<A>>Cd-<<BP<A>>Cd-<<BP<A>>Cd-<<BP<A>>Cd-<<BP<A>>Cd-<<BP<A>>Cd-<<BP<A>>Cd-<<BP<A>>Cd-<<BP<A>>Cd-<<BP<A>>Cd-<<BP<A>>Cd-<<BP<A>>Cd-<<BP<A>>Cd-<<BP<A>>Cd-<<BP<A>>Cd-<<BP<A>>Cd-<<BP<A>>Cd-<<BP<A>>Cd-<<BP<A>>Cd-<<BP<A>>Cd-<<BP<A>>Cd-<<BP<A>>Cd-<<BP<A>>Cd-<<BP<A>>Cd-<<BP<A>>Cd-<<BP<A>>Cd-<<BP<A>>Cd-<<BP<A>>Cd-<<BP<A>>Cd-<<BP<A>>Cd-<<BP<A>>Cd-<<BP<A>>Cd-<<BP<A>>Cd-<<BP<A>>Cd-<<BP<A>>Cd-<<BP<A>>Cd-<<BP<A>>Cd-<<BP<A>>Cd-<<BP<A>>Cd-<<BP<A>>Cd-<<BP<A>>Cd-<<BP<A>>Cd-<<BP<A>>Cd-<<BP<A>>Cd-<<BP<A>>Cd-<<BP<A>>Cd-<<BP<A>>Cd-<<BP<A>>Cd-<<BP<A>>Cd-<<BP<A>>Cd-<<BP<A>>Cd-<<BP<A>>Cd-<<BP<A>>Cd-<<BP<A>>Cd-<<BP<A>>Cd-<<BP<A>>Cd-<<BP<A>>Cd-<<BP<A>>Cd-<<BP<A>>Cd-<<BP<A>>Cd-<<BP<A>>Cd-<<BP<A>>Cd-<<BP<A>>Cd-<<BP<A>>Cd-<<BP<A>>Cd-<<BP<A>>Cd-<<BP<A>>Cd-<<BP<A>>Cd-<<BP<A>>Cd-<<BP<A>>Cd-<<BP<A>>Cd-<<BP<A>>Cd-<<BP<A>>Cd-<<BP<A>>Cd-<<BP<A>>Cd-<<BP<A>>Cd-<<BP<A>>Cd-<<BP<A>>Cd-<<BP<A>>Cd-<<BP<A>>Cd-<<BP<A>>Cd-<<BP<A>>Cd-<<BP<A>>Cd-<<BP<A>>Cd-<<BP<A>>Cd-<<BP<A>>Cd-<<BP<A>>Cd-<<BP<A>>Cd-<<BP<A>>Cd-<<BP<A>>Cd-<<BP<A>>Cd-<<BP<A>>Cd-<<BP<A>>Cd-<<BP<A>>Cd-<<BP<A>>Cd-<<BP<A>>Cd-<<BP<A>>Cd-<<BP<A>>Cd-<<BP<A>>Cd-<<BP<A>>Cd-<<BP<A>>Cd-<<BP<A>>Cd-<<BP<A>>Cd-<<BP<A>>Cd-<<BP<A>>Cd-<<BP<A>>Cd-<<BP<A>>Cd-<<BP<A>>Cd-<<BP<A>>Cd-<<BP<A>>Cd-<<BP<A>>Cd-<<BP<A>>Cd-<<BP<A>>Cd-<<BP<A>>Cd-<<BP<A>>Cd-<<BP<A>>Cd-<<BP<A>>Cd-<<BP<A>>Cd-<<BP<A>>Cd-<<BP<A>>Cd-<<BP<A>>Cd-<<BP<A>>Cd-<<BP<A>>Cd-<<BP<A>>Cd-<<BP<A>>Cd-<<BP<A>>Cd-<<BP<A>>Cd-<<BP<A>>Cd-<<BP<A>>Cd-<<BP<A>>Cd-<<BP<A>>Cd-<<BP<A>>Cd-<<BP<A>>Cd-<<BP<A>>Cd-<<BP<A>>Cd-<<BP<A>>Cd-<<BP<A>>Cd-<<BP<A>>Cd-<<BP<A>>Cd-<<BP<A>>Cd-<<BP<A>>Cd-<<BP<A>>Cd-<<BP<A>>Cd-<<BP<A>>Cd-<<BP<A>>Cd-<<BP<A>>Cd-<<BP<A>>Cd-<<BP<A>>Cd-<<BP<A>>Cd-<<BP<A>>Cd-<<BP<A>>Cd-<<BP<A>>Cd-<<BP<A>>Cd-<<BP<A>>Cd-<<BP<A>>Cd-<<BP<A>>Cd-<<BP<A>>Cd-<<BP<A>>Cd-<<BP<A>>Cd-<<BP<A>>Cd-<<BP<A>>Cd-<<BP<A>>Cd-<<BP<A>>Cd-<<BP<A>>Cd-<<BP<A>>Cd-<<BP<A>>Cd-<<BP<A>>Cd-<<BP<A>>Cd-<<BP<A>>Cd-<<BP<A>>Cd-<<BP<A>>Cd-<<BP<A>>Cd-<<BP<A>>Cd-<<BP<A>>Cd-<<BP<A>>Cd-<<BP<A>>Cd-<<BP<A>>Cd-<<BP<A>>Cd-<<BP<A>>Cd-<<BP<A>>Cd-<<BP<A>>Cd-<<BP<A>>Cd-<<BP<A>>Cd-<<BP<A>>Cd-<<BP<A>>Cd-<<BP<A>>Cd-<<BP<A>>Cd-<<BP<A>>Cd-<<BP<A>>Cd-<<BP<A>>Cd-<<BP<A>>Cd-<<BP<A>>Cd-<<BP<A>>Cd-<<BP<A>>Cd-<<BP<A>>Cd-<<BP<A>>Cd-<<BP<A>>Cd-<<BP<A>>Cd-<<BP<A>>Cd-<<BP<A>>Cd-<<BP<A>>Cd-<<BP<A>>Cd-<<BP<A>>Cd-<<BP<A>>Cd-<<BP<A>>Cd-<<BP<A>>Cd-<<BP<A>>Cd-<<BP<A>>Cd-<<BP<A>>Cd-<<BP<A>>Cd-<<BP<A>>Cd-<<BP<A>>Cd-<<BP<A>>Cd-<<BP<A>>Cd-<<BP<A>>Cd-<<BP<A>>Cd-<<BP<A>>Cd-<<BP<A>>Cd-<<BP<A>>Cd-<<BP<A>>Cd-<<BP<A>>Cd-<<BP<A>>Cd-<<BP<A>>Cd-<<BP<A>>Cd-<<BP<A>>Cd-<<BP<A>>Cd-<<BP<A>>Cd-<<BP<A>>Cd-<<BP<A>>Cd-<<BP<A>>Cd-<<BP<A>>Cd-<<BP<A>>Cd-<<BP<A>>Cd-<<BP<A>>Cd-<<BP<A>>Cd-<<BP<A>>Cd-<<BP<A>>Cd-<<BP<A>>Cd-<<BP<A>>Cd-<<BP<A>>Cd-<<BP<A>>Cd-<<BP<A>>Cd-<<BP<A>>Cd-<<BP<A>>Cd-<<BP<A>>Cd-<<BP<A>>Cd-<<BP<A>>Cd-<<BP<A>>Cd-<<BP<A>>Cd-<<BP<A>>Cd-<<BP<A>>Cd-<<BP<A>>Cd-<<BP<A>>Cd-<<BP<A>>Cd-<<BP<A>>Cd-<<BP<A>>Cd-<<BP<A>>Cd-<<BP<A>>Cd-<<BP<A>>Cd-<<BP<A>>Cd-<<BP<A>>Cd-<<BP<A>>Cd-<<BP<A>>Cd-<<BP<A>>Cd-<<BP<A>>Cd-<<BP<A>>Cd-<<BP<A>>Cd-<<BP<A>>Cd-<<BP<A>>Cd-<<BP<A>>Cd-<<BP<A>>Cd-<<BP<A>>Cd-<<BP<A>>Cd-<<BP<A>>Cd-<<BP<A>>Cd-<<BP<A>>Cd-<<BP<A>>Cd-<<BP<A>>Cd-<<BP<A>>Cd-<<BP<A>>Cd-<<BP<A>>Cd-<<BP<A>>Cd-<<BP<A>>Cd-<<BP<A>>Cd-<<BP<A>>Cd-<<BP<A>>Cd-<<BP<A>>Cd-<<BP<A>>Cd-<<BP<A>>Cd-<<BP<A>>Cd-<<BP<A>>Cd-<<BP<A>>Cd-<<BP<A>>Cd-<<BP<A>>Cd-<<BP<A>>Cd-<<BP<A>>Cd-<<BP<A>>Cd-<<BP<A>>Cd-<<BP<A>>Cd-<<BP<A>>Cd-<<BP<A>>Cd-<<BP<A>>Cd-<<BP<A>>Cd-<<BP<A>>Cd-<<BP<A>>Cd-<<BP<A>>Cd-<<BP<A>>Cd-<<BP<A>>Cd-<<BP<A>>Cd-<<BP<A>>Cd-<<BP<A>>Cd-<<BP<A>>Cd-<<BP<A>>Cd-<<BP<A>>Cd-<<BP<A>>Cd-<<BP<A>>Cd-<<BP<A>>Cd-<<BP<A>>Cd-<<BP<A>>Cd-<<BP<A>>Cd-<<BP<A>>Cd-<<BP<A>>Cd-<<BP<A>>Cd-<<BP<A>>Cd-<<BP<A>>Cd-<<BP<A>>Cd-<<BP<A>>Cd-<<BP<A>>Cd-<<BP<A>>Cd-<<BP<A>>Cd-<<BP<A>>Cd-<<BP<A>>Cd-<<BP<A>>Cd-<<BP<A>>Cd-<<BP<A>>Cd-<<BP<A>>Cd-<<BP<A>>Cd-<<BP<A>>Cd-<<BP<A>>Cd-<<BP<A>>Cd-<<BP<A>>Cd-<<BP<A>>Cd-<<BP<A>>Cd-<<BP<A>>Cd-<<BP<A>>Cd-<<BP<A>>Cd-<<BP<A>>Cd-<<BP<A>>Cd-<<BP<A>>Cd-<<BP<A>>Cd-<<BP<A>>Cd-<<BP<A>>Cd-<<BP<A>>Cd-<<BP<A>>Cd-<<BP<A>>Cd-<<BP<A>>Cd-<<BP<A>>Cd-<<BP<A>>Cd-<<BP<A>>Cd-<<BP<A>>Cd-<<BP<A>>Cd-<<BP<A>>Cd-<<BP<A>>Cd-<<BP<A>>Cd-<<BP<A>>Cd-<<BP<A>>Cd-<<BP<A>>Cd-<<BP<A>>Cd-<<BP<A>>Cd-<<BP<A>>Cd-<<BP<A>>Cd-<<BP<A>>Cd-<<BP<A>>Cd-<<BP<A>>Cd-<<BP<A>>Cd-<<BP<A>>Cd-<<BP<A>>Cd-<<BP<A>>Cd-<<BP<A>>Cd-<<BP<A>>Cd-<<BP<A>>Cd-<<BP<A>>Cd-<<BP<A>>Cd-<<BP<A>>Cd-<<BP<A>>Cd-<<BP<A>>Cd-<<BP<A>>Cd-<<BP<A>>Cd-<<BP<A>>Cd-<<BP<A>>Cd-<<BP<A>>Cd-<<BP<A>>Cd-<<BP<A>>Cd-<<BP<A>>Cd-<<BP<A>>Cd-<<BP<A>>Cd-<<BP<A>>Cd-<<BP<A>>Cd-<<BP<A>>Cd-<<BP<A>>Cd-<<BP<A>>Cd-<<BP<A>>Cd-<<BP<A>>Cd-<<BP<A>>Cd-<<BP<A>>Cd-<<BP<A>>Cd-<<BP<A>>Cd-<<BP<A>>Cd-<<BP<A>>Cd-<<BP<A>>Cd-<<BP<A>>Cd-<<BP<A>>Cd-<<BP<A>>Cd-<<BP<A>>Cd-<<BP<A>>Cd-<<BP<A>>Cd-<<BP<A>>Cd-<<BP<A>>Cd-<<BP<A>>Cd-<<BP<A>>Cd-<<BP<A>>Cd-<<BP<A>>Cd-<<BP<A>>Cd-<<BP<A>>Cd-<<BP<A>>Cd-<<BP<A>>Cd-<<BP<A>>Cd-<<BP<A>>Cd-<<BP<A>>Cd-<<BP<A>>Cd-<<BP<A>>Cd-<<BP<A>>Cd-<<BP<A>>Cd-<<BP<A>>Cd-<<BP<A>>Cd-<<BP<A>>Cd-<<BP<A>>Cd-<<BP<A>>Cd-<<BP<A>>Cd-<<BP<A>>Cd-<<BP<A>>Cd-<<BP<A>>Cd-<<BP<A>>Cd-<<BP<A>>Cd-<<BP<A>>Cd-<<BP<A>>Cd-<<BP<A>>Cd-<<BP<A>>Cd-<<BP<A>>Cd-<<BP<A>>Cd-<<BP<A>>Cd-<<BP<A>>Cd-<<BP<A>>Cd-<<BP<A>>Cd-<<BP<A>>Cd-<<BP<A>>Cd-<<BP<A>>Cd-<<BP<A>>Cd-<<BP<A>>Cd-<<BP<A>>Cd-<<BP<A>>Cd-<<BP<A>>Cd-<<BP<A>>Cd-<<BP<A>>Cd-<<BP<A>>Cd-<<BP<A>>Cd-<<BP<A>>Cd-<<BP<A>>Cd-<<BP<A>>Cd-<<BP<A>>Cd-<<BP<A>>Cd-<<BP<A>>Cd-<<BP<A>>Cd-<<BP<A>>Cd-<<BP<A>>Cd-<<BP<A>>Cd-<<BP<A>>Cd-<<BP<A>>Cd-<<BP<A>>Cd-<<BP<A>>Cd-<<BP<A>>Cd-<<BP<A>>Cd-<<BP<A>>Cd-<<BP<A>>Cd-<<BP<A>>Cd-<<BP<A>>Cd-<<BP<A>>Cd-<<BP<A>>Cd-<<BP<A>>Cd-<<BP<A>>Cd-<<BP<A>>Cd-<<BP<A>>Cd-<<BP<A>>Cd-<<BP<A>>Cd-<<BP<A>>Cd-<<BP<A>>Cd-<<BP<A>>Cd-<<BP<A>>Cd-<<BP<A>>Cd-<<BP<A>>Cd-<<BP<A>>Cd-<<BP<A>>Cd-<<BP<A>>Cd-<<BP<A>>Cd-<<BP<A>>Cd-<<BP<A>>Cd-<<BP<A>>Cd-<<BP<A>>Cd-<<BP<A>>Cd-<<BP<A>>Cd-<<BP<A>>Cd-<<BP<A>>Cd-<<BP<A>>Cd-<<BP<A>>Cd-<<BP<A>>Cd-<<BP<A>>Cd-<<BP<A>>Cd-<<BP<A>>Cd-<<BP<A>>Cd-<<BP<A>>Cd-<<BP<A>>Cd-<<BP<A>>Cd-<<BP<A>>Cd-<<BP<A>>Cd-<<BP<A>>Cd-<<BP<A>>Cd-<<BP<A>>Cd-<<BP<A>>Cd-<<BP<A>>Cd-<<BP<A>>Cd-<<BP<A>>Cd-<<BP<A>>Cd-<<BP<A>>Cd-<<BP<A>>Cd-<<BP<A>>Cd-<<BP<A>>Cd-<<BP<A>>Cd-<<BP<A>>Cd-<<BP<A>>Cd-<<BP<A>>Cd-<<BP<A>>Cd-<<BP<A>>Cd-<<BP<A>>Cd-<<BP<A>>Cd-<<BP<A>>Cd-<<BP<A>>Cd-<<BP<A>>Cd-<<BP<A>>Cd-<<BP<A>>Cd-<<BP<A>>Cd-<<BP<A>>Cd-<<BP<A>>Cd-<<BP<A>>Cd-<<BP<A>>Cd-<<BP<A>>Cd-<<BP<A>>Cd-<<BP<A>>Cd-<<BP<A>>Cd-<<BP<A>>Cd-<<BP<A>>Cd-<<BP<A>>Cd-<<BP<A>>Cd-<<BP<A>>Cd-<<BP<A>>Cd-<<BP<A>>Cd-<<BP<A>>Cd-<<BP<A>>Cd-<<BP<A>>Cd-<<BP<A>>Cd-<<BP<A>>Cd-<<BP<A>>Cd-<<BP<A>>Cd-<<BP<A>>Cd-<<BP<A>>Cd-<<BP<A>>Cd-<<BP<A>>Cd-<<BP<A>>Cd-<<BP<A>>Cd-<<BP<A>>Cd-<<BP<A>>Cd-<<BP<A>>Cd-<<BP<A>>Cd-<<BP<A>>Cd-<<BP<A>>Cd-<<BP<A>>Cd-<<BP<A>>Cd-<<BP<A>>Cd-<<BP<A>>Cd-<<BP<A>>Cd-<<BP<A>>Cd-<<BP<A>>Cd-<<BP<A>>Cd-<<BP<A>>Cd-<<BP<A>>Cd-<<BP<A>>Cd-<<BP<A>>Cd-<<BP<A>>Cd-<<BP<A>>Cd-<<BP<A>>Cd-<<BP<A>>Cd-<<BP<A>>Cd-<<BP<A>>Cd-<<BP<A>>Cd-<<BP<A>>Cd-<<BP<A>>Cd-<<BP<A>>Cd-<<BP<A>>Cd-<<BP<A>>Cd-<<BP<A>>Cd-<<BP<A>>Cd-<<BP<A>>Cd-<<BP<A>>Cd-<<BP<A>>Cd-<<BP<A>>Cd-<<BP<A>>Cd-<<BP<A>>Cd-<<BP<A>>Cd-<<BP<A>>Cd-<<BP<A>>Cd-<<BP<A>>Cd-<<BP<A>>Cd-<<BP<A>>Cd-<<BP<A>>Cd-<<BP<A>>Cd-<<BP<A>>Cd-<<BP<A>>Cd-<<BP<A>>Cd-<<BP<A>>Cd-<<BP<A>>Cd-<<BP<A>>Cd-<<BP<A>>Cd-<<BP<A>>Cd-<<BP<A>>Cd-<<BP<A>>Cd-<<BP<A>>Cd-<<BP<A>>Cd-<<BP<A>>Cd-<<BP<A>>Cd-<<BP<A>>Cd-<<BP<A>>Cd-<<BP<A>>Cd-<<BP<A>>Cd-<<BP<A>>Cd-<<BP<A>>Cd-<<BP<A>>Cd-<<BP<A>>Cd-<<BP<A>>Cd-<<BP<A>>Cd-<<BP<A>>Cd-<<BP<A>>Cd-<<BP<A>>Cd-<<BP<A>>Cd-<<BP<A>>Cd-<<BP<A>>Cd-<<BP<A>>Cd-<<BP<A>>Cd-<<BP<A>>Cd-<<BP<A>>Cd-<<BP<A>>Cd-<<BP<A>>Cd-<<BP<A>>Cd-<<BP<A>>Cd-<<BP<A>>Cd-<<BP<A>>Cd-<<BP<A>>Cd-<<BP<A>>Cd-<<BP<A>>Cd-<<BP<A>>Cd-<<BP<A>>Cd-<<BP<A>>Cd-<<BP<A>>Cd-<<BP<A>>Cd-<<BP<A>>Cd-<<BP<A>>Cd-<<BP<A>>Cd-<<BP<A>>Cd-<<BP<A>>Cd-<<BP<A>>Cd-<<BP<A>>Cd-<<BP<A>>Cd-<<BP<A>>Cd-<<BP<A>>Cd-<<BP<A>>Cd-<<BP<A>>Cd-<<BP<A>>Cd-<<BP<A>>Cd-<<BP<A>>Cd-<<BP<A>>Cd-<<BP<A>>Cd-<<BP<A>>Cd-<<BP<A>>Cd-<<BP<A>>Cd-<<BP<A>>Cd-<<BP<A>>Cd-<<BP<A>>Cd-<<BP<A>>Cd-<<BP<A>>Cd-<<BP<A>>Cd-<<BP<A>>Cd-<<BP<A>>Cd-<<BP<A>>Cd-<<BP<A>>Cd-<<BP<A>>Cd-<<BP<A>>Cd-<<BP<A>>Cd-<<BP<A>>Cd-<<BP<A>>Cd-<<BP<A>>Cd-<<BP<A>>Cd-<<BP<A>>Cd-<<BP<A>>Cd-<<BP<A>>Cd-<<BP<A>>Cd-<<BP<A>>Cd-<<BP<A>>Cd-<<BP<A>>Cd-<<BP<A>>Cd-<<BP<A>>Cd-<<BP<A>>Cd-<<BP<A>>Cd-<<BP<A>>Cd-<<BP<A>>Cd-<<BP<A>>Cd-<<BP<A>>Cd-<<BP<A>>Cd-<<BP<A>>Cd-<<BP<A>>Cd-<<BP<A>>Cd-<<BP<A>>Cd-<<BP<A>>Cd-<<BP<A>>Cd-<<BP<A>>Cd-<<BP<A>>Cd-<<BP<A>>Cd-<<BP<A>>Cd-<<BP<A>>Cd-<<BP<A>>Cd-<<BP<A>>Cd-<<BP<A>>Cd-<<BP<A>>Cd-<<BP<A>>Cd-<<BP<A>>Cd-<<BP<A>>Cd-<<BP<A>>Cd-<<BP<A>>Cd-<<BP<A>>Cd-<<BP<A>>Cd-<<BP<A>>Cd-<<BP<A>>Cd-<<BP<A>>Cd-<<BP<A>>Cd-<<BP<A>>Cd-<<BP<A>>Cd-<<BP<A>>Cd-<<BP<A>>Cd-<<BP<A>>Cd-<<BP<A>>Cd-<<BP<A>>Cd-<<BP<A>>Cd-<<BP<A>>Cd-<<BP<A>>Cd-<<BP<A>>Cd-<<BP<A>>Cd-<<BP<A>>Cd-<<BP<A>>Cd-<<BP<A>>Cd-<<BP<A>>Cd-<<BP<A>>Cd-<<BP<A>>Cd-<<BP<A>>Cd-<<BP<A>>Cd-<<BP<A>>Cd-<<BP<A>>Cd-<<BP<A>>Cd-<<BP<A>>Cd-<<BP<A>>Cd-<<BP<A>>Cd-<<BP<A>>Cd-<<BP<A>>Cd-<<BP<A>>Cd-<<BP<A>>Cd-<<BP<A>>Cd-<<BP<A>>Cd-<<BP<A>>Cd-<<BP<A>>Cd-<<BP<A>>Cd-<<BP<A>>Cd-<<BP<A>>Cd-<<BP<A>>Cd-<<BP<A>>Cd-<<BP<A>>Cd-<<BP<A>>Cd-<<BP<A>>Cd-<<BP<A>>Cd-<<BP<A>>Cd-<<BP<A>>Cd-<<BP<A>>Cd-<<BP<A>>Cd-<<BP<A>>Cd-<<BP<A>>Cd-<<BP<A>>Cd-<<BP<A>>Cd-<<BP<A>>Cd-<<BP<A>>Cd-<<BP<A>>Cd-<<BP<A>>Cd-<<BP<A>>Cd-<<BP<A>>Cd-<<BP<A>>Cd-<<BP<A>>Cd-<<BP<A>>Cd-<<BP<A>>Cd-<<BP<A>>Cd-<<BP<A>>Cd-<<BP<A>>Cd-<<BP<A>>Cd-<<BP<A>>Cd-<<BP<A>>Cd-<<BP<A>>Cd-<<BP<A>>Cd-<<BP<A>>Cd-<<BP<A>>Cd-<<BP<A>>Cd-<<BP<A>>Cd-<<BP<A>>Cd-<<BP<A>>Cd-<<BP<A>>Cd-<<BP<A>>Cd-<<BP<A>>Cd-<<BP<A>>Cd-<<BP<A>>Cd-<<BP<A>>Cd-<<BP<A>>Cd-<<BP<A>>Cd-<<BP<A>>Cd-<<BP<A>>Cd-<<BP<A>>Cd-<<BP<A>>Cd-<<BP<A>>Cd-<<BP<A>>Cd-<<BP<A>>Cd-<<BP<A>>Cd-<<BP<A>>Cd-<<BP<A>>Cd-<<BP<A>>Cd-<<BP<A>>Cd-<<BP<A>>Cd-<<BP<A>>Cd-<<BP<A>>Cd-<<BP<A>>Cd-<<BP<A>>Cd-<<BP<A>>Cd-<<BP<A>>Cd-<<BP<A>>Cd-<<BP<A>>Cd-<<BP<A>>Cd-<<BP<A>>Cd-<<BP<A>>Cd-<<BP<A>>Cd-<<BP<A>>Cd-<<BP<A>>Cd-<<BP<A>>Cd-<<BP<A>>Cd-<<BP<A>>Cd-<<BP<A>>Cd-<<BP<A>>Cd-<<BP<A>>Cd-<<BP<A>>Cd-<<BP<A>>Cd-<<BP<A>>Cd-<<BP<A>>Cd-<<BP<A>>Cd-<<BP<A>>Cd-<<BP<A>>Cd-<<BP<A>>Cd-<<BP<A>>Cd-<<BP<A>>Cd-<<BP<A>>Cd-<<BP<A>>Cd-<<BP<A>>Cd-<<BP<A>>Cd-<<BP<A>>Cd-<<BP<A>>Cd-<<BP<A>>Cd-<<BP<A>>Cd-<<BP<A>>Cd-<<BP<A>>Cd-<<BP<A>>Cd-<<BP<A>>Cd-<<BP<A>>Cd-<<BP<A>>Cd-<<BP<A>>Cd-<<BP<A>>Cd-<<BP<A>>Cd-<<BP<A>>Cd-<<BP<A>>Cd-<<BP<A>>Cd-<<BP<A>>Cd-<<BP<A>>Cd-<<BP<A>>Cd-<<BP<A>>Cd-<<BP<A>>Cd-<<BP<A>>Cd-<<BP<A>>Cd-<<BP<A>>Cd-<<BP<A>>Cd-<<BP<A>>Cd-<<BP<A>>Cd-<<BP<A>>Cd-<<BP<A>>Cd-<<BP<A>>Cd-<<BP<A>>Cd-<<BP<A>>Cd-<<BP<A>>Cd-<<BP<A>>Cd-<<BP<A>>Cd-<<BP<A>>Cd-<<BP<A>>Cd-<<BP<A>>Cd-<<BP<A>>Cd-<<BP<A>>Cd-<<BP<A>>Cd-<<BP<A>>Cd-<<BP<A>>Cd-<<BP<A>>Cd-<<BP<A>>Cd-<<BP<A>>Cd-<<BP<A>>Cd-<<BP<A>>Cd-<<BP<A>>Cd-<<BP<A>>Cd-<<BP<A>>Cd-<<BP<A>>Cd-<<BP<A>>Cd-<<BP<A>>Cd-<<BP<A>>Cd-<<BP<A>>Cd-<<BP<A>>Cd-<<BP<A>>Cd-<<BP<A>>Cd-<<BP<A>>Cd-<<BP<A>>Cd-<<BP<A>>Cd-<<BP<A>>Cd-<<BP<A>>Cd-<<BP<A>>Cd-<<BP<A>>Cd-<<BP<A>>Cd-<<BP<A>>Cd-<<BP<A>>Cd-<<BP<A>>Cd-<<BP<A>>Cd-<<BP<A>>Cd-<<BP<A>>Cd-<<BP<A>>Cd-<<BP<A>>Cd-<<BP<A>>Cd-<<BP<A>>Cd-<<BP<A>>Cd-<<BP<A>>Cd-<<BP<A>>Cd-<<BP<A>>Cd-<<BP<A>>Cd-<<BP<A>>Cd-<<BP<A>>Cd-<<BP<A>>Cd-<<BP<A>>Cd-<<BP<A>>Cd-<<BP<A>>Cd-<<BP<A>>Cd-<<BP<A>>Cd-<<BP<A>>Cd-<<BP<A>>Cd-<<BP<A>>Cd-<<BP<A>>Cd-<<BP<A>>Cd-<<BP<A>>Cd-<<BP<A>>Cd-<<BP<A>>Cd-<<BP<A>>Cd-<<BP<A>>Cd-<<BP<A>>Cd-<<BP<A>>Cd-<<BP<A>>Cd-<<BP<A>>Cd-<<BP<A>>Cd-<<BP<A>>Cd-<<BP<A>>Cd-<<BP<A>>Cd-<<BP<A>>Cd-<<BP<A>>Cd-<<BP<A>>Cd-<<BP<A>>Cd-<<BP<A>>Cd-<<BP<A>>Cd-<<BP<A>>Cd-<<BP<A>>Cd-<<BP<A>>Cd-<<BP<A>>Cd-<<BP<A>>Cd-<<BP<A>>Cd-<<BP<A>>Cd-<<BP<A>>Cd-<<BP<A>>Cd-<<BP<A>>Cd-<<BP<A>>Cd-<<BP<A>>Cd-<<BP<A>>Cd-<<BP<A>>Cd-<<BP<A>>Cd-<<BP<A>>Cd-<<BP<A>>Cd-<<BP<A>>Cd-<<BP<A>>Cd-<<BP<A>>Cd-<<BP<A>>Cd-<<BP<A>>Cd-<<BP<A>>Cd-<<BP<A>>Cd-<<BP<A>>Cd-<<BP<A>>Cd-<<BP<A>>Cd-<<BP<A>>Cd-<<BP<A>>Cd-<<BP<A>>Cd-<<BP<A>>Cd-<<BP<A>>Cd-<<BP<A>>Cd-<<BP<A>>Cd-<<BP<A>>Cd-<<BP<A>>Cd-<<BP<A>>Cd-<<BP<A>>Cd-<<BP<A>>Cd-<<BP<A>>Cd-<<BP<A>>Cd-<<BP<A>>Cd-<<BP<A>>Cd-<<BP<A>>Cd-<<BP<A>>Cd-<<BP<A>>Cd-<<BP<A>>Cd-<<BP<A>>Cd-<<BP<A>>Cd-<<BP<A>>Cd-<<BP<A>>Cd-<<BP<A>>Cd-<<BP<A>>Cd-<<BP<A>>Cd-<<BP<A>>Cd-<<BP<A>>Cd-<<BP<A>>Cd-<<BP<A>>Cd-<<BP<A>>Cd-<<BP<A>>Cd-<<BP<A>>Cd-<<BP<A>>Cd-<<BP<A>>Cd-<<BP<A>>Cd-<<BP<A>>Cd-<<BP<A>>Cd-<<BP<A>>Cd-<<BP<A>>Cd-<<BP<A>>Cd-<<BP<A>>Cd-<<BP<A>>Cd-<<BP<A>>Cd-<<BP<A>>Cd-<<BP<A>>Cd-<<BP<A>>Cd-<<BP<A>>Cd-<<BP<A>>Cd-<<BP<A>>Cd-<<BP<A>>Cd-<<BP<A>>Cd-<<BP<A>>Cd-<<BP<A>>Cd-<<BP<A>>Cd-<<BP<A>>Cd-<<BP<A>>Cd-<<BP<A>>Cd-<<BP<A>>Cd-<<BP<A>>Cd-<<BP<A>>Cd-<<BP<A>>Cd-<<BP<A>>Cd-<<BP<A>>Cd-<<BP<A>>Cd-<<BP<A>>Cd-<<BP<A>>Cd-<<BP<A>>Cd-<<BP<A>>Cd-<<BP<A>>Cd-<<BP<A>>Cd-<<BP<A>>Cd-<<BP<A>>Cd-<<BP<A>>Cd-<<BP<A>>Cd-<<BP<A>>Cd-<<BP<A>>Cd-<<BP<A>>Cd-<<BP<A>>Cd-<<BP<A>>Cd-<<BP<A>>Cd-<<BP<A>>Cd-<<BP<A>>Cd-<<BP<A>>Cd-<<BP<A>>Cd-<<BP<A>>Cd-<<BP<A>>Cd-<<BP<A>>Cd-<<BP<A>>Cd-<<BP<A>>Cd-<<BP<A>>Cd-<<BP<A>>Cd-<<BP<A>>Cd-<<BP<A>>Cd-<<BP<A>>Cd-<<BP<A>>Cd-<<BP<A>>Cd-<<BP<A>>Cd-<<BP<A>>Cd-<<BP<A>>Cd-<<BP<A>>Cd-<<BP<A>>Cd-<<BP<A>>Cd-<<BP<A>>Cd-<<BP<A>>Cd-<<BP<A>>Cd-<<BP<A>>Cd-<<BP<A>>Cd-<<BP<A>>Cd-<<BP<A>>Cd-<<BP<A>>Cd-<<BP<A>>Cd-<<BP<A>>Cd-<<BP<A>>Cd-<<BP<A>>Cd-<<BP<A>>Cd-<<BP<A>>Cd-<<BP<A>>Cd-<<BP<A>>Cd-<<BP<A>>Cd-<<BP<A>>Cd-<<BP<A>>Cd-<<BP<A>>Cd-<<BP<A>>Cd-<<BP<A>>Cd-<<BP<A>>Cd-<<BP<A>>Cd-<<BP<A>>Cd-<<BP<A>>Cd-<<BP<A>>Cd-<<BP<A>>Cd-<<BP<A>>Cd-<<BP<A>>Cd-<<BP<A>>Cd-<<BP<A>>Cd-<<BP<A>>Cd-<<BP<A>>Cd-<<BP<A>>Cd-<<BP<A>>Cd-<<BP<A>>Cd-<<BP<A>>Cd-<<BP<A>>Cd-<<BP<A>>Cd-<<BP<A>>Cd-<<BP<A>>Cd-<<BP<A>>Cd-<<BP<A>>Cd-<<BP<A>>Cd-<<BP<A>>Cd-<<BP<A>>Cd-<<BP<A>>Cd-<<BP<A>>Cd-<<BP<A>>Cd-<<BP<A>>Cd-<<BP<A>>Cd-<<BP<A>>Cd-<<BP<A>>Cd-<<BP<A>>Cd-<<BP<A>>Cd-<<BP<A>>Cd-<<BP<A>>Cd-<<BP<A>>Cd-<<BP<A>>Cd-<<BP<A>>Cd-<<BP<A>>Cd-<<BP<A>>Cd-<<BP<A>>Cd-<<BP<A>>Cd-<<BP<A>>Cd-<<BP<A>>Cd-<<BP<A>>Cd-<<BP<A>>Cd-<<BP<A>>Cd-<<BP<A>>Cd-<<BP<A>>Cd-<<BP<A>>Cd-<<BP<A>>Cd-<<BP<A>>Cd-<<BP<A>>Cd-<<BP<A>>Cd-<<BP<A>>Cd-<<BP<A>>Cd-<<BP<A>>Cd-<<BP<A>>Cd-<<BP<A>>Cd-<<BP<A>>Cd-<<BP<A>>Cd-<<BP<A>>Cd-<<BP<A>>Cd-<<BP<A>>Cd-<<BP<A>>Cd-<<BP<A>>Cd-<<BP<A>>Cd-<<BP<A>>Cd-<<BP<A>>Cd-<<BP<A>>Cd-<<BP<A>>Cd-<<BP<A>>Cd-<<BP<A>>Cd-<<BP<A>>Cd-<<BP<A>>Cd-<<BP<A>>Cd-<<BP<A>>Cd-<<BP<A>>Cd-<<BP<A>>Cd-<<BP<A>>Cd-<<BP<A>>Cd-<<BP<A>>Cd-<<BP<A>>Cd-<<BP<A>>Cd-<<BP<A>>Cd-<<BP<A>>Cd-<<BP<A>>Cd-<<BP<A>>Cd-<<BP<A>>Cd-<<BP<A>>Cd-<<BP<A>>Cd-<<BP<A>>Cd-<<BP<A>>Cd-<<BP<A>>Cd-<<BP<A>>Cd-<<BP<A>>Cd-<<BP<A>>Cd-<<BP<A>>Cd-<<BP<A>>Cd-<<BP<A>>Cd-<<BP<A>>Cd-<<BP<A>>Cd-<<BP<A>>Cd-<<BP<A>>Cd-<<BP<A>>Cd-<<BP<A>>Cd-<<BP<A>>Cd-<<BP<A>>Cd-<<BP<A>>Cd-<<BP<A>>Cd-<<BP<A>>Cd-<<BP<A>>Cd-<<BP<A>>Cd-<<BP<A>>Cd-<<BP<A>>Cd-<<BP<A>>Cd-<<BP<A>>Cd-<<BP<A>>Cd-<<BP<A>>Cd-<<BP<A>>Cd-<<BP<A>>Cd-<<BP<A>>Cd-<<BP<A>>Cd-<<BP<A>>Cd-<<BP<A>>Cd-<<BP<A>>Cd-<<BP<A>>Cd-<<BP<A>>Cd-<<BP<A>>Cd-<<BP<A>>Cd-<<BP<A>>Cd-<<BP<A>>Cd-<<BP<A>>Cd-<<BP<A>>Cd-<<BP<A>>Cd-<<BP<A>>Cd-<<BP<A>>Cd-<<BP<A>>Cd-<<BP<A>>Cd-<<BP<A>>Cd-<<BP<A>>Cd-<<BP<A>>Cd-<<BP<A>>Cd-<<BP<A>>Cd-<<BP<A>>Cd-<<BP<A>>Cd-<<BP<A>>Cd-<<BP<A>>Cd-<<BP<A>>Cd-<<BP<A>>Cd-<<BP<A>>Cd-<<BP<A>>Cd-<<BP<A>>Cd-<<BP<A>>Cd-<<BP<A>>Cd-<<BP<A>>Cd-<<BP<A>>Cd-<<BP<A>>Cd-<<BP<A>>Cd-<<BP<A>>Cd-<<BP<A>>Cd-<<BP<A>>Cd-<<BP<A>>Cd-<<BP<A>>Cd-<<BP<A>>Cd-<<BP<A>>Cd-<<BP<A>>Cd-<<BP<A>>Cd-<<BP<A>>Cd-<<BP<A>>Cd-<<BP<A>>Cd-<<BP<A>>Cd-<<BP<A>>Cd-<<BP<A>>Cd-<<BP<A>>Cd-<<BP<A>>Cd-<<BP<A>>Cd-<<BP<A>>Cd-<<BP<A>>Cd-<<BP<A>>Cd-<<BP<A>>Cd-<<BP<A>>Cd-<<BP<A>>Cd-<<BP<A>>Cd-<<BP<A>>Cd-<<BP<A>>Cd-<<BP<A>>Cd-<<BP<A>>Cd-<<BP<A>>Cd-<<BP<A>>Cd-<<BP<A>>Cd-<<BP<A>>Cd-<<BP<A>>Cd-<<BP<A>>Cd-<<BP<A>>Cd-<<BP<A>>Cd-<<BP<A>>Cd-<<BP<A>>Cd-<<BP<A>>Cd-<<BP<A>>Cd-<<BP<A>>Cd-<<BP<A>>Cd-<<BP<A>>Cd-<<BP<A>>Cd-<<BP<A>>Cd-<<BP<A>>Cd-<<BP<A>>Cd-<<BP<A>>Cd-<<BP<A>>Cd-<<BP<A>>Cd-<<BP<A>>Cd-<<BP<A>>Cd-<<BP<A>>Cd-<<BP<A>>Cd-<<BP<A>>Cd-<<BP<A>>Cd-<<BP<A>>Cd-<<BP<A>>Cd-<<BP<A>>Cd-<<BP<A>>Cd-<<BP<A>>Cd-<<BP<A>>Cd-<<BP<A>>Cd-<<BP<A>>Cd-<<BP<A>>Cd-<<BP<A>>Cd-<<BP<A>>Cd-<<BP<A>>Cd-<<BP<A>>Cd-<<BP<A>>Cd-<<BP<A>>Cd-<<BP<A>>Cd-<<BP<A>>Cd-<<BP<A>>Cd-<<BP<A>>Cd-<<BP<A>>Cd-<<BP<A>>Cd-<<BP<A>>Cd-<<BP<A>>Cd-<<BP<A>>Cd-<<BP<A>>Cd-<<BP<A>>Cd-<<BP<A>>Cd-<<BP<A>>Cd-<<BP<A>>Cd-<<BP<A>>Cd-<<BP<A>>Cd-<<BP<A>>Cd-<<BP<A>>Cd-<<BP<A>>Cd-<<BP<A>>Cd-<<BP<A>>Cd-<<BP<A>>Cd-<<BP<A>>Cd-<<BP<A>>Cd-<<BP<A>>Cd-<<BP<A>>Cd-<<BP<A>>Cd-<<BP<A>>Cd-<<BP<A>>Cd-<<BP<A>>Cd-<<BP<A>>Cd-<<BP<A>>Cd-<<BP<A>>Cd-<<BP<A>>Cd-<<BP<A>>Cd-<<BP<A>>Cd-<<BP<A>>Cd-<<BP<A>>Cd-<<BP<A>>Cd-<<BP<A>>Cd-<<BP<A>>Cd-<<BP<A>>Cd-<<BP<A>>Cd-<<BP<A>>Cd-<<BP<A>>Cd-<<BP<A>>Cd-<<BP<A>>Cd-<<BP<A>>Cd-<<BP<A>>Cd-<<BP<A>>Cd-<<BP<A>>Cd-<<BP<A>>Cd-<<BP<A>>Cd-<<BP<A>>Cd-<<BP<A>>Cd-<<BP<A>>Cd-<<BP<A>>Cd-<<BP<A>>Cd-<<BP<A>>Cd-<<BP<A>>Cd-<<BP<A>>Cd-<<BP<A>>Cd-<<BP<A>>Cd-<<BP<A>>Cd-<<BP<A>>Cd-<<BP<A>>Cd-<<BP<A>>Cd-<<BP<A>>Cd-<<BP<A>>Cd-<<BP<A>>Cd-<<BP<A>>Cd-<<BP<A>>Cd-<<BP<A>>Cd-<<BP<A>>Cd-<<BP<A>>Cd-<<BP<A>>Cd-<<BP<A>>Cd-<<BP<A>>Cd-<<BP<A>>Cd-<<BP<A>>Cd-<<BP<A>>Cd-<<BP<A>>Cd-<<BP<A>>Cd-<<BP<A>>Cd-<<BP<A>>Cd-<<BP<A>>Cd-<<BP<A>>Cd-<<BP<A>>Cd-<<BP<A>>Cd-<<BP<A>>Cd-<<BP<A>>Cd-<<BP<A>>Cd-<<BP<A>>Cd-<<BP<A>>Cd-<<BP<A>>Cd-<<BP<A>>Cd-<<BP<A>>Cd-<<BP<A>>Cd-<<BP<A>>Cd-<<BP<A>>Cd-<<BP<A>>Cd-<<BP<A>>Cd-<<BP<A>>Cd-<<BP<A>>Cd-<<BP<A>>Cd-<<BP<A>>Cd-<<BP<A>>Cd-<<BP<A>>Cd-<<BP<A>>Cd-<<BP<A>>Cd-<<BP<A>>Cd-<<BP<A>>Cd-<<BP<A>>Cd-<<BP<A>>Cd-<<BP<A>>Cd-<<BP<A>>Cd-<<BP<A>>Cd-<<BP<A>>Cd-<<BP<A>>Cd-<<BP<A>>Cd-<<BP<A>>Cd-<<BP<A>>Cd-<<BP<A>>Cd-<<BP<A>>Cd-<<BP<A>>Cd-<<BP<A>>Cd-<<BP<A>>Cd-<<BP<A>>Cd-<<BP<A>>Cd-<<BP<A>>Cd-<<BP<A>>Cd-<<BP<A>>Cd-<<BP<A>>Cd-<<BP<A>>Cd-<<BP<A>>Cd-<<BP<A>>Cd-<<BP<A>>Cd-<<BP<A>>Cd-<<BP<A>>Cd-<<BP<A>>Cd-<<BP<A>>Cd-<<BP<A>>Cd-<<BP<A>>Cd-<<BP<A>>Cd-<<BP<A>>Cd-<<BP<A>>Cd-<<BP<A>>Cd-<<BP<A>>Cd-<<BP<A>>Cd-<<BP<A>>Cd-<<BP<A>>Cd-<<BP<A>>Cd-<<BP<A>>Cd-<<BP<A>>Cd-<<BP<A>>Cd-<<BP<A>>Cd-<<BP<A>>Cd-<<BP<A>>Cd-<<BP<A>>Cd-<<BP<A>>Cd-<<BP<A>>Cd-<<BP<A>>Cd-<<BP<A>>Cd-<<BP<A>>Cd-<<BP<A>>Cd-<<BP<A>>Cd-<<BP<A>>Cd-<<BP<A>>Cd-<<BP<A>>Cd-<<BP<A>>Cd-<<BP<A>>Cd-<<BP<A>>Cd-<<BP<A>>Cd-<<BP<A>>Cd-<<BP<A>>Cd-<<BP<A>>Cd-<<BP<A>>Cd-<<BP<A>>Cd-<<BP<A>>Cd-<<BP<A>>Cd-<<BP<A>>Cd-<<BP<A>>Cd-<<BP<A>>Cd-<<BP<A>>Cd-<<BP<A>>Cd-<<BP<A>>Cd-<<BP<A>>Cd-<<BP<A>>Cd-<<BP<A>>Cd-<<BP<A>>Cd-<<BP<A>>Cd-<<BP<A>>Cd-<<BP<A>>Cd-<<BP<A>>Cd-<<BP<A>>Cd-<<BP<A>>Cd-<<BP<A>>Cd-<<BP<A>>Cd-<<BP<A>>Cd-<<BP<A>>Cd-<<BP<A>>Cd-<<BP<A>>Cd-<<BP<A>>Cd-<<BP<A>>Cd-<<BP<A>>Cd-<<BP<A>>Cd-<<BP<A>>Cd-<<BP<A>>Cd-<<BP<A>>Cd-<<BP<A>>Cd-<<BP<A>>Cd-<<BP<A>>Cd-<<BP<A>>Cd-<<BP<A>>Cd-<<BP<A>>Cd-<<BP<A>>Cd-<<BP<A>>Cd-<<BP<A>>Cd-<<BP<A>>Cd-<<BP<A>>Cd-<<BP<A>>Cd-<<BP<A>>Cd-<<BP<A>>Cd-<<BP<A>>Cd-<<BP<A>>Cd-<<BP<A>>Cd-<<BP<A>>Cd-<<BP<A>>Cd-<<BP<A>>Cd-<<BP<A>>Cd-<<BP<A>>Cd-<<BP<A>>Cd-<<BP<A>>Cd-<<BP<A>>Cd-<<BP<A>>Cd-<<BP<A>>Cd-<<BP<A>>Cd-<<BP<A>>Cd-<<BP<A>>Cd-<<BP<A>>Cd-<<BP<A>>Cd-<<BP<A>>Cd-<<BP<A>>Cd-<<BP<A>>Cd-<<BP<A>>Cd-<<BP<A>>Cd-<<BP<A>>Cd-<<BP<A>>Cd-<<BP<A>>Cd-<<BP<A>>Cd-<<BP<A>>Cd-<<BP<A>>Cd-<<BP<A>>Cd-<<BP<A>>Cd-<<BP<A>>Cd-<<BP<A>>Cd-<<BP<A>>Cd-<<BP<A>>Cd-<<BP<A>>Cd-<<BP<A>>Cd-<<BP<A>>Cd-<<BP<A>>Cd-<<BP<A>>Cd-<<BP<A>>Cd-<<BP<A>>Cd-<<BP<A>>Cd-<<BP<A>>Cd-<<BP<A>>Cd-<<BP<A>>Cd-<<BP<A>>Cd-<<BP<A>>Cd-<<BP<A>>Cd-<<BP<A>>Cd-<<BP<A>>Cd-<<BP<A>>Cd-<<BP<A>>Cd-<<BP<A>>Cd-<<BP<A>>Cd-<<BP<A>>Cd-<<BP<A>>Cd-<<BP<A>>Cd-<<BP<A>>Cd-<<BP<A>>Cd-<<BP<A>>Cd-<<BP<A>>Cd-<<BP<A>>Cd-<<BP<A>>Cd-<<BP<A>>Cd-<<BP<A>>Cd-<<BP<A>>Cd-<<BP<A>>Cd-<<BP<A>>Cd-<<BP<A>>Cd-<<BP<A>>Cd-<<BP<A>>Cd-<<BP<A>>Cd-<<BP<A>>Cd-<<BP<A>>Cd-<<BP<A>>Cd-<<BP<A>>Cd-<<BP<A>>Cd-<<BP<A>>Cd-<<BP<A>>Cd-<<BP<A>>Cd-<<BP<A>>Cd-<<BP<A>>Cd-<<BP<A>>Cd-<<BP<A>>Cd-<<BP<A>>Cd-<<BP<A>>Cd-<<BP<A>>Cd-<<BP<A>>Cd-<<BP<A>>Cd-<<BP<A>>Cd-<<BP<A>>Cd-<<BP<A>>Cd-<<BP<A>>Cd-<<BP<A>>Cd-<<BP<A>>Cd-<<BP<A>>Cd-<<BP<A>>Cd-<<BP<A>>Cd-<<BP<A>>Cd-<<BP<A>>Cd-<<BP<A>>Cd-<<BP<A>>Cd-<<BP<A>>Cd-<<BP<A>>Cd-<<BP<A>>Cd-<<BP<A>>Cd-<<BP<A>>Cd-<<BP<A>>Cd-<<BP<A>>Cd-<<BP<A>>Cd-<<BP<A>>Cd-<<BP<A>>Cd-<<BP<A>>Cd-<<BP<A>>Cd-<<BP<A>>Cd-<<BP<A>>Cd-<<BP<A>>Cd-<<BP<A>>Cd-<<BP<A>>Cd-<<BP<A>>Cd-<<BP<A>>Cd-<<BP<A>>Cd-<<BP<A>>Cd-<<BP<A>>Cd-<<BP<A>>Cd-<<BP<A>>Cd-<<BP<A>>Cd-<<BP<A>>Cd-<<BP<A>>Cd-<<BP<A>>Cd-<<BP<A>>Cd-<<BP<A>>Cd-<<BP<A>>Cd-<<BP<A>>Cd-<<BP<A>>Cd-<<BP<A>>Cd-<<BP<A>>Cd-<<BP<A>>Cd-<<BP<A>>Cd-<<BP<A>>Cd-<<BP<A>>Cd-<<BP<A>>Cd-<<BP<A>>Cd-<<BP<A>>Cd-<<BP<A>>Cd-<<BP<A>>Cd-<<BP<A>>Cd-<<BP<A>>Cd-<<BP<A>>Cd-<<BP<A>>Cd-<<BP<A>>Cd-<<BP<A>>Cd-<<BP<A>>Cd-<<BP<A>>Cd-<<BP<A>>Cd-<<BP<A>>Cd-<<BP<A>>Cd-<<BP<A>>Cd-<<BP<A>>Cd-<<BP<A>>Cd-<<BP<A>>Cd-<<BP<A>>Cd-<<BP<A>>Cd-<<BP<A>>Cd-<<BP<A>>Cd-<<BP<A>>Cd-<<BP<A>>Cd-<<BP<A>>Cd-<<BP<A>>Cd-<<BP<A>>Cd-<<BP<A>>Cd-<<BP<A>>Cd-<<BP<A>>Cd-<<BP<A>>Cd-<<BP<A>>Cd-<<BP<A>>Cd-<<BP<A>>Cd-<<BP<A>>Cd-<<BP<A>>Cd-<<BP<A>>Cd-<<BP<A>>Cd-<<BP<A>>Cd-<<BP<A>>Cd-<<BP<A>>Cd-<<BP<A>>Cd-<<BP<A>>Cd-<<BP<A>>Cd-<<BP<A>>Cd-<<BP<A>>Cd-<<BP<A>>Cd-<<BP<A>>Cd-<<BP<A>>Cd-<<BP<A>>Cd-<<BP<A>>Cd-<<BP<A>>Cd-<<BP<A>>Cd-<<BP<A>>Cd-<<BP<A>>Cd-<<BP<A>>Cd-<<BP<A>>Cd-<<BP<A>>Cd-<<BP<A>>Cd-<<BP<A>>Cd-<<BP<A>>Cd-<<BP<A>>Cd-<<BP<A>>Cd-<<BP<A>>Cd-<<BP<A>>Cd-<<BP<A>>Cd-<<BP<A>>Cd-<<BP<A>>Cd-<<BP<A>>Cd-<<BP<A>>Cd-<<BP<A>>Cd-<<BP<A>>Cd-<<BP<A>>Cd-<<BP<A>>Cd-<<BP<A>>Cd-<<BP<A>>Cd-<<BP<A>>Cd-<<BP<A>>Cd-<<BP<A>>Cd-<<BP<A>>Cd-<<BP<A>>Cd-<<BP<A>>Cd-<<BP<A>>Cd-<<BP<A>>Cd-<<BP<A>>Cd-<<BP<A>>Cd-<<BP<A>>Cd-<<BP<A>>Cd-<<BP<A>>Cd-<<BP<A>>Cd-<<BP<A>>Cd-<<BP<A>>Cd-<<BP<A>>Cd-<<BP<A>>Cd-<<BP<A>>Cd-<<BP<A>>Cd-<<BP<A>>Cd-<<BP<A>>Cd-<<BP<A>>Cd-<<BP<A>>Cd-<<BP<A>>Cd-<<BP<A>>Cd-<<BP<A>>Cd-<<BP<A>>Cd-<<BP<A>>Cd-<<BP<A>>Cd-<<BP<A>>Cd-<<BP<A>>Cd-<<BP<A>>Cd-<<BP<A>>Cd-<<BP<A>>Cd-<<BP<A>>Cd-<<BP<A>>Cd-<<BP<A>>Cd-<<BP<A>>Cd-<<BP<A>>Cd-<<BP<A>>Cd-<<BP<A>>Cd-<<BP<A>>Cd-<<BP<A>>Cd-<<BP<A>>Cd-<<BP<A>>Cd-<<BP<A>>Cd-<<BP<A>>Cd-<<BP<A>>Cd-<<BP<A>>Cd-<<BP<A>>Cd-<<BP<A>>Cd-<<BP<A>>Cd-<<BP<A>>Cd-<<BP<A>>Cd-<<BP<A>>Cd-<<BP<A>>Cd-<<BP<A>>Cd-<<BP<A>>Cd-<<BP<A>>Cd-<<BP<A>>Cd-<<BP<A>>Cd-<<BP<A>>Cd-<<BP<A>>Cd-<<BP<A>>Cd-<<BP<A>>Cd-<<BP<A>>Cd-<<BP<A>>Cd-<<BP<A>>Cd-<<BP<A>>Cd-<<BP<A>>Cd-<<BP<A>>Cd-<<BP<A>>Cd-<<BP<A>>Cd-<<BP<A>>Cd-<<BP<A>>Cd-<<BP<A>>Cd-<<BP<A>>Cd-<<BP<A>>Cd-<<BP<A>>Cd-<<BP<A>>Cd-<<BP<A>>Cd-<<BP<A>>Cd-<<BP<A>>Cd-<<BP<A>>Cd-<<BP<A>>Cd-<<BP<A>>Cd-<<BP<A>>Cd-<<BP<A>>Cd-<<BP<A>>Cd-<<BP<A>>Cd-<<BP<A>>Cd-<<BP<A>>Cd-<<BP<A>>Cd-<<BP<A>>Cd-<<BP<A>>Cd-<<BP<A>>Cd-<<BP<A>>Cd-<<BP<A>>Cd-<<BP<A>>Cd-<<BP<A>>Cd-<<BP<A>>Cd-<<BP<A>>Cd-<<BP<A>>Cd-<<BP<A>>Cd-<<BP<A>>Cd-<<BP<A>>Cd-<<BP<A>>Cd-<<BP<A>>Cd-<<BP<A>>Cd-<<BP<A>>Cd-<<BP<A>>Cd-<<BP<A>>Cd-<<BP<A>>Cd-<<BP<A>>Cd-<<BP<A>>Cd-<<BP<A>>Cd-<<BP<A>>Cd-<<BP<A>>Cd-<<BP<A>>Cd-<<BP<A>>Cd-<<BP<A>>Cd-<<BP<A>>Cd-<<BP<A>>Cd-<<BP<A>>Cd-<<BP<A>>Cd-<<BP<A>>Cd-<<BP<A>>Cd-<<BP<A>>Cd-<<BP<A>>Cd-<<BP<A>>Cd-<<BP<A>>Cd-<<BP<A>>Cd-<<BP<A>>Cd-<<BP<A>>Cd-<<BP<A>>Cd-<<BP<A>>Cd-<<BP<A>>Cd-<<BP<A>>Cd-<<BP<A>>Cd-<<BP<A>>Cd-<<BP<A>>Cd-<<BP<A>>Cd-<<BP<A>>Cd-<<BP<A>>Cd-<<BP<A>>Cd-<<BP<A>>Cd-<<BP<A>>Cd-<<BP<A>>Cd-<<BP<A>>Cd-<<BP<A>>Cd-<<BP<A>>Cd-<<BP<A>>Cd-<<BP<A>>Cd-<<BP<A>>Cd-<<BP<A>>Cd-<<BP<A>>Cd-<<BP<A>>Cd-<<BP<A>>Cd-<<BP<A>>Cd-<<BP<A>>Cd-<<BP<A>>Cd-<<BP<A>>Cd-<<BP<A>>Cd-<<BP<A>>Cd-<<BP<A>>Cd-<<BP<A>>Cd-<<BP<A>>Cd-<<BP<A>>Cd-<<BP<A>>Cd-<<BP<A>>Cd-<<BP<A>>Cd-<<BP<A>>Cd-<<BP<A>>Cd-<<BP<A>>Cd-<<BP<A>>Cd-<<BP<A>>Cd-<<BP<A>>Cd-<<BP<A>>Cd-<<BP<A>>Cd-<<BP<A>>Cd-<<BP<A>>Cd-<<BP<A>>Cd-<<BP<A>>Cd-<<BP<A>>Cd-<<BP<A>>Cd-<<BP<A>>Cd-<<BP<A>>Cd-<<BP<A>>Cd-<<BP<A>>Cd-<<BP<A>>Cd-<<BP<A>>Cd-<<BP<A>>Cd-<<BP<A>>Cd-<<BP<A>>Cd-<<BP<A>>Cd-<<BP<A>>Cd-<<BP<A>>Cd-<<BP<A>>Cd-<<BP<A>>Cd-<<BP<A>>Cd-<<BP<A>>Cd-<<BP<A>>Cd-<<BP<A>>Cd-<<BP<A>>Cd-<<BP<A>>Cd-<<BP<A>>Cd-<<BP<A>>Cd-<<BP<A>>Cd-<<BP<A>>Cd-<<BP<A>>Cd-<<BP<A>>Cd-<<BP<A>>Cd-<<BP<A>>Cd-<<BP<A>>Cd-<<BP<A>>Cd-<<BP<A>>Cd-<<BP<A>>Cd-<<BP<A>>Cd-<<BP<A>>Cd-<<BP<A>>Cd-<<BP<A>>Cd-<<BP<A>>Cd-<<BP<A>>Cd-<<BP<A>>Cd-<<BP<A>>Cd-<<BP<A>>Cd-<<BP<A>>Cd-<<BP<A>>Cd-<<BP<A>>Cd-<<BP<A>>Cd-<<BP<A>>Cd-<<BP<A>>Cd-<<BP<A>>Cd-<<BP<A>>Cd-<<BP<A>>Cd-<<BP<A>>Cd-<<BP<A>>Cd-<<BP<A>>Cd-<<BP<A>>Cd-<<BP<A>>Cd-<<BP<A>>Cd-<<BP<A>>Cd-<<BP<A>>Cd-<<BP<A>>Cd-<<BP<A>>Cd-<<BP<A>>Cd-<<BP<A>>Cd-<<BP<A>>Cd-<<BP<A>>Cd-<<BP<A>>Cd-<<BP<A>>Cd-<<BP<A>>Cd-<<BP<A>>Cd-<<BP<A>>Cd-<<BP<A>>Cd-<<BP<A>>Cd-<<BP<A>>Cd-<<BP<A>>Cd-<<BP<A>>Cd-<<BP<A>>Cd-<<BP<A>>Cd-<<BP<A>>Cd-<<BP<A>>Cd-<<BP<A>>Cd-<<BP<A>>Cd-<<BP<A>>Cd-<<BP<A>>Cd-<<BP<A>>Cd-<<BP<A>>Cd-<<BP<A>>Cd-<<BP<A>>Cd-<<BP<A>>Cd-<<BP<A>>Cd-<<BP<A>>Cd-<<BP<A>>Cd-<<BP<A>>Cd-<<BP<A>>Cd-<<BP<A>>Cd-<<BP<A>>Cd-<<BP<A>>Cd-<<BP<A>>Cd-<<BP<A>>Cd-<<BP<A>>Cd-<<BP<A>>Cd-<<BP<A>>Cd-<<BP<A>>Cd-<<BP<A>>Cd-<<BP<A>>Cd-<<BP<A>>Cd-<<BP<A>>Cd-<<BP<A>>Cd-<<BP<A>>Cd-<<BP<A>>Cd-<<BP<A>>Cd-<<BP<A>>Cd-<<BP<A>>Cd-<<BP<A>>Cd-<<BP<A>>Cd-<<BP<A>>Cd-<<BP<A>>Cd-<<BP<A>>Cd-<<BP<A>>Cd-<<BP<A>>Cd-<<BP<A>>Cd-<<BP<A>>Cd-<<BP<A>>Cd-<<BP<A>>Cd-<<BP<A>>Cd-<<BP<A>>Cd-<<BP<A>>Cd-<<BP<A>>Cd-<<BP<A>>Cd-<<BP<A>>Cd-<<BP<A>>Cd-<<BP<A>>Cd-<<BP<A>>Cd-<<BP<A>>Cd-<<BP<A>>Cd-<<BP<A>>Cd-<<BP<A>>Cd-<<BP<A>>Cd-<<BP<A>>Cd-<<BP<A>>Cd-<<BP<A>>Cd-<<BP<A>>Cd-<<BP<A>>Cd-<<BP<A>>Cd-<<BP<A>>Cd-<<BP<A>>Cd-<<BP<A>>Cd-<<BP<A>>Cd-<<BP<A>>Cd-<<BP<A>>Cd-<<BP<A>>Cd-<<BP<A>>Cd-<<BP<A>>Cd-<<BP<A>>Cd-<<BP<A>>Cd-<<BP<A>>Cd-<<BP<A>>Cd-<<BP<A>>Cd-<<BP<A>>Cd-<<BP<A>>Cd-<<BP<A>>Cd-<<BP<A>>Cd-<<BP<A>>Cd-<<BP<A>>Cd-<<BP<A>>Cd-<<BP<A>>Cd-<<BP<A>>Cd-<<BP<A>>Cd-<<BP<A>>Cd-<<BP<A>>Cd-<<BP<A>>Cd-<<BP<A>>Cd-<<BP<A>>Cd-<<BP<A>>Cd-<<BP<A>>Cd-<<BP<A>>Cd-<<BP<A>>Cd-<<BP<A>>Cd-<<BP<A>>Cd-<<BP<A>>Cd-<<BP<A>>Cd-<<BP<A>>Cd-<<BP<A>>Cd-<<BP<A>>Cd-<<BP<A>>Cd-<<BP<A>>Cd-<<BP<A>>Cd-<<BP<A>>Cd-<<BP<A>>Cd-<<BP<A>>Cd-<<BP<A>>Cd-<<BP<A>>Cd-<<BP<A>>Cd-<<BP<A>>Cd-<<BP<A>>Cd-<<BP<A>>Cd-<<BP<A>>Cd-<<BP<A>>Cd-<<BP<A>>Cd-<<BP<A>>Cd-<<BP<A>>Cd-<<BP<A>>Cd-<<BP<A>>Cd-<<BP<A>>Cd-<<BP<A>>Cd-<<BP<A>>Cd-<<BP<A>>Cd-<<BP<A>>Cd-<<BP<A>>Cd-<<BP<A>>Cd-<<BP<A>>Cd-<<BP<A>>Cd-<<BP<A>>Cd-<<BP<A>>Cd-<<BP<A>>Cd-<<BP<A>>Cd-<<BP<A>>Cd-<<BP<A>>Cd-<<BP<A>>Cd-<<BP<A>>Cd-<<BP<A>>Cd-<<BP<A>>Cd-<<BP<A>>Cd-<<BP<A>>Cd-<<BP<A>>Cd-<<BP<A>>Cd-<<BP<A>>Cd-<<BP<A>>Cd-<<BP<A>>Cd-<<BP<A>>Cd-<<BP<A>>Cd-<<BP<A>>Cd-<<BP<A>>Cd-<<BP<A>>Cd-<<BP<A>>Cd-<<BP<A>>Cd-<<BP<A>>Cd-<<BP<A>>Cd-<<BP<A>>Cd-<<BP<A>>Cd-<<BP<A>>Cd-<<BP<A>>Cd-<<BP<A>>Cd-<<BP<A>>Cd-<<BP<A>>Cd-<<BP<A>>Cd-<<BP<A>>Cd-<<BP<A>>Cd-<<BP<A>>Cd-<<BP<A>>Cd-<<BP<A>>Cd-<<BP<A>>Cd-<<BP<A>>Cd-<<BP<A>>Cd-<<BP<A>>Cd-<<BP<A>>Cd-<<BP<A>>Cd-<<BP<A>>Cd-<<BP<A>>Cd-<<BP<A>>Cd-<<BP<A>>Cd-<<BP<A>>Cd-<<BP<A>>Cd-<<BP<A>>Cd-<<BP<A>>Cd-<<BP<A>>Cd-<<BP<A>>Cd-<<BP<A>>Cd-<<BP<A>>Cd-<<BP<A>>Cd-<<BP<A>>Cd-<<BP<A>>Cd-<<BP<A>>Cd-<<BP<A>>Cd-<<BP<A>>Cd-<<BP<A>>Cd-<<BP<A>>Cd-<<BP<A>>Cd-<<BP<A>>Cd-<<BP<A>>Cd-<<BP<A>>Cd-<<BP<A>>Cd-<<BP<A>>Cd-<<BP<A>>Cd-<<BP<A>>Cd-<<BP<A>>Cd-<<BP<A>>Cd-<<BP<A>>Cd-<<BP<A>>Cd-<<BP<A>>Cd-<<BP<A>>Cd-<<BP<A>>Cd-<<BP<A>>Cd-<<BP<A>>Cd-<<BP<A>>Cd-<<BP<A>>Cd-<<BP<A>>Cd-<<BP<A>>Cd-<<BP<A>>Cd-<<BP<A>>Cd-<<BP<A>>Cd-<<BP<A>>Cd-<<BP<A>>Cd-<<BP<A>>Cd-<<BP<A>>Cd-<<BP<A>>Cd-<<BP<A>>Cd-<<BP<A>>Cd-<<BP<A>>Cd-<<BP<A>>Cd-<<BP<A>>Cd-<<BP<A>>Cd-<<BP<A>>Cd-<<BP<A>>Cd-<<BP<A>>Cd-<<BP<A>>Cd-<<BP<A>>Cd-<<BP<A>>Cd-<<BP<A>>Cd-<<BP<A>>Cd-<<BP<A>>Cd-<<BP<A>>Cd-<<BP<A>>Cd-<<BP<A>>Cd-<<BP<A>>Cd-<<BP<A>>Cd-<<BP<A>>Cd-<<BP<A>>Cd-<<BP<A>>Cd-<<BP<A>>Cd-<<BP<A>>Cd-<<BP<A>>Cd-<<BP<A>>Cd-<<BP<A>>Cd-<<BP<A>>Cd-<<BP<A>>Cd-<<BP<A>>Cd-<<BP<A>>Cd-<<BP<A>>Cd-<<BP<A>>Cd-<<BP<A>>Cd-<<BP<A>>Cd-<<BP<A>>Cd-<<BP<A>>Cd-<<BP<A>>Cd-<<BP<A>>Cd-<<BP<A>>Cd-<<BP<A>>Cd-<<BP<A>>Cd-<<BP<A>>Cd-<<BP<A>>Cd-<<BP<A>>Cd-<<BP<A>>Cd-<<BP<A>>Cd-<<BP<A>>Cd-<<BP<A>>Cd-<<BP<A>>Cd-<<BP<A>>Cd-<<BP<A>>Cd-<<BP<A>>Cd-<<BP<A>>Cd-<<BP<A>>Cd-<<BP<A>>Cd-<<BP<A>>Cd-<<BP<A>>Cd-<<BP<A>>Cd-<<BP<A>>Cd-<<BP<A>>Cd-<<BP<A>>Cd-<<BP<A>>Cd-<<BP<A>>Cd-<<BP<A>>Cd-<<BP<A>>Cd-<<BP<A>>Cd-<<BP<A>>Cd-<<BP<A>>Cd-<<BP<A>>Cd-<<BP<A>>Cd-<<BP<A>>Cd-<<BP<A>>Cd-<<BP<A>>Cd-<<BP<A>>Cd-<<BP<A>>Cd-<<BP<A>>Cd-<<BP<A>>Cd-<<BP<A>>Cd-<<BP<A>>Cd-<<BP<A>>Cd-<<BP<A>>Cd-<<BP<A>>Cd-<<BP<A>>Cd-<<BP<A>>Cd-<<BP<A>>Cd-<<BP<A>>Cd-<<BP<A>>Cd-<<BP<A>>Cd-<<BP<A>>Cd-<<BP<A>>Cd-<<BP<A>>Cd-<<BP<A>>Cd-<<BP<A>>Cd-<<BP<A>>Cd-<<BP<A>>Cd-<<BP<A>>Cd-<<BP<A>>Cd-<<BP<A>>Cd-<<BP<A>>Cd-<<BP<A>>Cd-<<BP<A>>Cd-<<BP<A>>Cd-<<BP<A>>Cd-<<BP<A>>Cd-<<BP<A>>Cd-<<BP<A>>Cd-<<BP<A>>Cd-<<BP<A>>Cd-<<BP<A>>Cd-<<BP<A>>Cd-<<BP<A>>Cd-<<BP<A>>Cd-<<BP<A>>Cd-<<BP<A>>Cd-<<BP<A>>Cd-<<BP<A>>Cd-<<BP<A>>Cd-<<BP<A>>Cd-<<BP<A>>Cd-<<BP<A>>Cd-<<BP<A>>Cd-<<BP<A>>Cd-<<BP<A>>Cd-<<BP<A>>Cd-<<BP<A>>Cd-<<BP<A>>Cd-<<BP<A>>Cd-<<BP<A>>Cd-<<BP<A>>Cd-<<BP<A>>Cd-<<BP<A>>Cd-<<BP<A>>Cd-<<BP<A>>Cd-<<BP<A>>Cd-<<BP<A>>Cd-<<BP<A>>Cd-<<BP<A>>Cd-<<BP<A>>Cd-<<BP<A>>Cd-<<BP<A>>Cd-<<BP<A>>Cd-<<BP<A>>Cd-<<BP<A>>Cd-<<BP<A>>Cd-<<BP<A>>Cd-<<BP<A>>Cd-<<BP<A>>Cd-<<BP<A>>Cd-<<BP<A>>Cd-<<BP<A>>Cd-<<BP<A>>Cd-<<BP<A>>Cd-<<BP<A>>Cd-<<BP<A>>Cd-<<BP<A>>Cd-<<BP<A>>Cd-<<BP<A>>Cd-<<BP<A>>Cd-<<BP<A>>Cd-<<BP<A>>Cd-<<BP<A>>Cd-<<BP<A>>Cd-<<BP<A>>Cd-<<BP<A>>Cd-<<BP<A>>Cd-<<BP<A>>Cd-<<BP<A>>Cd-<<BP<A>>Cd-<<BP<A>>Cd-<<BP<A>>Cd-<<BP<A>>Cd-<<BP<A>>Cd-<<BP<A>>Cd-<<BP<A>>Cd-<<BP<A>>Cd-<<BP<A>>Cd-<<BP<A>>Cd-<<BP<A>>Cd-<<BP<A>>Cd-<<BP<A>>Cd-<<BP<A>>Cd-<<BP<A>>Cd-<<BP<A>>Cd-<<BP<A>>Cd-<<BP<A>>Cd-<<BP<A>>Cd-<<BP<A>>Cd-<<BP<A>>Cd-<<BP<A>>Cd-<<BP<A>>Cd-<<BP<A>>Cd-<<BP<A>>Cd-<<BP<A>>Cd-<<BP<A>>Cd-<<BP<A>>Cd-<<BP<A>>Cd-<<BP<A>>Cd-<<BP<A>>Cd-<<BP<A>>Cd-<<BP<A>>Cd-<<BP<A>>Cd-<<BP<A>>Cd-<<BP<A>>Cd-<<BP<A>>Cd-<<BP<A>>Cd-<<BP<A>>Cd-<<BP<A>>Cd-<<BP<A>>Cd-<<BP<A>>Cd-<<BP<A>>Cd-<<BP<A>>Cd-<<BP<A>>Cd-<<BP<A>>Cd-<<BP<A>>Cd-<<BP<A>>Cd-<<BP<A>>Cd-<<BP<A>>Cd-<<BP<A>>Cd-<<BP<A>>Cd-<<BP<A>>Cd-<<BP<A>>Cd-<<BP<A>>Cd-<<BP<A>>Cd-<<BP<A>>Cd-<<BP<A>>Cd-<<BP<A>>Cd-<<BP<A>>Cd-<<BP<A>>Cd-<<BP<A>>Cd-<<BP<A>>Cd-<<BP<A>>Cd-<<BP<A>>Cd-<<BP<A>>Cd-<<BP<A>>Cd-<<BP<A>>Cd-<<BP<A>>Cd-<<BP<A>>Cd-<<BP<A>>Cd-<<BP<A>>Cd-<<BP<A>>Cd-<<BP<A>>Cd-<<BP<A>>Cd-<<BP<A>>Cd-<<BP<A>>Cd-<<BP<A>>Cd-<<BP<A>>Cd-<<BP<A>>Cd-<<BP<A>>Cd-<<BP<A>>Cd-<<BP<A>>Cd-<<BP<A>>Cd-<<BP<A>>Cd-<<BP<A>>Cd-<<BP<A>>Cd-<<BP<A>>Cd-<<BP<A>>Cd-<<BP<A>>Cd-<<BP<A>>Cd-<<BP<A>>Cd-<<BP<A>>Cd-<<BP<A>>Cd-<<BP<A>>Cd-<<BP<A>>Cd-<<BP<A>>Cd-<<BP<A>>Cd-<<BP<A>>Cd-<<BP<A>>Cd-<<BP<A>>Cd-<<BP<A>>Cd-<<BP<A>>Cd-<<BP<A>>Cd-<<BP<A>>Cd-<<BP<A>>Cd-<<BP<A>>Cd-<<BP<A>>Cd-<<BP<A>>Cd-<<BP<A>>Cd-<<BP<A>>Cd-<<BP<A>>Cd-<<BP<A>>Cd-<<BP<A>>Cd-<<BP<A>>Cd-<<BP<A>>Cd-<<BP<A>>Cd-<<BP<A>>Cd-<<BP<A>>Cd-<<BP<A>>Cd-<<BP<A>>Cd-<<BP<A>>Cd-<<BP<A>>Cd-<<BP<A>>Cd-<<BP<A>>Cd-<<BP<A>>Cd-<<BP<A>>Cd-<<BP<A>>Cd-<<BP<A>>Cd-<<BP<A>>Cd-<<BP<A>>Cd-<<BP<A>>Cd-<<BP<A>>Cd-<<BP<A>>Cd-<<BP<A>>Cd-<<BP<A>>Cd-<<BP<A>>Cd-<<BP<A>>Cd-<<BP<A>>Cd-<<BP<A>>Cd-<<BP<A>>Cd-<<BP<A>>Cd-<<BP<A>>Cd-<<BP<A>>Cd-<<BP<A>>Cd-<<BP<A>>Cd-<<BP<A>>Cd-<<BP<A>>Cd-<<BP<A>>Cd-<<BP<A>>Cd-<<BP<A>>Cd-<<BP<A>>Cd-<<BP<A>>Cd-<<BP<A>>Cd-<<BP<A>>Cd-<<BP<A>>Cd-<<BP<A>>Cd-<<BP<A>>Cd-<<BP<A>>Cd-<<BP<A>>Cd-<<BP<A>>Cd-<<BP<A>>Cd-<<BP<A>>Cd-<<BP<A>>Cd-<<BP<A>>Cd-<<BP<A>>Cd-<<BP<A>>Cd-<<BP<A>>Cd-<<BP<A>>Cd-<<BP<A>>Cd-<<BP<A>>Cd-<<BP<A>>Cd-<<BP<A>>Cd-<<BP<A>>Cd-<<BP<A>>Cd-<<BP<A>>Cd-<<BP<A>>Cd-<<BP<A>>Cd-<<BP<A>>Cd-<<BP<A>>Cd-<<BP<A>>Cd-<<BP<A>>Cd-<<BP<A>>Cd-<<BP<A>>Cd-<<BP<A>>Cd-<<BP<A>>Cd-<<BP<A>>Cd-<<BP<A>>Cd-<<BP<A>>Cd-<<BP<A>>Cd-<<BP<A>>Cd-<<BP<A>>Cd-<<BP<A>>Cd-<<BP<A>>Cd-<<BP<A>>Cd-<<BP<A>>Cd-<<BP<A>>Cd-<<BP<A>>Cd-<<BP<A>>Cd-<<BP<A>>Cd-<<BP<A>>Cd-<<BP<A>>Cd-<<BP<A>>Cd-<<BP<A>>Cd-<<BP<A>>Cd-<<BP<A>>Cd-<<BP<A>>Cd-<<BP<A>>Cd-<<BP<A>>Cd-<<BP<A>>Cd-<<BP<A>>Cd-<<BP<A>>Cd-<<BP<A>>Cd-<<BP<A>>Cd-<<BP<A>>Cd-<<BP<A>>Cd-<<BP<A>>Cd-<<BP<A>>Cd-<<BP<A>>Cd-<<BP<A>>Cd-<<BP<A>>Cd-<<BP<A>>Cd-<<BP<A>>Cd-<<BP<A>>Cd-<<BP<A>>Cd-<<BP<A>>Cd-<<BP<A>>Cd-<<BP<A>>Cd-<<BP<A>>Cd-<<BP<A>>Cd-<<BP<A>>Cd-<<BP<A>>Cd-<<BP<A>>Cd-<<BP<A>>Cd-<<BP<A>>Cd-<<BP<A>>Cd-<<BP<A>>Cd-<<BP<A>>Cd-<<BP<A>>Cd-<<BP<A>>Cd-<<BP<A>>Cd-<<BP<A>>Cd-<<BP<A>>Cd-<<BP<A>>Cd-<<BP<A>>Cd-<<BP<A>>Cd-<<BP<A>>Cd-<<BP<A>>Cd-<<BP<A>>Cd-<<BP<A>>Cd-<<BP<A>>Cd-<<BP<A>>Cd-<<BP<A>>Cd-<<BP<A>>Cd-<<BP<A>>Cd-<<BP<A>>Cd-<<BP<A>>Cd-<<BP<A>>Cd-<<BP<A>>Cd-<<BP<A>>Cd-<<BP<A>>Cd-<<BP<A>>Cd-<<BP<A>>Cd-<<BP<A>>Cd-<<BP<A>>Cd-<<BP<A>>Cd-<<BP<A>>Cd-<<BP<A>>Cd-<<BP<A>>Cd-<<BP<A>>Cd-<<BP<A>>Cd-<<BP<A>>Cd-<<BP<A>>Cd-<<BP<A>>Cd-<<BP<A>>Cd-<<BP<A>>Cd-<<BP<A>>Cd-<<BP<A>>Cd-<<BP<A>>Cd-<<BP<A>>Cd-<<BP<A>>Cd-<<BP<A>>Cd-<<BP<A>>Cd-<<BP<A>>Cd-<<BP<A>>Cd-<<BP<A>>Cd-<<BP<A>>Cd-<<BP<A>>Cd-<<BP<A>>Cd-<<BP<A>>Cd-<<BP<A>>Cd-<<BP<A>>Cd-<<BP<A>>Cd-<<BP<A>>Cd-<<BP<A>>Cd-<<BP<A>>Cd-<<BP<A>>Cd-<<BP<A>>Cd-<<BP<A>>Cd-<<BP<A>>Cd-<<BP<A>>Cd-<<BP<A>>Cd-<<BP<A>>Cd-<<BP<A>>Cd-<<BP<A>>Cd-<<BP<A>>Cd-<<BP<A>>Cd-<<BP<A>>Cd-<<BP<A>>Cd-<<BP<A>>Cd-<<BP<A>>Cd-<<BP<A>>Cd-<<BP<A>>Cd-<<BP<A>>Cd-<<BP<A>>Cd-<<BP<A>>Cd-<<BP<A>>Cd-<<BP<A>>Cd-<<BP<A>>Cd-<<BP<A>>Cd-<<BP<A>>Cd-<<BP<A>>Cd-<<BP<A>>Cd-<<BP<A>>Cd-<<BP<A>>Cd-<<BP<A>>Cd-<<BP<A>>Cd-<<BP<A>>Cd-<<BP<A>>Cd-<<BP<A>>Cd-<<BP<A>>Cd-<<BP<A>>Cd-<<BP<A>>Cd-<<BP<A>>Cd-<<BP<A>>Cd-<<BP<A>>Cd-<<BP<A>>Cd-<<BP<A>>Cd-<<BP<A>>Cd-<<BP<A>>Cd-<<BP<A>>Cd-<<BP<A>>Cd-<<BP<A>>Cd-<<BP<A>>Cd-<<BP<A>>Cd-<<BP<A>>Cd-<<BP<A>>Cd-<<BP<A>>Cd-<<BP<A>>Cd-<<BP<A>>Cd-<<BP<A>>Cd-<<BP<A>>Cd-<<BP<A>>Cd-<<BP<A>>Cd-<<BP<A>>Cd-<<BP<A>>Cd-<<BP<A>>Cd-<<BP<A>>Cd-<<BP<A>>Cd-<<BP<A>>Cd-<<BP<A>>Cd-<<BP<A>>Cd-<<BP<A>>Cd-<<BP<A>>Cd-<<BP<A>>Cd-<<BP<A>>Cd-<<BP<A>>Cd-<<BP<A>>Cd-<<BP<A>>Cd-<<BP<A>>Cd-<<BP<A>>Cd-<<BP<A>>Cd-<<BP<A>>Cd-<<BP<A>>Cd-<<BP<A>>Cd-<<BP<A>>Cd-<<BP<A>>Cd-<<BP<A>>Cd-<<BP<A>>Cd-<<BP<A>>Cd-<<BP<A>>Cd-<<BP<A>>Cd-<<BP<A>>Cd-<<BP<A>>Cd-<<BP<A>>Cd-<<BP<A>>Cd-<<BP<A>>Cd-<<BP<A>>Cd-<<BP<A>>Cd-<<BP<A>>Cd-<<BP<A>>Cd-<<BP<A>>Cd-<<BP<A>>Cd-<<BP<A>>Cd-<<BP<A>>Cd-<<BP<A>>Cd-<<BP<A>>Cd-<<BP<A>>Cd-<<BP<A>>Cd-<<BP<A>>Cd-<<BP<A>>Cd-<<BP<A>>Cd-<<BP<A>>Cd-<<BP<A>>Cd-<<BP<A>>Cd-<<BP<A>>Cd-<<BP<A>>Cd-<<BP<A>>Cd-<<BP<A>>Cd-<<BP<A>>Cd-<<BP<A>>Cd-<<BP<A>>Cd-<<BP<A>>Cd-<<BP<A>>Cd-<<BP<A>>Cd-<<BP<A>>Cd-<<BP<A>>Cd-<<BP<A>>Cd-<<BP<A>>Cd-<<BP<A>>Cd-<<BP<A>>Cd-<<BP<A>>Cd-<<BP<A>>Cd-<<BP<A>>Cd-<<BP<A>>Cd-<<BP<A>>Cd-<<BP<A>>Cd-<<BP<A>>Cd-<<BP<A>>Cd-<<BP<A>>Cd-<<BP<A>>Cd-<<BP<A>>Cd-<<BP<A>>Cd-<<BP<A>>Cd-<<BP<A>>Cd-<<BP<A>>Cd-<<BP<A>>Cd-<<BP<A>>Cd-<<BP<A>>Cd-<<BP<A>>Cd-<<BP<A>>Cd-<<BP<A>>Cd-<<BP<A>>Cd-<<BP<A>>Cd-<<BP<A>>Cd-<<BP<A>>Cd-<<BP<A>>Cd-<<BP<A>>Cd-<<BP<A>>Cd-<<BP<A>>Cd-<<BP<A>>Cd-<<BP<A>>Cd-<<BP<A>>Cd-<<BP<A>>Cd-<<BP<A>>Cd-<<BP<A>>Cd-<<BP<A>>Cd-<<BP<A>>Cd-<<BP<A>>Cd-<<BP<A>>Cd-<<BP<A>>Cd-<<BP<A>>Cd-<<BP<A>>Cd-<<BP<A>>Cd-<<BP<A>>Cd-<<BP<A>>Cd-<<BP<A>>Cd-<<BP<A>>Cd-<<BP<A>>Cd-<<BP<A>>Cd-<<BP<A>>Cd-<<BP<A>>Cd-<<BP<A>>Cd-<<BP<A>>Cd-<<BP<A>>Cd-<<BP<A>>Cd-<<BP<A>>Cd-<<BP<A>>Cd-<<BP<A>>Cd-<<BP<A>>Cd-<<BP<A>>Cd-<<BP<A>>Cd-<<BP<A>>Cd-<<BP<A>>Cd-<<BP<A>>Cd-<<BP<A>>Cd-<<BP<A>>Cd-<<BP<A>>Cd-<<BP<A>>Cd-<<BP<A>>Cd-<<BP<A>>Cd-<<BP<A>>Cd-<<BP<A>>Cd-<<BP<A>>Cd-<<BP<A>>Cd-<<BP<A>>Cd-<<BP<A>>Cd-<<BP<A>>Cd-<<BP<A>>Cd-<<BP<A>>Cd-<<BP<A>>Cd-<<BP<A>>Cd-<<BP<A>>Cd-<<BP<A>>Cd-<<BP<A>>Cd-<<BP<A>>Cd-<<BP<A>>Cd-<<BP<A>>Cd-<<BP<A>>Cd-<<BP<A>>Cd-<<BP<A>>Cd-<<BP<A>>Cd-<<BP<A>>Cd-<<BP<A>>Cd-<<BP<A>>Cd-<<BP<A>>Cd-<<BP<A>>Cd-<<BP<A>>Cd-<<BP<A>>Cd-<<BP<A>>Cd-<<BP<A>>Cd-<<BP<A>>Cd-<<BP<A>>Cd-<<BP<A>>Cd-<<BP<A>>Cd-<<BP<A>>Cd-<<BP<A>>Cd-<<BP<A>>Cd-<<BP<A>>Cd-<<BP<A>>Cd-<<BP<A>>Cd-<<BP<A>>Cd-<<BP<A>>Cd-<<BP<A>>Cd-<<BP<A>>Cd-<<BP<A>>Cd-<<BP<A>>Cd-<<BP<A>>Cd-<<BP<A>>Cd-<<BP<A>>Cd-<<BP<A>>Cd-<<BP<A>>Cd-<<BP<A>>Cd-<<BP<A>>Cd-<<BP<A>>Cd-<<BP<A>>Cd-<<BP<A>>Cd-<<BP<A>>Cd-<<BP<A>>Cd-<<BP<A>>Cd-<<BP<A>>Cd-<<BP<A>>Cd-<<BP<A>>Cd-<<BP<A>>Cd-<<BP<A>>Cd-<<BP<A>>Cd-<<BP<A>>Cd-<<BP<A>>Cd-<<BP<A>>Cd-<<BP<A>>Cd-<<BP<A>>Cd-<<BP<A>>Cd-<<BP<A>>Cd-<<BP<A>>Cd-<<BP<A>>Cd-<<BP<A>>Cd-<<BP<A>>Cd-<<BP<A>>Cd-<<BP<A>>Cd-<<BP<A>>Cd-<<BP<A>>Cd-<<BP<A>>Cd-<<BP<A>>Cd-<<BP<A>>Cd-<<BP<A>>Cd-<<BP<A>>Cd-<<BP<A>>Cd-<<BP<A>>Cd-<<BP<A>>Cd-<<BP<A>>Cd-<<BP<A>>Cd-<<BP<A>>Cd-<<BP<A>>Cd-<<BP<A>>Cd-<<BP<A>>Cd-<<BP<A>>Cd-<<BP<A>>Cd-<<BP<A>>Cd-<<BP<A>>Cd-<<BP<A>>Cd-<<BP<A>>Cd-<<BP<A>>Cd-<<BP<A>>Cd-<<BP<A>>Cd-<<BP<A>>Cd-<<BP<A>>Cd-<<BP<A>>Cd-<<BP<A>>Cd-<<BP<A>>Cd-<<BP<A>>Cd-<<BP<A>>Cd-<<BP<A>>Cd-<<BP<A>>Cd-<<BP<A>>Cd-<<BP<A>>Cd-<<BP<A>>Cd-<<BP<A>>Cd-<<BP<A>>Cd-<<BP<A>>Cd-<<BP<A>>Cd-<<BP<A>>Cd-<<BP<A>>Cd-<<BP<A>>Cd-<<BP<A>>Cd-<<BP<A>>Cd-<<BP<A>>Cd-<<BP<A>>Cd-<<BP<A>>Cd-<<BP<A>>Cd-<<BP<A>>Cd-<<BP<A>>Cd-<<BP<A>>Cd-<<BP<A>>Cd-<<BP<A>>Cd-<<BP<A>>Cd-<<BP<A>>Cd-<<BP<A>>Cd-<<BP<A>>Cd-<<BP<A>>Cd-<<BP<A>>Cd-<<BP<A>>Cd-<<BP<A>>Cd-<<BP<A>>Cd-<<BP<A>>Cd-<<BP<A>>Cd-<<BP<A>>Cd-<<BP<A>>Cd-<<BP<A>>Cd-<<BP<A>>Cd-<<BP<A>>Cd-<<BP<A>>Cd-<<BP<A>>Cd-<<BP<A>>Cd-<<BP<A>>Cd-<<BP<A>>Cd-<<BP<A>>Cd-<<BP<A>>Cd-<<BP<A>>Cd-<<BP<A>>Cd-<<BP<A>>Cd-<<BP<A>>Cd-<<BP<A>>Cd-<<BP<A>>Cd-<<BP<A>>Cd-<<BP<A>>Cd-<<BP<A>>Cd-<<BP<A>>Cd-<<BP<A>>Cd-<<BP<A>>Cd-<<BP<A>>Cd-<<BP<A>>Cd-<<BP<A>>Cd-<<BP<A>>Cd-<<BP<A>>Cd-<<BP<A>>Cd-<<BP<A>>Cd-<<BP<A>>Cd-<<BP<A>>Cd-<<BP<A>>Cd-<<BP<A>>Cd-<<BP<A>>Cd-<<BP<A>>Cd-<<BP<A>>Cd-<<BP<A>>Cd-<<BP<A>>Cd-<<BP<A>>Cd-<<BP<A>>Cd-<<BP<A>>Cd-<<BP<A>>Cd-<<BP<A>>Cd-<<BP<A>>Cd-<<BP<A>>Cd-<<BP<A>>Cd-<<BP<A>>Cd-<<BP<A>>Cd-<<BP<A>>Cd-<<BP<A>>Cd-<<BP<A>>Cd-<<BP<A>>Cd-<<BP<A>>Cd-<<BP<A>>Cd-<<BP<A>>Cd-<<BP<A>>Cd-<<BP<A>>Cd-<<BP<A>>Cd-<<BP<A>>Cd-<<BP<A>>Cd-<<BP<A>>Cd-<<BP<A>>Cd-<<BP<A>>Cd-<<BP<A>>Cd-<<BP<A>>Cd-<<BP<A>>Cd-<<BP<A>>Cd-<<BP<A>>Cd-<<BP<A>>Cd-<<BP<A>>Cd-<<BP<A>>Cd-<<BP<A>>Cd-<<BP<A>>Cd-<<BP<A>>Cd-<<BP<A>>Cd-<<BP<A>>Cd-<<BP<A>>Cd-<<BP<A>>Cd-<<BP<A>>Cd-<<BP<A>>Cd-<<BP<A>>Cd-<<BP<A>>Cd-<<BP<A>>Cd-<<BP<A>>Cd-<<BP<A>>Cd-<<BP<A>>Cd-<<BP<A>>Cd-<<BP<A>>Cd-<<BP<A>>Cd-<<BP<A>>Cd-<<BP<A>>Cd-<<BP<A>>Cd-<<BP<A>>Cd-<<BP<A>>Cd-<<BP<A>>Cd-<<BP<A>>Cd-<<BP<A>>Cd-<<BP<A>>Cd-<<BP<A>>Cd-<<BP<A>>Cd-<<BP<A>>Cd-<<BP<A>>Cd-<<BP<A>>Cd-<<BP<A>>Cd-<<BP<A>>Cd-<<BP<A>>Cd-<<BP<A>>Cd-<<BP<A>>Cd-<<BP<A>>Cd-<<BP<A>>Cd-<<BP<A>>Cd-<<BP<A>>Cd-<<BP<A>>Cd-<<BP<A>>Cd-<<BP<A>>Cd-<<BP<A>>Cd-<<BP<A>>Cd-<<BP<A>>Cd-<<BP<A>>Cd-<<BP<A>>Cd-<<BP<A>>Cd-<<BP<A>>Cd-<<BP<A>>Cd-<<BP<A>>Cd-<<BP<A>>Cd-<<BP<A>>Cd-<<BP<A>>Cd-<<BP<A>>Cd-<<BP<A>>Cd-<<BP<A>>Cd-<<BP<A>>Cd-<<BP<A>>Cd-<<BP<A>>Cd-<<BP<A>>Cd-<<BP<A>>Cd-<<BP<A>>Cd-<<BP<A>>Cd-<<BP<A>>Cd-<<BP<A>>Cd-<<BP<A>>Cd-<<BP<A>>Cd-<<BP<A>>Cd-<<BP<A>>Cd-<<BP<A>>Cd-<<BP<A>>Cd-<<BP<A>>Cd-<<BP<A>>Cd-<<BP<A>>Cd-<<BP<A>>Cd-<<BP<A>>Cd-<<BP<A>>Cd-<<BP<A>>Cd-<<BP<A>>Cd-<<BP<A>>Cd-<<BP<A>>Cd-<<BP<A>>Cd-<<BP<A>>Cd-<<BP<A>>Cd-<<BP<A>>Cd-<<BP<A>>Cd-<<BP<A>>Cd-<<BP<A>>Cd-<<BP<A>>Cd-<<BP<A>>Cd-<<BP<A>>Cd-<<BP<A>>Cd-<<BP<A>>Cd-<<BP<A>>Cd-<<BP<A>>Cd-<<BP<A>>Cd-<<BP<A>>Cd-<<BP<A>>Cd-<<BP<A>>Cd-<<BP<A>>Cd-<<BP<A>>Cd-<<BP<A>>Cd-<<BP<A>>Cd-<<BP<A>>Cd-<<BP<A>>Cd-<<BP<A>>Cd-<<BP<A>>Cd-<<BP<A>>Cd-<<BP<A>>Cd-<<BP<A>>Cd-<<BP<A>>Cd-<<BP<A>>Cd-<<BP<A>>Cd-<<BP<A>>Cd-<<BP<A>>Cd-<<BP<A>>Cd-<<BP<A>>Cd-<<BP<A>>Cd-<<BP<A>>Cd-<<BP<A>>Cd-<<BP<A>>Cd-<<BP<A>>Cd-<<BP<A>>Cd-<<BP<A>>Cd-<<BP<A>>Cd-<<BP<A>>Cd-<<BP<A>>Cd-<<BP<A>>Cd-<<BP<A>>Cd-<<BP<A>>Cd-<<BP<A>>Cd-<<BP<A>>Cd-<<BP<A>>Cd-<<BP<A>>Cd-<<BP<A>>Cd-<<BP<A>>Cd-<<BP<A>>Cd-<<BP<A>>Cd-<<BP<A>>Cd-<<BP<A>>Cd-<<BP<A>>Cd-<<BP<A>>Cd-<<BP<A>>Cd-<<BP<A>>Cd-<<BP<A>>Cd-<<BP<A>>Cd-<<BP<A>>Cd-<<BP<A>>Cd-<<BP<A>>Cd-<<BP<A>>Cd-<<BP<A>>Cd-<<BP<A>>Cd-<<BP<A>>Cd-<<BP<A>>Cd-<<BP<A>>Cd-<<BP<A>>Cd-<<BP<A>>Cd-<<BP<A>>Cd-<<BP<A>>Cd-<<BP<A>>Cd-<<BP<A>>Cd-<<BP<A>>Cd-<<BP<A>>Cd-<<BP<A>>Cd-<<BP<A>>Cd-<<BP<A>>Cd-<<BP<A>>Cd-<<BP<A>>Cd-<<BP<A>>Cd-<<BP<A>>Cd-<<BP<A>>Cd-<<BP<A>>Cd-<<BP<A>>Cd-<<BP<A>>Cd-<<BP<A>>Cd-<<BP<A>>Cd-<<BP<A>>Cd-<<BP<A>>Cd-<<BP<A>>Cd-<<BP<A>>Cd-<<BP<A>>Cd-<<BP<A>>Cd-<<BP<A>>Cd-<<BP<A>>Cd-<<BP<A>>Cd-<<BP<A>>Cd-<<BP<A>>Cd-<<BP<A>>Cd-<<BP<A>>Cd-<<BP<A>>Cd-<<BP<A>>Cd-<<BP<A>>Cd-<<BP<A>>Cd-<<BP<A>>Cd-<<BP<A>>Cd-<<BP<A>>Cd-<<BP<A>>Cd-<<BP<A>>Cd-<<BP<A>>Cd-<<BP<A>>Cd-<<BP<A>>Cd-<<BP<A>>Cd-<<BP<A>>Cd-<<BP<A>>Cd-<<BP<A>>Cd-<<BP<A>>Cd-<<BP<A>>Cd-<<BP<A>>Cd-<<BP<A>>Cd-<<BP<A>>Cd-<<BP<A>>Cd-<<BP<A>>Cd-<<BP<A>>Cd-<<BP<A>>Cd-<<BP<A>>Cd-<<BP<A>>Cd-<<BP<A>>Cd-<<BP<A>>Cd-<<BP<A>>Cd-<<BP<A>>Cd-<<BP<A>>Cd-<<BP<A>>Cd-<<BP<A>>Cd-<<BP<A>>Cd-<<BP<A>>Cd-<<BP<A>>Cd-<<BP<A>>Cd-<<BP<A>>Cd-<<BP<A>>Cd-<<BP<A>>Cd-<<BP<A>>Cd-<<BP<A>>Cd-<<BP<A>>Cd-<<BP<A>>Cd-<<BP<A>>Cd-<<BP<A>>Cd-<<BP<A>>Cd-<<BP<A>>Cd-<<BP<A>>Cd-<<BP<A>>Cd-<<BP<A>>Cd-<<BP<A>>Cd-<<BP<A>>Cd-<<BP<A>>Cd-<<BP<A>>Cd-<<BP<A>>Cd-<<BP<A>>Cd-<<BP<A>>Cd-<<BP<A>>Cd-<<BP<A>>Cd-<<BP<A>>Cd-<<BP<A>>Cd-<<BP<A>>Cd-<<BP<A>>Cd-<<BP<A>>Cd-<<BP<A>>Cd-<<BP<A>>Cd-<<BP<A>>Cd-<<BP<A>>Cd-<<BP<A>>Cd-<<BP<A>>Cd-<<BP<A>>Cd-<<BP<A>>Cd-<<BP<A>>Cd-<<BP<A>>Cd-<<BP<A>>Cd-<<BP<A>>Cd-<<BP<A>>Cd-<<BP<A>>Cd-<<BP<A>>Cd-<<BP<A>>Cd-<<BP<A>>Cd-<<BP<A>>Cd-<<BP<A>>Cd-<<BP<A>>Cd-<<BP<A>>Cd-<<BP<A>>Cd-<<BP<A>>Cd-<<BP<A>>Cd-<<BP<A>>Cd-<<BP<A>>Cd-<<BP<A>>Cd-<<BP<A>>Cd-<<BP<A>>Cd-<<BP<A>>Cd-<<BP<A>>Cd-<<BP<A>>Cd-<<BP<A>>Cd-<<BP<A>>Cd-<<BP<A>>Cd-<<BP<A>>Cd-<<BP<A>>Cd-<<BP<A>>Cd-<<BP<A>>Cd-<<BP<A>>Cd-<<BP<A>>Cd-<<BP<A>>Cd-<<BP<A>>Cd-<<BP<A>>Cd-<<BP<A>>Cd-<<BP<A>>Cd-<<BP<A>>Cd-<<BP<A>>Cd-<<BP<A>>Cd-<<BP<A>>Cd-<<BP<A>>Cd-<<BP<A>>Cd-<<BP<A>>Cd-<<BP<A>>Cd-<<BP<A>>Cd-<<BP<A>>Cd-<<BP<A>>Cd-<<BP<A>>Cd-<<BP<A>>Cd-<<BP<A>>Cd-<<BP<A>>Cd-<<BP<A>>Cd-<<BP<A>>Cd-<<BP<A>>Cd-<<BP<A>>Cd-<<BP<A>>Cd-<<BP<A>>Cd-<<BP<A>>Cd-<<BP<A>>Cd-<<BP<A>>Cd-<<BP<A>>Cd-<<BP<A>>Cd-<<BP<A>>Cd-<<BP<A>>Cd-<<BP<A>>Cd-<<BP<A>>Cd-<<BP<A>>Cd-<<BP<A>>Cd-<<BP<A>>Cd-<<BP<A>>Cd-<<BP<A>>Cd-<<BP<A>>Cd-<<BP<A>>Cd-<<BP<A>>Cd-<<BP<A>>Cd-<<BP<A>>Cd-<<BP<A>>Cd-<<BP<A>>Cd-<<BP<A>>Cd-<<BP<A>>Cd-<<BP<A>>Cd-<<BP<A>>Cd-<<BP<A>>Cd-<<BP<A>>Cd-<<BP<A>>Cd-<<BP<A>>Cd-<<BP<A>>Cd-<<BP<A>>Cd-<<BP<A>>Cd-<<BP<A>>Cd-<<BP<A>>Cd-<<BP<A>>Cd-<<BP<A>>Cd-<<BP<A>>Cd-<<BP<A>>Cd-<<BP<A>>Cd-<<BP<A>>Cd-<<BP<A>>Cd-<<BP<A>>Cd-<<BP<A>>Cd-<<BP<A>>Cd-<<BP<A>>Cd-<<BP<A>>Cd-<<BP<A>>Cd-<<BP<A>>Cd-<<BP<A>>Cd-<<BP<A>>Cd-<<BP<A>>Cd-<<BP<A>>Cd-<<BP<A>>Cd-<<BP<A>>Cd-<<BP<A>>Cd-<<BP<A>>Cd-<<BP<A>>Cd-<<BP<A>>Cd-<<BP<A>>Cd-<<BP<A>>Cd-<<BP<A>>Cd-<<BP<A>>Cd-<<BP<A>>Cd-<<BP<A>>Cd-<<BP<A>>Cd-<<BP<A>>Cd-<<BP<A>>Cd-<<BP<A>>Cd-<<BP<A>>Cd-<<BP<A>>Cd-<<BP<A>>Cd-<<BP<A>>Cd-<<BP<A>>Cd-<<BP<A>>Cd-<<BP<A>>Cd-<<BP<A>>Cd-<<BP<A>>Cd-<<BP<A>>Cd-<<BP<A>>Cd-<<BP<A>>Cd-<<BP<A>>Cd-<<BP<A>>Cd-<<BP<A>>Cd-<<BP<A>>Cd-<<BP<A>>Cd-<<BP<A>>Cd-<<BP<A>>Cd-<<BP<A>>Cd-<<BP<A>>Cd-<<BP<A>>Cd-<<BP<A>>Cd-<<BP<A>>Cd-<<BP<A>>Cd-<<BP<A>>Cd-<<BP<A>>Cd-<<BP<A>>Cd-<<BP<A>>Cd-<<BP<A>>Cd-<<BP<A>>Cd-<<BP<A>>Cd-<<BP<A>>Cd-<<BP<A>>Cd-<<BP<A>>Cd-<<BP<A>>Cd-<<BP<A>>Cd-<<BP<A>>Cd-<<BP<A>>Cd-<<BP<A>>Cd-<<BP<A>>Cd-<<BP<A>>Cd-<<BP<A>>Cd-<<BP<A>>Cd-<<BP<A>>Cd-<<BP<A>>Cd-<<BP<A>>Cd-<<BP<A>>Cd-<<BP<A>>Cd-<<BP<A>>Cd-<<BP<A>>Cd-<<BP<A>>Cd-<<BP<A>>Cd-<<BP<A>>Cd-<<BP<A>>Cd-<<BP<A>>Cd-<<BP<A>>Cd-<<BP<A>>Cd-<<BP<A>>Cd-<<BP<A>>Cd-<<BP<A>>Cd-<<BP<A>>Cd-<<BP<A>>Cd-<<BP<A>>Cd-<<BP<A>>Cd-<<BP<A>>Cd-<<BP<A>>Cd-<<BP<A>>Cd-<<BP<A>>Cd-<<BP<A>>Cd-<<BP<A>>Cd-<<BP<A>>Cd-<<BP<A>>Cd-<<BP<A>>Cd-<<BP<A>>Cd-<<BP<A>>Cd-<<BP<A>>Cd-<<BP<A>>Cd-<<BP<A>>Cd-<<BP<A>>Cd-<<BP<A>>Cd-<<BP<A>>Cd-<<BP<A>>Cd-<<BP<A>>Cd-<<BP<A>>Cd-<<BP<A>>Cd-<<BP<A>>Cd-<<BP<A>>Cd-<<BP<A>>Cd-<<BP<A>>Cd-<<BP<A>>Cd-<<BP<A>>Cd-<<BP<A>>Cd-<<BP<A>>Cd-<<BP<A>>Cd-<<BP<A>>Cd-<<BP<A>>Cd-<<BP<A>>Cd-<<BP<A>>Cd-<<BP<A>>Cd-<<BP<A>>Cd-<<BP<A>>Cd-<<BP<A>>Cd-<<BP<A>>Cd-<<BP<A>>Cd-<<BP<A>>Cd-<<BP<A>>Cd-<<BP<A>>Cd-<<BP<A>>Cd-<<BP<A>>Cd-<<BP<A>>Cd-<<BP<A>>Cd-<<BP<A>>Cd-<<BP<A>>Cd-<<BP<A>>Cd-<<BP<A>>Cd-<<BP<A>>Cd-<<BP<A>>Cd-<<BP<A>>Cd-<<BP<A>>Cd-<<BP<A>>Cd-<<BP<A>>Cd-<<BP<A>>Cd-<<BP<A>>Cd-<<BP<A>>Cd-<<BP<A>>Cd-<<BP<A>>Cd-<<BP<A>>Cd-<<BP<A>>Cd-<<BP<A>>Cd-<<BP<A>>Cd-<<BP<A>>Cd-<<BP<A>>Cd-<<BP<A>>Cd-<<BP<A>>Cd-<<BP<A>>Cd-<<BP<A>>Cd-<<BP<A>>Cd-<<BP<A>>Cd-<<BP<A>>Cd-<<BP<A>>Cd-<<BP<A>>Cd-<<BP<A>>Cd-<<BP<A>>Cd-<<BP<A>>Cd-<<BP<A>>Cd-<<BP<A>>Cd-<<BP<A>>Cd-<<BP<A>>Cd-<<BP<A>>Cd-<<BP<A>>Cd-<<BP<A>>Cd-<<BP<A>>Cd-<<BP<A>>Cd-<<BP<A>>Cd-<<BP<A>>Cd-<<BP<A>>Cd-<<BP<A>>Cd-<<BP<A>>Cd-<<BP<A>>Cd-<<BP<A>>Cd-<<BP<A>>Cd-<<BP<A>>Cd-<<BP<A>>Cd-<<BP<A>>Cd-<<BP<A>>Cd-<<BP<A>>Cd-<<BP<A>>Cd-<<BP<A>>Cd-<<BP<A>>Cd-<<BP<A>>Cd-<<BP<A>>Cd-<<BP<A>>Cd-<<BP<A>>Cd-<<BP<A>>Cd-<<BP<A>>Cd-<<BP<A>>Cd-<<BP<A>>Cd-<<BP<A>>Cd-<<BP<A>>Cd-<<BP<A>>Cd-<<BP<A>>Cd-<<BP<A>>Cd-<<BP<A>>Cd-<<BP<A>>Cd-<<BP<A>>Cd-<<BP<A>>Cd-<<BP<A>>Cd-<<BP<A>>Cd-<<BP<A>>Cd-<<BP<A>>Cd-<<BP<A>>Cd-<<BP<A>>Cd-<<BP<A>>Cd-<<BP<A>>Cd-<<BP<A>>Cd-<<BP<A>>Cd-<<BP<A>>Cd-<<BP<A>>Cd-<<BP<A>>Cd-<<BP<A>>Cd-<<BP<A>>Cd-<<BP<A>>Cd-<<BP<A>>Cd-<<BP<A>>Cd-<<BP<A>>Cd-<<BP<A>>Cd-<<BP<A>>Cd-<<BP<A>>Cd-<<BP<A>>Cd-<<BP<A>>Cd-<<BP<A>>Cd-<<BP<A>>Cd-<<BP<A>>Cd-<<BP<A>>Cd-<<BP<A>>Cd-<<BP<A>>Cd-<<BP<A>>Cd-<<BP<A>>Cd-<<BP<A>>Cd-<<BP<A>>Cd-<<BP<A>>Cd-<<BP<A>>Cd-<<BP<A>>Cd-<<BP<A>>Cd-<<BP<A>>Cd-<<BP<A>>Cd-<<BP<A>>Cd-<<BP<A>>Cd-<<BP<A>>Cd-<<BP<A>>Cd-<<BP<A>>Cd-<<BP<A>>Cd-<<BP<A>>Cd-<<BP<A>>Cd-<<BP<A>>Cd-<<BP<A>>Cd-<<BP<A>>Cd-<<BP<A>>Cd-<<BP<A>>Cd-<<BP<A>>Cd-<<BP<A>>Cd-<<BP<A>>Cd-<<BP<A>>Cd-<<BP<A>>Cd-<<BP<A>>Cd-<<BP<A>>Cd-<<BP<A>>Cd-<<BP<A>>Cd-<<BP<A>>Cd-<<BP<A>>Cd-<<BP<A>>Cd-<<BP<A>>Cd-<<BP<A>>Cd-<<BP<A>>Cd-<<BP<A>>Cd-<<BP<A>>Cd-<<BP<A>>Cd-<<BP<A>>Cd-<<BP<A>>Cd-<<BP<A>>Cd-<<BP<A>>Cd-<<BP<A>>Cd-<<BP<A>>Cd-<<BP<A>>Cd-<<BP<A>>Cd-<<BP<A>>Cd-<<BP<A>>Cd-<<BP<A>>Cd-<<BP<A>>Cd-<<BP<A>>Cd-<<BP<A>>Cd-<<BP<A>>Cd-<<BP<A>>Cd-<<BP<A>>Cd-<<BP<A>>Cd-<<BP<A>>Cd-<<BP<A>>Cd-<<BP<A>>Cd-<<BP<A>>Cd-<<BP<A>>Cd-<<BP<A>>Cd-<<BP<A>>Cd-<<BP<A>>Cd-<<BP<A>>Cd-<<BP<A>>Cd-<<BP<A>>Cd-<<BP<A>>Cd-<<BP<A>>Cd-<<BP<A>>Cd-<<BP<A>>Cd-<<BP<A>>Cd-<<BP<A>>Cd-<<BP<A>>Cd-<<BP<A>>Cd-<<BP<A>>Cd-<<BP<A>>Cd-<<BP<A>>Cd-<<BP<A>>Cd-<<BP<A>>Cd-<<BP<A>>Cd-<<BP<A>>Cd-<<BP<A>>Cd-<<BP<A>>Cd-<<BP<A>>Cd-<<BP<A>>Cd-<<BP<A>>Cd-<<BP<A>>Cd-<<BP<A>>Cd-<<BP<A>>Cd-<<BP<A>>Cd-<<BP<A>>Cd-<<BP<A>>Cd-<<BP<A>>Cd-<<BP<A>>Cd-<<BP<A>>Cd-<<BP<A>>Cd-<<BP<A>>Cd-<<BP<A>>Cd-<<BP<A>>Cd-<<BP<A>>Cd-<<BP<A>>Cd-<<BP<A>>Cd-<<BP<A>>Cd-<<BP<A>>Cd-<<BP<A>>Cd-<<BP<A>>Cd-<<BP<A>>Cd-<<BP<A>>Cd-<<BP<A>>Cd-<<BP<A>>Cd-<<BP<A>>Cd-<<BP<A>>Cd-<<BP<A>>Cd-<<BP<A>>Cd-<<BP<A>>Cd-<<BP<A>>Cd-<<BP<A>>Cd-<<BP<A>>Cd-<<BP<A>>Cd-<<BP<A>>Cd-<<BP<A>>Cd-<<BP<A>>Cd-<<BP<A>>Cd-<<BP<A>>Cd-<<BP<A>>Cd-<<BP<A>>Cd-<<BP<A>>Cd-<<BP<A>>Cd-<<BP<A>>Cd-<<BP<A>>Cd-<<BP<A>>Cd-<<BP<A>>Cd-<<BP<A>>Cd-<<BP<A>>Cd-<<BP<A>>Cd-<<BP<A>>Cd-<<BP<A>>Cd-<<BP<A>>Cd-<<BP<A>>Cd-<<BP<A>>Cd-<<BP<A>>Cd-<<BP<A>>Cd-<<BP<A>>Cd-<<BP<A>>Cd-<<BP<A>>Cd-<<BP<A>>Cd-<<BP<A>>Cd-<<BP<A>>Cd-<<BP<A>>Cd-<<BP<A>>Cd-<<BP<A>>Cd-<<BP<A>>Cd-<<BP<A>>Cd-<<BP<A>>Cd-<<BP<A>>Cd-<<BP<A>>Cd-<<BP<A>>Cd-<<BP<A>>Cd-<<BP<A>>Cd-<<BP<A>>Cd-<<BP<A>>Cd-<<BP<A>>Cd-<<BP<A>>Cd-<<BP<A>>Cd-<<BP<A>>Cd-<<BP<A>>Cd-<<BP<A>>Cd-<<BP<A>>Cd-<<BP<A>>Cd-<<BP<A>>Cd-<<BP<A>>Cd-<<BP<A>>Cd-<<BP<A>>Cd-<<BP<A>>Cd-<<BP<A>>Cd-<<BP<A>>Cd-<<BP<A>>Cd-<<BP<A>>Cd-<<BP<A>>Cd-<<BP<A>>Cd-<<BP<A>>Cd-<<BP<A>>Cd-<<BP<A>>Cd-<<BP<A>>Cd-<<BP<A>>Cd-<<BP<A>>Cd-<<BP<A>>Cd-<<BP<A>>Cd-<<BP<A>>Cd-<<BP<A>>Cd-<<BP<A>>Cd-<<BP<A>>Cd-<<BP<A>>Cd-<<BP<A>>Cd-<<BP<A>>Cd-<<BP<A>>Cd-<<BP<A>>Cd-<<BP<A>>Cd-<<BP<A>>Cd-<<BP<A>>Cd-<<BP<A>>Cd-<<BP<A>>Cd-<<BP<A>>Cd-<<BP<A>>Cd-<<BP<A>>Cd-<<BP<A>>Cd-<<BP<A>>Cd-<<BP<A>>Cd-<<BP<A>>Cd-<<BP<A>>Cd-<<BP<A>>Cd-<<BP<A>>Cd-<<BP<A>>Cd-<<BP<A>>Cd-<<BP<A>>Cd-<<BP<A>>Cd-<<BP<A>>Cd-<<BP<A>>Cd-<<BP<A>>Cd-<<BP<A>>Cd-<<BP<A>>Cd-<<BP<A>>Cd-<<BP<A>>Cd-<<BP<A>>Cd-<<BP<A>>Cd-<<BP<A>>Cd-<<BP<A>>Cd-<<BP<A>>Cd-<<BP<A>>Cd-<<BP<A>>Cd-<<BP<A>>Cd-<<BP<A>>Cd-<<BP<A>>Cd-<<BP<A>>Cd-<<BP<A>>Cd-<<BP<A>>Cd-<<BP<A>>Cd-<<BP<A>>Cd-<<BP<A>>Cd-<<BP<A>>Cd-<<BP<A>>Cd-<<BP<A>>Cd-<<BP<A>>Cd-<<BP<A>>Cd-<<BP<A>>Cd-<<BP<A>>Cd-<<BP<A>>Cd-<<BP<A>>Cd-<<BP<A>>Cd-<<BP<A>>Cd-<<BP<A>>Cd-<<BP<A>>Cd-<<BP<A>>Cd-<<BP<A>>Cd-<<BP<A>>Cd-<<BP<A>>Cd-<<BP<A>>Cd-<<BP<A>>Cd-<<BP<A>>Cd-<<BP<A>>Cd-<<BP<A>>Cd-<<BP<A>>Cd-<<BP<A>>Cd-<<BP<A>>Cd-<<BP<A>>Cd-<<BP<A>>Cd-<<BP<A>>Cd-<<BP<A>>Cd-<<BP<A>>Cd-<<BP<A>>Cd-<<BP<A>>Cd-<<BP<A>>Cd-<<BP<A>>Cd-<<BP<A>>Cd-<<BP<A>>Cd-<<BP<A>>Cd-<<BP<A>>Cd-<<BP<A>>Cd-<<BP<A>>Cd-<<BP<A>>Cd-<<BP<A>>Cd-<<BP<A>>Cd-<<BP<A>>Cd-<<BP<A>>Cd-<<BP<A>>Cd-<<BP<A>>Cd-<<BP<A>>Cd-<<BP<A>>Cd-<<BP<A>>Cd-<<BP<A>>Cd-<<BP<A>>Cd-<<BP<A>>Cd-<<BP<A>>Cd-<<BP<A>>Cd-<<BP<A>>Cd-<<BP<A>>Cd-<<BP<A>>Cd-<<BP<A>>Cd-<<BP<A>>Cd-<<BP<A>>Cd-<<BP<A>>Cd-<<BP<A>>Cd-<<BP<A>>Cd-<<BP<A>>Cd-<<BP<A>>Cd-<<BP<A>>Cd-<<BP<A>>Cd-<<BP<A>>Cd-<<BP<A>>Cd-<<BP<A>>Cd-<<BP<A>>Cd-<<BP<A>>Cd-<<BP<A>>Cd-<<BP<A>>Cd-<<BP<A>>Cd-<<BP<A>>Cd-<<BP<A>>Cd-<<BP<A>>Cd-<<BP<A>>Cd-<<BP<A>>Cd-<<BP<A>>Cd-<<BP<A>>Cd-<<BP<A>>Cd-<<BP<A>>Cd-<<BP<A>>Cd-<<BP<A>>Cd-<<BP<A>>Cd-<<BP<A>>Cd-<<BP<A>>Cd-<<BP<A>>Cd-<<BP<A>>Cd-<<BP<A>>Cd-<<BP<A>>Cd-<<BP<A>>Cd-<<BP<A>>Cd-<<BP<A>>Cd-<<BP<A>>Cd-<<BP<A>>Cd-<<BP<A>>Cd-<<BP<A>>Cd-<<BP<A>>Cd-<<BP<A>>Cd-<<BP<A>>Cd-<<BP<A>>Cd-<<BP<A>>Cd-<<BP<A>>Cd-<<BP<A>>Cd-<<BP<A>>Cd-<<BP<A>>Cd-<<BP<A>>Cd-<<BP<A>>Cd-<<BP<A>>Cd-<<BP<A>>Cd-<<BP<A>>Cd-<<BP<A>>Cd-<<BP<A>>Cd-<<BP<A>>Cd-<<BP<A>>Cd-<<BP<A>>Cd-<<BP<A>>Cd-<<BP<A>>Cd-<<BP<A>>Cd-<<BP<A>>Cd-<<BP<A>>Cd-<<BP<A>>Cd-<<BP<A>>Cd-<<BP<A>>Cd-<<BP<A>>Cd-<<BP<A>>Cd-<<BP<A>>Cd-<<BP<A>>Cd-<<BP<A>>Cd-<<BP<A>>Cd-<<BP<A>>Cd-<<BP<A>>Cd-<<BP<A>>Cd-<<BP<A>>Cd-<<BP<A>>Cd-<<BP<A>>Cd-<<BP<A>>Cd-<<BP<A>>Cd-<<BP<A>>Cd-<<BP<A>>Cd-<<BP<A>>Cd-<<BP<A>>Cd-<<BP<A>>Cd-<<BP<A>>Cd-<<BP<A>>Cd-<<BP<A>>Cd-<<BP<A>>Cd-<<BP<A>>Cd-<<BP<A>>Cd-<<BP<A>>Cd-<<BP<A>>Cd-<<BP<A>>Cd-<<BP<A>>Cd-<<BP<A>>Cd-<<BP<A>>Cd-<<BP<A>>Cd-<<BP<A>>Cd-<<BP<A>>Cd-<<BP<A>>Cd-<<BP<A>>Cd-<<BP<A>>Cd-<<BP<A>>Cd-<<BP<A>>Cd-<<BP<A>>Cd-<<BP<A>>Cd-<<BP<A>>Cd-<<BP<A>>Cd-<<BP<A>>Cd-<<BP<A>>Cd-<<BP<A>>Cd-<<BP<A>>Cd-<<BP<A>>Cd-<<BP<A>>Cd-<<BP<A>>Cd-<<BP<A>>Cd-<<BP<A>>Cd-<<BP<A>>Cd-<<BP<A>>Cd-<<BP<A>>Cd-<<BP<A>>Cd-<<BP<A>>Cd-<<BP<A>>Cd-<<BP<A>>Cd-<<BP<A>>Cd-<<BP<A>>Cd-<<BP<A>>Cd-<<BP<A>>Cd-<<BP<A>>Cd-<<BP<A>>Cd-<<BP<A>>Cd-<<BP<A>>Cd-<<BP<A>>Cd-<<BP<A>>Cd-<<BP<A>>Cd-<<BP<A>>Cd-<<BP<A>>Cd-<<BP<A>>Cd-<<BP<A>>Cd-<<BP<A>>Cd-<<BP<A>>Cd-<<BP<A>>Cd-<<BP<A>>Cd-<<BP<A>>Cd-<<BP<A>>Cd-<<BP<A>>Cd-<<BP<A>>Cd-<<BP<A>>Cd-<<BP<A>>Cd-<<BP<A>>Cd-<<BP<A>>Cd-<<BP<A>>Cd-<<BP<A>>Cd-<<BP<A>>Cd-<<BP<A>>Cd-<<BP<A>>Cd-<<BP<A>>Cd-<<BP<A>>Cd-<<BP<A>>Cd-<<BP<A>>Cd-<<BP<A>>Cd-<<BP<A>>Cd-<<BP<A>>Cd-<<BP<A>>Cd-<<BP<A>>Cd-<<BP<A>>Cd-<<BP<A>>Cd-<<BP<A>>Cd-<<BP<A>>Cd-<<BP<A>>Cd-<<BP<A>>Cd-<<BP<A>>Cd-<<BP<A>>Cd-<<BP<A>>Cd-<<BP<A>>Cd-<<BP<A>>Cd-<<BP<A>>Cd-<<BP<A>>Cd-<<BP<A>>Cd-<<BP<A>>Cd-<<BP<A>>Cd-<<BP<A>>Cd-<<BP<A>>Cd-<<BP<A>>Cd-<<BP<A>>Cd-<<BP<A>>Cd-<<BP<A>>Cd-<<BP<A>>Cd-<<BP<A>>Cd-<<BP<A>>Cd-<<BP<A>>Cd-<<BP<A>>Cd-<<BP<A>>Cd-<<BP<A>>Cd-<<BP<A>>Cd-<<BP<A>>Cd-<<BP<A>>Cd-<<BP<A>>Cd-<<BP<A>>Cd-<<BP<A>>Cd-<<BP<A>>Cd-<<BP<A>>Cd-<<BP<A>>Cd-<<BP<A>>Cd-<<BP<A>>Cd-<<BP<A>>Cd-<<BP<A>>Cd-<<BP<A>>Cd-<<BP<A>>Cd-<<BP<A>>Cd-<<BP<A>>Cd-<<BP<A>>Cd-<<BP<A>>Cd-<<BP<A>>Cd-<<BP<A>>Cd-<<BP<A>>Cd-<<BP<A>>Cd-<<BP<A>>Cd-<<BP<A>>Cd-<<BP<A>>Cd-<<BP<A>>Cd-<<BP<A>>Cd-<<BP<A>>Cd-<<BP<A>>Cd-<<BP<A>>Cd-<<BP<A>>Cd-<<BP<A>>Cd-<<BP<A>>Cd-<<BP<A>>Cd-<<BP<A>>Cd-<<BP<A>>Cd-<<BP<A>>Cd-<<BP<A>>Cd-<<BP<A>>Cd-<<BP<A>>Cd-<<BP<A>>Cd-<<BP<A>>Cd-<<BP<A>>Cd-<<BP<A>>Cd-<<BP<A>>Cd-<<BP<A>>Cd-<<BP<A>>Cd-<<BP<A>>Cd-<<BP<A>>Cd-<<BP<A>>Cd-<<BP<A>>Cd-<<BP<A>>Cd-<<BP<A>>Cd-<<BP<A>>Cd-<<BP<A>>Cd-<<BP<A>>Cd-<<BP<A>>Cd-<<BP<A>>Cd-<<BP<A>>Cd-<<BP<A>>Cd-<<BP<A>>Cd-<<BP<A>>Cd-<<BP<A>>Cd-<<BP<A>>Cd-<<BP<A>>Cd-<<BP<A>>Cd-<<BP<A>>Cd-<<BP<A>>Cd-<<BP<A>>Cd-<<BP<A>>Cd-<<BP<A>>Cd-<<BP<A>>Cd-<<BP<A>>Cd-<<BP<A>>Cd-<<BP<A>>Cd-<<BP<A>>Cd-<<BP<A>>Cd-<<BP<A>>Cd-<<BP<A>>Cd-<<BP<A>>Cd-<<BP<A>>Cd-<<BP<A>>Cd-<<BP<A>>Cd-<<BP<A>>Cd-<<BP<A>>Cd-<<BP<A>>Cd-<<BP<A>>Cd-<<BP<A>>Cd-<<BP<A>>Cd-<<BP<A>>Cd-<<BP<A>>Cd-<<BP<A>>Cd-<<BP<A>>Cd-<<BP<A>>Cd-<<BP<A>>Cd-<<BP<A>>Cd-<<BP<A>>Cd-<<BP<A>>Cd-<<BP<A>>Cd-<<BP<A>>Cd-<<BP<A>>Cd-<<BP<A>>Cd-<<BP<A>>Cd-<<BP<A>>Cd-<<BP<A>>Cd-<<BP<A>>Cd-<<BP<A>>Cd-<<BP<A>>Cd-<<BP<A>>Cd-<<BP<A>>Cd-<<BP<A>>Cd-<<BP<A>>Cd-<<BP<A>>Cd-<<BP<A>>Cd-<<BP<A>>Cd-<<BP<A>>Cd-<<BP<A>>Cd-<<BP<A>>Cd-<<BP<A>>Cd-<<BP<A>>Cd-<<BP<A>>Cd-<<BP<A>>Cd-<<BP<A>>Cd-<<BP<A>>Cd-<<BP<A>>Cd-<<BP<A>>Cd-<<BP<A>>Cd-<<BP<A>>Cd-<<BP<A>>Cd-<<BP<A>>Cd-<<BP<A>>Cd-<<BP<A>>Cd-<<BP<A>>Cd-<<BP<A>>Cd-<<BP<A>>Cd-<<BP<A>>Cd-<<BP<A>>Cd-<<BP<A>>Cd-<<BP<A>>Cd-<<BP<A>>Cd-<<BP<A>>Cd-<<BP<A>>Cd-<<BP<A>>Cd-<<BP<A>>Cd-<<BP<A>>Cd-<<BP<A>>Cd-<<BP<A>>Cd-<<BP<A>>Cd-<<BP<A>>Cd-<<BP<A>>Cd-<<BP<A>>Cd-<<BP<A>>Cd-<<BP<A>>Cd-<<BP<A>>Cd-<<BP<A>>Cd-<<BP<A>>Cd-<<BP<A>>Cd-<<BP<A>>Cd-<<BP<A>>Cd-<<BP<A>>Cd-<<BP<A>>Cd-<<BP<A>>Cd-<<BP<A>>Cd-<<BP<A>>Cd-<<BP<A>>Cd-<<BP<A>>Cd-<<BP<A>>Cd-<<BP<A>>Cd-<<BP<A>>Cd-<<BP<A>>Cd-<<BP<A>>Cd-<<BP<A>>Cd-<<BP<A>>Cd-<<BP<A>>Cd-<<BP<A>>Cd-<<BP<A>>Cd-<<BP<A>>Cd-<<BP<A>>Cd-<<BP<A>>Cd-<<BP<A>>Cd-<<BP<A>>Cd-<<BP<A>>Cd-<<BP<A>>Cd-<<BP<A>>Cd-<<BP<A>>Cd-<<BP<A>>Cd-<<BP<A>>Cd-<<BP<A>>Cd-<<BP<A>>Cd-<<BP<A>>Cd-<<BP<A>>Cd-<<BP<A>>Cd-<<BP<A>>Cd-<<BP<A>>Cd-<<BP<A>>Cd-<<BP<A>>Cd-<<BP<A>>Cd-<<BP<A>>Cd-<<BP<A>>Cd-<<BP<A>>Cd-<<BP<A>>Cd-<<BP<A>>Cd-<<BP<A>>Cd-<<BP<A>>Cd-<<BP<A>>Cd-<<BP<A>>Cd-<<BP<A>>Cd-<<BP<A>>Cd-<<BP<A>>Cd-<<BP<A>>Cd-<<BP<A>>Cd-<<BP<A>>Cd-<<BP<A>>Cd-<<BP<A>>Cd-<<BP<A>>Cd-<<BP<A>>Cd-<<BP<A>>Cd-<<BP<A>>Cd-<<BP<A>>Cd-<<BP<A>>Cd-<<BP<A>>Cd-<<BP<A>>Cd-<<BP<A>>Cd-<<BP<A>>Cd-<<BP<A>>Cd-<<BP<A>>Cd-<<BP<A>>Cd-<<BP<A>>Cd-<<BP<A>>Cd-<<BP<A>>Cd-<<BP<A>>Cd-<<BP<A>>Cd-<<BP<A>>Cd-<<BP<A>>Cd-<<BP<A>>Cd-<<BP<A>>Cd-<<BP<A>>Cd-<<BP<A>>Cd-<<BP<A>>Cd-<<BP<A>>Cd-<<BP<A>>Cd-<<BP<A>>Cd-<<BP<A>>Cd-<<BP<A>>Cd-<<BP<A>>Cd-<<BP<A>>Cd-<<BP<A>>Cd-<<BP<A>>Cd-<<BP<A>>Cd-<<BP<A>>Cd-<<BP<A>>Cd-<<BP<A>>Cd-<<BP<A>>Cd-<<BP<A>>Cd-<<BP<A>>Cd-<<BP<A>>Cd-<<BP<A>>Cd-<<BP<A>>Cd-<<BP<A>>Cd-<<BP<A>>Cd-<<BP<A>>Cd-<<BP<A>>Cd-<<BP<A>>Cd-<<BP<A>>Cd-<<BP<A>>Cd-<<BP<A>>Cd-<<BP<A>>Cd-<<BP<A>>Cd-<<BP<A>>Cd-<<BP<A>>Cd-<<BP<A>>Cd-<<BP<A>>Cd-<<BP<A>>Cd-<<BP<A>>Cd-<<BP<A>>Cd-<<BP<A>>Cd-<<BP<A>>Cd-<<BP<A>>Cd-<<BP<A>>Cd-<<BP<A>>Cd-<<BP<A>>Cd-<<BP<A>>Cd-<<BP<A>>Cd-<<BP<A>>Cd-<<BP<A>>Cd-<<BP<A>>Cd-<<BP<A>>Cd-<<BP<A>>Cd-<<BP<A>>Cd-<<BP<A>>Cd-<<BP<A>>Cd-<<BP<A>>Cd-<<BP<A>>Cd-<<BP<A>>Cd-<<BP<A>>Cd-<<BP<A>>Cd-<<BP<A>>Cd-<<BP<A>>Cd-<<BP<A>>Cd-<<BP<A>>Cd-<<BP<A>>Cd-<<BP<A>>Cd-<<BP<A>>Cd-<<BP<A>>Cd-<<BP<A>>Cd-<<BP<A>>Cd-<<BP<A>>Cd-<<BP<A>>Cd-<<BP<A>>Cd-<<BP<A>>Cd-<<BP<A>>Cd-<<BP<A>>Cd-<<BP<A>>Cd-<<BP<A>>Cd-<<BP<A>>Cd-<<BP<A>>Cd-<<BP<A>>Cd-<<BP<A>>Cd-<<BP<A>>Cd-<<BP<A>>Cd-<<BP<A>>Cd-<<BP<A>>Cd-<<BP<A>>Cd-<<BP<A>>Cd-<<BP<A>>Cd-<<BP<A>>Cd-<<BP<A>>Cd-<<BP<A>>Cd-<<BP<A>>Cd-<<BP<A>>Cd-<<BP<A>>Cd-<<BP<A>>Cd-<<BP<A>>Cd-<<BP<A>>Cd-<<BP<A>>Cd-<<BP<A>>Cd-<<BP<A>>Cd-<<BP<A>>Cd-<<BP<A>>Cd-<<BP<A>>Cd-<<BP<A>>Cd-<<BP<A>>Cd-<<BP<A>>Cd-<<BP<A>>Cd-<<BP<A>>Cd-<<BP<A>>Cd-<<BP<A>>Cd-<<BP<A>>Cd-<<BP<A>>Cd-<<BP<A>>Cd-<<BP<A>>Cd-<<BP<A>>Cd-<<BP<A>>Cd-<<BP<A>>Cd-<<BP<A>>Cd-<<BP<A>>Cd-<<BP<A>>Cd-<<BP<A>>Cd-<<BP<A>>Cd-<<BP<A>>Cd-<<BP<A>>Cd-<<BP<A>>Cd-<<BP<A>>Cd-<<BP<A>>Cd-<<BP<A>>Cd-<<BP<A>>Cd-<<BP<A>>Cd-<<BP<A>>Cd-<<BP<A>>Cd-<<BP<A>>Cd-<<BP<A>>Cd-<<BP<A>>Cd-<<BP<A>>Cd-<<BP<A>>Cd-<<BP<A>>Cd-<<BP<A>>Cd-<<BP<A>>Cd-<<BP<A>>Cd-<<BP<A>>Cd-<<BP<A>>Cd-<<BP<A>>Cd-<<BP<A>>Cd-<<BP<A>>Cd-<<BP<A>>Cd-<<BP<A>>Cd-<<BP<A>>Cd-<<BP<A>>Cd-<<BP<A>>Cd-<<BP<A>>Cd-<<BP<A>>Cd-<<BP<A>>Cd-<<BP<A>>Cd-<<BP<A>>Cd-<<BP<A>>Cd-<<BP<A>>Cd-<<BP<A>>Cd-<<BP<A>>Cd-<<BP<A>>Cd-<<BP<A>>Cd-<<BP<A>>Cd-<<BP<A>>Cd-<<BP<A>>Cd-<<BP<A>>Cd-<<BP<A>>Cd-<<BP<A>>Cd-<<BP<A>>Cd-<<BP<A>>Cd-<<BP<A>>Cd-<<BP<A>>Cd-<<BP<A>>Cd-<<BP<A>>Cd-<<BP<A>>Cd-<<BP<A>>Cd-<<BP<A>>Cd-<<BP<A>>Cd-<<BP<A>>Cd-<<BP<A>>Cd-<<BP<A>>Cd-<<BP<A>>Cd-<<BP<A>>Cd-<<BP<A>>Cd-<<BP<A>>Cd-<<BP<A>>Cd-<<BP<A>>Cd-<<BP<A>>Cd-<<BP<A>>Cd-<<BP<A>>Cd-<<BP<A>>Cd-<<BP<A>>Cd-<<BP<A>>Cd-<<BP<A>>Cd-<<BP<A>>Cd-<<BP<A>>Cd-<<BP<A>>Cd-<<BP<A>>Cd-<<BP<A>>Cd-<<BP<A>>Cd-<<BP<A>>Cd-<<BP<A>>Cd-<<BP<A>>Cd-<<BP<A>>Cd-<<BP<A>>Cd-<<BP<A>>Cd-<<BP<A>>Cd-<<BP<A>>Cd-<<BP<A>>Cd-<<BP<A>>Cd-<<BP<A>>Cd-<<BP<A>>Cd-<<BP<A>>Cd-<<BP<A>>Cd-<<BP<A>>Cd-<<BP<A>>Cd-<<BP<A>>Cd-<<BP<A>>Cd-<<BP<A>>Cd-<<BP<A>>Cd-<<BP<A>>Cd-<<BP<A>>Cd-<<BP<A>>Cd-<<BP<A>>Cd-<<BP<A>>Cd-<<BP<A>>Cd-<<BP<A>>Cd-<<BP<A>>Cd-<<BP<A>>Cd-<<BP<A>>Cd-<<BP<A>>Cd-<<BP<A>>Cd-<<BP<A>>Cd-<<BP<A>>Cd-<<BP<A>>Cd-<<BP<A>>Cd-<<BP<A>>Cd-<<BP<A>>Cd-<<BP<A>>Cd-<<BP<A>>Cd-<<BP<A>>Cd-<<BP<A>>Cd-<<BP<A>>Cd-<<BP<A>>Cd-<<BP<A>>Cd-<<BP<A>>Cd-<<BP<A>>Cd-<<BP<A>>Cd-<<BP<A>>Cd-<<BP<A>>Cd-<<BP<A>>Cd-<<BP<A>>Cd-\n"
     ]
    },
    {
     "name": "stdout",
     "output_type": "stream",
     "text": [
      "BAAAAAAAAAAAAAAAAAAAAAAAAAAAAAAAAAAAAAAAAAAAAAAAAAAAAAAAAAAAAAAAAAAAAAAAAAAAAAAAAAAAAAAAAAAAAAAAAAAAAAAAAAAAAAAAAAAAAAAAAAAAAAAAAAAAAAAAAAAAAAAAAAAAAAAAAAAAAAAAAAAAAAAAAAAAAAAAAAAAAAAAAAAAAAAAAAAAAAAAAAAAAAAAAAAAAAAAAAAAAAAAAAAAAAAAAAAAAAAAAAAAAAAAAAAAAAAAAAAAAAAAAAAAAAAAAAAAAAAAAAAAAAAAAAAAAAAAAAAAAAAAAAAAAAAAAAAAAAAAAAAAAAAAAAAAAAAAAAAAAAAAAAAAAAAAAAAAAAAAAAAAAAAAAAAAAAAAAAAAAAAAAAAAAAAAAAAAAAAAAAAAAAAAAAAAAAAAAAAAAAAAAAAAAAAAAAAAAAAAAAAAAAAAAAAAAAAAAAAAAAAAAAAAAAAAAAAAAAAAAAAAAAAAAAAAAAAAAAAAAAAAAAAAAAAAAAAAAAAAAAAAAAAAAAAAAAAAAAAAAAAAAAAAAAAAAAAAAAAAAAAAAAAAAAAAAAAAAAAAAAAAAAAAAAAAAAAAAAAAAAAAAAAAAAAAAAAAAAAAAAAAAAAAAAAAAAAAAAAAAAAAAAAAAAAAAAAAAAAAAAAAAAAAAAAAAAAAAAAAAAAAAAAAAAAAAAAAAAAAAAAAAAAAAAAAAAAAAAAAAAAAAAAAAAAAAAAAAAAAAAAAAAAAAAAAAAAAAAAAAAAAAAAAAAAAAAAAAAAAAAAAAAAAAAAAAAAAAAAAAAAAAAAAAAAAAAAAAAAAAAAAAAAAAAAAAAAAAAAAAAAAAAAAAAAAAAAAAAAAAAAAAAAAAAAAAAAAAAAAAAAAAAAAAAAAAAAAAAAAAAAAAAAAAAAAAAAAAAAAAAAAAAAAAAAAAAAAAAAAAAAAAAAAAAAAAAAAAAAAAAAAAAAAAAAAAAAAAAAAAAAAAAAAAAAAAAAAAAAAAAAAAAAAAAAAAAAAAAAAAAAAAAAAAAAAAAAAAAAAAAAAAAAAAAAAAAAAAAAAAAAAAAAAAAAAAAAAAAAAAAAAAAAAAAAAAAAAAAAAAAAAAAAAAAAAAAAAAAAAAAAAAAAAAAAAAAAAAAAAAAAAAAAAAAAAAAAAAAAAAAAAAAAAAAAAAAAAAAAAAAAAAAAAAAAAAAAAAAAAAAAAAAAAAAAAAAAAAAAAAAAAAAAAAAAAAAAAAAAAAAAAAAAAAAAAAAAAAAAAAAAAAAAAAAAAAAAAAAAAAAAAAAAAAAAAAAAAAAAAAAAAAAAAAAAAAAAAAAAAAAAAAAAAAAAAAAAAAAAAAAAAAAAAAAAAAAAAAAAAAAAAAAAAAAAAAAAAAAAAAAAAAAAAAAAAAAAAAAAAAAAAAAAAAAAAAAAAAAAAAAAAAAAAAAAAAAAAAAAAAAAAAAAAAAAAAAAAAAAAAAAAAAAAAAAAAAAAAAAAAAAAAAAAAAAAAAAAAAAAAAAAAAAAAAAAAAAAAAAAAAAAAAAAAAAAAAAAAAAAAAAAAAAAAAAAAAAAAAAAAAAAAAAAAAAAAAAAAAAAAAAAAAAAAAAAAAAAAAAAAAAAAAAAAAAAAAAAAAAAAAAAAAAAAAAAAAAAAAAAAAAAAAAAAAAAAAAAAAAAAAAAAAAAAAAAAAAAAAAAAAAAAAAAAAAAAAAAAAAAAAAAAAAAAAAAAAAAAAAAAAAAAAAAAAAAAAAAAAAAAAAAAAAAAAAAAAAAAAAAAAAAAAAAAAAAAAAAAAAAAAAAAAAAAAAAAAAAAAAAAAAAAAAAAAAAAAAAAAAAAAAAAAAAAAAAAAAAAAAAAAAAAAAAAAAAAAAAAAAAAAAAAAAAAAAAAAAAAAAAAAAAAAAAAAAAAAAAAAAAAAAAAAAAAAAAAAAAAAAAAAAAAAAAAAAAAAAAAAAAAAAAAAAAAAAAAAAAAAAAAAAAAAAAAAAAAAAAAAAAAAAAAAAAAAAAAAAAAAAAAAAAAAAAAAAAAAAAAAAAAAAAAAAAAAAAAAAAAAAAAAAAAAAAAAAAAAAAAAAAAAAAAAAAAAAAAAAAAAAAAAAAAAAAAAAAAAAAAAAAAAAAAAAAAAAAAAAAAAAAAAAAAAAAAAAAAAAAAAAAAAAAAAAAAAAAAAAAAAAAAAAAAAAAAAAAAAAAAAAAAAAAAAAAAAAAAAAAAAAAAAAAAAAAAAAAAAAAAAAAAAAAAAAAAAAAAAAAAAAAAAAAAAAAAAAAAAAAAAAAAAAAAAAAAAAAAAAAAAAAAAAAAAAAAAAAAAAAAAAAAAAAAAAAAAAAAAAAAAAAAAAAAAAAAAAAAAAAAAAAAAAAAAAAAAAAAAAAAAAAAAAAAAAAAAAAAAAAAAAAAAAAAAAAAAAAAAAAAAAAAAAAAAAAAAAAAAAAAAAAAAAAAAAAAAAAAAAAAAAAAAAAAAAAAAAAAAAAAAAAAAAAAAAAAAAAAAAAAAAAAAAAAAAAAAAAAAAAAAAAAAAAAAAAAAAAAAAAAAAAAAAAAAAAAAAAAAAAAAAAAAAAAAAAAAAAAAAAAAAAAAAAAAAAAAAAAAAAAAAAAAAAAAAAAAAAAAAAAAAAAAAAAAAAAAAAAAAAAAAAAAAAAAAAAAAAAAAAAAAAAAAAAAAAAAAAAAAAAAAAAAAAAAAAAAAAAAAAAAAAAAAAAAAAAAAAAAAAAAAAAAAAAAAAAAAAAAAAAAAAAAAAAAAAAAAAAAAAAAAAAAAAAAAAAAAAAAAAAAAAAAAAAAAAAAAAAAAAAAAAAAAAAAAAAAAAAAAAAAAAAAAAAAAAAAAAAAAAAAAAAAAAAAAAAAAAAAAAAAAAAAAAAAAAAAAAAAAAAAAAAAAAAAAAAAAAAAAAAAAAAAAAAAAAAAAAAAAAAAAAAAAAAAAAAAAAAAAAAAAAAAAAAAAAAAAAAAAAAAAAAAAAAAAAAAAAAAAAAAAAAAAAAAAAAAAAAAAAAAAAAAAAAAAAAAAAAAAAAAAAAAAAAAAAAAAAAAAAAAAAAAAAAAAAAAAAAAAAAAAAAAAAAAAAAAAAAAAAAAAAAAAAAAAAAAAAAAAAAAAAAAAAAAAAAAAAAAAAAAAAAAAAAAAAAAAAAAAAAAAAAAAAAAAAAAAAAAAAAAAAAAAAAAAAAAAAAAAAAAAAAAAAAAAAAAAAAAAAAAAAAAAAAAAAAAAAAAAAAAAAAAAAAAAAAAAAAAAAAAAAAAAAAAAAAAAAAAAAAAAAAAAAAAAAAAAAAAAAAAAAAAAAAAAAAAAAAAAAAAAAAAAAAAAAAAAAAAAAAAAAAAAAAAAAAAAAAAAAAAAAAAAAAAAAAAAAAAAAAAAAAAAAAAAAAAAAAAAAAAAAAAAAAAAAAAAAAAAAAAAAAAAAAAAAAAAAAAAAAAAAAAAAAAAAAAAAAAAAAAAAAAAAAAAAAAAAAAAAAAAAAAAAAAAAAAAAAAAAAAAAAAAAAAAAAAAAAAAAAAAAAAAAAAAAAAAAAAAAAAAAAAAAAAAAAAAAAAAAAAAAAAAAAAAAAAAAAAAAAAAAAAAAAAAAAAAAAAAAAAAAAAAAAAAAAAAAAAAAAAAAAAAAAAAAAAAAAAAAAAAAAAAAAAAAAAAAAAAAAAAAAAAAAAAAAAAAAAAAAAAAAAAAAAAAAAAAAAAAAAAAAAAAAAAAAAAAAAAAAAAAAAAAAAAAAAAAAAAAAAAAAAAAAAAAAAAAAAAAAAAAAAAAAAAAAAAAAAAAAAAAAAAAAAAAAAAAAAAAAAAAAAAAAAAAAAAAAAAAAAAAAAAAAAAAAAAAAAAAAAAAAAAAAAAAAAAAAAAAAAAAAAAAAAAAAAAAAAAAAAAAAAAAAAAAAAAAAAAAAAAAAAAAAAAAAAAAAAAAAAAAAAAAAAAAAAAAAAAAAAAAAAAAAAAAAAAAAAAAAAAAAAAAAAAAAAAAAAAAAAAAAAAAAAAAAAAAAAAAAAAAAAAAAAAAAAAAAAAAAAAAAAAAAAAAAAAAAAAAAAAAAAAAAAAAAAAAAAAAAAAAAAAAAAAAAAAAAAAAAAAAAAAAAAAAAAAAAAAAAAAAAAAAAAAAAAAAAAAAAAAAAAAAAAAAAAAAAAAAAAAAAAAAAAAAAAAAAAAAAAAAAAAAAAAAAAAAAAAAAAAAAAAAAAAAAAAAAAAAAAAAAAAAAAAAAAAAAAAAAAAAAAAAAAAAAAAAAAAAAAAAAAAAAAAAAAAAAAAAAAAAAAAAAAAAAAAAAAAAAAAAAAAAAAAAAAAAAAAAAAAAAAAAAAAAAAAAAAAAAAAAAAAAAAAAAAAAAAAAAAAAAAAAAAAAAAAAAAAAAAAAAAAAAAAAAAAAAAAAAAAAAAAAAAAAAAAAAAAAAAAAAAAAAAAAAAAAAAAAAAAAAAAAAAAAAAAAAAAAAAAAAAAAAAAAAAAAAAAAAAAAAAAAAAAAAAAAAAAAAAAAAAAAAAAAAAAAAAAAAAAAAAAAAAAAAAAAAAAAAAAAAAAAAAAAAAAAAAAAAAAAAAAAAAAAAAAAAAAAAAAAAAAAAAAAAAAAAAAAAAAAAAAAAAAAAAAAAAAAAAAAAAAAAAAAAAAAAAAAAAAAAAAAAAAAAAAAAAAAAAAAAAAAAAAAAAAAAAAAAAAAAAAAAAAAAAAAAAAAAAAAAAAAAAAAAAAAAAAAAAAAAAAAAAAAAAAAAAAAAAAAAAAAAAAAAAAAAAAAAAAAAAAAAAAAAAAAAAAAAAAAAAAAAAAAAAAAAAAAAAAAAAAAAAAAAAAAAAAAAAAAAAAAAAAAAAAAAAAAAAAAAAAAAAAAAAAAAAAAAAAAAAAAAAAAAAAAAAAAAAAAAAAAAAAAAAAAAAAAAAAAAAAAAAAAAAAAAAAAAAAAAAAAAAAAAAAAAAAAAAAAAAAAAAAAAAAAAAAAAAAAAAAAAAAAAAAAAAAAAAAAAAAAAAAAAAAAAAAAAAAAAAAAAAAAAAAAAAAAAAAAAAAAAAAAAAAAAAAAAAAAAAAAAAAAAAAAAAAAAAAAAAAAAAAAAAAAAAAAAAAAAAAAAAAAAAAAAAAAAAAAAAAAAAAAAAAAAAAAAAAAAAAAAAAAAAAAAAAAAAAAAAAAAAAAAAAAAAAAAAAAAAAAAAAAAAAAAAAAAAAAAAAAAAAAAAAAAAAAAAAAAAAAAAAAAAAAAAAAAAAAAAAAAAAAAAAAAAAAAAAAAAAAAAAAAAAAAAAAAAAAAAAAAAAAAAAAAAAAAAAAAAAAAAAAAAAAAAAAAAAAAAAAAAAAAAAAAAAAAAAAAAAAAAAAAAAAAAAAAAAAAAAAAAAAAAAAAAAAAAAAAAAAAAAAAAAAAAAAAAAAAAAAAAAAAAAAAAAAAAAAAAAAAAAAAAAAAAAAAAAAAAAAAAAAAAAAAAAAAAAAAAAAAAAAAAAAAAAAAAAAAAAAAAAAAAAAAAAAAAAAAAAAAAAAAAAAAAAAAAAAAAAAAAAAAAAAAAAAAAAAAAAAAAAAAAAAAAAAAAAAAAAAAAAAAAAAAAAAAAAAAAAAAAAAAAAAAAAAAAAAAAAAAAAAAAAAAAAAAAAAAAAAAAAAAAAAAAAAAAAAAAAAAAAAAAAAAAAAAAAAAAAAAAAAAAAAAAAAAAAAAAAAAAAAAAAAAAAAAAAAAAAAAAAAAAAAAAAAAAAAAAAAAAAAAAAAAAAAAAAAAAAAAAAAAAAAAAAAAAAAAAAAAAAAAAAAAAAAAAAAAAAAAAAAAAAAAAAAAAAAAAAAAAAAAAAAAAAAAAAAAAAAAAAAAAAAAAAAAAAAAAAAAAAAAAAAAAAAAAAAAAAAAAAAAAAAAAAAAAAAAAAAAAAAAAAAAAAAAAAAAAAAAAAAAAAAAAAAAAAAAAAAAAAAAAAAAAAAAAAAAAAAAAAAAAAAAAAAAAAAAAAAAAAAAAAAAAAAAAAAAAAAAAAAAAAAAAAAAAAAAAAAAAAAAAAAAAAAAAAAAAAAAAAAAAAAAAAAAAAAAAAAAAAAAAAAAAAAAAAAAAAAAAAAAAAAAAAAAAAAAAAAAAAAAAAAAAAAAAAAAAAAAAAAAAAAAAAAAAAAAAAAAAAAAAAAAAAAAAAAAAAAAAAAAAAAAAAAAAAAAAAAAAAAAAAAAAAAAAAAAAAAAAAAAAAAAAAAAAAAAAAAAAAAAAAAAAAAAAAAAAAAAAAAAAAAAAAAAAAAAAAAAAAAAAAAAAAAAAAAAAAAAAAAAAAAAAAAAAAAAAAAAAAAAAAAAAAAAAAAAAAAAAAAAAAAAAAAAAAAAAAAAAAAAAAAAAAAAAAAAAAAAAAAAAAAAAAAAAAAAAAAAAAAAAAAAAAAAAAAAAAAAAAAAAAAAAAAAAAAAAAAAAAAAAAAAAAAAAAAAAAAAAAAAAAAAAAAAAAAAAAAAAAAAAAAAAAAAAAAAAAAAAAAAAAAAAAAAAAAAAAAAAAAAAAAAAAAAAAAAAAAAAAAAAAAAAAAAAAAAAAAAAAAAAAAAAAAAAAAAAAAAAAAAAAAAAAAAAAAAAAAAAAAAAAAAAAAAAAAAAAAAAAAAAAAAAAAAAAAAAAAAAAAAAAAAAAAAAAAAAAAAAAAAAAAAAAAAAAAAAAAAAAAAAAAAAAAAAAAAAAAAAAAAAAAAAAAAAAAAAAAAAAAAAAAAAAAAAAAAAAAAAAAAAAAAAAAAAAAAAAAAAAAAAAAAAAAAAAAAAAAAAAAAAAAAAAAAAAAAAAAAAAAAAAAAAAAAAAAAAAAAAAAAAAAAAAAAAAAAAAAAAAAAAAAAAAAAAAAAAAAAAAAAAAAAAAAAAAAAAAAAAAAAAAAAAAAAAAAAAAAAAAAAAAAAAAAAAAAAAAAAAAAAAAAAAAAAAAAAAAAAAAAAAAAAAAAAAAAAAAAAAAAAAAAAAAAAAAAAAAAAAAAAAAAAAAAAAAAAAAAAAAAAAAAAAAAAAAAAAAAAAAAAAAAAAAAAAAAAAAAAAAAAAAAAAAAAAAAAAAAAAAAAAAAAAAAAAAAAAAAAAAAAAAAAAAAAAAAAAAAAAAAAAAAAAAAAAAAAAAAAAAAAAAAAAAAAAAAAAAAAAAAAAAAAAAAAAAAAAAAAAAAAAAAAAAAAAAAAAAAAAAAAAAAAAAAAAAAAAAAAAAAAAAAAAAAAAAAAAAAAAAAAAAAAAAAAAAAAAAAAAAAAAAAAAAAAAAAAAAAAAAAAAAAAAAAAAAAAAAAAAAAAAAAAAAAAAAAAAAAAAAAAAAAAAAAAAAAAAAAAAAAAAAAAAAAAAAAAAAAAAAAAAAAAAAAAAAAAAAAAAAAAAAAAAAAAAAAAAAAAAAAAAAAAAAAAAAAAAAAAAAAAAAAAAAAAAAAAAAAAAAAAAAAAAAAAAAAAAAAAAAAAAAAAAAAAAAAAAAAAAAAAAAAAAAAAAAAAAAAAAAAAAAAAAAAAAAAAAAAAAAAAAAAAAAAAAAAAAAAAAAAAAAAAAAAAAAAAAAAAAAAAAAAAAAAAAAAAAAAAAAAAAAAAAAAAAAAAAAAAAAAAAAAAAAAAAAAAAAAAAAAAAAAAAAAAAAAAAAAAAAAAAAAAAAAAAAAAAAAAAAAAAAAAAAAAAAAAAAAAAAAAAAAAAAAAAAAAAAAAAAAAAAAAAAAAAAAAAAAAAAAAAAAAAAAAAAAAAAAAAAAAAAAAAAAAAAAAAAAAAAAAAAAAAAAAAAAAAAAAAAAAAAAAAAAAAAAAAAAAAAAAAAAAAAAAAAAAAAAAAAAAAAAAAAAAAAAAAAAAAAAAAAAAAAAAAAAAAAAAAAAAAAAAAAAAAAAAAAAAAAAAAAAAAAAAAAAAAAAAAAAAAAAAAAAAAAAAAAAAAAAAAAAAAAAAAAAAAAAAAAAAAAAAAAAAAAAAAAAAAAAAAAAAAAAAAAAAAAAAAAAAAAAAAAAAAAAAAAAAAAAAAAAAAAAAAAAAAAAAAAAAAAAAAAAAAAAAAAAAAAAAAAAAAAAAAAAAAAAAAAAAAAAAAAAAAAAAAAAAAAAAAAAAAAAAAAAAAAAAAAAAAAAAAAAAAAAAAAAAAAAAAAAAAAAAAAAAAAAAAAAAAAAAAAAAAAAAAAAAAAAAAAAAAAAAAAAAAAAAAAAAAAAAAAAAAAAAAAAAAAAAAAAAAAAAAAAAAAAAAAAAAAAAAAAAAAAAAAAAAAAAAAAAAAAAAAAAAAAAAAAAAAAAAAAAAAAAAAAAAAAAAAAAAAAAAAAAAAAAAAAAAAAAAAAAAAAAAAAAAAAAAAAAAAAAAAAAAAAAAAAAAAAAAAAAAAAAAAAAAAAAAAAAAAAAAAAAAAAAAAAAAAAAAAAAAAAAAAAAAAAAAAAAAAAAAAAAAAAAAAAAAAAAAAAAAAAAAAAAAAAAAAAAAAAAAAAAAAAAAAAAAAAAAAAAAAAAAAAAAAAAAAAAAAAAAAAAAAAAAAAAAAAAAAAAAAAAAAAAAAAAAAAAAAAAAAAAAAAAAAAAAAAAAAAAAAAAAAAAAAAAAAAAAAAAAAAAAAAAAAAAAAAAAAAAAAAAAAAAAAAAAAAAAAAAAAAAAAAAAAAAAAAAAAAAAAAAAAAAAAAAAAAAAAAAAAAAAAAAAAAAAAAAAAAAAAAAAAAAAAAAAAAAAAAAAAAAAAAAAAAAAAAAAAAAAAAAAAAAAAAAAAAAAAAAAAAAAAAAAAAAAAAAAAAAAAAAAAAAAAAAAAAAAAAAAAAAAAAAAAAAAAAAAAAAAAAAAAAAAAAAAAAAAAAAAAAAAAAAAAAAAAAAAAAAAAAAAAAAAAAAAAAAAAAAAAAAAAAAAAAAAAAAAAAAAAAAAAAAAAAAAAAAAAAAAAAAAAAAAAAAAAAAAAAAAAAAAAAAAAAAAAAAAAAAAAAAAAAAAAAAAAAAAAAAAAAAAAAAAAAAAAAAAAAAAAAAAAAAAAAAAAAAAAAAAAAAAAAAAAAAAAAAAAAAAAAAAAAAAAAAAAAAAAAAAAAAAAAAAAAAAAAAAAAAAAAAAAAAAAAAAAAAAAAAAAAAAAAAAAAAAAAAAAAAAAAAAAAAAAAAAAAAAAAAAAAAAAAAAAAAAAAAAAAAAAAAAAAAAAAAAAAAAAAAAAAAAAAAAAAAAAAAAAAAAAAAAAAAAAAAAAAAAAAAAAAAAAAAAAAAAAAAAAAAAAAAAAAAAAAAAAAAAAAAAAAAAAAAAAAAAAAAAAAAAAAAAAAAAAAAAAAAAAAAAAAAAAAAAAAAAAAAAAAAAAAAAAAAAAAAAAAAAAAAAAAAAAAAAAAAAAAAAAAAAAAAAAAAAAAAAAAAAAAAAAAAAAAAAAAAAAAAAAAAAAAAAAAAAAAAAAAAAAAAAAAAAAAAAAAAAAAAAAAAAAAAAAAAAAAAAAAAAAAAAAAAAAAAAAAAAAAAAAAAAAAAAAAAAAAAAAAAAAAAAAAAAAAAAAAAAAAAAAAAAAAAAAAAAAAAAAAAAAAAAAAAAAAAAAAAAAAAAAAAAAAAAAAAAAAAAAAAAAAAAAAAAAAAAAAAAAAAAAAAAAAAAAAAAAAAAAAAAAAAAAAAAAAAAAAAAAAAAAAAAAAAAAAAAAAAAAAAAAAAAAAAAAAAAAAAAAAAAAAAAAAAAAAAAAAAAAAAAAAAAAAAAAAAAAAAAAAAAAAAAAAAAAAAAAAAAAAAAAAAAAAAAAAAAAAAAAAAAAAAAAAAAAAAAAAAAAAAAAAAAAAAAAAAAAAAAAAAAAAAAAAAAAAAAAAAAAAAAAAAAAAAAAAAAAAAAAAAAAAAAAAAAAAAAAAAAAAAAAAAAAAAAAAAAAAAAAAAAAAAAAAAAAAAAAAAAAAAAAAAAAAAAAAAAAAAAAAAAAAAAAAAAAAAAAAAAAAAAAAAAAAAAAAAAAAAAAAAAAAAAAAAAAAAAAAAAAAAAAAAAAAAAAAAAAAAAAAAAAAAAAAAAAAAAAAAAAAAAAAAAAAAAAAAAAAAAAAAAAAAAAAAAAAAAAAAAAAAAAAAAAAAAAAAAAAAAAAAAAAAAAAAAAAAAAAAAAAAAAAAAAAAAAAAAAAAAAAAAAAAAAAAAAAAAAAAAAAAAAAAAAAAAAAAAAAAAAAAAAAAAAAAAAAAAAAAAAAAAAAAAAAAAAAAAAAAAAAAAAAAAAAAAAAAAAAAAAAAAAAAAAAAAAAAAAAAAAAAAAAAAAAAAAAAAAAAAAAAAAAAAAAAAAAAAAAAAAAAAAAAAAAAAAAAAAAAAAAAAAAAAAAAAAAAAAAAAAAAAAAAAAAAAAAAAAAAAAAAAAAAAAAAAAAAAAAAAAAAAAAAAAAAAAAAAAAAAAAAAAAAAAAAAAAAAAAAAAAAAAAAAAAAAAAAAAAAAAAAAAAAAAAAAAAAAAAAAAAAAAAAAAAAAAAAAAAAAAAAAAAAAAAAAAAAAAAAAAAAAAAAAAAAAAAAAAAAAAAAAAAAAAAAAAAAAAAAAAAAAAAAAAAAAAAAAAAAAAAAAAAAAAAAAAAAAAAAAAAAAAAAAAAAAAAAAAAAAAAAAAAAAAAAAAAAAAAAAAAAAAAAAAAAAAAAAAAAAAAAAAAAAAAAAAAAAAAAAAAAAAAAAAAAAAAAAAAAAAAAAAAAAAAAAAAAAAAAAAAAAAAAAAAAAAAAAAAAAAAAAAAAAAAAAAAAAAAAAAAAAAAAAAAAAAAAAAAAAAAAAAAAAAAAAAAAAAAAAAAAAAAAAAAAAAAAAAAAAAAAAAAAAAAAAAAAAAAAAAAAAAAAAAAAAAAAAAAAAAAAAAAAAAAAAAAAAAAAAAAAAAAAAAAAAAAAAAAAAAAAAAAAAAAAAAAAAAAAAAAAAAAAAAAAAAAAAAAAAAAAAAAAAAAAAAAAAAAAAAAAAAAAAAAAAAAAAAAAAAAAAAAAAAAAAAAAAAAAAAAAAAAAAAAAAAAAAAAAAAAAAAAAAAAAAAAAAAAAAAAAAAAAAAAAAAAAAAAAAAAAAAAAAAAAAAAAAAAAAAAAAAAAAAAAAAAAAAAAAAAAAAAAAAAAAAAAAAAAAAAAAAAAAAAAAAAAAAAAAAAAAAAAAAAAAAAAAAAAAAAAAAAAAAAAAAAAAAAAAAAAAAAAAAAAAAAAAAAAAAAAAAAAAAAAAAAAAAAAAAAAAAAAAAAAAAAAAAAAAAAAAAAAAAAAAAAAAAAAAAAAAAAAAAAAAAAAAAAAAAAAAAAAAAAAAAAAAAAAAAAAAAAAAAAAAAAAAAAAAAAAAAAAAAAAAAAAAAAAAAAAAAAAAAAAAAAAAAAAAAAAAAAAAAAAAAAAAAAAAAAAAAAAAAAAAAAAAAAAAAAAAAAAAAAAAAAAAAAAAAAAAAAAAAAAAAAAAAAAAAAAAAAAAAAAAAAAAAAAAAAAAAAAAAAAAAAAAAAAAAAAAAAAAAAAAAAAAAAAAAAAAAAAAAAAAAAAAAAAAAAAAAAAAAAAAAAAAAAAAAAAAAAAAAAAAAAAAAAAAAAAAAAAAAAAAAAAAAAAAAAAAAAAAAAAAAAAAAAAAAAAAAAAAAAAAAAAAAAAAAAAAAAAAAAAAAAAAAAAAAAAAAAAAAAAAAAAAAAAAAAAAAAAAAAAAAAAAAAAAAAAAAAAAAAAAAAAAAAAAAAAAAAAAAAAAAAAAAAAAAAAAAAAAAAAAAAAAAAAAAAAAAAAAAAAAAAAAAAAAAAAAAAAAAAAAAAAAAAAAAAAAAAAAAAAAAAAAAAAAAAAAAAAAAAAAAAAAAAAAAAAAAAAAAAAAAAAAAAAAAAAAAAAAAAAAAAAAAAAAAAAAAAAAAAAAAAAAAAAAAAAAAAAAAAAAAAAAAAAAAAAAAAAAAAAAAAAAAAAAAAAAAAAAAAAAAAAAAAAAAAAAAAAAAAAAAAAAAAAAAAAAAAAAAAAAAAAAAAAAAAAAAAAAAAAAAAAAAAAAAAAAAAAAAAAAAAAAAAAAAAAAAAAAAAAAAAAAAAAAAAAAAAAAAAAAAAAAAAAAAAAAAAAAAAAAAAAAAAAAAAAAAAAAAAAAAAAAAAAAAAAAAAAAAAAAAAAAAAAAAAAAAAAAAAAAAAAAAAAAAAAAAAAAAAAAAAAAAAAAAAAAAAAAAAAAAAAAAAAAAAAAAAAAAAAAAAAAAAAAAAAAAAAAAAAAAAAAAAAAAAAAAAAAAAAAAAAAAAAAAAAAAAAAAAAAAAAAAAAAAAAAAAAAAAAAAAAAAAAAAAAAAAAAAAAAAAAAAAAAAAAAAAAAAAAAAAAAAAAAAAAAAAAAAAAAAAAAAAAAAAAAAAAAAAAAAAAAAAAAAAAAAAAAAAAAAAAAAAAAAAAAAAAAAAAAAAAAAAAAAAAAAAAAAAAAAAAAAAAAAAAAAAAAAAAAAAAAAAAAAAAAAAAAAAAAAAAAAAAAAAAAAAAAAAAAAAAAAAAAAAAAAAAAAAAAAAAAAAAAAAAAAAAAAAAAAAAAAAAAAAAAAAAAAAAAAAAAAAAAAAAAAAAAAAAAAAAAAAAAAAAAAAAAAAAAAAAAAAAAAAAAAAAAAAAAAAAAAAAAAAAAAAAAAAAAAAAAAAAAAAAAAAAAAAAAAAAAAAAAAAAAAAAAAAAAAAAAAAAAAAAAAAAAAAAAAAAAAAAAAAAAAAAAAAAAAAAAAAAAAAAAAAAAAAAAAAAAAAAAAAAAAAAAAAAAAAAAAAAAAAAAAAAAAAAAAAAAAAAAAAAAAAAAAAAAAAAAAAAAAAAAAAAAAAAAAAAAAAAAAAAAAAAAAAAAAAAAAAAAAAAAAAAAAAAAAAAAAAAAAAAAAAAAAAAAAAAAAAAAAAAAAAAAAAAAAAAAAAAAAAAAAAAAAAAAAAAAAAAAAAAAAAAAAAAAAAAAAAAAAAAAAAAAAAAAAAAAAAAAAAAAAAAAAAAAAAAAAAAAAAAAAAAAAAAAAAAAAAAAAAAAAAAAAAAAAAAAAAAAAAAAAAAAAAAAAAAAAAAAAAAAAAAAAAAAAAAAAAAAAAAAAAAAAAAAAAAAAAAAAAAAAAAAAAAAAAAAAAAAAAAAAAAAAAAAAAAAAAAAAAAAAAAAAAAAAAAAAAAAAAAAAAAAAAAAAAAAAAAAAAAAAAAAAAAAAAAAAAAAAAAAAAAAAAAAAAAAAAAAAAAAAAAAAAAAAAAAAAAAAAAAAAAAAAAAAAAAAAAAAAAAAAAAAAAAAAAAAAAAAAAAAAAAAAAAAAAAAAAAAAAAAAAAAAAAAAAAAAAAAAAAAAAAAAAAAAAAAAAAAAAAAAAAAAAAAAAAAAAAAAAAAAAAAAAAAAAAAAAAAAAAAAAAAAAAAAAAAAAAAAAAAAAAAAAAAAAAAAAAAAAAAAAAAAAAAAAAAAAAAAAAAAAAAAAAAAAAAAAAAAAAAAAAAAAAAAAAAAAAAAAAAAAAAAAAAAAAAAAAAAAAAAAAAAAAAAAAAAAAAAAAAAAAAAAAAAAAAAAAAAAAAAAAAAAAAAAAAAAAAAAAAAAAAAAAAAAAAAAAAAAAAAAAAAAAAAAAAAAAAAAAAAAAAAAAAAAAAAAAAAAAAAAAAAAAAAAAAAAAAAAAAAAAAAAAAAAAAAAAAAAAAAAAAAAAAAAAAAAAAAAAAAAAAAAAAAAAAAAAAAAAAAAAAAAAAAAAAAAAAAAAAAAAAAAAAAAAAAAAAAAAAAAAAAAAAAAAAAAAAAAAAAAAAAAAAAAAAAAAAAAAAAAAAAAAAAAAAAAAAAAAAAAAAAAAAAAAAAAAAAAAAAAAAAAAAAAAAAAAAAAAAAAAAAAAAAAAAAAAAAAAAAAAAAAAAAAAAAAAAAAAAAAAAAAAAAAAAAAAAAAAAAAAAAAAAAAAAAAAAAAAAAAAAAAAAAAAAAAAAAAAAAAAAAAAAAAAAAAAAAAAAAAAAAAAAAAAAAAAAAAAAAAAAAAAAAAAAAAAAAAAAAAAAAAAAAAAAAAAAAAAAAAAAAAAAAAAAAAAAAAAAAAAAAAAAAAAAAAAAAAAAAAAAAAAAAAAAAAAAAAAAAAAAAAAAAAAAAAAAAAAAAAAAAAAAAAAAAAAAAAAAAAAAAAAAAAAAAAAAAAAAAAAAAAAAAAAAAAAAAAAAAAAAAAAAAAAAAAAAAAAAAAAAAAAAAAAAAAAAAAAAAAAAAAAAAAAAAAAAAAAAAAAAAAAAAAAAAAAAAAAAAAAAAAAAAAAAAAAAAAAAAAAAAAAAAAAAAAAAAAAAAAAAAAAAAAAAAAAAAAAAAAAAAAAAAAAAAAAAAAAAAAAAAAAAAAAAAAAAAAAAAAAAAAAAAAAAAAAAAAAAAAAAAAAAAAAAAAAAAAAAAAAAAAAAAAAAAAAAAAAAAAAAAAAAAAAAAAAAAAAAAAAAAAAAAAAAAAAAAAAAAAAAAAAAAAAAAAAAAAAAAAAAAAAAAAAAAAAAAAAAAAAAAAAAAAAAAAAAAAAAAAAAAAAAAAAAAAAAAAAAAAAAAAAAAAAAAAAAAAAAAAAAAAAAAAAAAAAAAAAAAAAAAAAAAAAAAAAAAAAAAAAAAAAAAAAAAAAAAAAAAAAAAAAAAAAAAAAAAAAAAAAAAAAAAAAAAAAAAAAAAAAAAAAAAAAAAAAAAAAAAAAAAAAAAAAAAAAAAAAAAAAAAAAAAAAAAAAAAAAAAAAAAAAAAAAAAAAAAAAAAAAAAAAAAAAAAAAAAAAAAAAAAAAAAAAAAAAAAAAAAAAAAAAAAAAAAAAAAAAAAAAAAAAAAAAAAAAAAAAAAAAAAAAAAAAAAAAAAAAAAAAAAAAAAAAAAAAAAAAAAAAAAAAAAAAAAAAAAAAAAAAAAAAAAAAAAAAAAAAAAAAAAAAAAAAAAAAAAAAAAAAAAAAAAAAAAAAAAAAAAAAAAAAAAAAAAAAAAAAAAAAAAAAAAAAAAAAAAAAAAAAAAAAAAAAAAAAAAAAAAAAAAAAAAAAAAAAAAAAAAAAAAAAAAAAAAAAAAAAAAAAAAAAAAAAAAAAAAAAAAAAAAAAAAAAAAAAAAAAAAAAAAAAAAAAAAAAAAAAAAAAAAAAAAAAAAAAAAAAAAAAAAAAAAAAAAAAAAAAAAAAAAAAAAAAAAAAAAAAAAAAAAAAAAAAAAAAAAAAAAAAAAAAAAAAAAAAAAAAAAAAAAAAAAAAAAAAAAAAAAAAAAAAAAAAAAAAAAAAAAAAAAAAAAAAAAAAAAAAAAAAAAAAAAAAAAAAAAAAAAAAAAAAAAAAAAAAAAAAAAAAAAAAAAAAAAAAAAAAAAAAAAAAAAAAAAAAAAAAAAAAAAAAAAAAAAAAAAAAAAAAAAAAAAAAAAAAAAAAAAAAAAAAAAAAAAAAAAAAAAAAAAAAAAAAAAAAAAAAAAAAAAAAAAAAAAAAAAAAAAAAAAAAAAAAAAAAAAAAAAAAAAAAAAAAAAAAAAAAAAAAAAAAAAAAAAAAAAAAAAAAAAAAAAAAAAAAAAAAAAAAAAAAAAAAAAAAAAAAAAAAAAAAAAAAAAAAAAAAAAAAAAAAAAAAAAAAAAAAAAAAAAAAAAAAAAAAAAAAAAAAAAAAAAAAAAAAAAAAAAAAAAAAAAAAAAAAAAAAAAAAAAAAAAAAAAAAAAAAAAAAAAAAAAAAAAAAAAAAAAAAAAAAAAAAAAAAAAAAAAAAAAAAAAAAAAAAAAAAAAAAAAAAAAAAAAAAAAAAAAAAAAAAAAAAAAAAAAAAAAAAAAAAAAAAAAAAAAAAAAAAAAAAAAAAAAAAAAAAAAAAAAAAAAAAAAAAAAAAAAAAAAAAAAAAAAAAAAAAAAAAAAAAAAAAAAAAAAAAAAAAAAAAAAAAAAAAAAAAAAAAAAAAAAAAAAAAAAAAAAAAAAAAAAAAAAAAAAAAAAAAAAAAAAAAAAAAAAAAAAAAAAAAAAAAAAAAAAAAAAAAAAAAAAAAAAAAAAAAAAAAAAAAAAAAAAAAAAAAAAAAAAAAAAAAAAAAAAAAAAAAAAAAAAAAAAAAAAAAAAAAAAAAAAAAAAAAAAAAAAAAAAAAAAAAAAAAAAAAAAAAAAAAAAAAAAAAAAAAAAAAAAAAAAAAAAAAAAAAAAAAAAAAAAAAAAAAAAAAAAAAAAAAAAAAAAAAAAAAAAAAAAAAAAAAAAAAAAAAAAAAAAAAAAAAAAAAAAAAAAAAAAAAAAAAAAAAAAAAAAAAAAAAAAAAAAAAAAAAAAAAAAAAAAAAAAAAAAAAAAAAAAAAAAAAAAAAAAAAAAAAAAAAAAAAAAAAAAAAAAAAAAAAAAAAAAAAAAAAAAAAAAAAAAAAAAAAAAAAAAAAAAAAAAAAAAAAAAAAAAAAAAAAAAAAAAAAAAAAAAAAAAAAAAAAAAAAAAAAAAAAAAAAAAAAAAAAAAAAAAAAAAAAAAAAAAAAAAAAAAAAAAAAAAAAAAAAAAAAAAAAAAAAAAAAAAAAAAAAAAAAAAAAAAAAAAAAAAAAAAAAAAAAAAAAAAAAAAAAAAAAAAAAAAAAAAAAAAAAAAAAAAAAAAAAAAAAAAAAAAAAAAAAAAAAAAAAAAAAAAAAAAAAAAAAAAAAAAAAAAAAAAAAAAAAAAAAAAAAAAAAAAAAAAAAAAAAAAAAAAAAAAAAAAAAAAAAAAAAAAAAAAAAAAAAAAAAAAAAAAAAAAAAAAAAAAAAAAAAAAAAAAAAAAAAAAAAAAAAAAAAAAAAAAAAAAAAAAAAAAAAAAAAAAAAAAAAAAAAAAAAAAAAAAAAAAAAAAAAAAAAAAAAAAAAAAAAAAAAAAAAAAAAAAAAAAAAAAAAAAAAAAAAAAAAAAAAAAAAAAAAAAAAAAAAAAAAAAAAAAAAAAAAAAAAAAAAAAAAAAAAAAAAAAAAAAAAAAAAAAAAAAAAAAAAAAAAAAAAAAAAAAAAAAAAAAAAAAAAAAAAAAAAAAAAAAAAAAAAAAAAAAAAAAAAAAAAAAAAAAAAAAAAAAAAAAAAAAAAAAAAAAAAAAAAAAAAAAAAAAAAAAAAAAAAAAAAAAAAAAAAAAAAAAAAAAAAAAAAAAAAAAAAAAAAAAAAAAAAAAAAAAAAAAAAAAAAAAAAAAAAAAAAAAAAAAAAAAAAAAAAAAAAAAAAAAAAAAAAAAAAAAAAAAAAAAAAAAAAAAAAAAAAAAAAAAAAAAAAAAAAAAAAAAAAAAAAAAAAAAAAAAAAAAAAAAAAAAAAAAAAAAAAAAAAAAAAAAAAAAAAAAAAAAAAAAAAAAAAAAAAAAAAAAAAAAAAAAAAAAAAAAAAAAAAAAAAAAAAAAAAAAAAAAAAAAAAAAAAAAAAAAAAAAAAAAAAAAAAAAAAAAAAAAAAAAAAAAAAAAAAAAAAAAAAAAAAAAAAAAAAAAAAAAAAAAAAAAAAAAAAAAAAAAAAAAAAAAAAAAAAAAAAAAAAAAAAAAAAAAAAAAAAAAAAAAAAAAAAAAAAAAAAAAAAAAAAAAAAAAAAAAAAAAAAAAAAAAAAAAAAAAAAAAAAAAAAAAAAAAAAAAAAAAAAAAAAAAAAAAAAAAAAAAAAAAAAAAAAAAAAAAAAAAAAAAAAAAAAAAAAAAAAAAAAAAAAAAAAAAAAAAAAAAAAAAAAAAAAAAAAAAAAAAAAAAAAAAAAAAAAAAAAAAAAAAAAAAAAAAAAAAAAAAAAAAAAAAAAAAAAAAAAAAAAAAAAAAAAAAAAAAAAAAAAAAAAAAAAAAAAAAAAAAAAAAAAAAAAAAAAAAAAAAAAAAAAAAAAAAAAAAAAAAAAAAAAAAAAAAAAAAAAAAAAAAAAAAAAAAAAAAAAAAAAAAAAAAAAAAAAAAAAAAAAAAAAAAAAAAAAAAAAAAAAAAAAAAAAAAAAAAAAAAAAAAAAAAAAAAAAAAAAAAAAAAAAAAAAAAAAAAAAAAAAAAAAAAAAAAAAAAAAAAAAAAAAAAAAAAAAAAAAAAAAAAAAAAAAAAAAAAAAAAAAAAAAAAAAAAAAAAAAAAAAAAAAAAAAAAAAAAAAAAAAAAAAAAAAAAAAAAAAAAAAAAAAAAAAAAAAAAAAAAAAAAAAAAAAAAAAAAAAAAAAAAAAAAAAAAAAAAAAAAAAAAAAAAAAAAAAAAAAAAAAAAAAAAAAAAAAAAAAAAAAAAAAAAAAAAAAAAAAAAAAAAAAAAAAAAAAAAAAAAAAAAAAAAAAAAAAAAAAAAAAAAAAAAAAAAAAAAAAAAAAAAAAAAAAAAAAAAAAAAAAAAAAAAAAAAAAAAAAAAAAAAAAAAAAAAAAAAAAAAAAAAAAAAAAAAAAAAAAAAAAAAAAAAAAAAAAAAAAAAAAAAAAAAAAAAAAAAAAAAAAAAAAAAAAAAAAAAAAAAAAAAAAAAAAAAAAAAAAAAAAAAAAAAAAAAAAAAAAAAAAAAAAAAAAAAAAAAAAAAAAAAAAAAAAAAAAAAAAAAAAAAAAAAAAAAAAAAAAAAAAAAAAAAAAAAAAAAAAAAAAAAAAAAAAAAAAAAAAAAAAAAAAAAAAAAAAAAAAAAAAAAAAAAAAAAAAAAAAAAAAAAAAAAAAAAAAAAAAAAAAAAAAAAAAAAAAAAAAAAAAAAAAAAAAAAAAAAAAAAAAAAAAAAAAAAAAAAAAAAAAAAAAAAAAAAAAAAAAAAAAAAAAAAAAAAAAAAAAAAAAAAAAAAAAAAAAAAAAAAAAAAAAAAAAAAAAAAAAAAAAAAAAAAAAAAAAAAAAAAAAAAAAAAAAAAAAAAAAAAAAAAAAAAAAAAAAAAAAAAAAAAAAAAAAAAAAAAAAAAAAAAAAAAAAAAAAAAAAAAAAAAAAAAAAAAAAAAAAAAAAAAAAAAAAAAAAAAAAAAAAAAAAAAAAAAAAAAAAAAAAAAAAAAAAAAAAAAAAAAAAAAAAAAAAAAAAAAAAAAAAAAAAAAAAAAAAAAAAAAAAAAAAAAAAAAAAAAAAAAAAAAAAAAAAAAAAAAAAAAAAAAAAAAAAAAAAAAAAAAAAAAAAAAAAAAAAAAAAAAAAAAAAAAAAAAAAAAAAAAAAAAAAAAAAAAAAAAAAAAAAAAAAAAAAAAAAAAAAAAAAAAAAAAAAAAAAAAAAAAAAAAAAAAAAAAAAAAAAAAAAAAAAAAAAAAAAAAAAAAAAAAAAAAAAAAAAAAAAAAAAAAAAAAAAAAAAAAAAAAAAAAAAAAAAAAAAAAAAAAAAAAAAAAAAAAAAAAAAAAAAAAAAAAAAAAAAAAAAAAAAAAAAAAAAAAAAAAAAAAAAAAAAAAAAAAAAAAAAAAAAAAAAAAAAAAAAAAAAAAAAAAAAAAAAAAAAAAAAAAAAAAAAAAAAAAAAAAAAAAAAAAAAAAAAAAAAAAAAAAAAAAAAAAAAAAAAAAAAAAAAAAAAAAAAAAAAAAAAAAAAAAAAAAAAAAAAAAAAAAAAAAAAAAAAAAAAAAAAAAAAAAAAAAAAAAAAAAAAAAAAAAAAAAAAAAAAAAAAAAAAAAAAAAAAAAAAAAAAAAAAAAAAAAAAAAAAAAAAAAAAAAAAAAAAAAAAAAAAAAAAAAAAAAAAAAAAAAAAAAAAAAAAAAAAAAAAAAAAAAAAAAAAAAAAAAAAAAAAAAAAAAAAAAAAAAAAAAAAAAAAAAAAAAAAAAAAAAAAAAAAAAAAAAAAAAAAAAAAAAAAAAAAAAAAAAAAAAAAAAAAAAAAAAAAAAAAAAAAAAAAAAAAAAAAAAAAAAAAAAAAAAAAAAAAAAAAAAAAAAAAAAAAAAAAAAAAAAAAAAAAAAAAAAAAAAAAAAAAAAAAAAAAAAAAAAAAAAAAAAAAAAAAAAAAAAAAAAAAAAAAAAAAAAAAAAAAAAAAAAAAAAAAAAAAAAAAAAAAAAAAAAAAAAAAAAAAAAAAAAAAAAAAAAAAAAAAAAAAAAAAAAAAAAAAAAAAAAAAAAAAAAAAAAAAAAAAAAAAAAAAAAAAAAAAAAAAAAAAAAAAAAAAAAAAAAAAAAAAAAAAAAAAAAAAAAAAAAAAAAAAAAAAAAAAAAAAAAAAAAAAAAAAAAAAAAAAAAAAAAAAAAAAAAAAAAAAAAAAAAAAAAAAAAAAAAAAAAAAAAAAAAAAAAAAAAAAAAAAAAAAAAAAAAAAAAAAAAAAAAAAAAAAAAAAAAAAAAAAAAAAAAAAAAAAAAAAAAAAAAAAAAAAAAAAAAAAAAAAAAAAAAAAAAAAAAAAAAAAAAAAAAAAAAAAAAAAAAAAAAAAAAAAAAAAAAAAAAAAAAAAAAAAAAAAAAAAAAAAAAAAAAAAAAAAAAAAAAAAAAAAAAAAAAAAAAAAAAAAAAAAAAAAAAAAAAAAAAAAAAAAAAAAAAAAAAAAAAAAAAAAAAAAAAAAAAAAAAAAAAAAAAAAAAAAAAAAAAAAAAAAAAAAAAAAAAAAAAAAAAAAAAAAAAAAAAAAAAAAAAAAAAAAAAAAAAAAAAAAAAAAAAAAAAAAAAAAAAAAAAAAAAAAAAAAAAAAAAAAAAAAAAAAAAAAAAAAAAAAAAAAAAAAAAAAAAAAAAAAAAAAAAAAAAAAAAAAAAAAAAAAAAAAAAAAAAAAAAAAAAAAAAAAAAAAAAAAAAAAAAAAAAAAAAAAAAAAAAAAAAAAAAAAAAAAAAAAAAAAAAAAAAAAAAAAAAAAAAAAAAAAAAAAAAAAAAAAAAAAAAAAAAAAAAAAAAAAAAAAAAAAAAAAAAAAAAAAAAAAAAAAAAAAAAAAAAAAAAAAAAAAAAAAAAAAAAAAAAAAAAAAAAAAAAAAAAAAAAAAAAAAAAAAAAAAAAAAAAAAAAAAAAAAAAAAAAAAAAAAAAAAAAAAAAAAAAAAAAAAAAAAAAAAAAAAAAAAAAAAAAAAAAAAAAAAAAAAAAAAAAAAAAAAAAAAAAAAAAAAAAAAAAAAAAAAAAAAAAAAAAAAAAAAAAAAAAAAAAAAAAAAAAAAAAAAAAAAAAAAAAAAAAAAAAAAAAAAAAAAAAAAAAAAAAAAAAAAAAAAAAAAAAAAAAAAAAAAAAAAAAAAAAAAAAAAAAAAAAAAAAAAAAAAAAAAAAAAAAAAAAAAAAAAAAAAAAAAAAAAAAAAAAAAAAAAAAAAAAAAAAAAAAAAAAAAAAAAAAAAAAAAAAAAAAAAAAAAAAAAAAAAAAAAAAAAAAAAAAAAAAAAAAAAAAAAAAAAAAAAAAAAAAAAAAAAAAAAAAAAAAAAAAAAAAAAAAAAAAAAAAAAAAAAAAAAAAAAAAAAAAAAAAAAAAAAAAAAAAAAAAAAAAAAAAAAAAAAAAAAAAAAAAAAAAAAAAAAAAAAAAAAAAAAAAAAAAAAAAAAAAAAAAAAAAAAAAAAAAAAAAAAAAAAAAAAAAAAAAAAAAAAAAAAAAAAAAAAAAAAAAAAAAAAAAAAAAAAAAAAAAAAAAAAAAAAAAAAAAAAAAAAAAAAAAAAAAAAAAAAAAAAAAAAAAAAAAAAAAAAAAAAAAAAAAAAAAAAAAAAAAAAAAAAAAAAAAAAAAAAAAAAAAAAAAAAAAAAAAAAAAAAAAAAAAAAAAAAAAAAAAAAAAAAAAAAAAAAAAAAAAAAAAAAAAAAAAAAAAAAAAAAAAAAAAAAAAAAAAAAAAAAAAAAAAAAAAAAAAAAAAAAAAAAAAAAAAAAAAAAAAAAAAAAAAAAAAAAAAAAAAAAAAAAAAAAAAAAAAAAAAAAAAAAAAAAAAAAAAAAAAAAAAAAAAAAAAAAAAAAAAAAAAAAAAAAAAAAAAAAAAAAAAAAAAAAAAAAAAAAAAAAAAAAAAAAAAAAAAAAAAAAAAAAAAAAAAAAAAAAAAAAAAAAAAAAAAAAAAAAAAAAAAAAAAAAAAAAAAAAAAAAAAAAAAAAAAAAAAAAAAAAAAAAAAAAAAAAAAAAAAAAAAAAAAAAAAAAAAAAAAAAAAAAAAAAAAAAAAAAAAAAAAAAAAAAAAAAAAAAAAAAAAAAAAAAAAAAAAAAAAAAAAAAAAAAAAAAAAAAAAAAAAAAAAAAAAAAAAAAAAAAAAAAAAAAAAAAAAAAAAAAAAAAAAAAAAAAAAAAAAAAAAAAAAAAAAAAAAAAAAAAAAAAAAAAAAAAAAAAAAAAAAAAAAAAAAAAAAAAAAAAAAAAAAAAAAAAAAAAAAAAAAAAAAAAAAAAAAAAAAAAAAAAAAAAAAAAAAAAAAAAAAAAAAAAAAAAAAAAAAAAAAAAAAAAAAAAAAAAAAAAAAAAAAAAAAAAAAAAAAAAAAAAAAAAAAAAAAAAAAAAAAAAAAAAAAAAAAAAAAAAAAAAAAAAAAAAAAAAAAAAAAAAAAAAAAAAAAAAAAAAAAAAAAAAAAAAAAAAAAAAAAAAAAAAAAAAAAAAAAAAAAAAAAAAAAAAAAAAAAAAAAAAAAAAAAAAAAAAAAAAAAAAAAAAAAAAAAAAAAAAAAAAAAAAAAAAAAAAAAAAAAAAAAAAAAAAAAAAAAAAAAAAAAAAAAAAAAAAAAAAAAAAAAAAAAAAAAAAAAAAAAAAAAAAAAAAAAAAAAAAAAAAAAAAAAAAAAAAAAAAAAAAAAAAAAAAAAAAAAAAAAAAAAAAAAAAAAAAAAAAAAAAAAAAAAAAAAAAAAAAAAAAAAAAAAAAAAAAAAAAAAAAAAAAAAAAAAAAAAAAAAAAAAAAAAAAAAAAAAAAAAAAAAAAAAAAAAAAAAAAAAAAAAAAAAAAAAAAAAAAAAAAAAAAAAAAAAAAAAAAAAAAAAAAAAAAAAAAAAAAAAAAAAAAAAAAAAAAAAAAAAAAAAAAAAAAAAAAAAAAAAAAAAAAAAAAAAAAAAAAAAAAAAAAAAAAAAAAAAAAAAAAAAAAAAAAAAAAAAAAAAAAAAAAAAAAAAAAAAAAAAAAAAAAAAAAAAAAAAAAAAAAAAAAAAAAAAAAAAAAAAAAAAAAAAAAAAAAAAAAAAAAAAAAAAAAAAAAAAAAAAAAAAAAAAAAAAAAAAAAAAAAAAAAAAAAAAAAAAAAAAAAAAAAAAAAAAAAAAAAAAAAAAAAAAAAAAAAAAAAAAAAAAAAAAAAAAAAAAAAAAAAAAAAAAAAAAAAAAAAAAAAAAAAAAAAAAAAAAAAAAAAAAAAAAAAAAAAAAAAAAAAAAAAAAAAAAAAAAAAAAAAAAAAAAAAAAAAAAAAAAAAAAAAAAAAAAAAAAAAAAAAAAAAAAAAAAAAAAAAAAAAAAAAAAAAAAAAAAAAAAAAAAAAAAAAAAAAAAAAAAAAAAAAAAAAAAAAAAAAAAAAAAAAAAAAAAAAAAAAAAAAAAAAAAAAAAAAAAAAAAAAAAAAAAAAAAAAAAAAAAAAAAAAAAAAAAAAAAAAAAAAAAAAAAAAAAAAAAAAAAAAAAAAAAAAAAAAAAAAAAAAAAAAAAAAAAAAAAAAAAAAAAAAAAAAAAAAAAAAAAAAAAAAAAAAAAAAAAAAAAAAAAAAAAAAAAAAAAAAAAAAAAAAAAAAAAAAAAAAAAAAAAAAAAAAAAAAAAAAAAAAAAAAAAAAAAAAAAAAAAAAAAAAAAAAAAAAAAAAAAAAAAAAAAAAAAAAAAAAAAAAAAAAAAAAAAAAAAAAAAAAAAAAAAAAAAAAAAAAAAAAAAAAAAAAAAAAAAAAAAAAAAAAAAAAAAAAAAAAAAAAAAAAAAAAAAAAAAAAAAAAAAAAAAAAAAAAAAAAAAAAAAAAAAAAAAAAAAAAAAAAAAAAAAAAAAAAAAAAAAAAAAAAAAAAAAAAAAAAAAAAAAAAAAAAAAAAAAAAAAAAAAAAAAAAAAAAAAAAAAAAAAAAAAAAAAAAAAAAAAAAAAAAAAAAAAAAAAAAAAAAAAAAAAAAAAAAAAAAAAAAAAAAAAAAAAAAAAAAAAAAAAAAAAAAAAAAAAAAAAAAAAAAAAAAAAAAAAAAAAAAAAAAAAAAAAAAAAAAAAAAAAAAAAAAAAAAAAAAAAAAAAAAAAAAAAAAAAAAAAAAAAAAAAAAAAAAAAAAAAAAAAAAAAAAAAAAAAAAAAAAAAAAAAAAAAAAAAAAAAAAAAAAAAAAAAAAAAAAAAAAAAAAAAAAAAAAAAAAAAAAAAAAAAAAAAAAAAAAAAAAAAAAAAAAAAAAAAAAAAAAAAAAAAAAAAAAAAAAAAAAAAAAAAAAAAAAAAAAAAAAAAAAAAAAAAAAAAAAAAAAAAAAAAAAAAAAAAAAAAAAAAAAAAAAAAAAAAAAAAAAAAAAAAAAAAAAAAAAAAAAAAAAAAAAAAAAAAAAAAAAAAAAAAAAAAAAAAAAAAAAAAAAAAAAAAAAAAAAAAAAAAAAAAAAAAAAAAAAAAAAAAAAAAAAAAAAAAAAAAAAAAAAAAAAAAAAAAAAAAAAAAAAAAAAAAAAAAAAAAAAAAAAAAAAAAAAAAAAAAAAAAAAAAAAAAAAAAAAAAAAAAAAAAAAAAAAAAAAAAAAAAAAAAAAAAAAAAAAAAAAAAAAAAAAAAAAAAAAAAAAAAAAAAAAAAAAAAAAAAAAAAAAAAAAAAAAAAAAAAAAAAAAAAAAAAAAAAAAAAAAAAAAAAAAAAAAAAAAAAAAAAAAAAAAAAAAAAAAAAAAAAAAAAAAAAAAAAAAAAAAAAAAAAAAAAAAAAAAAAAAAAAAAAAAAAAAAAAAAAAAAAAAAAAAAAAAAAAAAAAAAAAAAAAAAAAAAAAAAAAAAAAAAAAAAAAAAAAAAAAAAAAAAAAAAAAAAAAAAAAAAAAAAAAAAAAAAAAAAAAAAAAAAAAAAAAAAAAAAAAAAAAAAAAAAAAAAAAAAAAAAAAAAAAAAAAAAAAAAAAAAAAAAAAAAAAAAAAAAAAAAAAAAAAAAAAAAAAAAAAAAAAAAAAAAAAAAAAAAAAAAAAAAAAAAAAAAAAAAAAAAAAAAAAAAAAAAAAAAAAAAAAAAAAAAAAAAAAAAAAAAAAAAAAAAAAAAAAAAAAAAAAAAAAAAAAAAAAAAAAAAAAAAAAAAAAAAAAAAAAAAAAAAAAAAAAAAAAAAAAAAAAAAAAAAAAAAAAAAAAAAAAAAAAAAAAAAAAAAAAAAAAAAAAAAAAAAAAAAAAAAAAAAAAAAAAAAAAAAAAAAAAAAAAAAAAAAAAAAAAAAAAAAAAAAAAAAAAAAAAAAAAAAAAAAAAAAAAAAAAAAAAAAAAAAAAAAAAAAAAAAAAAAAAAAAAAAAAAAAAAAAAAAAAAAAAAAAAAAAAAAAAAAAAAAAAAAAAAAAAAAAAAAAAAAAAAAAAAAAAAAAAAAAAAAAAAAAAAAAAAAAAAAAAAAAAAAAAAAAAAAAAAAAAAAAAAAAAAAAAAAAAAAAAAAAAAAAAAAAAAAAAAAAAAAAAAAAAAAAAAAAAAAAAAAAAAAAAAAAAAAAAAAAAAAAAAAAAAAAAAAAAAAAAAAAAAAAAAAAAAAAAAAAAAAAAAAAAAAAAAAAAAAAAAAAAAAAAAAAAAAAAAAAAAAAAAAAAAAAAAAAAAAAAAAAAAAAAAAAAAAAAAAAAAAAAAAAAAAAAAAAAAAAAAAAAAAAAAAAAAAAAAAAAAAAAAAAAAAAAAAAAAAAAAAAAAAAAAAAAAAAAAAAAAAAAAAAAAAAAAAAAAAAAAAAAAAAAAAAAAAAAAAAAAAAAAAAAAAAAAAAAAAAAAAAAAAAAAAAAAAAAAAAAAAAAAAAAAAAAAAAAAAAAAAAAAAAAAAAAAAAAAAAAAAAAAAAAAAAAAAAAAAAAAAAAAAAAAAAAAAAAAAAAAAAAAAAAAAAAAAAAAAAAAAAAAAAAAAAAAAAAAAAAAAAAAAAAAAAAAAAAAAAAAAAAAAAAAAAAAAAAAAAAAAAAAAAAAAAAAAAAAAAAAAAAAAAAAAAAAAAAAAAAAAAAAAAAAAAAAAAAAAAAAAAAAAAAAAAAAAAAAAAAAAAAAAAAAAAAAAAAAAAAAAAAAAAAAAAAAAAAAAAAAAAAAAAAAAAAAAAAAAAAAAAAAAAAAAAAAAAAAAAAAAAAAAAAAAAAAAAAAAAAAAAAAAAAAAAAAAAAAAAAAAAAAAAAAAAAAAAAAAAAAAAAAAAAAAAAAAAAAAAAAAAAAAAAAAAAAAAAAAAAAAAAAAAAAAAAAAAAAAAAAAAAAAAAAAAAAAAAAAAAAAAAAAAAAAAAAAAAAAAAAAAAAAAAAAAAAAAAAAAAAAAAAAAAAAAAAAAAAAAAAAAAAAAAAAAAAAAAAAAAAAAAAAAAAAAAAAAAAAAAAAAAAAAAAAAAAAAAAAAAAAAAAAAAAAAAAAAAAAAAAAAAAAAAAAAAAAAAAAAAAAAAAAAAAAAAAAAAAAAAAAAAAAAAAAAAAAAAAAAAAAAAAAAAAAAAAAAAAAAAAAAAAAAAAAAAAAAAAAAAAAAAAAAAAAAAAAAAAAAAAAAAAAAAAAAAAAAAAAAAAAAAAAAAAAAAAAAAAAAAAAAAAAAAAAAAAAAAAAAAAAAAAAAAAAAAAAAAAAAAAAAAAAAAAAAAAAAAAAAAAAAAAAAAAAAAAAAAAAAAAAAAAAAAAAAAAAAAAAAAAAAAAAAAAAAAAAAAAAAAAAAAAAAAAAAAAAAAAAAAAAAAAAAAAAAAAAAAAAAAAAAAAAAAAAAAAAAAAAAAAAAAAAAAAAAAAAAAAAAAAAAAAAAAAAAAAAAAAAAAAAAAAAAAAAAAAAAAAAAAAAAAAAAAAAAAAAAAAAAAAAAAAAAAAAAAAAAAAAAAAAAAAAAAAAAAAAAAAAAAAAAAAAAAAAAAAAAAAAAAAAAAAAAAAAAAAAAAAAAAAAAAAAAAAAAAAAAAAAAAAAAAAAAAAAAAAAAAAAAAAAAAAAAAAAAAAAAAAAAAAAAAAAAAAAAAAAAAAAAAAAAAAAAAAAAAAAAAAAAAAAAAAAAAAAAAAAAAAAAAAAAAAAAAAAAAAAAAAAAAAAAAAAAAAAAAAAAAAAAAAAAAAAAAAAAAAAAAAAAAAAAAAAAAAAAAAAAAAAAAAAAAAAAAAAAAAAAAAAAAAAAAAAAAAAAAAAAAAAAAAAAAAAAAAAAAAAAAAAAAAAAAAAAAAAAAAAAAAAAAAAAAAAAAAAAAAAAAAAAAAAAAAAAAAAAAAAAAAAAAAAAAAAAAAAAAAAAAAAAAAAAAAAAAAAAAAAAAAAAAAAAAAAAAAAAAAAAAAAAAAAAAAAAAAAAAAAAAAAAAAAAAAAAAAAAAAAAAAAAAAAAAAAAAAAAAAAAAAAAAAAAAAAAAAAAAAAAAAAAAAAAAAAAAAAAAAAAAAAAAAAAAAAAAAAAAAAAAAAAAAAAAAAAAAAAAAAAAAAAAAAAAAAAAAAAAAAAAAAAAAAAAAAAAAAAAAAAAAAAAAAAAAAAAAAAAAAAAAAAAAAAAAAAAAAAAAAAAAAAAAAAAAAAAAAAAAAAAAAAAAAAAAAAAAAAAAAAAAAAAAAAAAAAAAAAAAAAAAAAAAAAAAAAAAAAAAAAAAAAAAAAAAAAAAAAAAAAAAAAAAAAAAAAAAAAAAAAAAAAAAAAAAAAAAAAAAAAAAAAAAAAAAAAAAAAAAAAAAAAAAAAAAAAAAAAAAAAAAAAAAAAAAAAAAAAAAAAAAAAAAAAAAAAAAAAAAAAAAAAAAAAAAAAAAAAAAAAAAAAAAAAAAAAAAAAAAAAAAAAAAAAAAAAAAAAAAAAAAAAAAAAAAAAAAAAAAAAAAAAAAAAAAAAAAAAAAAAAAAAAAAAAAAAAAAAAAAAAAAAAAAAAAAAAAAAAAAAAAAAAAAAAAAAAAAAAAAAAAAAAAAAAAAAAAAAAAAAAAAAAAAAAAAAAAAAAAAAAAAAAAAAAAAAAAAAAAAAAAAAAAAAAAAAAAAAAAAAAAAAAAAAAAAAAAAAAAAAAAAAAAAAAAAAAAAAAAAAAAAAAAAAAAAAAAAAAAAAAAAAAAAAAAAAAAAAAAAAAAAAAAAAAAAAAAAAAAAAAAAAAAAAAAAAAAAAAAAAAAAAAAAAAAAAAAAAAAAAAAAAAAAAAAAAAAAAAAAAAAAAAAAAAAAAAAAAAAAAAAAAAAAAAAAAAAAAAAAAAAAAAAAAAAAAAAAAAAAAAAAAAAAAAAAAAAAAAAAAAAAAAAAAAAAAAAAAAAAAAAAAAAAAAAAAAAAAAAAAAAAAAAAAAAAAAAAAAAAAAAAAAAAAAAAAAAAAAAAAAAAAAAAAAAAAAAAAAAAAAAAAAAAAAAAAAAAAAAAAAAAAAAAAAAAAAAAAAAAAAAAAAAAAAAAAAAAAAAAAAAAAAAAAAAAAAAAAAAAAAAAAAAAAAAAAAAAAAAAAAAAAAAAAAAAAAAAAAAAAAAAAAAAAAAAAAAAAAAAAAAAAAAAAAAAAAAAAAAAAAAAAAAAAAAAAAAAAAAAAAAAAAAAAAAAAAAAAAAAAAAAAAAAAAAAAAAAAAAAAAAAAAAAAAAAAAAAAAAAAAAAAAAAAAAAAAAAAAAAAAAAAAAAAAAAAAAAAAAAAAAAAAAAAAAAAAAAAAAAAAAAAAAAAAAAAAAAAAAAAAAAAAAAAAAAAAAAAAAAAAAAAAAAAAAAAAAAAAAAAAAAAAAAAAAAAAAAAAAAAAAAAAAAAAAAAAAAAAAAAAAAAAAAAAAAAAAAAAAAAAAAAAAAAAAAAAAAAAAAAAAAAAAAAAAAAAAAAAAAAAAAAAAAAAAAAAAAAAAAAAAAAAAAAAAAAAAAAAAAAAAAAAAAAAAAAAAAAAAAAAAAAAAAAAAAAAAAAAAAAAAAAAAAAAAAAAAAAAAAAAAAAAAAAAAAAAAAAAAAAAAAAAAAAAAAAAAAAAAAAAAAAAAAAAAAAAAAAAAAAAAAAAAAAAAAAAAAAAAAAAAAAAAAAAAAAAAAAAAAAAAAAAAAAAAAAAAAAAAAAAAAAAAAAAAAAAAAAAAAAAAAAAAAAAAAAAAAAAAAAAAAAAAAAAAAAAAAAAAAAAAAAAAAAAAAAAAAAAAAAAAAAAAAAAAAAAAAAAAAAAAAAAAAAAAAAAAAAAAAAAAAAAAAAAAAAAAAAAAAAAAAAAAAAAAAAAAAAAAAAAAAAAAAAAAAAAAAAAAAAAAAAAAAAAAAAAAAAAAAAAAAAAAAAAAAAAAAAAAAAAAAAAAAAAAAAAAAAAAAAAAAAAAAAAAAAAAAAAAAAAAAAAAAAAAAAAAAAAAAAAAAAAAAAAAAAAAAAAAAAAAAAAAAAAAAAAAAAAAAAAAAAAAAAAAAAAAAAAAAAAAAAAAAAAAAAAAAAAAAAAAAAAAAAAAAAAAAAAAAAAAAAAAAAAAAAAAAAAAAAAAAAAAAAAAAAAAAAAAAAAAAAAAAAAAAAAAAAAAAAAAAAAAAAAAAAAAAAAAAAAAAAAAAAAAAAAAAAAAAAAAAAAAAAAAAAAAAAAAAAAAAAAAAAAAAAAAAAAAAAAAAAAAAAAAAAAAAAAAAAAAAAAAAAAAAAAAAAAAAAAAAAAAAAAAAAAAAAAAAAAAAAAAAAAAAAAAAAAAAAAAAAAAAAAAAAAAAAAAAAAAAAAAAAAAAAAAAAAAAAAAAAAAAAAAAAAAAAAAAAAAAAAAAAAAAAAAAAAAAAAAAAAAAAAAAAAAAAAAAAAAAAAAAAAAAAAAAAAAAAAAAAAAAAAAAAAAAAAAAAAAAAAAAAAAAAAAAAAAAAAAAAAAAAAAAAAAAAAAAAAAAAAAAAAAAAAAAAAAAAAAAAAAAAAAAAAAAAAAAAAAAAAAAAAAAAAAAAAAAAAAAAAAAAAAAAAAAAAAAAAAAAAAAAAAAAAAAAAAAAAAAAAAAAAAAAAAAAAAAAAAAAAAAAAAAAAAAAAAAAAAAAAAAAAAAAAAAAAAAAAAAAAAAAAAAAAAAAAAAAAAAAAAAAAAAAAAAAAAAAAAAAAAAAAAAAAAAAAAAAAAAAAAAAAAAAAAAAAAAAAAAAAAAAAAAAAAAAAAAAAAAAAAAAAAAAAAAAAAAAAAAAAAAAAAAAAAAAAAAAAAAAAAAAAAAAAAAAAAAAAAAAAAAAAAAAAAAAAAAAAAAAAAAAAAAAAAAAAAAAAAAAAAAAAAAAAAAAAAAAAAAAAAAAAAAAAAAAAAAAAAAAAAAAAAAAAAAAAAAAAAAAAAAAAAAAAAAAAAAAAAAAAAAAAAAAAAAAAAAAAAAAAAAAAAAAAAAAAAAAAAAAAAAAAAAAAAAAAAAAAAAAAAAAAAAAAAAAAAAAAAAAAAAAAAAAAAAAAAAAAAAAAAAAAAAAAAAAAAAAAAAAAAAAAAAAAAAAAAAAAAAAAAAAAAAAAAAAAAAAAAAAAAAAAAAAAAAAAAAAAAAAAAAAAAAAAAAAAAAAAAAAAAAAAAAAAAAAAAAAAAAAAAAAAAAAAAAAAAAAAAAAAAAAAAAAAAAAAAAAAAAAAAAAAAAAAAAAAAAAAAAAAAAAAAAAAAAAAAAAAAAAAAAAAAAAAAAAAAAAAAAAAAAAAAAAAAAAAAAAAAAAAAAAAAAAAAAAAAAAAAAAAAAAAAAAAAAAAAAAAAAAAAAAAAAAAAAAAAAAAAAAAAAAAAAAAAAAAAAAAAAAAAAAAAAAAAAAAAAAAAAAAAAAAAAAAAAAAAAAAAAAAAAAAAAAAAAAAAAAAAAAAAAAAAAAAAAAAAAAAAAAAAAAAAAAAAAAAAAAAAAAAAAAAAAAAAAAAAAAAAAAAAAAAAAAAAAAAAAAAAAAAAAAAAAAAAAAAAAAAAAAAAAAAAAAAAAAAAAAAAAAAAAAAAAAAAAAAAAAAAAAAAAAAAAAAAAAAAAAAAAAAAAAAAAAAAAAAAAAAAAAAAAAAAAAAAAAAAAAAAAAAAAAAAAAAAAAAAAAAAAAAAAAAAAAAAAAAAAAAAAAAAAAAAAAAAAAAAAAAAAAAAAAAAAAAAAAAAAAAAAAAAAAAAAAAAAAAAAAAAAAAAAAAAAAAAAAAAAAAAAAAAAAAAAAAAAAAAAAAAAAAAAAAAAAAAAAAAAAAAAAAAAAAAAAAAAAAAAAAAAAAAAAAAAAAAAAAAAAAAAAAAAAAAAAAAAAAAAAAAAAAAAAAAAAAAAAAAAAAAAAAAAAAAAAAAAAAAAAAAAAAAAAAAAAAAAAAAAAAAAAAAAAAAAAAAAAAAAAAAAAAAAAAAAAAAAAAAAAAAAAAAAAAAAAAAAAAAAAAAAAAAAAAAAAAAAAAAAAAAAAAAAAAAAAAAAAAAAAAAAAAAAAAAAAAAAAAAAAAAAAAAAAAAAAAAAAAAAAAAAAAAAAAAAAAAAAAAAAAAAAAAAAAAAAAAAAAAAAAAAAAAAAAAAAAAAAAAAAAAAAAAAAAAAAAAAAAAAAAAAAAAAAAAAAAAAAAAAAAAAAAAAAAAAAAAAAAAAAAAAAAAAAAAAAAAAAAAAAAAAAAAAAAAAAAAAAAAAAAAAAAAAAAAAAAAAAAAAAAAAAAAAAAAAAAAAAAAAAAAAAAAAAAAAAAAAAAAAAAAAAAAAAAAAAAAAAAAAAAAAAAAAAAAAAAAAAAAAAAAAAAAAAAAAAAAAAAAAAAAAAAAAAAAAAAAAAAAAAAAAAAAAAAAAAAAAAAAAAAAAAAAAAAAAAAAAAAAAAAAAAAAAAAAAAAAAAAAAAAAAAAAAAAAAAAAAAAAAAAAAAAAAAAAAAAAAAAAAAAAAAAAAAAAAAAAAAAAAAAAAAAAAAAAAAAAAAAAAAAAAAAAAAAAAAAAAAAAAAAAAAAAAAAAAAAAAAAAAAAAAAAAAAAAAAAAAAAAAAAAAAAAAAAAAAAAAAAAAAAAAAAAAAAAAAAAAAAAAAAAAAAAAAAAAAAAAAAAAAAAAAAAAAAAAAAAAAAAAAAAAAAAAAAAAAAAAAAAAAAAAAAAAAAAAAAAAAAAAAAAAAAAAAAAAAAAAAAAAAAAAAAAAAAAAAAAAAAAAAAAAAAAAAAAAAAAAAAAAAAAAAAAAAAAAAAAAAAAAAAAAAAAAAAAAAAAAAAAAAAAAAAAAAAAAAAAAAAAAAAAAAAAAAAAAAAAAAAAAAAAAAAAAAAAAAAAAAAAAAAAAAAAAAAAAAAAAAAAAAAAAAAAAAAAAAAAAAAAAAAAAAAAAAAAAAAAAAAAAAAAAAAAAAAAAAAAAAAAAAAAAAAAAAAAAAAAAAAAAAAAAAAAAAAAAAAAAAAAAAAAAAAAAAAAAAAAAAAAAAAAAAAAAAAAAAAAAAAAAAAAAAAAAAAAAAAAAAAAAAAAAAAAAAAAAAAAAAAAAAAAAAAAAAAAAAAAAAAAAAAAAAAAAAAAAAAAAAAAAAAAAAAAAAAAAAAAAAAAAAAAAAAAAAAAAAAAAAAAAAAAAAAAAAAAAAAAAAAAAAAAAAAAAAAAAAAAAAAAAAAAAAAAAAAAAAAAAAAAAAAAAAAAAAAAAAAAAAAAAAAAAAAAAAAAAAAAAAAAAAAAAAAAAAAAAAAAAAAAAAAAAAAAAAAAAAAAAAAAAAAAAAAAAAAAAAAAAAAAAAAAAAAAAAAAAAAAAAAAAAAAAAAAAAAAAAAAAAAAAAAAAAAAAAAAAAAAAAAAAAAAAAAAAAAAAAAAAAAAAAAAAAAAAAAAAAAAAAAAAAAAAAAAAAAAAAAAAAAAAAAAAAAAAAAAAAAAAAAAAAAAAAAAAAAAAAAAAAAAAAAAAAAAAAAAAAAAAAAAAAAAAAAAAAAAAAAAAAAAAAAAAAAAAAAAAAAAAAAAAAAAAAAAAAAAAAAAAAAAAAAAAAAAAAAAAAAAAAAAAAAAAAAAAAAAAAAAAAAAAAAAAAAAAAAAAAAAAAAAAAAAAAAAAAAAAAAAAAAAAAAAAAAAAAAAAAAAAAAAAAAAAAAAAAAAAAAAAAAAAAAAAAAAAAAAAAAAAAAAAAAAAAAAAAAAAAAAAAAAAAAAAAAAAAAAAAAAAAAAAAAAAAAAAAAAAAAAAAAAAAAAAAAAAAAAAAAAAAAAAAAAAAAAAAAAAAAAAAAAAAAAAAAAAAAAAAAAAAAAAAAAAAAAAAAAAAAAAAAAAAAAAAAAAAAAAAAAAAAAAAAAAAAAAAAAAAAAAAAAAAAAAAAAAAAAAAAAAAAAAAAAAAAAAAAAAAAAAAAAAAAAAAAAAAAAAAAAAAAAAAAAAAAAAAAAAAAAAAAAAAAAAAAAAAAAAAAAAAAAAAAAAAAAAAAAAAAAAAAAAAAAAAAAAAAAAAAAAAAAAAAAAAAAAAAAAAAAAAAAAAAAAAAAAAAAAAAAAAAAAAAAAAAAAAAAAAAAAAAAAAAAAAAAAAAAAAAAAAAAAAAAAAAAAAAAAAAAAAAAAAAAAAAAAAAAAAAAAAAAAAAAAAAAAAAAAAAAAAAAAAAAAAAAAAAAAAAAAAAAAAAAAAAAAAAAAAAAAPAAAAAAAAAAAAAAAAAAAAAAAAAAAAAAAAAAAAAAAAAAAAAAAAAAAAAAAAAAAAAAAAAAAAAAAAAAAAAAAAAAAAAAAAAAAAAAAAAAAAAAAAAAAAAAAAAAAAAAAAAAAAAAAAAAAAAAAAAAAAAAAAAAAAAAAAAAAAAAAAAAAAAAAAAAAAAAAAAAAAAAAAAAAAAAAAAAAAAAAAAAAAAAAAAAAAAAAAAAAAAAAAAAAAAAAAAAAAAAAAAAAAAAAAAAAAAAAAAAAAAAAAAAAAAAAAAAAAAAAAAAAAAAAAAAAAAAAAAAAAAAAAAAAAAAAAAAAAAAAAAAAAAAAAAAAAAAAAAAAAAAAAAAAAAAAAAAAAAAAAAAAAAAAAAAAAAAAAAAAAAAAAAAAAAAAAAAAAAAAAAAAAAAAAAAAAAAAAAAAAAAAAAAAAAAAAAAAAAAAAAAAAAAAAAAAAAAAAAAAAAAAAAAAAAAAAAAAAAAAAAAAAAAAAAAAAAAAAAAAAAAAAAAAAAAAAAAAAAAAAAAAAAAAAAAAAAAAAAAAAAAAAAAAAAAAAAAAAAAAAAAAAAAAAAAAAAAAAAAAAAAAAAAAAAAAAAAAAAAAAAAAAAAAAAAAAAAAAAAAAAAAAAAAAAAAAAAAAAAAAAAAAAAAAAAAAAAAAAAAAAAAAAAAAAAAAAAAAAAAAAAAAAAAAAAAAAAAAAAAAAAAAAAAAAAAAAAAAAAAAAAAAAAAAAAAAAAAAAAAAAAAAAAAAAAAAAAAAAAAAAAAAAAAAAAAAAAAAAAAAAAAAAAAAAAAAAAAAAAAAAAAAAAAAAAAAAAAAAAAAAAAAAAAAAAAAAAAAAAAAAAAAAAAAAAAAAAAAAAAAAAAAAAAAAAAAAAAAAAAAAAAAAAAAAAAAAAAAAAAAAAAAAAAAAAAAAAAAAAAAAAAAAAAAAAAAAAAAAAAAAAAAAAAAAAAAAAAAAAAAAAAAAAAAAAAAAAAAAAAAAAAAAAAAAAAAAAAAAAAAAAAAAAAAAAAAAAAAAAAAAAAAAAAAAAAAAAAAAAAAAAAAAAAAAAAAAAAAAAAAAAAAAAAAAAAAAAAAAAAAAAAAAAAAAAAAAAAAAAAAAAAAAAAAAAAAAAAAAAAAAAAAAAAAAAAAAAAAAAAAAAAAAAAAAAAAAAAAAAAAAAAAAAAAAAAAAAAAAAAAAAAAAAAAAAAAAAAAAAAAAAAAAAAAAAAAAAAAAAAAAAAAAAAAAAAAAAAAAAAAAAAAAAAAAAAAAAAAAAAAAAAAAAAAAAAAAAAAAAAAAAAAAAAAAAAAAAAAAAAAAAAAAAAAAAAAAAAAAAAAAAAAAAAAAAAAAAAAAAAAAAAAAAAAAAAAAAAAAAAAAAAAAAAAAAAAAAAAAAAAAAAAAAAAAAAAAAAAAAAAAAAAAAAAAAAAAAAAAAAAAAAAAAAAAAAAAAAAAAAAAAAAAAAAAAAAAAAAAAAAAAAAAAAAAAAAAAAAAAAAAAAAAAAAAAAAAAAAAAAAAAAAAAAAAAAAAAAAAAAAAAAAAAAAAAAAAAAAAAAAAAAAAAAAAAAAAAAAAAAAAAAAAAAAAAAAAAAAAAAAAAAAAAAAAAAAAAAAAAAAAAAAAAAAAAAAAAAAAAAAAAAAAAAAAAAAAAAAAAAAAAAAAAAAAAAAAAAAAAAAAAAAAAAAAAAAAAAAAAAAAAAAAAAAAAAAAAAAAAAAAAAAAAAAAAAAAAAAAAAAAAAAAAAAAAAAAAAAAAAAAAAAAAAAAAAAAAAAAAAAAAAAAAAAAAAAAAAAAAAAAAAAAAAAAAAAAAAAAAAAAAAAAAAAAAAAAAAAAAAAAAAAAAAAAAAAAAAAAAAAAAAAAAAAAAAAAAAAAAAAAAAAAAAAAAAAAAAAAAAAAAAAAAAAAAAAAAAAAAAAAAAAAAAAAAAAAAAAAAAAAAAAAAAAAAAAAAAAAAAAAAAAAAAAAAAAAAAAAAAAAAAAAAAAAAAAAAAAAAAAAAAAAAAAAAAAAAAAAAAAAAAAAAAAAAAAAAAAAAAAAAAAAAAAAAAAAAAAAAAAAAAAAAAAAAAAAAAAAAAAAAAAAAAAAAAAAAAAAAAAAAAAAAAAAAAAAAAAAAAAAAAAAAAAAAAAAAAAAAAAAAAAAAAAAAAAAAAAAAAAAAAAAAAAAAAAAAAAAAAAAAAAAAAAAAAAAAAAAAAAAAAAAAAAAAAAAAAAAAAAAAAAAAAAAAAAAAAAAAAAAAAAAAAAAAAAAAAAAAAAAAAAAAAAAAAAAAAAAAAAAAAAAAAAAAAAAAAAAAAAAAAAAAAAAAAAAAAAAAAAAAAAAAAAAAAAAAAAAAAAAAAAAAAAAAAAAAAAAAAAAAAAAAAAAAAAAAAAAAAAAAAAAAAAAAAAAAAAAAAAAAAAAAAAAAAAAAAAAAAAAAAAAAAAAAAAAAAAAAAAAAAAAAAAAAAAAAAAAAAAAAAAAAAAAAAAAAAAAAAAAAAAAAAAAAAAAAAAAAAAAAAAAAAAAAAAAAAAAAAAAAAAAAAAAAAAAAAAAAAAAAAAAAAAAAAAAAAAAAAAAAAAAAAAAAAAAAAAAAAAAAAAAAAAAAAAAAAAAAAAAAAAAAAAAAAAAAAAAAAAAAAAAAAAAAAAAAAAAAAAAAAAAAAAAAAAAAAAAAAAAAAAAAAAAAAAAAAAAAAAAAAAAAAAAAAAAAAAAAAAAAAAAAAAAAAAAAAAAAAAAAAAAAAAAAAAAAAAAAAAAAAAAAAAAAAAAAAAAAAAAAAAAAAAAAAAAAAAAAAAAAAAAAAAAAAAAAAAAAAAAAAAAAAAAAAAAAAAAAAAAAAAAAAAAAAAAAAAAAAAAAAAAAAAAAAAAAAAAAAAAAAAAAAAAAAAAAAAAAAAAAAAAAAAAAAAAAAAAAAAAAAAAAAAAAAAAAAAAAAAAAAAAAAAAAAAAAAAAAAAAAAAAAAAAAAAAAAAAAAAAAAAAAAAAAAAAAAAAAAAAAAAAAAAAAAAAAAAAAAAAAAAAAAAAAAAAAAAAAAAAAAAAAAAAAAAAAAAAAAAAAAAAAAAAAAAAAAAAAAAAAAAAAAAAAAAAAAAAAAAAAAAAAAAAAAAAAAAAAAAAAAAAAAAAAAAAAAAAAAAAAAAAAAAAAAAAAAAAAAAAAAAAAAAAAAAAAAAAAAAAAAAAAAAAAAAAAAAAAAAAAAAAAAAAAAAAAAAAAAAAAAAAAAAAAAAAAAAAAAAAAAAAAAAAAAAAAAAAAAAAAAAAAAAAAAAAAAAAAAAAAAAAAAAAAAAAAAAAAAAAAAAAAAAAAAAAAAAAAAAAAAAAAAAAAAAAAAAAAAAAAAAAAAAAAAAAAAAAAAAAAAAAAAAAAAAAAAAAAAAAAAAAAAAAAAAAAAAAAAAAAAAAAAAAAAAAAAAAAAAAAAAAAAAAAAAAAAAAAAAAAAAAAAAAAAAAAAAAAAAAAAAAAAAAAAAAAAAAAAAAAAAAAAAAAAAAAAAAAAAAAAAAAAAAAAAAAAAAAAAAAAAAAAAAAAAAAAAAAAAAAAAAAAAAAAAAAAAAAAAAAAAAAAAAAAAAAAAAAAAAAAAAAAAAAAAAAAAAAAAAAAAAAAAAAAAAAAAAAAAAAAAAAAAAAAAAAAAAAAAAAAAAAAAAAAAAAAAAAAAAAAAAAAAAAAAAAAAAAAAAAAAAAAAAAAAAAAAAAAAAAAAAAAAAAAAAAAAAAAAAAAAAAAAAAAAAAAAAAAAAAAAAAAAAAAAAAAAAAAAAAAAAAAAAAAAAAAAAAAAAAAAAAAAAAAAAAAAAAAAAAAAAAAAAAAAAAAAAAAAAAAAAAAAAAAAAAAAAAAAAAAAAAAAAAAAAAAAAAAAAAAAAAAAAAAAAAAAAAAAAAAAAAAAAAAAAAAAAAAAAAAAAAAAAAAAAAAAAAAAAAAAAAAAAAAAAAAAAAAAAAAAAAAAAAAAAAAAAAAAAAAAAAAAAAAAAAAAAAAAAAAAAAAAAAAAAAAAAAAAAAAAAAAAAAAAAAAAAAAAAAAAAAAAAAAAAAAAAAAAAAAAAAAAAAAAAAAAAAAAAAAAAAAAAAAAAAAAAAAAAAAAAAAAAAAAAAAAAAAAAAAAAAAAAAAAAAAAAAAAAAAAAAAAAAAAAAAAAAAAAAAAAAAAAAAAAAAAAAAAAAAAAAAAAAAAAAAAAAAAAAAAAAAAAAAAAAAAAAAAAAAAAAAAAAAAAAAAAAAAAAAAAAAAAAAAAAAAAAAAAAAAAAAAAAAAAAAAAAAAAAAAAAAAAAAAAAAAAAAAAAAAAAAAAAAAAAAAAAAAAAAAAAAAAAAAAAAAAAAAAAAAAAAAAAAAAAAAAAAAAAAAAAAAAAAAAAAAAAAAAAAAAAAAAAAAAAAAAAAAAAAAAAAAAAAAAAAAAAAAAAAAAAAAAAAAAAAAAAAAAAAAAAAAAAAAAAAAAAAAAAAAAAAAAAAAAAAAAAAAAAAAAAAAAAAAAAAAAAAAAAAAAAAAAAAAAAAAAAAAAAAAAAAAAAAAAAAAAAAAAAAAAAAAAAAAAAAAAAAAAAAAAAAAAAAAAAAAAAAAAAAAAAAAAAAAAAAAAAAAAAAAAAAAAAAAAAAAAAAAAAAAAAAAAAAAAAAAAAAAAAAAAAAAAAAAAAAAAAAAAAAAAAAAAAAAAAAAAAAAAAAAAAAAAAAAAAAAAAAAAAAAAAAAAAAAAAAAAAAAAAAAAAAAAAAAAAAAAAAAAAAAAAAAAAAAAAAAAAAAAAAAAAAAAAAAAAAAAAAAAAAAAAAAAAAAAAAAAAAAAAAAAAAAAAAAAAAAAAAAAAAAAAAAAAAAAAAAAAAAAAAAAAAAAAAAAAAAAAAAAAAAAAAAAAAAAAAAAAAAAAAAAAAAAAAAAAAAAAAAAAAAAAAAAAAAAAAAAAAAAAAAAAAAAAAAAAAAAAAAAAAAAAAAAAAAAAAAAAAAAAAAAAAAAAAAAAAAAAAAAAAAAAAAAAAAAAAAAAAAAAAAAAAAAAAAAAAAAAAAAAAAAAAAAAAAAAAAAAAAAAAAAAAAAAAAAAAAAAAAAAAAAAAAAAAAAAAAAAAAAAAAAAAAAAAAAAAAAAAAAAAAAAAAAAAAAAAAAAAAAAAAAAAAAAAAAAAAAAAAAAAAAAAAAAAAAAAAAAAAAAAAAAAAAAAAAAAAAAAAAAAAAAAAAAAAAAAAAAAAAAAAAAAAAAAAAAAAAAAAAAAAAAAAAAAAAAAAAAAAAAAAAAAAAAAAAAAAAAAAAAAAAAAAAAAAAAAAAAAAAAAAAAAAAAAAAAAAAAAAAAAAAAAAAAAAAAAAAAAAAAAAAAAAAAAAAAAAAAAAAAAAAAAAAAAAAAAAAAAAAAAAAAAAAAAAAAAAAAAAAAAAAAAAAAAAAAAAAAAAAAAAAAAAAAAAAAAAAAAAAAAAAAAAAAAAAAAAAAAAAAAAAAAAAAAAAAAAAAAAAAAAAAAAAAAAAAAAAAAAAAAAAAAAAAAAAAAAAAAAAAAAAAAAAAAAAAAAAAAAAAAAAAAAAAAAAAAAAAAAAAAAAAAAAAAAAAAAAAAAAAAAAAAAAAAAAAAAAAAAAAAAAAAAAAAAAAAAAAAAAAAAAAAAAAAAAAAAAAAAAAAAAAAAAAAAAAAAAAAAAAAAAAAAAAAAAAAAAAAAAAAAAAAAAAAAAAAAAAAAAAAAAAAAAAAAAAAAAAAAAAAAAAAAAAAAAAAAAAAAAAAAAAAAAAAAAAAAAAAAAAAAAAAAAAAAAAAAAAAAAAAAAAAAAAAAAAAAAAAAAAAAAAAAAAAAAAAAAAAAAAAAAAAAAAAAAAAAAAAAAAAAAAAAAAAAAAAAAAAAAAAAAAAAAAAAAAAAAAAAAAAAAAAAAAAAAAAAAAAAAAAAAAAAAAAAAAAAAAAAAAAAAAAAAAAAAAAAAAAAAAAAAAAAAAAAAAAAAAAAAAAAAAAAAAAAAAAAAAAAAAAAAAAAAAAAAAAAAAAAAAAAAAAAAAAAAAAAAAAAAAAAAAAAAAAAAAAAAAAAAAAAAAAAAAAAAAAAAAAAAAAAAAAAAAAAAAAAAAAAAAAAAAAAAAAAAAAAAAAAAAAAAAAAAAAAAAAAAAAAAAAAAAAAAAAAAAAAAAAAAAAAAAAAAAAAAAAAAAAAAAAAAAAAAAAAAAAAAAAAAAAAAAAAAAAAAAAAAAAAAAAAAAAAAAAAAAAAAAAAAAAAAAAAAAAAAAAAAAAAAAAAAAAAAAAAAAAAAAAAAAAAAAAAAAAAAAAAAAAAAAAAAAAAAAAAAAAAAAAAAAAAAAAAAAAAAAAAAAAAAAAAAAAAAAAAAAAAAAAAAAAAAAAAAAAAAAAAAAAAAAAAAAAAAAAAAAAAAAAAAAAAAAAAAAAAAAAAAAAAAAAAAAAAAAAAAAAAAAAAAAAAAAAAAAAAAAAAAAAAAAAAAAAAAAAAAAAAAAAAAAAAAAAAAAAAAAAAAAAAAAAAAAAAAAAAAAAAAAAAAAAAAAAAAAAAAAAAAAAAAAAAAAAAAAAAAAAAAAAAAAAAAAAAAAAAAAAAAAAAAAAAAAAAAAAAAAAAAAAAAAAAAAAAAAAAAAAAAAAAAAAAAAAAAAAAAAAAAAAAAAAAAAAAAAAAAAAAAAAAAAAAAAAAAAAAAAAAAAAAAAAAAAAAAAAAAAAAAAAAAAAAAAAAAAAAAAAAAAAAAAAAAAAAAAAAAAAAAAAAAAAAAAAAAAAAAAAAAAAAAAAAAAAAAAAAAAAAAAAAAAAAAAAAAAAAAAAAAAAAAAAAAAAAAAAAAAAAAAAAAAAAAAAAAAAAAAAAAAAAAAAAAAAAAAAAAAAAAAAAAAAAAAAAAAAAAAAAAAAAAAAAAAAAAAAAAAAAAAAAAAAAAAAAAAAAAAAAAAAAAAAAAAAAAAAAAAAAAAAAAAAAAAAAAAAAAAAAAAAAAAAAAAAAAAAAAAAAAAAAAAAAAAAAAAAAAAAAAAAAAAAAAAAAAAAAAAAAAAAAAAAAAAAAAAAAAAAAAAAAAAAAAAAAAAAAAAAAAAAAAAAAAAAAAAAAAAAAAAAAAAAAAAAAAAAAAAAAAAAAAAAAAAAAAAAAAAAAAAAAAAAAAAAAAAAAAAAAAAAAAAAAAAAAAAAAAAAAAAAAAAAAAAAAAAAAAAAAAAAAAAAAAAAAAAAAAAAAAAAAAAAAAAAAAAAAAAAAAAAAAAAAAAAAAAAAAAAAAAAAAAAAAAAAAAAAAAAAAAAAAAAAAAAAAAAAAAAAAAAAAAAAAAAAAAAAAAAAAAAAAAAAAAAAAAAAAAAAAAAAAAAAAAAAAAAAAAAAAAAAAAAAAAAAAAAAAAAAAAAAAAAAAAAAAAAAAAAAAAAAAAAAAAAAAAAAAAAAAAAAAAAAAAAAAAAAAAAAAAAAAAAAAAAAAAAAAAAAAAAAAAAAAAAAAAAAAAAAAAAAAAAAAAAAAAAAAAAAAAAAAAAAAAAAAAAAAAAAAAAAAAAAAAAAAAAAAAAAAAAAAAAAAAAAAAAAAAAAAAAAAAAAAAAAAAAAAAAAAAAAAAAAAAAAAAAAAAAAAAAAAAAAAAAAAAAAAAAAAAAAAAAAAAAAAAAAAAAAAAAAAAAAAAAAAAAAAAAAAAAAAAAAAAAAAAAAAAAAAAAAAAAAAAAAAAAAAAAAAAAAAAAAAAAAAAAAAAAAAAAAAAAAAAAAAAAAAAAAAAAAAAAAAAAAAAAAAAAAAAAAAAAAAAAAAAAAAAAAAAAAAAAAAAAAAAAAAAAAAAAAAAAAAAAAAAAAAAAAAAAAAAAAAAAAAAAAAAAAAAAAAAAAAAAAAAAAAAAAAAAAAAAAAAAAAAAAAAAAAAAAAAAAAAAAAAAAAAAAAAAAAAAAAAAAAAAAAAAAAAAAAAAAAAAAAAAAAAAAAAAAAAAAAAAAAAAAAAAAAAAAAAAAAAAAAAAAAAAAAAAAAAAAAAAAAAAAAAAAAAAAAAAAAAAAAAAAAAAAAAAAAAAAAAAAAAAAAAAAAAAAAAAAAAAAAAAAAAAAAAAAAAAAAAAAAAAAAAAAAAAAAAAAAAAAAAAAAAAAAAAAAAAAAAAAAAAAAAAAAAAAAAAAAAAAAAAAAAAAAAAAAAAAAAAAAAAAAAAAAAAAAAAAAAAAAAAAAAAAAAAAAAAAAAAAAAAAAAAAAAAAAAAAAAAAAAAAAAAAAAAAAAAAAAAAAAAAAAAAAAAAAAAAAAAAAAAAAAAAAAAAAAAAAAAAAAAAAAAAAAAAAAAAAAAAAAAAAAAAAAAAAAAAAAAAAAAAAAAAAAAAAAAAAAAAAAAAAAAAAAAAAAAAAAAAAAAAAAAAAAAAAAAAAAAAAAAAAAAAAAAAAAAAAAAAAAAAAAAAAAAAAAAAAAAAAAAAAAAAAAAAAAAAAAAAAAAAAAAAAAAAAAAAAAAAAAAAAAAAAAAAAAAAAAAAAAAAAAAAAAAAAAAAAAAAAAAAAAAAAAAAAAAAAAAAAAAAAAAAAAAAAAAAAAAAAAAAAAAAAAAAAAAAAAAAAAAAAAAAAAAAAAAAAAAAAAAAAAAAAAAAAAAAAAAAAAAAAAAAAAAAAAAAAAAAAAAAAAAAAAAAAAAAAAAAAAAAAAAAAAAAAAAAAAAAAAAAAAAAAAAAAAAAAAAAAAAAAAAAAAAAAAAAAAAAAAAAAAAAAAAAAAAAAAAAAAAAAAAAAAAAAAAAAAAAAAAAAAAAAAAAAAAAAAAAAAAAAAAAAAAAAAAAAAAAAAAAAAAAAAAAAAAAAAAAAAAAAAAAAAAAAAAAAAAAAAAAAAAAAAAAAAAAAAAAAAAAAAAAAAAAAAAAAAAAAAAAAAAAAAAAAAAAAAAAAAAAAAAAAAAAAAAAAAAAAAAAAAAAAAAAAAAAAAAAAAAAAAAAAAAAAAAAAAAAAAAAAAAAAAAAAAAAAAAAAAAAAAAAAAAAAAAAAAAAAAAAAAAAAAAAAAAAAAAAAAAAAAAAAAAAAAAAAAAAAAAAAAAAAAAAAAAAAAAAAAAAAAAAAAAAAAAAAAAAAAAAAAAAAAAAAAAAAAAAAAAAAAAAAAAAAAAAAAAAAAAAAAAAAAAAAAAAAAAAAAAAAAAAAAAAAAAAAAAAAAAAAAAAAAAAAAAAAAAAAAAAAAAAAAAAAAAAAAAAAAAAAAAAAAAAAAAAAAAAAAAAAAAAAAAAAAAAAAAAAAAAAAAAAAAAAAAAAAAAAAAAAAAAAAAAAAAAAAAAAAAAAAAAAAAAAAAAAAAAAAAAAAAAAAAAAAAAAAAAAAAAAAAAAAAAAAAAAAAAAAAAAAAAAAAAAAAAAAAAAAAAAAAAAAAAAAAAAAAAAAAAAAAAAAAAAAAAAAAAAAAAAAAAAAAAAAAAAAAAAAAAAAAAAAAAAAAAAAAAAAAAAAAAAAAAAAAAAAAAAAAAAAAAAAAAAAAAAAAAAAAAAAAAAAAAAAAAAAAAAAAAAAAAAAAAAAAAAAAAAAAAAAAAAAAAAAAAAAAAAAAAAAAAAAAAAAAAAAAAAAAAAAAAAAAAAAAAAAAAAAAAAAAAAAAAAAAAAAAAAAAAAAAAAAAAAAAAAAAAAAAAAAAAAAAAAAAAAAAAAAAAAAAAAAAAAAAAAAAAAAAAAAAAAAAAAAAAAAAAAAAAAAAAAAAAAAAAAAAAAAAAAAAAAAAAAAAAAAAAAAAAAAAAAAAAAAAAAAAAAAAAAAAAAAAAAAAAAAAAAAAAAAAAAAAAAAAAAAAAAAAAAAAAAAAAAAAAAAAAAAAAAAAAAAAAAAAAAAAAAAAAAAAAAAAAAAAAAAAAAAAAAAAAAAAAAAAAAAAAAAAAAAAAAAAAAAAAAAAAAAAAAAAAAAAAAAAAAAAAAAAAAAAAAAAAAAAAAAAAAAAAAAAAAAAAAAAAAAAAAAAAAAAAAAAAAAAAAAAAAAAAAAAAAAAAAAAAAAAAAAAAAAAAAAAAAAAAAAAAAAAAAAAAAAAAAAAAAAAAAAAAAAAAAAAAAAAAAAAAAAAAAAAAAAAAAAAAAAAAAAAAAAAAAAAAAAAAAAAAAAAAAAAAAAAAAAAAAAAAAAAAAAAAAAAAAAAAAAAAAAAAAAAAAAAAAAAAAAAAAAAAAAAAAAAAAAAAAAAAAAAAAAAAAAAAAAAAAAAAAAAAAAAAAAAAAAAAAAAAAAAAAAAAAAAAAAAAAAAAAAAAAAAAAAAAAAAAAAAAAAAAAAAAAAAAAAAAAAAAAAAAAAAAAAAAAAAAAAAAAAAAAAAAAAAAAAAAAAAAAAAAAAAAAAAAAAAAAAAAAAAAAAAAAAAAAAAAAAAAAAAAAAAAAAAAAAAAAAAAAAAAAAAAAAAAAAAAAAAAAAAAAAAAAAAAAAAAAAAAAAAAAAAAAAAAAAAAAAAAAAAAAAAAAAAAAAAAAAAAAAAAAAAAAAAAAAAAAAAAAAAAAAAAAAAAAAAAAAAAAAAAAAAAAAAAAAAAAAAAAAAAAAAAAAAAAAAAAAAAAAAAAAAAAAAAAAAAAAAAAAAAAAAAAAAAAAAAAAAAAAAAAAAAAAAAAAAAAAAAAAAAAAAAAAAAAAAAAAAAAAAAAAAAAAAAAAAAAAAAAAAAAAAAAAAAAAAAAAAAAAAAAAAAAAAAAAAAAAAAAAAAAAAAAAAAAAAAAAAAAAAAAAAAAAAAAAAAAAAAAAAAAAAAAAAAAAAAAAAAAAAAAAAAAAAAAAAAAAAAAAAAAAAAAAAAAAAAAAAAAAAAAAAAAAAAAAAAAAAAAAAAAAAAAAAAAAAAAAAAAAAAAAAAAAAAAAAAAAAAAAAAAAAAAAAAAAAAAAAAAAAAAAAAAAAAAAAAAAAAAAAAAAAAAAAAAAAAAAAAAAAAAAAAAAAAAAAAAAAAAAAAAAAAAAAAAAAAAAAAAAAAAAAAAAAAAAAAAAAAAAAAAAAAAAAAAAAAAAAAAAAAAAAAAAAAAAAAAAAAAAAAAAAAAAAAAAAAAAAAAAAAAAAAAAAAAAAAAAAAAAAAAAAAAAAAAAAAAAAAAAAAAAAAAAAAAAAAAAAAAAAAAAAAAAAAAAAAAAAAAAAAAAAAAAAAAAAAAAAAAAAAAAAC\n"
     ]
    }
   ],
   "source": [
    "for _ in range(int(input())):\n",
    "    curser = 0\n",
    "    answer = []\n",
    "    \n",
    "    for char in input():\n",
    "        if char == '<':\n",
    "            if curser != 0:\n",
    "                curser -= 1\n",
    "        elif char == '>':\n",
    "            if curser != len(answer):\n",
    "                curser += 1\n",
    "        elif char == '-':\n",
    "            if answer and curser:\n",
    "                answer.pop(curser-1)\n",
    "                curser -= 1\n",
    "        else:\n",
    "            if curser == len(answer):\n",
    "                answer.append(char)\n",
    "            else:\n",
    "                answer.insert(curser, 'A')\n",
    "            curser += 1\n",
    "    print(''.join(answer))"
   ]
  },
  {
   "cell_type": "code",
   "execution_count": null,
   "metadata": {},
   "outputs": [],
   "source": [
    "# 시간 제한 통과, 2개의 스택 사용\n",
    "for _ in range(int(input())):\n",
    "    front, rear = [], []\n",
    "    \n",
    "    for char in input():\n",
    "        if char == '<':\n",
    "            if front:\n",
    "                rear.append(front.pop())\n",
    "        elif char == '>':\n",
    "            if rear:\n",
    "                front.append(rear.pop())\n",
    "        elif char == '-':\n",
    "            if front:\n",
    "                front.pop()\n",
    "        else:\n",
    "            front.append(char)\n",
    "    print(''.join(front+rear[::-1]))"
   ]
  },
  {
   "cell_type": "markdown",
   "metadata": {},
   "source": [
    "# SHA-256\n",
    "(https://www.acmicpc.net/problem/10930)"
   ]
  },
  {
   "cell_type": "code",
   "execution_count": 8,
   "metadata": {},
   "outputs": [
    {
     "name": "stdout",
     "output_type": "stream",
     "text": [
      "b'Backjon'\n",
      "f9df5cea0acb83be41377520f7e8c414ac4a855e652d2cd0d4b54ac7e62c1372\n"
     ]
    }
   ],
   "source": [
    "import hashlib\n",
    "\n",
    "s = 'Backjon'\n",
    "print(s.encode())\n",
    "result = hashlib.sha256(s.encode())\n",
    "print(result.hexdigest())"
   ]
  },
  {
   "cell_type": "markdown",
   "metadata": {},
   "source": [
    "# 수 찾기\n",
    "(https://www.acmicpc.net/problem/1920)"
   ]
  },
  {
   "cell_type": "code",
   "execution_count": 1,
   "metadata": {},
   "outputs": [
    {
     "name": "stdout",
     "output_type": "stream",
     "text": [
      "5\n",
      "4 1 5 2 3\n",
      "5\n",
      "1 3 7 9 5\n",
      "1\n",
      "1\n",
      "0\n",
      "0\n",
      "1\n"
     ]
    }
   ],
   "source": [
    "n = int(input())\n",
    "nums = dict()\n",
    "for num in list(map(int, input().split())):\n",
    "    nums[num] = num\n",
    "\n",
    "m = int(input())\n",
    "for num in list(map(int, input().split())):\n",
    "    try:\n",
    "        tmp = nums[num]\n",
    "        print('1')\n",
    "    except KeyError:\n",
    "        print('0')\n",
    "    "
   ]
  },
  {
   "cell_type": "code",
   "execution_count": 3,
   "metadata": {},
   "outputs": [
    {
     "name": "stdout",
     "output_type": "stream",
     "text": [
      "1\n"
     ]
    }
   ],
   "source": [
    "tmp1 = None\n",
    "tmp2 = None\n",
    "if not tmp1 and tmp2:\n",
    "    print(2)\n",
    "else:\n",
    "    print(1)"
   ]
  },
  {
   "cell_type": "markdown",
   "metadata": {},
   "source": [
    "# 친구 네트워크\n",
    "(https://www.acmicpc.net/problem/4195)"
   ]
  },
  {
   "cell_type": "code",
   "execution_count": null,
   "metadata": {},
   "outputs": [],
   "source": [
    "for _ in range(int(input())):\n",
    "    friends = dict()\n",
    "    for _ in range(int(input())):\n",
    "        p1, p2 = input().split()\n",
    "        tmp1 = friends.get(p1)\n",
    "        tmp2 = friends.get(p2)\n",
    "        if not (tmp1 and tmp2):\n",
    "            if not tmp1:\n",
    "                friends[p1] = []    \n",
    "            if not tmp2:\n",
    "                friends[p2] = []    \n",
    "\n",
    "        friends[p1].append(p2)\n",
    "        friends[p2].append(p1)\n",
    "        print(friends)\n",
    "        print(len(friends[p1]) + len(friends[p2]))\n",
    "        "
   ]
  },
  {
   "cell_type": "code",
   "execution_count": 9,
   "metadata": {},
   "outputs": [],
   "source": [
    "tmp1 = None\n",
    "tmp2 = None"
   ]
  },
  {
   "cell_type": "code",
   "execution_count": 10,
   "metadata": {},
   "outputs": [
    {
     "name": "stdout",
     "output_type": "stream",
     "text": [
      "1\n"
     ]
    }
   ],
   "source": [
    "if not (tmp1 and tmp2):\n",
    "    print(1)\n",
    "else:\n",
    "    print(2)"
   ]
  },
  {
   "cell_type": "code",
   "execution_count": 17,
   "metadata": {},
   "outputs": [],
   "source": [
    "from collections import deque\n",
    "def bfs(start_node):\n",
    "    need_visit = deque([start_node])\n",
    "    visited = []\n",
    "    \n",
    "    while need_visit:\n",
    "        node = need_visit.popleft()\n",
    "        if node not in visited:\n",
    "            visited.append(node)\n",
    "            need_visit.extend(friends[node])\n",
    "    \n",
    "    return visited\n",
    "\n",
    "def friends_add(p1, p2):\n",
    "    friends.setdefault(p1, [])\n",
    "    friends.setdefault(p2, [])\n",
    "    friends[p1].append(p2)\n",
    "    friends[p2].append(p1)"
   ]
  },
  {
   "cell_type": "code",
   "execution_count": 18,
   "metadata": {},
   "outputs": [],
   "source": [
    "friends = dict()"
   ]
  },
  {
   "cell_type": "code",
   "execution_count": 19,
   "metadata": {},
   "outputs": [],
   "source": [
    "friends_add('Betty', 'Wilma')\n",
    "friends_add('Fred', 'Barney')\n",
    "friends_add('Barney', 'Betty')\n"
   ]
  },
  {
   "cell_type": "code",
   "execution_count": 20,
   "metadata": {},
   "outputs": [
    {
     "data": {
      "text/plain": [
       "{'Betty': ['Wilma', 'Barney'],\n",
       " 'Wilma': ['Betty'],\n",
       " 'Fred': ['Barney'],\n",
       " 'Barney': ['Fred', 'Betty']}"
      ]
     },
     "execution_count": 20,
     "metadata": {},
     "output_type": "execute_result"
    }
   ],
   "source": [
    "friends"
   ]
  },
  {
   "cell_type": "code",
   "execution_count": 13,
   "metadata": {},
   "outputs": [
    {
     "data": {
      "text/plain": [
       "['Wilma', 'Betty', 'Barney', 'Fred']"
      ]
     },
     "execution_count": 13,
     "metadata": {},
     "output_type": "execute_result"
    }
   ],
   "source": [
    "bfs('Wilma')"
   ]
  },
  {
   "cell_type": "code",
   "execution_count": 14,
   "metadata": {},
   "outputs": [
    {
     "name": "stdout",
     "output_type": "stream",
     "text": [
      "2\n",
      "3\n",
      "Fred Barney\n"
     ]
    },
    {
     "ename": "TypeError",
     "evalue": "unhashable type: 'list'",
     "output_type": "error",
     "traceback": [
      "\u001b[0;31m---------------------------------------------------------------------------\u001b[0m",
      "\u001b[0;31mTypeError\u001b[0m                                 Traceback (most recent call last)",
      "\u001b[0;32m<ipython-input-14-06831b12cdd8>\u001b[0m in \u001b[0;36m<module>\u001b[0;34m\u001b[0m\n\u001b[1;32m     32\u001b[0m         \u001b[0mp1\u001b[0m\u001b[0;34m,\u001b[0m \u001b[0mp2\u001b[0m \u001b[0;34m=\u001b[0m \u001b[0minput\u001b[0m\u001b[0;34m(\u001b[0m\u001b[0;34m)\u001b[0m\u001b[0;34m.\u001b[0m\u001b[0msplit\u001b[0m\u001b[0;34m(\u001b[0m\u001b[0;34m)\u001b[0m\u001b[0;34m\u001b[0m\u001b[0;34m\u001b[0m\u001b[0m\n\u001b[1;32m     33\u001b[0m         \u001b[0mfriends_add\u001b[0m\u001b[0;34m(\u001b[0m\u001b[0mp1\u001b[0m\u001b[0;34m,\u001b[0m \u001b[0mp2\u001b[0m\u001b[0;34m)\u001b[0m\u001b[0;34m\u001b[0m\u001b[0;34m\u001b[0m\u001b[0m\n\u001b[0;32m---> 34\u001b[0;31m         \u001b[0mprint\u001b[0m\u001b[0;34m(\u001b[0m\u001b[0mlen\u001b[0m\u001b[0;34m(\u001b[0m\u001b[0mbfs\u001b[0m\u001b[0;34m(\u001b[0m\u001b[0mp1\u001b[0m\u001b[0;34m)\u001b[0m\u001b[0;34m)\u001b[0m\u001b[0;34m)\u001b[0m\u001b[0;34m\u001b[0m\u001b[0;34m\u001b[0m\u001b[0m\n\u001b[0m\u001b[1;32m     35\u001b[0m \u001b[0;34m\u001b[0m\u001b[0m\n",
      "\u001b[0;32m<ipython-input-14-06831b12cdd8>\u001b[0m in \u001b[0;36mbfs\u001b[0;34m(start_node)\u001b[0m\n\u001b[1;32m      9\u001b[0m         \u001b[0;32mif\u001b[0m \u001b[0mnode\u001b[0m \u001b[0;32mnot\u001b[0m \u001b[0;32min\u001b[0m \u001b[0mvisited\u001b[0m\u001b[0;34m:\u001b[0m\u001b[0;34m\u001b[0m\u001b[0;34m\u001b[0m\u001b[0m\n\u001b[1;32m     10\u001b[0m             \u001b[0mvisited\u001b[0m\u001b[0;34m.\u001b[0m\u001b[0mappend\u001b[0m\u001b[0;34m(\u001b[0m\u001b[0mnode\u001b[0m\u001b[0;34m)\u001b[0m\u001b[0;34m\u001b[0m\u001b[0;34m\u001b[0m\u001b[0m\n\u001b[0;32m---> 11\u001b[0;31m             \u001b[0mneed_visit\u001b[0m\u001b[0;34m.\u001b[0m\u001b[0mappend\u001b[0m\u001b[0;34m(\u001b[0m\u001b[0mfriends\u001b[0m\u001b[0;34m[\u001b[0m\u001b[0mnode\u001b[0m\u001b[0;34m]\u001b[0m\u001b[0;34m)\u001b[0m\u001b[0;34m\u001b[0m\u001b[0;34m\u001b[0m\u001b[0m\n\u001b[0m\u001b[1;32m     12\u001b[0m \u001b[0;34m\u001b[0m\u001b[0m\n\u001b[1;32m     13\u001b[0m     \u001b[0;32mreturn\u001b[0m \u001b[0mvisited\u001b[0m\u001b[0;34m\u001b[0m\u001b[0;34m\u001b[0m\u001b[0m\n",
      "\u001b[0;31mTypeError\u001b[0m: unhashable type: 'list'"
     ]
    }
   ],
   "source": [
    "from collections import deque\n",
    "\n",
    "def bfs(start_node):\n",
    "    need_visit = deque([start_node])\n",
    "    visited = []\n",
    "    \n",
    "    while need_visit:\n",
    "        node = need_visit.popleft()\n",
    "        if node not in visited:\n",
    "            visited.append(node)\n",
    "            need_visit.append(friends[node])\n",
    "    \n",
    "    return visited\n",
    "\n",
    "def friends_add(p1, p2):\n",
    "    p1_check = friends.get(p1)\n",
    "    p2_check = friends.get(p2)\n",
    "    \n",
    "    if not (p1_check and p2_check):\n",
    "        if not p1_check:\n",
    "            friends[p1] = []\n",
    "        if not p2_check:\n",
    "            friends[p2] = []\n",
    "    \n",
    "    friends[p1].append(p2)\n",
    "    friends[p2].append(p1)\n",
    "        \n",
    "\n",
    "for _ in range(int(input())):\n",
    "    friends = dict()\n",
    "    for _ in range(int(input())):\n",
    "        p1, p2 = input().split()\n",
    "        friends_add(p1, p2)\n",
    "        print(len(bfs(p1)))\n",
    "        "
   ]
  },
  {
   "cell_type": "code",
   "execution_count": 16,
   "metadata": {},
   "outputs": [
    {
     "name": "stdout",
     "output_type": "stream",
     "text": [
      "2\n",
      "3\n",
      "Fred Barney\n",
      "2\n",
      "Barney Betty\n",
      "3\n",
      "Betty Wilma\n",
      "4\n",
      "3\n",
      "Fred Barney\n",
      "2\n",
      "Betty Wilma\n",
      "2\n",
      "Barney Betty\n",
      "4\n"
     ]
    }
   ],
   "source": [
    "from collections import deque\n",
    "\n",
    "def bfs(start_node):\n",
    "    need_visit = deque([start_node])\n",
    "    visited = []\n",
    "    \n",
    "    while need_visit:\n",
    "        node = need_visit.popleft()\n",
    "        if node not in visited:\n",
    "            visited.append(node)\n",
    "            need_visit.extend(friends[node])\n",
    "    \n",
    "    return visited\n",
    "\n",
    "def friends_add(p1, p2):\n",
    "    friends.setdefault(p1, [])\n",
    "    friends.setdefault(p2, [])\n",
    "    friends[p1].append(p2)\n",
    "    friends[p2].append(p1)\n",
    "        \n",
    "\n",
    "for _ in range(int(input())):\n",
    "    friends = dict()\n",
    "    for _ in range(int(input())):\n",
    "        p1, p2 = input().split()\n",
    "        friends_add(p1, p2)\n",
    "        print(len(bfs(p1)))\n",
    "        "
   ]
  },
  {
   "cell_type": "code",
   "execution_count": 22,
   "metadata": {},
   "outputs": [
    {
     "name": "stdout",
     "output_type": "stream",
     "text": [
      "YES\n"
     ]
    }
   ],
   "source": [
    "is_VPS = True\n",
    "print('YES') if is_VPS else print('NO')"
   ]
  },
  {
   "cell_type": "code",
   "execution_count": 23,
   "metadata": {},
   "outputs": [
    {
     "name": "stdout",
     "output_type": "stream",
     "text": [
      "6\n",
      "(())())\n",
      "NO\n",
      "(((()())()\n",
      "NO\n",
      "(()())((()))\n",
      "YES\n",
      "a\n",
      "NO\n",
      "asd\n",
      "NO\n",
      "asd\n",
      "NO\n"
     ]
    }
   ],
   "source": [
    "for _ in range(int(input())):\n",
    "    stack = []\n",
    "    is_VPS = True\n",
    "    for char in input():\n",
    "        if char == '(':\n",
    "            stack.append(char)\n",
    "        else:\n",
    "            if not stack:\n",
    "                is_VPS = False\n",
    "                break\n",
    "            else:\n",
    "                stack.pop()\n",
    "    if stack:\n",
    "        is_VPS = False\n",
    "    print('YES') if is_VPS else print('NO')\n",
    "    "
   ]
  },
  {
   "cell_type": "code",
   "execution_count": null,
   "metadata": {},
   "outputs": [
    {
     "name": "stdout",
     "output_type": "stream",
     "text": [
      "2\n",
      "3\n",
      "Fred Barney\n",
      "2\n",
      "Barney Betty\n",
      "3\n"
     ]
    }
   ],
   "source": [
    "from collections import deque\n",
    "\n",
    "def bfs(start_node):\n",
    "    need_visit = deque([start_node])\n",
    "    visited = dict()\n",
    "    \n",
    "    while need_visit:\n",
    "        node = need_visit.popleft()\n",
    "        if not visited.get(node):\n",
    "            visited[node] = 1\n",
    "            need_visit.extend(friends[node])\n",
    "    \n",
    "    return visited\n",
    "\n",
    "def friends_add(p1, p2):\n",
    "    friends.setdefault(p1, [])\n",
    "    friends.setdefault(p2, [])\n",
    "    friends[p1].append(p2)\n",
    "    friends[p2].append(p1)\n",
    "        \n",
    "\n",
    "for _ in range(int(input())):\n",
    "    friends = dict()\n",
    "    for _ in range(int(input())):\n",
    "        p1, p2 = input().split()\n",
    "        friends_add(p1, p2)\n",
    "        print(len([*bfs(p1).keys()]))\n",
    "        "
   ]
  },
  {
   "cell_type": "code",
   "execution_count": 1,
   "metadata": {},
   "outputs": [],
   "source": [
    "p1 = None"
   ]
  },
  {
   "cell_type": "code",
   "execution_count": 2,
   "metadata": {},
   "outputs": [
    {
     "data": {
      "text/plain": [
       "True"
      ]
     },
     "execution_count": 2,
     "metadata": {},
     "output_type": "execute_result"
    }
   ],
   "source": [
    "not None"
   ]
  },
  {
   "cell_type": "code",
   "execution_count": 3,
   "metadata": {},
   "outputs": [
    {
     "name": "stdout",
     "output_type": "stream",
     "text": [
      "2\n",
      "3\n",
      "Fred Barney\n",
      "2\n",
      "Barney Betty\n",
      "3\n",
      "Betty Wilma\n",
      "4\n",
      "3\n",
      "Fred Barney\n",
      "2\n",
      "Betty Wilma\n",
      "2\n",
      "Barney Betty\n",
      "4\n"
     ]
    }
   ],
   "source": [
    "def find(node):\n",
    "    if parent[node] != node:\n",
    "        parent[node] = find(parent[node])\n",
    "    return parent[node]\n",
    "\n",
    "def union(node_v, node_u):\n",
    "    root1 = find(node_v)\n",
    "    root2 = find(node_u)\n",
    "    \n",
    "    if rank[root1] > rank[root2]:\n",
    "        parent[root2] = root1\n",
    "        number[root1] += number[root2]\n",
    "    else:\n",
    "        parent[root1] = root2\n",
    "        number[root2] += number[root1]\n",
    "        if rank[root1] == rank[root2]:\n",
    "            rank[root1] += 1\n",
    "\n",
    "def make_set(node):\n",
    "    parent[node] = node\n",
    "    rank[node] = 0\n",
    "    number[node] = 1\n",
    "\n",
    "def friends_network(graph):\n",
    "    st = list()\n",
    "    \n",
    "    for node in graph['nodes']:\n",
    "        make_set(node)\n",
    "    \n",
    "    edges = graph['edges']\n",
    "    for edge in edges:\n",
    "        node_v, node_u = edge\n",
    "        if find(node_v) != find(node_u):\n",
    "            union(node_v, node_u)\n",
    "#             st.append(edge)\n",
    "#     print(st)\n",
    "#     print(parent)\n",
    "#     return st\n",
    "\n",
    "for _ in range(int(input())):\n",
    "    graph = dict(nodes=set(), edges=list())\n",
    "    parent = dict()\n",
    "    rank = dict()\n",
    "    number = dict()\n",
    "    for _ in range(int(input())):\n",
    "        p1, p2 = input().split()\n",
    "        graph['nodes'].add(p1)\n",
    "        graph['nodes'].add(p2)\n",
    "        graph['edges'].append((p1, p2))\n",
    "        graph['edges'].append((p2, p1))\n",
    "        \n",
    "        friends_network(graph)\n",
    "        print(number[find(p1)])\n",
    "        \n",
    "#         print(graph)\n",
    "#         print(len([*parent.keys()]) - count +1)"
   ]
  },
  {
   "cell_type": "code",
   "execution_count": 2,
   "metadata": {},
   "outputs": [],
   "source": [
    "a1 = set()"
   ]
  },
  {
   "cell_type": "code",
   "execution_count": null,
   "metadata": {},
   "outputs": [],
   "source": [
    "a1.add"
   ]
  },
  {
   "cell_type": "code",
   "execution_count": null,
   "metadata": {},
   "outputs": [],
   "source": [
    "def find(node):\n",
    "    if parent[node] != node:\n",
    "        parent[node] = find(parent[node])\n",
    "    return parent[node]\n",
    "\n",
    "def union(node_v, node_u):\n",
    "    root1 = find(node_v)\n",
    "    root2 = find(node_u)\n",
    "    \n",
    "    if rank[root1] > rank[root2]:\n",
    "        parent[root2] = root1\n",
    "    else:\n",
    "        parent[root1] = root2\n",
    "        if rank[root1] == rank[root2]:\n",
    "            rank[root1] += 1\n",
    "\n",
    "def make_set(node):\n",
    "    parent[node] = node\n",
    "    rank[node] = 0\n",
    "\n",
    "def friends_network(graph):\n",
    "    parent = dict()\n",
    "    rank = dict()\n",
    "    st = list()\n",
    "    \n",
    "    for node in graph['nodes']:\n",
    "        make_set(node)\n",
    "    \n",
    "    edges = graph['edges']\n",
    "    for edge in edges:\n",
    "        node_v, node_u = edge\n",
    "        if find(node_v) == find(node_u):\n",
    "            union(node_v, node_u)\n",
    "            st.append(edge)\n",
    "    return st\n",
    "\n",
    "for _ in range(int(input())):\n",
    "    graph = dict(nodes=set(), edges=list())\n",
    "    for _ in range(int(input())):\n",
    "        p1, p2 = input().split()\n",
    "        graph['nodes'] += {p1}\n",
    "        graph['nodes'] += {p2}\n",
    "        graph['edges'].append((p1, p2))\n",
    "        graph['edges'].append((p2, p1))\n",
    "        st = friends_network(graph)\n",
    "        print(len(st) + 1)"
   ]
  },
  {
   "cell_type": "markdown",
   "metadata": {},
   "source": [
    "### 인강풀이"
   ]
  },
  {
   "cell_type": "code",
   "execution_count": null,
   "metadata": {},
   "outputs": [
    {
     "name": "stdout",
     "output_type": "stream",
     "text": [
      "2\n",
      "3\n",
      "Fred Barney\n",
      "2\n",
      "2\n",
      "Betty Wilma\n",
      "2\n",
      "2\n",
      "Barney Betty\n",
      "1\n",
      "4\n"
     ]
    }
   ],
   "source": [
    "def union(node_v, node_u):\n",
    "    node_v = find(node_v)\n",
    "    node_u = find(node_u)\n",
    "    if node_v != node_u:\n",
    "        parent[node_u] = node_v\n",
    "        number[node_v] += number[node_u]\n",
    "\n",
    "def find(node):\n",
    "    if node == parent[node]:\n",
    "        return node\n",
    "    else:\n",
    "        parent[node] = find(parent[node])\n",
    "        return parent[node]\n",
    "    \n",
    "for _ in range(int(input())):\n",
    "    parent = dict()\n",
    "    number = dict()\n",
    "    \n",
    "    for _ in range(int(input())):\n",
    "        p1, p2 = input().split()\n",
    "\n",
    "        if p1 not in parent:\n",
    "            parent[p1] = p1\n",
    "            number[p1] = 1\n",
    "        if p2 not in parent:\n",
    "            parent[p2] = p2\n",
    "            number[p2] = 1\n",
    "\n",
    "        union(p1, p2)\n",
    "        print(number[find(p1)])\n",
    "\n"
   ]
  },
  {
   "cell_type": "code",
   "execution_count": 6,
   "metadata": {},
   "outputs": [
    {
     "name": "stdout",
     "output_type": "stream",
     "text": [
      "2\n",
      "3\n",
      "Fred Barney\n",
      "{'Fred': 'Fred', 'Barney': 'Fred'}\n",
      "{'Fred': 2, 'Barney': 1}\n",
      "2\n",
      "Betty Wilma\n",
      "{'Fred': 'Fred', 'Barney': 'Fred', 'Betty': 'Betty', 'Wilma': 'Betty'}\n",
      "{'Fred': 2, 'Barney': 1, 'Betty': 2, 'Wilma': 1}\n",
      "2\n",
      "Barney Betty\n",
      "{'Fred': 'Fred', 'Barney': 'Fred', 'Betty': 'Fred', 'Wilma': 'Betty'}\n",
      "{'Fred': 4, 'Barney': 1, 'Betty': 2, 'Wilma': 1}\n",
      "4\n",
      "asdasd\n"
     ]
    },
    {
     "ename": "ValueError",
     "evalue": "invalid literal for int() with base 10: 'asdasd'",
     "output_type": "error",
     "traceback": [
      "\u001b[0;31m---------------------------------------------------------------------------\u001b[0m",
      "\u001b[0;31mValueError\u001b[0m                                Traceback (most recent call last)",
      "\u001b[0;32m<ipython-input-6-5c2800d848f2>\u001b[0m in \u001b[0;36m<module>\u001b[0;34m\u001b[0m\n\u001b[1;32m     18\u001b[0m     \u001b[0mnumber\u001b[0m \u001b[0;34m=\u001b[0m \u001b[0mdict\u001b[0m\u001b[0;34m(\u001b[0m\u001b[0;34m)\u001b[0m\u001b[0;34m\u001b[0m\u001b[0;34m\u001b[0m\u001b[0m\n\u001b[1;32m     19\u001b[0m \u001b[0;34m\u001b[0m\u001b[0m\n\u001b[0;32m---> 20\u001b[0;31m     \u001b[0;32mfor\u001b[0m \u001b[0m_\u001b[0m \u001b[0;32min\u001b[0m \u001b[0mrange\u001b[0m\u001b[0;34m(\u001b[0m\u001b[0mint\u001b[0m\u001b[0;34m(\u001b[0m\u001b[0minput\u001b[0m\u001b[0;34m(\u001b[0m\u001b[0;34m)\u001b[0m\u001b[0;34m)\u001b[0m\u001b[0;34m)\u001b[0m\u001b[0;34m:\u001b[0m\u001b[0;34m\u001b[0m\u001b[0;34m\u001b[0m\u001b[0m\n\u001b[0m\u001b[1;32m     21\u001b[0m         \u001b[0mp1\u001b[0m\u001b[0;34m,\u001b[0m \u001b[0mp2\u001b[0m \u001b[0;34m=\u001b[0m \u001b[0minput\u001b[0m\u001b[0;34m(\u001b[0m\u001b[0;34m)\u001b[0m\u001b[0;34m.\u001b[0m\u001b[0msplit\u001b[0m\u001b[0;34m(\u001b[0m\u001b[0;34m)\u001b[0m\u001b[0;34m\u001b[0m\u001b[0;34m\u001b[0m\u001b[0m\n\u001b[1;32m     22\u001b[0m \u001b[0;34m\u001b[0m\u001b[0m\n",
      "\u001b[0;31mValueError\u001b[0m: invalid literal for int() with base 10: 'asdasd'"
     ]
    }
   ],
   "source": [
    "def union(x, y):\n",
    "    x = find(x)\n",
    "    y = find(y)\n",
    "    if x != y:\n",
    "        parent[y] = x\n",
    "        number[x] += number[y]\n",
    "\n",
    "def find(x):\n",
    "    if x == parent[x]:\n",
    "        return x\n",
    "    else:\n",
    "        p = find(parent[x])\n",
    "        parent[x] = p\n",
    "        return parent[x]\n",
    "    \n",
    "for _ in range(int(input())):\n",
    "    parent = dict()\n",
    "    number = dict()\n",
    "    \n",
    "    for _ in range(int(input())):\n",
    "        p1, p2 = input().split()\n",
    "\n",
    "        if p1 not in parent:\n",
    "            parent[p1] = p1\n",
    "            number[p1] = 1\n",
    "        if p2 not in parent:\n",
    "            parent[p2] = p2\n",
    "            number[p2] = 1\n",
    "    \n",
    "        union(p1, p2)\n",
    "        tmp = number[find(p1)]\n",
    "        print(parent)\n",
    "        print(number)\n",
    "        print(tmp)\n"
   ]
  },
  {
   "cell_type": "code",
   "execution_count": null,
   "metadata": {},
   "outputs": [],
   "source": []
  }
 ],
 "metadata": {
  "kernelspec": {
   "display_name": "Python 3",
   "language": "python",
   "name": "python3"
  }
 },
 "nbformat": 4,
 "nbformat_minor": 2
}
