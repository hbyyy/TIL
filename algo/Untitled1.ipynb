{
 "cells": [
  {
   "cell_type": "code",
   "execution_count": 1,
   "metadata": {},
   "outputs": [],
   "source": [
    "tmp = 13"
   ]
  },
  {
   "cell_type": "code",
   "execution_count": 2,
   "metadata": {},
   "outputs": [
    {
     "data": {
      "text/plain": [
       "'13'"
      ]
     },
     "execution_count": 2,
     "metadata": {},
     "output_type": "execute_result"
    }
   ],
   "source": [
    "str(tmp)"
   ]
  },
  {
   "cell_type": "code",
   "execution_count": 3,
   "metadata": {},
   "outputs": [
    {
     "data": {
      "text/plain": [
       "{'1', '3'}"
      ]
     },
     "execution_count": 3,
     "metadata": {},
     "output_type": "execute_result"
    }
   ],
   "source": [
    "set(list(str(tmp)))"
   ]
  },
  {
   "cell_type": "code",
   "execution_count": 115,
   "metadata": {},
   "outputs": [],
   "source": [
    "skiils = [[1, 2], [1, 3], [3, 6], [3, 4], [3, 5]]\n",
    "    "
   ]
  },
  {
   "cell_type": "code",
   "execution_count": 119,
   "metadata": {},
   "outputs": [
    {
     "data": {
      "text/plain": [
       "[[], [2, 3], [1], [1, 4, 5, 6], [3], [3], [3]]"
      ]
     },
     "execution_count": 119,
     "metadata": {},
     "output_type": "execute_result"
    }
   ],
   "source": [
    "from collections import deque\n",
    "adj = [[] for _ in range(len(skiils) +2)]\n",
    "for i in range(len(skiils)):\n",
    "    a,b = skiils[i]\n",
    "    adj[a].append(b)\n",
    "    adj[b].append(a)\n",
    "    \n",
    "for e in adj:\n",
    "    e.sort()\n",
    "adj\n"
   ]
  },
  {
   "cell_type": "code",
   "execution_count": 117,
   "metadata": {},
   "outputs": [],
   "source": [
    "def bfs(start_node):\n",
    "    visited = [0] * (len(skiils)+1)\n",
    "    "
   ]
  },
  {
   "cell_type": "code",
   "execution_count": 118,
   "metadata": {},
   "outputs": [
    {
     "name": "stdout",
     "output_type": "stream",
     "text": [
      "(0,)\n",
      "(1,)\n",
      "(2,)\n",
      "(0, 1)\n",
      "(0, 2)\n",
      "(1, 2)\n",
      "(0, 1, 2)\n"
     ]
    }
   ],
   "source": [
    "from itertools import combinations\n",
    "a = [0,1,2]\n",
    "for i in range(1, len(a) +1):\n",
    "    for tmp in combinations(a, i):\n",
    "        print(tmp)"
   ]
  },
  {
   "cell_type": "code",
   "execution_count": 17,
   "metadata": {},
   "outputs": [],
   "source": [
    "n = 10000"
   ]
  },
  {
   "cell_type": "code",
   "execution_count": 20,
   "metadata": {},
   "outputs": [
    {
     "name": "stdout",
     "output_type": "stream",
     "text": [
      "3333\n",
      "1\n"
     ]
    }
   ],
   "source": [
    "count = 0\n",
    "print(n // 3)\n",
    "print(n % 3)"
   ]
  },
  {
   "cell_type": "code",
   "execution_count": 52,
   "metadata": {},
   "outputs": [],
   "source": [
    "n = 1000\n",
    "p = 2\n",
    "i = 1"
   ]
  },
  {
   "cell_type": "code",
   "execution_count": 53,
   "metadata": {},
   "outputs": [],
   "source": [
    "while True:\n",
    "    i += 1\n",
    "    if 2 ** i >= n:\n",
    "        i -= 1\n",
    "        break"
   ]
  },
  {
   "cell_type": "code",
   "execution_count": 54,
   "metadata": {},
   "outputs": [
    {
     "data": {
      "text/plain": [
       "9"
      ]
     },
     "execution_count": 54,
     "metadata": {},
     "output_type": "execute_result"
    }
   ],
   "source": [
    "i"
   ]
  },
  {
   "cell_type": "code",
   "execution_count": 26,
   "metadata": {},
   "outputs": [],
   "source": [
    "tmp = 3 ** count"
   ]
  },
  {
   "cell_type": "code",
   "execution_count": 27,
   "metadata": {},
   "outputs": [
    {
     "data": {
      "text/plain": [
       "3439"
      ]
     },
     "execution_count": 27,
     "metadata": {},
     "output_type": "execute_result"
    }
   ],
   "source": [
    "n - tmp "
   ]
  },
  {
   "cell_type": "code",
   "execution_count": 31,
   "metadata": {},
   "outputs": [],
   "source": [
    "start = 2 ** count\n",
    "end = 2 ** (count+1)"
   ]
  },
  {
   "cell_type": "code",
   "execution_count": 32,
   "metadata": {},
   "outputs": [
    {
     "data": {
      "text/plain": [
       "256"
      ]
     },
     "execution_count": 32,
     "metadata": {},
     "output_type": "execute_result"
    }
   ],
   "source": [
    "start"
   ]
  },
  {
   "cell_type": "code",
   "execution_count": 33,
   "metadata": {},
   "outputs": [
    {
     "data": {
      "text/plain": [
       "512"
      ]
     },
     "execution_count": 33,
     "metadata": {},
     "output_type": "execute_result"
    }
   ],
   "source": [
    "end"
   ]
  },
  {
   "cell_type": "code",
   "execution_count": 75,
   "metadata": {},
   "outputs": [],
   "source": [
    "n = 11\n",
    "p = 2\n",
    "i = 1\n",
    "    \n",
    "while True:\n",
    "    i += 1\n",
    "    if 2 ** i >= n:\n",
    "        i -= 1\n",
    "        break\n",
    "answer = 3 ** i"
   ]
  },
  {
   "cell_type": "code",
   "execution_count": 76,
   "metadata": {},
   "outputs": [
    {
     "data": {
      "text/plain": [
       "27"
      ]
     },
     "execution_count": 76,
     "metadata": {},
     "output_type": "execute_result"
    }
   ],
   "source": [
    "answer"
   ]
  },
  {
   "cell_type": "code",
   "execution_count": 77,
   "metadata": {},
   "outputs": [],
   "source": [
    "tmp = n - (2 ** i)"
   ]
  },
  {
   "cell_type": "code",
   "execution_count": 78,
   "metadata": {},
   "outputs": [
    {
     "data": {
      "text/plain": [
       "3"
      ]
     },
     "execution_count": 78,
     "metadata": {},
     "output_type": "execute_result"
    }
   ],
   "source": [
    "tmp"
   ]
  },
  {
   "cell_type": "code",
   "execution_count": 79,
   "metadata": {},
   "outputs": [],
   "source": [
    "def factorization(num):\n",
    "    result = []\n",
    "    a, b = num // 2, num % 2\n",
    "    while num > 1:\n",
    "        result.append(num % 2)\n",
    "        num = num //2\n",
    "    \n",
    "    return result + [1]"
   ]
  },
  {
   "cell_type": "code",
   "execution_count": 80,
   "metadata": {},
   "outputs": [
    {
     "data": {
      "text/plain": [
       "[0, 0, 0, 1, 0, 1, 1, 1, 1]"
      ]
     },
     "execution_count": 80,
     "metadata": {},
     "output_type": "execute_result"
    }
   ],
   "source": [
    "temp = factorization(488)\n",
    "temp"
   ]
  },
  {
   "cell_type": "code",
   "execution_count": 81,
   "metadata": {},
   "outputs": [
    {
     "name": "stdout",
     "output_type": "stream",
     "text": [
      "3\n",
      "5\n",
      "6\n",
      "7\n",
      "8\n"
     ]
    }
   ],
   "source": [
    "for i in range(len(temp)):\n",
    "    if temp[i] == 1:\n",
    "        print(i)\n",
    "        answer = answer + (3 ** temp[i])"
   ]
  },
  {
   "cell_type": "code",
   "execution_count": 82,
   "metadata": {},
   "outputs": [
    {
     "data": {
      "text/plain": [
       "42"
      ]
     },
     "execution_count": 82,
     "metadata": {},
     "output_type": "execute_result"
    }
   ],
   "source": [
    "answer"
   ]
  },
  {
   "cell_type": "code",
   "execution_count": 89,
   "metadata": {},
   "outputs": [],
   "source": [
    "def factorization(num):\n",
    "    result = []\n",
    "    a, b = num // 2, num % 2\n",
    "    while num > 1:\n",
    "        result.append(num % 2)\n",
    "        num = num // 2   \n",
    "    return result + [1]\n",
    "\n",
    "def solution(n):\n",
    "    p = 2\n",
    "    i = 1    \n",
    "    while True:\n",
    "        i += 1\n",
    "        if 2 ** i >= n:\n",
    "            i -= 1\n",
    "            break\n",
    "    print(i)\n",
    "    answer = 3 ** i\n",
    "    tmp = factorization(n - (2 ** i))\n",
    "    print(tmp)\n",
    "    \n",
    "    for i in range(len(tmp)):\n",
    "        if tmp[i] == 1:\n",
    "            print(i)\n",
    "            answer = answer + (3 ** i)\n",
    "    return answer"
   ]
  },
  {
   "cell_type": "code",
   "execution_count": 90,
   "metadata": {},
   "outputs": [
    {
     "name": "stdout",
     "output_type": "stream",
     "text": [
      "3\n",
      "[1, 1]\n",
      "0\n",
      "1\n"
     ]
    },
    {
     "data": {
      "text/plain": [
       "31"
      ]
     },
     "execution_count": 90,
     "metadata": {},
     "output_type": "execute_result"
    }
   ],
   "source": [
    "solution(11)"
   ]
  },
  {
   "cell_type": "code",
   "execution_count": 105,
   "metadata": {},
   "outputs": [],
   "source": [
    "def factorization(num):\n",
    "    result = []\n",
    "    a, b = num // 2, num % 2\n",
    "    while num > 1:\n",
    "        result.append(num % 2)\n",
    "        num = num // 2   \n",
    "    return result + [1]\n",
    "\n",
    "def solution(n):\n",
    "    p = 2\n",
    "    i = 1    \n",
    "    while True:\n",
    "        i += 1\n",
    "        if 2 ** i > n:\n",
    "            i -= 1\n",
    "            break\n",
    "    print(i)\n",
    "    answer = 3 ** i\n",
    "    print(answer)\n",
    "    if n - (2 ** i) == 0:\n",
    "        return answer\n",
    "    tmp = factorization(n - (2 ** i))\n",
    "    print(tmp)\n",
    "    for i in range(len(tmp)):\n",
    "        if tmp[i] == 1:\n",
    "            print(i)\n",
    "            answer = answer + (3 ** i)\n",
    "    return answer"
   ]
  },
  {
   "cell_type": "code",
   "execution_count": 106,
   "metadata": {},
   "outputs": [
    {
     "name": "stdout",
     "output_type": "stream",
     "text": [
      "2\n",
      "9\n",
      "0\n",
      "[1]\n",
      "0\n"
     ]
    },
    {
     "data": {
      "text/plain": [
       "10"
      ]
     },
     "execution_count": 106,
     "metadata": {},
     "output_type": "execute_result"
    }
   ],
   "source": [
    "solution(4)"
   ]
  },
  {
   "cell_type": "code",
   "execution_count": 107,
   "metadata": {},
   "outputs": [],
   "source": [
    "def factorization(num):\n",
    "    result = []\n",
    "    a, b = num // 2, num % 2\n",
    "    while num > 1:\n",
    "        result.append(num % 2)\n",
    "        num = num // 2   \n",
    "    return result + [1]\n",
    "\n",
    "def solution(n):\n",
    "    p = 2\n",
    "    i = 1    \n",
    "    while True:\n",
    "        i += 1\n",
    "        if 2 ** i > n:\n",
    "            i -= 1\n",
    "            break\n",
    "    answer = 3 ** i\n",
    "    if n - (2 ** i) == 0:\n",
    "        return answer\n",
    "    tmp = factorization(n - (2 ** i))\n",
    "    for i in range(len(tmp)):\n",
    "        if tmp[i] == 1:\n",
    "            print(i)\n",
    "            answer = answer + (3 ** i)\n",
    "    return answer"
   ]
  },
  {
   "cell_type": "code",
   "execution_count": 113,
   "metadata": {},
   "outputs": [
    {
     "data": {
      "text/plain": [
       "81"
      ]
     },
     "execution_count": 113,
     "metadata": {},
     "output_type": "execute_result"
    }
   ],
   "source": [
    "solution(16)"
   ]
  },
  {
   "cell_type": "code",
   "execution_count": null,
   "metadata": {},
   "outputs": [],
   "source": []
  }
 ],
 "metadata": {
  "kernelspec": {
   "display_name": "Python 3",
   "language": "python",
   "name": "python3"
  },
  "language_info": {
   "codemirror_mode": {
    "name": "ipython",
    "version": 3
   },
   "file_extension": ".py",
   "mimetype": "text/x-python",
   "name": "python",
   "nbconvert_exporter": "python",
   "pygments_lexer": "ipython3",
   "version": "3.7.5"
  }
 },
 "nbformat": 4,
 "nbformat_minor": 2
}
