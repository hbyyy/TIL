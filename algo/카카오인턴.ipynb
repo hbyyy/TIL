{
 "cells": [
  {
   "cell_type": "markdown",
   "metadata": {},
   "source": [
    "## 3번 "
   ]
  },
  {
   "cell_type": "code",
   "execution_count": 1,
   "metadata": {},
   "outputs": [],
   "source": [
    "def solution(gems):\n",
    "    answer = []\n",
    "    gem_list = set(gems)\n",
    "    for i in range(0, len(gems) - len(gem_list) + 1):\n",
    "        tmp = gem_list.copy()\n",
    "        for j in range(i, len(gems)):\n",
    "            tmp =  tmp - {gems[j]}\n",
    "            if not tmp :\n",
    "                if not answer:\n",
    "                    answer.append(i + 1)\n",
    "                    answer.append(j + 1)\n",
    "                else:\n",
    "                    tmp1 = answer[1]-answer[0]\n",
    "                    tmp2 = j - i\n",
    "                    if tmp2 < tmp1:\n",
    "                        answer[0] = i + 1\n",
    "                        answer[1] = j + 1                \n",
    "    return answer"
   ]
  },
  {
   "cell_type": "markdown",
   "metadata": {},
   "source": [
    "## 2번"
   ]
  },
  {
   "cell_type": "code",
   "execution_count": 2,
   "metadata": {},
   "outputs": [],
   "source": [
    "import re\n",
    "from itertools import permutations\n",
    "\n",
    "def solution(expression):    \n",
    "    exp_list = re.findall('(\\d+|[*+-])', expression)\n",
    "    operator_list = list(set(re.findall('[*+-]', expression)))\n",
    "    result = 0\n",
    "    \n",
    "    for operators in list(permutations(operator_list, len(operator_list))):\n",
    "        tmp_list = exp_list.copy()\n",
    "        for operator in operators:\n",
    "            while True:\n",
    "                try:    \n",
    "                    idx = tmp_list.index(operator)\n",
    "                    value = eval(tmp_list[idx-1] + operator + tmp_list[idx+1])\n",
    "                    for i in range(3):\n",
    "                            tmp_list.pop(idx-1)\n",
    "                    tmp_list.insert(idx-1, str(value))                        \n",
    "                except ValueError:\n",
    "                    break\n",
    "\n",
    "        result = max(result, abs(int(tmp_list[0])))\n",
    "    return result"
   ]
  },
  {
   "cell_type": "markdown",
   "metadata": {},
   "source": [
    "## 1번"
   ]
  },
  {
   "cell_type": "code",
   "execution_count": 3,
   "metadata": {},
   "outputs": [],
   "source": [
    "def solution(numbers, hand):\n",
    "    answer = ''\n",
    "    board = [[1,2,3], [4,5,6], [7,8,9], ['*',0,'#']]\n",
    "    lh = (3, 0)\n",
    "    rh = (3, 2)\n",
    "    idx = (0, 0)\n",
    "    for number in numbers:\n",
    "        if number in [1,4,7]:\n",
    "            if number == 1:\n",
    "                lh = (0, 0)\n",
    "                answer += \"L\"\n",
    "            elif number == 4:\n",
    "                lh = (1, 0)\n",
    "                answer += \"L\"\n",
    "            else:\n",
    "                lh = (2, 0)\n",
    "                answer += \"L\"\n",
    "        elif number in [3,6,9]:\n",
    "            if number == 3:\n",
    "                rh = (0, 2)\n",
    "                answer += \"R\"\n",
    "            elif number == 6:\n",
    "                rh = (1, 2)\n",
    "                answer += \"R\"\n",
    "            else:\n",
    "                rh = (2, 2)\n",
    "                answer += \"R\"\n",
    "        else:\n",
    "            for i, num_list in enumerate(board):\n",
    "                try:\n",
    "                    idx = (i, num_list.index(number))\n",
    "                except ValueError:\n",
    "                    continue\n",
    "            lh_to_num = abs(lh[0] - idx[0]) + abs(lh[1] - idx[1])\n",
    "            rh_to_num = abs(rh[0] - idx[0]) + abs(rh[1] - idx[1])\n",
    "            if lh_to_num > rh_to_num:\n",
    "                rh = idx\n",
    "                answer += \"R\"\n",
    "            elif lh_to_num < rh_to_num:\n",
    "                lh = idx\n",
    "                answer += \"L\"\n",
    "            else:\n",
    "                if hand == 'right':\n",
    "                    rh = idx\n",
    "                    answer += \"R\"\n",
    "                else:\n",
    "                    lh = idx\n",
    "                    answer += \"L\"\n",
    "    \n",
    "    return answer"
   ]
  },
  {
   "cell_type": "code",
   "execution_count": null,
   "metadata": {},
   "outputs": [],
   "source": []
  }
 ],
 "metadata": {
  "kernelspec": {
   "display_name": "Python 3",
   "language": "python",
   "name": "python3"
  },
  "language_info": {
   "codemirror_mode": {
    "name": "ipython",
    "version": 3
   },
   "file_extension": ".py",
   "mimetype": "text/x-python",
   "name": "python",
   "nbconvert_exporter": "python",
   "pygments_lexer": "ipython3",
   "version": "3.7.5"
  }
 },
 "nbformat": 4,
 "nbformat_minor": 2
}
