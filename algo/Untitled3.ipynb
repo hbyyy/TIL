{
 "cells": [
  {
   "cell_type": "code",
   "execution_count": 3,
   "metadata": {},
   "outputs": [
    {
     "name": "stdout",
     "output_type": "stream",
     "text": [
      "5\n",
      "5\n",
      "2\n",
      "3\n",
      "4\n",
      "1\n",
      "1\n",
      "2\n",
      "3\n",
      "4\n",
      "5\n"
     ]
    }
   ],
   "source": [
    "n = int(input())\n",
    "numbers = []\n",
    "for _ in range(n):\n",
    "    numbers.append(int(input()))\n",
    "\n",
    "for i in range(n-1):\n",
    "    for j in range(i+1, n):\n",
    "        if numbers[i] > numbers[j]:\n",
    "            numbers[i], numbers[j] = numbers[j], numbers[i]\n",
    "\n",
    "for number in numbers:\n",
    "    print(number)\n"
   ]
  },
  {
   "cell_type": "markdown",
   "metadata": {},
   "source": [
    "## "
   ]
  },
  {
   "cell_type": "code",
   "execution_count": 7,
   "metadata": {},
   "outputs": [
    {
     "name": "stdout",
     "output_type": "stream",
     "text": [
      "2143\n",
      "4321"
     ]
    }
   ],
   "source": [
    "n = int(input())\n",
    "\n",
    "numbers = []\n",
    "div = 1\n",
    "while True:\n",
    "    tmp = n // div\n",
    "    if not tmp:\n",
    "        break\n",
    "    numbers.append(tmp%10)\n",
    "    div *= 10\n",
    "\n",
    "numbers.sort(reverse=True)\n",
    "\n",
    "for num in numbers:\n",
    "    print(num, end='')"
   ]
  },
  {
   "cell_type": "code",
   "execution_count": 10,
   "metadata": {},
   "outputs": [
    {
     "name": "stdout",
     "output_type": "stream",
     "text": [
      "1234\n",
      "4321"
     ]
    }
   ],
   "source": [
    "n = int(input())\n",
    "\n",
    "numbers = []\n",
    "\n",
    "while n:\n",
    "    numbers.append(n%10)\n",
    "    n //= 10\n",
    "\n",
    "numbers.sort(reverse=True)\n",
    "\n",
    "for num in numbers:\n",
    "    print(num, end='')"
   ]
  },
  {
   "cell_type": "code",
   "execution_count": null,
   "metadata": {},
   "outputs": [],
   "source": []
  }
 ],
 "metadata": {
  "kernelspec": {
   "display_name": "Python 3",
   "language": "python",
   "name": "python3"
  },
  "language_info": {
   "codemirror_mode": {
    "name": "ipython",
    "version": 3
   },
   "file_extension": ".py",
   "mimetype": "text/x-python",
   "name": "python",
   "nbconvert_exporter": "python",
   "pygments_lexer": "ipython3",
   "version": "3.7.5"
  }
 },
 "nbformat": 4,
 "nbformat_minor": 2
}
