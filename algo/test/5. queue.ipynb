{
 "cells": [
  {
   "cell_type": "code",
   "execution_count": 4,
   "metadata": {},
   "outputs": [],
   "source": [
    "from queue import Queue\n",
    "\n",
    "queue1 = Queue()"
   ]
  },
  {
   "cell_type": "code",
   "execution_count": 5,
   "metadata": {},
   "outputs": [],
   "source": [
    "queue1.put(1)"
   ]
  },
  {
   "cell_type": "code",
   "execution_count": 6,
   "metadata": {},
   "outputs": [],
   "source": [
    "queue1.put(2)"
   ]
  },
  {
   "cell_type": "code",
   "execution_count": 7,
   "metadata": {},
   "outputs": [
    {
     "data": {
      "text/plain": [
       "1"
      ]
     },
     "execution_count": 7,
     "metadata": {},
     "output_type": "execute_result"
    }
   ],
   "source": [
    "queue1.get()"
   ]
  },
  {
   "cell_type": "code",
   "execution_count": 26,
   "metadata": {},
   "outputs": [
    {
     "name": "stdout",
     "output_type": "stream",
     "text": [
      "[3, 5, 7, 9]\n",
      "3\n",
      "[1, 3, 5, 7]\n",
      "[3, 5, 7]\n",
      "[5, 7]\n",
      "[7]\n"
     ]
    }
   ],
   "source": [
    "# 라이브러리 사용하지 말고 구현해보자\n",
    "\n",
    "queue2 = []\n",
    "\n",
    "queue2.append(3)\n",
    "queue2.append(5)\n",
    "queue2.append(7)\n",
    "queue2.append(9)\n",
    "print(queue2)\n",
    "head = 0\n",
    "tail = len(queue2) - 1\n",
    "print(tail)\n",
    "\n",
    "\n",
    "\n",
    "class My_queue:\n",
    "    def __init__(self):\n",
    "        self.__data_list = []\n",
    "        self.__head = 0\n",
    "        self.__tail = 0\n",
    "        \n",
    "    def enqueue(self, value):\n",
    "        self.__data_list.append(value)\n",
    "        self.__tail += 1\n",
    "        \n",
    "    def dequeue(self):\n",
    "        output_value = self.__data_list[self.__head]\n",
    "        del self.__data_list[self.__head]\n",
    "        return output_value\n",
    "    \n",
    "    def show_queue(self):\n",
    "        print(self.__data_list)\n",
    "        \n",
    "        \n",
    "my_queue1 = My_queue()\n",
    "\n",
    "my_queue1.enqueue(1)\n",
    "my_queue1.enqueue(3)\n",
    "my_queue1.enqueue(5)\n",
    "my_queue1.enqueue(7)\n",
    "my_queue1.show_queue()\n",
    "my_queue1.dequeue()\n",
    "my_queue1.show_queue()\n",
    "my_queue1.dequeue()\n",
    "my_queue1.show_queue()\n",
    "my_queue1.dequeue()\n",
    "my_queue1.show_queue()"
   ]
  },
  {
   "cell_type": "code",
   "execution_count": null,
   "metadata": {},
   "outputs": [],
   "source": []
  }
 ],
 "metadata": {
  "kernelspec": {
   "display_name": "Python 3",
   "language": "python",
   "name": "python3"
  },
  "language_info": {
   "codemirror_mode": {
    "name": "ipython",
    "version": 3
   },
   "file_extension": ".py",
   "mimetype": "text/x-python",
   "name": "python",
   "nbconvert_exporter": "python",
   "pygments_lexer": "ipython3",
   "version": "3.7.5"
  }
 },
 "nbformat": 4,
 "nbformat_minor": 2
}
