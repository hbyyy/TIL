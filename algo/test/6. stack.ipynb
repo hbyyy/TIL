{
 "cells": [
  {
   "cell_type": "code",
   "execution_count": 11,
   "metadata": {},
   "outputs": [],
   "source": [
    "# 파이썬은 재귀 함수는 최대 1000번 호출 가능함\n",
    "# 스택 구현\n",
    "\n",
    "stack_list = []\n",
    "\n",
    "def push(value):\n",
    "    stack_list.append(value)\n",
    "\n",
    "def pop():\n",
    "    data = stack_list[-1]\n",
    "    del stack_list[-1]\n",
    "    return data\n",
    "\n"
   ]
  },
  {
   "cell_type": "code",
   "execution_count": 12,
   "metadata": {},
   "outputs": [
    {
     "name": "stdout",
     "output_type": "stream",
     "text": [
      "[2]\n",
      "[2, 4]\n",
      "[2, 4, 6]\n",
      "[2, 4, 6, 8]\n",
      "[2, 4, 6, 8, 10]\n",
      "[2, 4, 6, 8]\n",
      "[2, 4, 6]\n",
      "[2, 4]\n",
      "[2]\n"
     ]
    },
    {
     "data": {
      "text/plain": [
       "2"
      ]
     },
     "execution_count": 12,
     "metadata": {},
     "output_type": "execute_result"
    }
   ],
   "source": [
    "push(2)\n",
    "print(stack_list)\n",
    "push(4)\n",
    "print(stack_list)\n",
    "push(6)\n",
    "print(stack_list)\n",
    "push(8)\n",
    "print(stack_list)\n",
    "push(10)\n",
    "print(stack_list)\n",
    "pop()\n",
    "print(stack_list)\n",
    "pop()\n",
    "print(stack_list)\n",
    "pop()\n",
    "print(stack_list)\n",
    "pop()\n",
    "print(stack_list)\n",
    "pop()"
   ]
  },
  {
   "cell_type": "code",
   "execution_count": null,
   "metadata": {},
   "outputs": [],
   "source": []
  },
  {
   "cell_type": "code",
   "execution_count": null,
   "metadata": {},
   "outputs": [],
   "source": []
  }
 ],
 "metadata": {
  "kernelspec": {
   "display_name": "Python 3",
   "language": "python",
   "name": "python3"
  },
  "language_info": {
   "codemirror_mode": {
    "name": "ipython",
    "version": 3
   },
   "file_extension": ".py",
   "mimetype": "text/x-python",
   "name": "python",
   "nbconvert_exporter": "python",
   "pygments_lexer": "ipython3",
   "version": "3.7.5"
  }
 },
 "nbformat": 4,
 "nbformat_minor": 2
}
