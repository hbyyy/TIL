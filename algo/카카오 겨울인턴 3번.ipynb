{
 "cells": [
  {
   "cell_type": "code",
   "execution_count": 1,
   "metadata": {},
   "outputs": [],
   "source": [
    "def solution(user_id, banned_id):\n",
    "    answer = 0\n",
    "    return answer"
   ]
  },
  {
   "cell_type": "code",
   "execution_count": 3,
   "metadata": {},
   "outputs": [],
   "source": [
    "user_id1 = [\"frodo\", \"fradi\", \"crodo\", \"abc123\", \"frodoc\"]\n",
    "banned_id1 = [\"fr*d*\", \"abc1**\"]\n",
    "user_id2 = [\"frodo\", \"fradi\", \"crodo\", \"abc123\", \"frodoc\"]\n",
    "banned_id2 = [\"*rodo\", \"*rodo\", \"******\"]"
   ]
  },
  {
   "cell_type": "code",
   "execution_count": 18,
   "metadata": {},
   "outputs": [],
   "source": [
    "def isPossible(user_id, banned_id):\n",
    "    if len(user_id) != len(banned_id): return False\n",
    "    for i in range(len(user_id)):\n",
    "        if banned_id[i] == \"*\": continue\n",
    "        if user_id[i] != banned_id[i]: return False\n",
    "    return True\n",
    "    "
   ]
  },
  {
   "cell_type": "code",
   "execution_count": 15,
   "metadata": {},
   "outputs": [],
   "source": [
    "a = \"fr*d*\""
   ]
  },
  {
   "cell_type": "code",
   "execution_count": 22,
   "metadata": {},
   "outputs": [
    {
     "name": "stdout",
     "output_type": "stream",
     "text": [
      "possible\n"
     ]
    }
   ],
   "source": [
    "if isPossible(\"frodo\", \"fr*d*\"):\n",
    "    print('possible')\n",
    "else:\n",
    "    print('impossible')"
   ]
  },
  {
   "cell_type": "code",
   "execution_count": 40,
   "metadata": {},
   "outputs": [
    {
     "name": "stdout",
     "output_type": "stream",
     "text": [
      "fradi:*rodo => impossible\n",
      "abc123:*rodo => impossible\n",
      "frodoc:*rodo => impossible\n",
      "fradi:*rodo => impossible\n",
      "abc123:*rodo => impossible\n",
      "frodoc:*rodo => impossible\n",
      "frodo:****** => impossible\n",
      "fradi:****** => impossible\n",
      "crodo:****** => impossible\n"
     ]
    }
   ],
   "source": [
    "possible_userid = []\n",
    "for banned_id in banned_id2:\n",
    "    for user_id in user_id1:\n",
    "        if isPossible(user_id, banned_id):\n",
    "            possible_userid.append((user_id, banned_id))\n",
    "        else:\n",
    "            print(f'{user_id}:{banned_id} => impossible')"
   ]
  },
  {
   "cell_type": "code",
   "execution_count": 38,
   "metadata": {},
   "outputs": [
    {
     "name": "stdout",
     "output_type": "stream",
     "text": [
      "[('abc123', '******'), ('frodoc', '******'), ('frodo', '*rodo'), ('crodo', '*rodo')]\n"
     ]
    }
   ],
   "source": [
    "print(sorted(list(set(possible_userid)), key=lambda x:x[1]))"
   ]
  },
  {
   "cell_type": "code",
   "execution_count": 41,
   "metadata": {},
   "outputs": [
    {
     "data": {
      "text/plain": [
       "[('frodo', '*rodo'),\n",
       " ('crodo', '*rodo'),\n",
       " ('frodo', '*rodo'),\n",
       " ('crodo', '*rodo'),\n",
       " ('abc123', '******'),\n",
       " ('frodoc', '******')]"
      ]
     },
     "execution_count": 41,
     "metadata": {},
     "output_type": "execute_result"
    }
   ],
   "source": [
    "possible_userid"
   ]
  },
  {
   "cell_type": "markdown",
   "metadata": {},
   "source": [
    "## 4번"
   ]
  },
  {
   "cell_type": "code",
   "execution_count": 1,
   "metadata": {},
   "outputs": [],
   "source": [
    "def solution(k, room_number):\n",
    "    answer = []\n",
    "    room = [0 for _ in range(k)]\n",
    "    for num in room_number:\n",
    "        i = num\n",
    "        while True:\n",
    "            print(f'num : {num}, i : {i}, room : {room}')\n",
    "            if room[i-1] == 0:\n",
    "                room[i-1] = 1\n",
    "                answer.append(i)\n",
    "                break\n",
    "            i += 1\n",
    "    return answer"
   ]
  },
  {
   "cell_type": "code",
   "execution_count": 38,
   "metadata": {},
   "outputs": [],
   "source": [
    "# def solution(k, room_number):\n",
    "#     answer = []\n",
    "#     room = [0 for _ in range(k)]\n",
    "#     for num in room_number:\n",
    "#         i = num\n",
    "#         while True:\n",
    "#             if room[i-1] == 0:\n",
    "#                 room[i-1] = 1\n",
    "#                 answer.append(i)\n",
    "#                 break\n",
    "#             i += 1\n",
    "#     return answer\n",
    "def solution2(k, room_number):\n",
    "    answer = []\n",
    "    room = dict()\n",
    "    for num in room_number:\n",
    "        i = num\n",
    "        tmp = room.get(i, None)\n",
    "        if tmp is None:\n",
    "            print(room, num)\n",
    "            room[i] = i + 1\n",
    "            answer.append(i)\n",
    "        else:\n",
    "            temp = [num]\n",
    "            while True:\n",
    "                print('while, ', num)\n",
    "                print(room, ', tmp:', tmp)\n",
    "                tmp = room.get(tmp, None)\n",
    "#                 print('tmp2', tmp2)\n",
    "                if tmp is None:\n",
    "                    room[tmp] = tmp + 1\n",
    "                    room[i] = tmp + 1\n",
    "                    answer.append(tmp)\n",
    "                    for i in temp:\n",
    "                        room[i] = tmp\n",
    "                    break\n",
    "                temp.append(tmp)\n",
    "            \n",
    "    return answer"
   ]
  },
  {
   "cell_type": "code",
   "execution_count": 39,
   "metadata": {},
   "outputs": [],
   "source": [
    "k = 10\n",
    "room_number = [1,3,4,1,3,1]"
   ]
  },
  {
   "cell_type": "code",
   "execution_count": 40,
   "metadata": {},
   "outputs": [
    {
     "name": "stdout",
     "output_type": "stream",
     "text": [
      "{} 1\n",
      "{1: 2} 3\n",
      "{1: 2, 3: 4} 4\n",
      "while,  1\n",
      "{1: 2, 3: 4, 4: 5} , tmp: 2\n"
     ]
    },
    {
     "ename": "TypeError",
     "evalue": "unsupported operand type(s) for +: 'NoneType' and 'int'",
     "output_type": "error",
     "traceback": [
      "\u001b[0;31m---------------------------------------------------------------------------\u001b[0m",
      "\u001b[0;31mTypeError\u001b[0m                                 Traceback (most recent call last)",
      "\u001b[0;32m<ipython-input-40-73c1c371de9f>\u001b[0m in \u001b[0;36m<module>\u001b[0;34m\u001b[0m\n\u001b[0;32m----> 1\u001b[0;31m \u001b[0msolution2\u001b[0m\u001b[0;34m(\u001b[0m\u001b[0mk\u001b[0m\u001b[0;34m,\u001b[0m \u001b[0mroom_number\u001b[0m\u001b[0;34m)\u001b[0m\u001b[0;34m\u001b[0m\u001b[0;34m\u001b[0m\u001b[0m\n\u001b[0m",
      "\u001b[0;32m<ipython-input-38-af3782a54d73>\u001b[0m in \u001b[0;36msolution2\u001b[0;34m(k, room_number)\u001b[0m\n\u001b[1;32m     29\u001b[0m \u001b[0;31m#                 print('tmp2', tmp2)\u001b[0m\u001b[0;34m\u001b[0m\u001b[0;34m\u001b[0m\u001b[0;34m\u001b[0m\u001b[0m\n\u001b[1;32m     30\u001b[0m                 \u001b[0;32mif\u001b[0m \u001b[0mtmp\u001b[0m \u001b[0;32mis\u001b[0m \u001b[0;32mNone\u001b[0m\u001b[0;34m:\u001b[0m\u001b[0;34m\u001b[0m\u001b[0;34m\u001b[0m\u001b[0m\n\u001b[0;32m---> 31\u001b[0;31m                     \u001b[0mroom\u001b[0m\u001b[0;34m[\u001b[0m\u001b[0mtmp\u001b[0m\u001b[0;34m]\u001b[0m \u001b[0;34m=\u001b[0m \u001b[0mtmp\u001b[0m \u001b[0;34m+\u001b[0m \u001b[0;36m1\u001b[0m\u001b[0;34m\u001b[0m\u001b[0;34m\u001b[0m\u001b[0m\n\u001b[0m\u001b[1;32m     32\u001b[0m                     \u001b[0mroom\u001b[0m\u001b[0;34m[\u001b[0m\u001b[0mi\u001b[0m\u001b[0;34m]\u001b[0m \u001b[0;34m=\u001b[0m \u001b[0mtmp\u001b[0m \u001b[0;34m+\u001b[0m \u001b[0;36m1\u001b[0m\u001b[0;34m\u001b[0m\u001b[0;34m\u001b[0m\u001b[0m\n\u001b[1;32m     33\u001b[0m                     \u001b[0manswer\u001b[0m\u001b[0;34m.\u001b[0m\u001b[0mappend\u001b[0m\u001b[0;34m(\u001b[0m\u001b[0mtmp\u001b[0m\u001b[0;34m)\u001b[0m\u001b[0;34m\u001b[0m\u001b[0;34m\u001b[0m\u001b[0m\n",
      "\u001b[0;31mTypeError\u001b[0m: unsupported operand type(s) for +: 'NoneType' and 'int'"
     ]
    }
   ],
   "source": [
    "solution2(k, room_number)"
   ]
  },
  {
   "cell_type": "code",
   "execution_count": 4,
   "metadata": {},
   "outputs": [
    {
     "name": "stdout",
     "output_type": "stream",
     "text": [
      "num : 1, i : 1, room : [0, 0, 0, 0, 0, 0, 0, 0, 0, 0]\n",
      "num : 3, i : 3, room : [1, 0, 0, 0, 0, 0, 0, 0, 0, 0]\n",
      "num : 4, i : 4, room : [1, 0, 1, 0, 0, 0, 0, 0, 0, 0]\n",
      "num : 1, i : 1, room : [1, 0, 1, 1, 0, 0, 0, 0, 0, 0]\n",
      "num : 1, i : 2, room : [1, 0, 1, 1, 0, 0, 0, 0, 0, 0]\n",
      "num : 3, i : 3, room : [1, 1, 1, 1, 0, 0, 0, 0, 0, 0]\n",
      "num : 3, i : 4, room : [1, 1, 1, 1, 0, 0, 0, 0, 0, 0]\n",
      "num : 3, i : 5, room : [1, 1, 1, 1, 0, 0, 0, 0, 0, 0]\n",
      "num : 1, i : 1, room : [1, 1, 1, 1, 1, 0, 0, 0, 0, 0]\n",
      "num : 1, i : 2, room : [1, 1, 1, 1, 1, 0, 0, 0, 0, 0]\n",
      "num : 1, i : 3, room : [1, 1, 1, 1, 1, 0, 0, 0, 0, 0]\n",
      "num : 1, i : 4, room : [1, 1, 1, 1, 1, 0, 0, 0, 0, 0]\n",
      "num : 1, i : 5, room : [1, 1, 1, 1, 1, 0, 0, 0, 0, 0]\n",
      "num : 1, i : 6, room : [1, 1, 1, 1, 1, 0, 0, 0, 0, 0]\n"
     ]
    },
    {
     "data": {
      "text/plain": [
       "[1, 3, 4, 2, 5, 6]"
      ]
     },
     "execution_count": 4,
     "metadata": {},
     "output_type": "execute_result"
    }
   ],
   "source": [
    "solution(k, room_number)"
   ]
  },
  {
   "cell_type": "markdown",
   "metadata": {},
   "source": [
    "## 5번 "
   ]
  },
  {
   "cell_type": "code",
   "execution_count": 32,
   "metadata": {},
   "outputs": [],
   "source": [
    "def solution(stones, k):\n",
    "    answer = 0\n",
    "    K = \"0\" * k\n",
    "    print(K)\n",
    "    while True:\n",
    "        S = ''.join([str(i) for i in stones])\n",
    "        print(S,S.find(K))\n",
    "        if S.find(K) > 0 : break\n",
    "        for i, stone in enumerate(stones):\n",
    "            print(i)\n",
    "            if stones[i-1] : stones[i-1] -= 1 \n",
    "        answer += 1\n",
    "    return answer"
   ]
  },
  {
   "cell_type": "code",
   "execution_count": 33,
   "metadata": {},
   "outputs": [],
   "source": [
    "stones = [2, 4, 5, 3, 2, 1, 4, 2, 5, 1]\n",
    "k = 3"
   ]
  },
  {
   "cell_type": "code",
   "execution_count": 34,
   "metadata": {},
   "outputs": [
    {
     "name": "stdout",
     "output_type": "stream",
     "text": [
      "000\n",
      "2453214251 -1\n",
      "0\n",
      "1\n",
      "2\n",
      "3\n",
      "4\n",
      "5\n",
      "6\n",
      "7\n",
      "8\n",
      "9\n",
      "1342103140 -1\n",
      "0\n",
      "1\n",
      "2\n",
      "3\n",
      "4\n",
      "5\n",
      "6\n",
      "7\n",
      "8\n",
      "9\n",
      "0231002030 -1\n",
      "0\n",
      "1\n",
      "2\n",
      "3\n",
      "4\n",
      "5\n",
      "6\n",
      "7\n",
      "8\n",
      "9\n",
      "0120001020 3\n"
     ]
    },
    {
     "data": {
      "text/plain": [
       "3"
      ]
     },
     "execution_count": 34,
     "metadata": {},
     "output_type": "execute_result"
    }
   ],
   "source": [
    "solution(stones, k)"
   ]
  },
  {
   "cell_type": "code",
   "execution_count": null,
   "metadata": {},
   "outputs": [],
   "source": []
  }
 ],
 "metadata": {
  "kernelspec": {
   "display_name": "Python 3",
   "language": "python",
   "name": "python3"
  },
  "language_info": {
   "codemirror_mode": {
    "name": "ipython",
    "version": 3
   },
   "file_extension": ".py",
   "mimetype": "text/x-python",
   "name": "python",
   "nbconvert_exporter": "python",
   "pygments_lexer": "ipython3",
   "version": "3.7.5"
  }
 },
 "nbformat": 4,
 "nbformat_minor": 2
}
