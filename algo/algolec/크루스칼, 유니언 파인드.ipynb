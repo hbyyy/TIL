{
 "cells": [
  {
   "cell_type": "markdown",
   "metadata": {},
   "source": [
    "# 크루스칼 알고리즘 코드 작성"
   ]
  },
  {
   "attachments": {
    "kruskal.png": {
     "image/png": "[encoded data removed]"
    }
   },
   "cell_type": "markdown",
   "metadata": {},
   "source": [
    "![kruskal.png](attachment:kruskal.png)"
   ]
  },
  {
   "cell_type": "code",
   "execution_count": 12,
   "metadata": {},
   "outputs": [],
   "source": [
    "graph = {\n",
    "    'vertices': ['A', 'B', 'C', 'D', 'E', 'F', 'G'],\n",
    "    'edges': [\n",
    "        (7, 'A', 'B'),\n",
    "        (7, 'B', 'A'),\n",
    "        (5, 'A', 'D'),\n",
    "        (5, 'D', 'A'),\n",
    "        (9, 'B', 'D'),\n",
    "        (9, 'D', 'B'),\n",
    "        (8, 'B', 'C'),\n",
    "        (8, 'C', 'B'),\n",
    "        (7, 'B', 'E'),\n",
    "        (7, 'E', 'B'),\n",
    "        (5, 'C', 'E'),\n",
    "        (5, 'E', 'C'),\n",
    "        (6, 'D', 'F'),\n",
    "        (6, 'F', 'D'),\n",
    "        (7, 'D', 'E'),\n",
    "        (7, 'E', 'D'),\n",
    "        (8, 'E', 'F'),\n",
    "        (8, 'F', 'E'),\n",
    "        (9, 'E', 'G'),\n",
    "        (9, 'G', 'E'),\n",
    "        (11, 'F', 'G'),\n",
    "        (11, 'G', 'F'),\n",
    "    ]\n",
    "}"
   ]
  },
  {
   "cell_type": "code",
   "execution_count": 13,
   "metadata": {},
   "outputs": [],
   "source": [
    "graph['edges'].sort(key=lambda x:x[0])"
   ]
  },
  {
   "cell_type": "code",
   "execution_count": 14,
   "metadata": {},
   "outputs": [
    {
     "name": "stdout",
     "output_type": "stream",
     "text": [
      "{'edges': [(5, 'A', 'D'),\n",
      "           (5, 'D', 'A'),\n",
      "           (5, 'C', 'E'),\n",
      "           (5, 'E', 'C'),\n",
      "           (6, 'D', 'F'),\n",
      "           (6, 'F', 'D'),\n",
      "           (7, 'A', 'B'),\n",
      "           (7, 'B', 'A'),\n",
      "           (7, 'B', 'E'),\n",
      "           (7, 'E', 'B'),\n",
      "           (7, 'D', 'E'),\n",
      "           (7, 'E', 'D'),\n",
      "           (8, 'B', 'C'),\n",
      "           (8, 'C', 'B'),\n",
      "           (8, 'E', 'F'),\n",
      "           (8, 'F', 'E'),\n",
      "           (9, 'B', 'D'),\n",
      "           (9, 'D', 'B'),\n",
      "           (9, 'E', 'G'),\n",
      "           (9, 'G', 'E'),\n",
      "           (11, 'F', 'G'),\n",
      "           (11, 'G', 'F')],\n",
      " 'vertices': ['A', 'B', 'C', 'D', 'E', 'F', 'G']}\n"
     ]
    }
   ],
   "source": [
    "from pprint import pprint\n",
    "pprint(graph)"
   ]
  },
  {
   "cell_type": "code",
   "execution_count": 20,
   "metadata": {},
   "outputs": [],
   "source": [
    "parent = dict()\n",
    "rank = dict()\n",
    "\n",
    "def make_set(node):\n",
    "    parent[node] = node\n",
    "    rank[node] = 0\n",
    "    \n",
    "def find(node):\n",
    "    # path compression\n",
    "    \n",
    "    # 루트 노드가 아닐 때!\n",
    "    if parent[node] != node:\n",
    "        parent[node] = find(parent[node])\n",
    "    return parent[node]\n",
    "\n",
    "def union(node_v, node_u):\n",
    "    root1 = find(node_v)\n",
    "    root2 = find(node_u)\n",
    "    \n",
    "    # union by rank\n",
    "    if rank[root1] > rank[root2]:\n",
    "        parent[root2] = root1\n",
    "    else:\n",
    "        parent[root1] = root2\n",
    "        \n",
    "        if rank[root1] == rank[root2]:\n",
    "            rank[root1] += 1\n",
    "            \n",
    "\n",
    "def kruskal(graph):\n",
    "    mst = list()\n",
    "    \n",
    "    # 1. 초기화\n",
    "    for node in graph['vertices']:\n",
    "        make_set(node)\n",
    "    \n",
    "    # 2. 간선 weight 기반 sorting\n",
    "    graph['edges'].sort(key=lambda x:x[0])\n",
    "    edges = graph['edges']\n",
    "    \n",
    "    # 3. 간선 연결(find, union)\n",
    "    for edge in edges:\n",
    "        weight, node_v, node_u = edge\n",
    "        if find(node_v) != find(node_u):\n",
    "            union(node_v, node_u)\n",
    "            mst.append(edge)\n",
    "    return mst"
   ]
  },
  {
   "cell_type": "code",
   "execution_count": 17,
   "metadata": {},
   "outputs": [],
   "source": [
    "parent = dict()\n",
    "rank = dict()\n",
    "for node in graph['vertices']:\n",
    "        make_set(node)"
   ]
  },
  {
   "cell_type": "code",
   "execution_count": 18,
   "metadata": {},
   "outputs": [
    {
     "data": {
      "text/plain": [
       "{'A': 'A', 'B': 'B', 'C': 'C', 'D': 'D', 'E': 'E', 'F': 'F', 'G': 'G'}"
      ]
     },
     "execution_count": 18,
     "metadata": {},
     "output_type": "execute_result"
    }
   ],
   "source": [
    "parent"
   ]
  },
  {
   "cell_type": "code",
   "execution_count": 19,
   "metadata": {},
   "outputs": [
    {
     "data": {
      "text/plain": [
       "{'A': 0, 'B': 0, 'C': 0, 'D': 0, 'E': 0, 'F': 0, 'G': 0}"
      ]
     },
     "execution_count": 19,
     "metadata": {},
     "output_type": "execute_result"
    }
   ],
   "source": [
    "rank"
   ]
  },
  {
   "cell_type": "code",
   "execution_count": 21,
   "metadata": {},
   "outputs": [],
   "source": [
    "mygraph = {\n",
    "    'vertices': ['A', 'B', 'C', 'D', 'E', 'F', 'G'],\n",
    "    'edges': [\n",
    "        (7, 'A', 'B'),\n",
    "        (7, 'B', 'A'),\n",
    "        (5, 'A', 'D'),\n",
    "        (5, 'D', 'A'),\n",
    "        (9, 'B', 'D'),\n",
    "        (9, 'D', 'B'),\n",
    "        (8, 'B', 'C'),\n",
    "        (8, 'C', 'B'),\n",
    "        (7, 'B', 'E'),\n",
    "        (7, 'E', 'B'),\n",
    "        (5, 'C', 'E'),\n",
    "        (5, 'E', 'C'),\n",
    "        (6, 'D', 'F'),\n",
    "        (6, 'F', 'D'),\n",
    "        (7, 'D', 'E'),\n",
    "        (7, 'E', 'D'),\n",
    "        (8, 'E', 'F'),\n",
    "        (8, 'F', 'E'),\n",
    "        (9, 'E', 'G'),\n",
    "        (9, 'G', 'E'),\n",
    "        (11, 'F', 'G'),\n",
    "        (11, 'G', 'F'),\n",
    "    ]\n",
    "}"
   ]
  },
  {
   "cell_type": "code",
   "execution_count": 22,
   "metadata": {},
   "outputs": [
    {
     "data": {
      "text/plain": [
       "[(5, 'A', 'D'),\n",
       " (5, 'C', 'E'),\n",
       " (6, 'D', 'F'),\n",
       " (7, 'A', 'B'),\n",
       " (7, 'B', 'E'),\n",
       " (9, 'E', 'G')]"
      ]
     },
     "execution_count": 22,
     "metadata": {},
     "output_type": "execute_result"
    }
   ],
   "source": [
    "kruskal(mygraph)"
   ]
  },
  {
   "cell_type": "code",
   "execution_count": null,
   "metadata": {},
   "outputs": [],
   "source": []
  }
 ],
 "metadata": {
  "kernelspec": {
   "display_name": "Python 3",
   "language": "python",
   "name": "python3"
  },
  "language_info": {
   "codemirror_mode": {
    "name": "ipython",
    "version": 3
   },
   "file_extension": ".py",
   "mimetype": "text/x-python",
   "name": "python",
   "nbconvert_exporter": "python",
   "pygments_lexer": "ipython3",
   "version": "3.7.5"
  }
 },
 "nbformat": 4,
 "nbformat_minor": 2
}
