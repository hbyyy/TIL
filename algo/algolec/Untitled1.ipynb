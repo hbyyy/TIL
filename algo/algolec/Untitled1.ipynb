{
 "cells": [
  {
   "cell_type": "code",
   "execution_count": 3,
   "metadata": {},
   "outputs": [
    {
     "name": "stdout",
     "output_type": "stream",
     "text": [
      "4\n",
      "3 2 3 5\n",
      "3 1 5 11 "
     ]
    }
   ],
   "source": [
    "n = int(input())\n",
    "seq = list(map(int, input().split()))\n",
    "for i, num in enumerate(seq):\n",
    "    print(seq[i], end=' ') if i==0 else print(seq[i]*(i+1)-seq[i-1]*i, end=' ')   "
   ]
  },
  {
   "cell_type": "code",
   "execution_count": 8,
   "metadata": {},
   "outputs": [
    {
     "data": {
      "text/plain": [
       "88"
      ]
     },
     "execution_count": 8,
     "metadata": {},
     "output_type": "execute_result"
    }
   ],
   "source": [
    "ord('X')"
   ]
  },
  {
   "cell_type": "code",
   "execution_count": 15,
   "metadata": {},
   "outputs": [
    {
     "name": "stdout",
     "output_type": "stream",
     "text": [
      "8\n",
      "XOOOXOOX\n"
     ]
    }
   ],
   "source": [
    "n = int(input())\n",
    "ox = list(map(lambda x:0 if ord(x)==79 else 1, list(input())))"
   ]
  },
  {
   "cell_type": "code",
   "execution_count": 16,
   "metadata": {},
   "outputs": [
    {
     "data": {
      "text/plain": [
       "[1, 0, 0, 0, 1, 0, 0, 1]"
      ]
     },
     "execution_count": 16,
     "metadata": {},
     "output_type": "execute_result"
    }
   ],
   "source": [
    "ox"
   ]
  },
  {
   "cell_type": "code",
   "execution_count": 17,
   "metadata": {},
   "outputs": [
    {
     "name": "stdout",
     "output_type": "stream",
     "text": [
      "8\n",
      "XOOOXOOX\n"
     ]
    }
   ],
   "source": [
    "n = int(input())\n",
    "ox = list(input())"
   ]
  },
  {
   "cell_type": "code",
   "execution_count": 18,
   "metadata": {},
   "outputs": [
    {
     "data": {
      "text/plain": [
       "['X', 'O', 'O', 'O', 'X', 'O', 'O', 'X']"
      ]
     },
     "execution_count": 18,
     "metadata": {},
     "output_type": "execute_result"
    }
   ],
   "source": [
    "ox"
   ]
  },
  {
   "cell_type": "code",
   "execution_count": 19,
   "metadata": {},
   "outputs": [
    {
     "name": "stdout",
     "output_type": "stream",
     "text": [
      "8\n",
      "XOOOXOOX\n",
      "26\n"
     ]
    }
   ],
   "source": [
    "n = int(input())\n",
    "answer = list(input())\n",
    "\n",
    "point = 0\n",
    "bonus = 0\n",
    "for ox in answer:\n",
    "    if ox == 'O': \n",
    "        point = point + bonus\n",
    "        bonus += 1\n",
    "    else:\n",
    "        point += point\n",
    "        bonux = 0\n",
    "print(point)"
   ]
  },
  {
   "cell_type": "code",
   "execution_count": 20,
   "metadata": {},
   "outputs": [
    {
     "name": "stdout",
     "output_type": "stream",
     "text": [
      "8\n",
      "XOOOXOOX\n",
      "46\n"
     ]
    }
   ],
   "source": [
    "n = int(input())\n",
    "answer = list(input())\n",
    "\n",
    "point = 0\n",
    "bonus = 0\n",
    "for i, ox in enumerate(answer, 1):\n",
    "    if ox == 'O': \n",
    "        point = point + i + bonus\n",
    "        bonus += 1\n",
    "    else:\n",
    "        point = point + i\n",
    "        bonux = 0\n",
    "print(point)"
   ]
  },
  {
   "cell_type": "code",
   "execution_count": 22,
   "metadata": {},
   "outputs": [
    {
     "name": "stdout",
     "output_type": "stream",
     "text": [
      "8\n",
      "XOOOXOOX\n",
      "26\n"
     ]
    }
   ],
   "source": [
    "n = int(input())\n",
    "answer = list(input())\n",
    "\n",
    "point = 0\n",
    "bonus = 0\n",
    "for i, ox in enumerate(answer, 1):\n",
    "    if ox == 'O': \n",
    "        point = point + i + bonus\n",
    "        bonus += 1\n",
    "    else: bonus = 0\n",
    "print(point)"
   ]
  },
  {
   "cell_type": "code",
   "execution_count": null,
   "metadata": {},
   "outputs": [],
   "source": []
  }
 ],
 "metadata": {
  "kernelspec": {
   "display_name": "Python 3",
   "language": "python",
   "name": "python3"
  },
  "language_info": {
   "codemirror_mode": {
    "name": "ipython",
    "version": 3
   },
   "file_extension": ".py",
   "mimetype": "text/x-python",
   "name": "python",
   "nbconvert_exporter": "python",
   "pygments_lexer": "ipython3",
   "version": "3.7.5"
  }
 },
 "nbformat": 4,
 "nbformat_minor": 2
}
