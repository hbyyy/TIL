{
 "cells": [
  {
   "cell_type": "code",
   "execution_count": 7,
   "metadata": {},
   "outputs": [],
   "source": [
    "a = [3,1,2]\n",
    "b = [1,3,2]"
   ]
  },
  {
   "cell_type": "code",
   "execution_count": 8,
   "metadata": {},
   "outputs": [
    {
     "data": {
      "text/plain": [
       "False"
      ]
     },
     "execution_count": 8,
     "metadata": {},
     "output_type": "execute_result"
    }
   ],
   "source": [
    "a == b"
   ]
  },
  {
   "cell_type": "code",
   "execution_count": 9,
   "metadata": {},
   "outputs": [
    {
     "data": {
      "text/plain": [
       "4"
      ]
     },
     "execution_count": 9,
     "metadata": {},
     "output_type": "execute_result"
    }
   ],
   "source": [
    "max(1,2,3,4)"
   ]
  },
  {
   "cell_type": "code",
   "execution_count": 10,
   "metadata": {},
   "outputs": [
    {
     "data": {
      "text/plain": [
       "177147"
      ]
     },
     "execution_count": 10,
     "metadata": {},
     "output_type": "execute_result"
    }
   ],
   "source": [
    "3**11"
   ]
  },
  {
   "cell_type": "markdown",
   "metadata": {},
   "source": [
    "## 모든 순열 "
   ]
  },
  {
   "cell_type": "code",
   "execution_count": 6,
   "metadata": {},
   "outputs": [
    {
     "name": "stdout",
     "output_type": "stream",
     "text": [
      "3\n",
      "[1]\n",
      "[1, 2]\n",
      "[1, 2, 3]\n",
      "1 2 3 \n",
      "--- [1, 2]\n",
      "--- [1]\n",
      "[1, 3]\n",
      "[1, 3, 2]\n",
      "1 3 2 \n",
      "--- [1, 3]\n",
      "--- [1]\n",
      "--- []\n",
      "[2]\n",
      "[2, 1]\n",
      "[2, 1, 3]\n",
      "2 1 3 \n",
      "--- [2, 1]\n",
      "--- [2]\n",
      "[2, 3]\n",
      "[2, 3, 1]\n",
      "2 3 1 \n",
      "--- [2, 3]\n",
      "--- [2]\n",
      "--- []\n",
      "[3]\n",
      "[3, 1]\n",
      "[3, 1, 2]\n",
      "3 1 2 \n",
      "--- [3, 1]\n",
      "--- [3]\n",
      "[3, 2]\n",
      "[3, 2, 1]\n",
      "3 2 1 \n",
      "--- [3, 2]\n",
      "--- [3]\n",
      "--- []\n"
     ]
    }
   ],
   "source": [
    "n = int(input())\n",
    "check = [False for _ in range(n +1)]\n",
    "array = []\n",
    "\n",
    "def permutations(cnt):\n",
    "    if cnt == n:\n",
    "        for num in array:\n",
    "            print(num, end=' ')\n",
    "        print()\n",
    "        return\n",
    "    \n",
    "    for i in range(1, n +1):\n",
    "        if not check[i]:\n",
    "            check[i] = True\n",
    "            array.append(i)\n",
    "            print(array)\n",
    "            permutations(cnt +1)\n",
    "            array.pop()\n",
    "            print('---', array)\n",
    "            check[i] = False\n",
    "            \n",
    "permutations(0)"
   ]
  },
  {
   "cell_type": "code",
   "execution_count": null,
   "metadata": {},
   "outputs": [],
   "source": []
  }
 ],
 "metadata": {
  "kernelspec": {
   "display_name": "Python 3",
   "language": "python",
   "name": "python3"
  },
  "language_info": {
   "codemirror_mode": {
    "name": "ipython",
    "version": 3
   },
   "file_extension": ".py",
   "mimetype": "text/x-python",
   "name": "python",
   "nbconvert_exporter": "python",
   "pygments_lexer": "ipython3",
   "version": "3.7.5"
  }
 },
 "nbformat": 4,
 "nbformat_minor": 2
}
