{
 "cells": [
  {
   "cell_type": "code",
   "execution_count": 31,
   "metadata": {},
   "outputs": [],
   "source": [
    "input1 = ['119', '97674223', '1195524421']\n",
    "input2 = ['123','456','789']\n",
    "input3 = ['12','123','1235','567','88']\n",
    "input4 = ['13', '124','1264', '16', '12456454', '14']"
   ]
  },
  {
   "cell_type": "code",
   "execution_count": 32,
   "metadata": {},
   "outputs": [],
   "source": [
    "def solution(phone_book):\n",
    "    sorted_phone_book = sorted(phone_book, key=len)\n",
    "    print(f'1 : {sorted_phone_book}')\n",
    "    for i in range(0, len(sorted_phone_book) -1):\n",
    "        print(i)\n",
    "        print(f'2: {sorted_phone_book[i]}')\n",
    "        for j in range(i+1, len(sorted_phone_book)):\n",
    "            print(f'3: {sorted_phone_book[j][0:len(sorted_phone_book[i])]}')\n",
    "            if sorted_phone_book[i] == sorted_phone_book[j][0:len(sorted_phone_book[i])] : \n",
    "                return True\n",
    "    return False\n",
    "\n"
   ]
  },
  {
   "cell_type": "code",
   "execution_count": 22,
   "metadata": {},
   "outputs": [
    {
     "name": "stdout",
     "output_type": "stream",
     "text": [
      "1 : ['119', '97674223', '1195524421']\n",
      "0\n",
      "2: 119\n",
      "3: 976\n",
      "3: 119\n"
     ]
    },
    {
     "data": {
      "text/plain": [
       "True"
      ]
     },
     "execution_count": 22,
     "metadata": {},
     "output_type": "execute_result"
    }
   ],
   "source": [
    "solution(input1)"
   ]
  },
  {
   "cell_type": "code",
   "execution_count": 23,
   "metadata": {},
   "outputs": [],
   "source": [
    "# def solution(phone_book):\n",
    "#     min_number_len = len(phone_book[0])\n",
    "#     for i in range(1, len(phone_book)):\n",
    "#         if min_number_len > len(phone_book[i]):\n",
    "#             min_number_len = len(phone_book[i])\n",
    "#     for i in range(0, len(phone_book)):\n",
    "#         if min_number_len < len(phone_book[i]):\n",
    "#             phone_book[i] = phone_book[i][0:min_number_len]\n",
    "#         print(phone_book)\n",
    "#     if len(phone_book) == len(set(phone_book)):\n",
    "#         return True\n",
    "#     else:\n",
    "#         return False\n",
    "\n",
    "# def solution(phone_book):\n",
    "#     for i in range(len(phone_book) -1):\n",
    "#         for j in range(i +1, len(phone_book)):\n",
    "#             # if len(phone_book[i]) > len(phone_book[j]):\n",
    "#             #     continue\n",
    "#             if phone_book[i] == phone_book[j][0:len(phone_book[i])]:\n",
    "#                 return False\n",
    "#             elif phone_book[i][0:len(phone_book[j])] == phone_book[j]:\n",
    "#                 return False\n",
    "#             else:\n",
    "#                 pass\n",
    "#     else:\n",
    "#         return True\n",
    "\n",
    "def solution(phone_book):\n",
    "    phone_book.sort(key = len)\n",
    "    print(phone_book)"
   ]
  },
  {
   "cell_type": "code",
   "execution_count": 1,
   "metadata": {},
   "outputs": [],
   "source": [
    "# 내 풀이\n",
    "def solution(phone_book):\n",
    "    # sorted_phone_book = sorted(phone_book, key=len)\n",
    "    \n",
    "    for i in range(0, len(phone_book) -1):\n",
    "        for j in range(i+1, len(phone_book)):\n",
    "            if phone_book[i] == phone_book[j][0:len(phone_book[i])] : \n",
    "                return False\n",
    "    return True\n",
    "\n"
   ]
  },
  {
   "cell_type": "code",
   "execution_count": null,
   "metadata": {},
   "outputs": [],
   "source": []
  }
 ],
 "metadata": {
  "kernelspec": {
   "display_name": "Python 3",
   "language": "python",
   "name": "python3"
  },
  "language_info": {
   "codemirror_mode": {
    "name": "ipython",
    "version": 3
   },
   "file_extension": ".py",
   "mimetype": "text/x-python",
   "name": "python",
   "nbconvert_exporter": "python",
   "pygments_lexer": "ipython3",
   "version": "3.7.5"
  }
 },
 "nbformat": 4,
 "nbformat_minor": 2
}
