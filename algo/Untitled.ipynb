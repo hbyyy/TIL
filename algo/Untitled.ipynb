{
 "cells": [
  {
   "cell_type": "code",
   "execution_count": 1,
   "metadata": {},
   "outputs": [],
   "source": [
    "num_list = [[1,2,3], [4,5,6], [7,8,9], ['*',0,'#']]"
   ]
  },
  {
   "cell_type": "code",
   "execution_count": 5,
   "metadata": {},
   "outputs": [
    {
     "name": "stdout",
     "output_type": "stream",
     "text": [
      "0 0\n"
     ]
    }
   ],
   "source": [
    "for i, list1 in enumerate(num_list):\n",
    "    try:\n",
    "        print(i, list1.index(1))\n",
    "    except ValueError:\n",
    "        continue"
   ]
  },
  {
   "cell_type": "code",
   "execution_count": 7,
   "metadata": {},
   "outputs": [
    {
     "data": {
      "text/plain": [
       "1"
      ]
     },
     "execution_count": 7,
     "metadata": {},
     "output_type": "execute_result"
    }
   ],
   "source": [
    "abs(-1)"
   ]
  },
  {
   "cell_type": "code",
   "execution_count": 12,
   "metadata": {},
   "outputs": [],
   "source": [
    "def solution(numbers, hand):\n",
    "    answer = ''\n",
    "    board = [[1,2,3], [4,5,6], [7,8,9], ['*',0,'#']]\n",
    "    lh = (3, 0)\n",
    "    rh = (3, 2)\n",
    "    idx = (0, 0)\n",
    "    for number in numbers:\n",
    "        if number in [1,4,7]:\n",
    "            if number == 1:\n",
    "                lh = (0, 0)\n",
    "                answer += \"L\"\n",
    "            elif number == 4:\n",
    "                lh = (1, 0)\n",
    "                answer += \"L\"\n",
    "            else:\n",
    "                lh = (2, 0)\n",
    "                answer += \"L\"\n",
    "        elif number in [3,6,9]:\n",
    "            if number == 3:\n",
    "                rh = (0, 2)\n",
    "                answer += \"R\"\n",
    "            elif number == 6:\n",
    "                rh = (1, 2)\n",
    "                answer += \"R\"\n",
    "            else:\n",
    "                rh = (2, 2)\n",
    "                answer += \"R\"\n",
    "        else:\n",
    "            for i, num_list in enumerate(board):\n",
    "                try:\n",
    "                    idx = (i-1, num_list.index(number))\n",
    "                    print(idx)\n",
    "                except ValueError:\n",
    "                    continue\n",
    "            lh_to_num = abs(lh[0] - idx[0]) + abs(lh[1] - idx[1])\n",
    "            rh_to_num = abs(rh[0] - idx[0]) + abs(rh[1] - idx[1])\n",
    "            if lh_to_num > rh_to_num:\n",
    "                rh = idx\n",
    "                answer += \"R\"\n",
    "            elif lh_to_num < rh_to_num:\n",
    "                lh = idx\n",
    "                answer += \"L\"\n",
    "            else:\n",
    "                if hand == 'right':\n",
    "                    rh = idx\n",
    "                    answer += \"R\"\n",
    "                else:\n",
    "                    lh = idx\n",
    "                    answer += \"L\"\n",
    "    \n",
    "    return answer"
   ]
  },
  {
   "cell_type": "code",
   "execution_count": 13,
   "metadata": {},
   "outputs": [],
   "source": [
    "number = [1, 3, 4, 5, 8, 2, 1, 4, 5, 9, 5]\n",
    "hand = 'right'\n"
   ]
  },
  {
   "cell_type": "code",
   "execution_count": 14,
   "metadata": {},
   "outputs": [
    {
     "name": "stdout",
     "output_type": "stream",
     "text": [
      "(0, 1)\n",
      "(1, 1)\n",
      "(-1, 1)\n",
      "(0, 1)\n",
      "(0, 1)\n"
     ]
    },
    {
     "data": {
      "text/plain": [
       "'LRLRRRLLRRL'"
      ]
     },
     "execution_count": 14,
     "metadata": {},
     "output_type": "execute_result"
    }
   ],
   "source": [
    "solution(number, hand)"
   ]
  },
  {
   "cell_type": "code",
   "execution_count": 15,
   "metadata": {},
   "outputs": [
    {
     "name": "stdout",
     "output_type": "stream",
     "text": [
      "(0, 1)\n",
      "(1, 2)\n",
      "(2, 3)\n"
     ]
    }
   ],
   "source": [
    "for i in enumerate([1,2,3]):\n",
    "    print(i), num"
   ]
  },
  {
   "cell_type": "markdown",
   "metadata": {},
   "source": [
    "## 3번"
   ]
  },
  {
   "cell_type": "code",
   "execution_count": 16,
   "metadata": {},
   "outputs": [],
   "source": [
    "def solution(gems):\n",
    "    answer = []\n",
    "    return answer"
   ]
  },
  {
   "cell_type": "markdown",
   "metadata": {},
   "source": [
    "## 2번"
   ]
  },
  {
   "cell_type": "code",
   "execution_count": 18,
   "metadata": {},
   "outputs": [],
   "source": [
    "exp = \"100-200*300-500+20\""
   ]
  },
  {
   "cell_type": "code",
   "execution_count": 20,
   "metadata": {},
   "outputs": [
    {
     "data": {
      "text/plain": [
       "['100', '200*300', '500+20']"
      ]
     },
     "execution_count": 20,
     "metadata": {},
     "output_type": "execute_result"
    }
   ],
   "source": [
    "exp.split('-')"
   ]
  },
  {
   "cell_type": "code",
   "execution_count": 21,
   "metadata": {},
   "outputs": [],
   "source": [
    "import re"
   ]
  },
  {
   "cell_type": "code",
   "execution_count": 28,
   "metadata": {},
   "outputs": [],
   "source": [
    "symbol = re.compile('(\\d+|[*+-])')"
   ]
  },
  {
   "cell_type": "code",
   "execution_count": 30,
   "metadata": {},
   "outputs": [],
   "source": [
    "exp_list = re.findall(symbol, exp)"
   ]
  },
  {
   "cell_type": "code",
   "execution_count": 37,
   "metadata": {},
   "outputs": [
    {
     "ename": "ValueError",
     "evalue": "'!' is not in list",
     "output_type": "error",
     "traceback": [
      "\u001b[0;31m---------------------------------------------------------------------------\u001b[0m",
      "\u001b[0;31mValueError\u001b[0m                                Traceback (most recent call last)",
      "\u001b[0;32m<ipython-input-37-472892376f60>\u001b[0m in \u001b[0;36m<module>\u001b[0;34m\u001b[0m\n\u001b[0;32m----> 1\u001b[0;31m \u001b[0mexp_list\u001b[0m\u001b[0;34m.\u001b[0m\u001b[0mindex\u001b[0m\u001b[0;34m(\u001b[0m\u001b[0;34m'!'\u001b[0m\u001b[0;34m)\u001b[0m\u001b[0;34m\u001b[0m\u001b[0;34m\u001b[0m\u001b[0m\n\u001b[0m",
      "\u001b[0;31mValueError\u001b[0m: '!' is not in list"
     ]
    }
   ],
   "source": [
    "exp_list.index('!')"
   ]
  },
  {
   "cell_type": "code",
   "execution_count": 43,
   "metadata": {},
   "outputs": [],
   "source": [
    "import re\n",
    "\n",
    "def solution(expression):\n",
    "    symbol = re.compile('(\\d+|[*+-])')\n",
    "    exp_list = re.findall(symbol, exp)\n",
    "    operator_list = list(set(re.findall('[*+-]', exp)))\n",
    "    answer = 0\n",
    "    return answer"
   ]
  },
  {
   "cell_type": "code",
   "execution_count": 44,
   "metadata": {},
   "outputs": [],
   "source": [
    "symbol = re.compile('(\\d+|[*+-])')\n",
    "exp_list = re.findall(symbol, exp)\n",
    "operator_list = list(set(re.findall('[*+-]', exp)))"
   ]
  },
  {
   "cell_type": "code",
   "execution_count": 69,
   "metadata": {},
   "outputs": [
    {
     "ename": "ValueError",
     "evalue": "'2' is not in list",
     "output_type": "error",
     "traceback": [
      "\u001b[0;31m---------------------------------------------------------------------------\u001b[0m",
      "\u001b[0;31mValueError\u001b[0m                                Traceback (most recent call last)",
      "\u001b[0;32m<ipython-input-69-f6d50857ff49>\u001b[0m in \u001b[0;36m<module>\u001b[0;34m\u001b[0m\n\u001b[0;32m----> 1\u001b[0;31m \u001b[0moperator_list\u001b[0m\u001b[0;34m.\u001b[0m\u001b[0mindex\u001b[0m\u001b[0;34m(\u001b[0m\u001b[0;34m\"2\"\u001b[0m\u001b[0;34m)\u001b[0m\u001b[0;34m\u001b[0m\u001b[0;34m\u001b[0m\u001b[0m\n\u001b[0m",
      "\u001b[0;31mValueError\u001b[0m: '2' is not in list"
     ]
    }
   ],
   "source": [
    "operator_list.index(\"2\")"
   ]
  },
  {
   "cell_type": "code",
   "execution_count": 46,
   "metadata": {},
   "outputs": [],
   "source": [
    "from collections import deque"
   ]
  },
  {
   "cell_type": "code",
   "execution_count": 47,
   "metadata": {},
   "outputs": [],
   "source": [
    "d = deque(operator_list)"
   ]
  },
  {
   "cell_type": "code",
   "execution_count": 48,
   "metadata": {},
   "outputs": [
    {
     "data": {
      "text/plain": [
       "deque(['-', '+', '*'])"
      ]
     },
     "execution_count": 48,
     "metadata": {},
     "output_type": "execute_result"
    }
   ],
   "source": [
    "d"
   ]
  },
  {
   "cell_type": "code",
   "execution_count": 67,
   "metadata": {},
   "outputs": [],
   "source": [
    "d.rotate()"
   ]
  },
  {
   "cell_type": "code",
   "execution_count": 68,
   "metadata": {},
   "outputs": [
    {
     "data": {
      "text/plain": [
       "deque(['*', '-', '+'])"
      ]
     },
     "execution_count": 68,
     "metadata": {},
     "output_type": "execute_result"
    }
   ],
   "source": [
    "d\n"
   ]
  },
  {
   "cell_type": "code",
   "execution_count": 70,
   "metadata": {},
   "outputs": [],
   "source": [
    "from itertools import permutations"
   ]
  },
  {
   "cell_type": "code",
   "execution_count": 71,
   "metadata": {},
   "outputs": [],
   "source": [
    "d = list(permutations(operator_list, 3))"
   ]
  },
  {
   "cell_type": "code",
   "execution_count": 72,
   "metadata": {},
   "outputs": [
    {
     "data": {
      "text/plain": [
       "[('-', '+', '*'),\n",
       " ('-', '*', '+'),\n",
       " ('+', '-', '*'),\n",
       " ('+', '*', '-'),\n",
       " ('*', '-', '+'),\n",
       " ('*', '+', '-')]"
      ]
     },
     "execution_count": 72,
     "metadata": {},
     "output_type": "execute_result"
    }
   ],
   "source": [
    "d"
   ]
  },
  {
   "cell_type": "code",
   "execution_count": 174,
   "metadata": {},
   "outputs": [],
   "source": [
    "import re\n",
    "from itertools import permutations\n",
    "\n",
    "def solution(expression):\n",
    "    symbol = re.compile('(\\d+|[*+-])')\n",
    "    exp_list = re.findall(symbol, expression)\n",
    "    operator_list = list(set(re.findall('[*+-]', expression)))\n",
    "    result = 0\n",
    "    \n",
    "    for operators in list(permutations(operator_list, len(operator_list))):\n",
    "        tmp_list = exp_list.copy()\n",
    "        for operator in operators:\n",
    "            while True:\n",
    "                try:\n",
    "                    idx = tmp_list.index(operator)\n",
    "                    value = eval(tmp_list[idx-1] + operator + tmp_list[idx+1])\n",
    "                    for i in range(3):\n",
    "                            tmp_list.pop(idx-1)\n",
    "                    tmp_list.insert(idx-1, str(value))\n",
    "#                     if operator == '*':\n",
    "#                         value = int(tmp_list[idx-1])*int(tmp_list[idx+1])\n",
    "#                         for i in range(3):\n",
    "#                             tmp_list.pop(idx-1)\n",
    "#                         tmp_list.insert(idx-1, str(value))\n",
    "                        \n",
    "#                     elif operator == '+':\n",
    "#                         value = int(tmp_list[idx-1])+int(tmp_list[idx+1])\n",
    "#                         for i in range(3):\n",
    "#                             tmp_list.pop(idx-1)\n",
    "#                         tmp_list.insert(idx-1, str(value))\n",
    "                        \n",
    "#                     else:\n",
    "#                         value = int(tmp_list[idx-1])-int(tmp_list[idx+1])\n",
    "#                         for i in range(3):\n",
    "#                             tmp_list.pop(idx-1)\n",
    "#                         tmp_list.insert(idx-1, str(value))\n",
    "                        \n",
    "                except ValueError:\n",
    "                    break\n",
    "            if len(tmp_list) == 1:\n",
    "                result = max(result, abs(int(tmp_list[0])))\n",
    "        print(result)\n",
    "            \n",
    "                \n",
    "    return result"
   ]
  },
  {
   "cell_type": "code",
   "execution_count": 175,
   "metadata": {},
   "outputs": [],
   "source": [
    "expression = \"100-200*300-500+20\""
   ]
  },
  {
   "cell_type": "code",
   "execution_count": 176,
   "metadata": {},
   "outputs": [
    {
     "name": "stdout",
     "output_type": "stream",
     "text": [
      "18000\n",
      "20020\n",
      "22000\n",
      "60420\n",
      "60420\n",
      "60420\n"
     ]
    },
    {
     "data": {
      "text/plain": [
       "60420"
      ]
     },
     "execution_count": 176,
     "metadata": {},
     "output_type": "execute_result"
    }
   ],
   "source": [
    "solution(expression)"
   ]
  },
  {
   "cell_type": "code",
   "execution_count": 177,
   "metadata": {},
   "outputs": [],
   "source": [
    "a = [1,2,3]"
   ]
  },
  {
   "cell_type": "code",
   "execution_count": 178,
   "metadata": {},
   "outputs": [
    {
     "data": {
      "text/plain": [
       "1"
      ]
     },
     "execution_count": 178,
     "metadata": {},
     "output_type": "execute_result"
    }
   ],
   "source": [
    "a.index(2)"
   ]
  },
  {
   "cell_type": "code",
   "execution_count": 97,
   "metadata": {},
   "outputs": [],
   "source": [
    "tmp_list = a.copy()"
   ]
  },
  {
   "cell_type": "code",
   "execution_count": 98,
   "metadata": {},
   "outputs": [
    {
     "data": {
      "text/plain": [
       "[1, 2, 9]"
      ]
     },
     "execution_count": 98,
     "metadata": {},
     "output_type": "execute_result"
    }
   ],
   "source": [
    "tmp_list"
   ]
  },
  {
   "cell_type": "code",
   "execution_count": 100,
   "metadata": {},
   "outputs": [],
   "source": [
    "a[2] = 3"
   ]
  },
  {
   "cell_type": "code",
   "execution_count": 101,
   "metadata": {},
   "outputs": [
    {
     "data": {
      "text/plain": [
       "[1, 2, 3]"
      ]
     },
     "execution_count": 101,
     "metadata": {},
     "output_type": "execute_result"
    }
   ],
   "source": [
    "a"
   ]
  },
  {
   "cell_type": "code",
   "execution_count": 102,
   "metadata": {},
   "outputs": [
    {
     "data": {
      "text/plain": [
       "[1, 2, 9]"
      ]
     },
     "execution_count": 102,
     "metadata": {},
     "output_type": "execute_result"
    }
   ],
   "source": [
    "tmp_list"
   ]
  },
  {
   "cell_type": "code",
   "execution_count": 113,
   "metadata": {},
   "outputs": [
    {
     "data": {
      "text/plain": [
       "[1, 2, 3]"
      ]
     },
     "execution_count": 113,
     "metadata": {},
     "output_type": "execute_result"
    }
   ],
   "source": [
    "a"
   ]
  },
  {
   "cell_type": "code",
   "execution_count": 114,
   "metadata": {},
   "outputs": [],
   "source": [
    "a.insert(1, 1)"
   ]
  },
  {
   "cell_type": "code",
   "execution_count": 115,
   "metadata": {},
   "outputs": [
    {
     "data": {
      "text/plain": [
       "[1, 1, 2, 3]"
      ]
     },
     "execution_count": 115,
     "metadata": {},
     "output_type": "execute_result"
    }
   ],
   "source": [
    "a"
   ]
  },
  {
   "cell_type": "code",
   "execution_count": 179,
   "metadata": {},
   "outputs": [],
   "source": [
    "import re\n",
    "from itertools import permutations\n",
    "\n",
    "def solution(expression):\n",
    "    \n",
    "    exp_list = re.findall('(\\d+|[*+-])', expression)\n",
    "    operator_list = list(set(re.findall('[*+-]', expression)))\n",
    "    result = 0\n",
    "    \n",
    "    for operators in list(permutations(operator_list, len(operator_list))):\n",
    "        tmp_list = exp_list.copy()\n",
    "        for operator in operators:\n",
    "            while True:\n",
    "                try:    \n",
    "                    idx = tmp_list.index(operator)\n",
    "                    value = eval(tmp_list[idx-1] + operator + tmp_list[idx+1])\n",
    "                    for i in range(3):\n",
    "                            tmp_list.pop(idx-1)\n",
    "                    tmp_list.insert(idx-1, str(value))                        \n",
    "                except ValueError:\n",
    "                    break\n",
    "            if len(tmp_list) == 1:\n",
    "                result = max(result, abs(int(tmp_list[0])))\n",
    "    return result"
   ]
  },
  {
   "cell_type": "code",
   "execution_count": 180,
   "metadata": {},
   "outputs": [],
   "source": [
    "def solution(gems):\n",
    "    answer = []\n",
    "    return answer"
   ]
  },
  {
   "cell_type": "markdown",
   "metadata": {},
   "source": [
    "## 3번"
   ]
  },
  {
   "cell_type": "code",
   "execution_count": 248,
   "metadata": {},
   "outputs": [],
   "source": [
    "def solution(gems):\n",
    "    answer = []\n",
    "    gem_list = set(gems)\n",
    "    print('---', gem_list)\n",
    "    for i in range(0, len(gems)):\n",
    "        tmp = gem_list.copy()\n",
    "        for j in range(i, len(gems)):\n",
    "            print(gems[j])\n",
    "            tmp =  tmp - {gems[j]}\n",
    "            print(tmp)\n",
    "            if not tmp :\n",
    "                print(answer)\n",
    "                if not answer:\n",
    "                    answer.append(i + 1)\n",
    "                    answer.append(j + 1)\n",
    "                else:\n",
    "                    tmp1 = answer[1]-answer[0]\n",
    "                    tmp2 = j - i\n",
    "                    if tmp2 < tmp1:\n",
    "                        answer[0] = i + 1\n",
    "                        answer[1] = j + 1\n",
    "                \n",
    "    return answer"
   ]
  },
  {
   "cell_type": "code",
   "execution_count": 249,
   "metadata": {},
   "outputs": [],
   "source": [
    "gems = [\"DIA\", \"RUBY\", \"RUBY\", \"DIA\", \"DIA\", \"EMERALD\", \"SAPPHIRE\", \"DIA\"]"
   ]
  },
  {
   "cell_type": "code",
   "execution_count": 250,
   "metadata": {},
   "outputs": [
    {
     "name": "stdout",
     "output_type": "stream",
     "text": [
      "--- {'RUBY', 'SAPPHIRE', 'EMERALD', 'DIA'}\n",
      "DIA\n",
      "{'RUBY', 'EMERALD', 'SAPPHIRE'}\n",
      "RUBY\n",
      "{'SAPPHIRE', 'EMERALD'}\n",
      "RUBY\n",
      "{'EMERALD', 'SAPPHIRE'}\n",
      "DIA\n",
      "{'SAPPHIRE', 'EMERALD'}\n",
      "DIA\n",
      "{'EMERALD', 'SAPPHIRE'}\n",
      "EMERALD\n",
      "{'SAPPHIRE'}\n",
      "SAPPHIRE\n",
      "set()\n",
      "[]\n",
      "DIA\n",
      "set()\n",
      "[1, 7]\n",
      "RUBY\n",
      "{'DIA', 'EMERALD', 'SAPPHIRE'}\n",
      "RUBY\n",
      "{'SAPPHIRE', 'EMERALD', 'DIA'}\n",
      "DIA\n",
      "{'EMERALD', 'SAPPHIRE'}\n",
      "DIA\n",
      "{'SAPPHIRE', 'EMERALD'}\n",
      "EMERALD\n",
      "{'SAPPHIRE'}\n",
      "SAPPHIRE\n",
      "set()\n",
      "[1, 7]\n",
      "DIA\n",
      "set()\n",
      "[2, 7]\n",
      "RUBY\n",
      "{'DIA', 'EMERALD', 'SAPPHIRE'}\n",
      "DIA\n",
      "{'SAPPHIRE', 'EMERALD'}\n",
      "DIA\n",
      "{'EMERALD', 'SAPPHIRE'}\n",
      "EMERALD\n",
      "{'SAPPHIRE'}\n",
      "SAPPHIRE\n",
      "set()\n",
      "[2, 7]\n",
      "DIA\n",
      "set()\n",
      "[3, 7]\n",
      "DIA\n",
      "{'RUBY', 'EMERALD', 'SAPPHIRE'}\n",
      "DIA\n",
      "{'RUBY', 'SAPPHIRE', 'EMERALD'}\n",
      "EMERALD\n",
      "{'RUBY', 'SAPPHIRE'}\n",
      "SAPPHIRE\n",
      "{'RUBY'}\n",
      "DIA\n",
      "{'RUBY'}\n",
      "DIA\n",
      "{'RUBY', 'EMERALD', 'SAPPHIRE'}\n",
      "EMERALD\n",
      "{'RUBY', 'SAPPHIRE'}\n",
      "SAPPHIRE\n",
      "{'RUBY'}\n",
      "DIA\n",
      "{'RUBY'}\n",
      "EMERALD\n",
      "{'RUBY', 'DIA', 'SAPPHIRE'}\n",
      "SAPPHIRE\n",
      "{'RUBY', 'DIA'}\n",
      "DIA\n",
      "{'RUBY'}\n",
      "SAPPHIRE\n",
      "{'RUBY', 'DIA', 'EMERALD'}\n",
      "DIA\n",
      "{'RUBY', 'EMERALD'}\n",
      "DIA\n",
      "{'RUBY', 'EMERALD', 'SAPPHIRE'}\n"
     ]
    },
    {
     "data": {
      "text/plain": [
       "[3, 7]"
      ]
     },
     "execution_count": 250,
     "metadata": {},
     "output_type": "execute_result"
    }
   ],
   "source": [
    "solution(gems)"
   ]
  },
  {
   "cell_type": "code",
   "execution_count": 186,
   "metadata": {},
   "outputs": [],
   "source": [
    "a = {'DIA', 'RUBY'}"
   ]
  },
  {
   "cell_type": "code",
   "execution_count": 187,
   "metadata": {},
   "outputs": [],
   "source": [
    "b = a.copy()"
   ]
  },
  {
   "cell_type": "code",
   "execution_count": 188,
   "metadata": {},
   "outputs": [
    {
     "data": {
      "text/plain": [
       "{'DIA', 'RUBY'}"
      ]
     },
     "execution_count": 188,
     "metadata": {},
     "output_type": "execute_result"
    }
   ],
   "source": [
    "b"
   ]
  },
  {
   "cell_type": "code",
   "execution_count": 193,
   "metadata": {},
   "outputs": [
    {
     "data": {
      "text/plain": [
       "{'RUBY'}"
      ]
     },
     "execution_count": 193,
     "metadata": {},
     "output_type": "execute_result"
    }
   ],
   "source": [
    "b - {'DIA'}"
   ]
  },
  {
   "cell_type": "code",
   "execution_count": null,
   "metadata": {},
   "outputs": [],
   "source": [
    "def solution(gems):\n",
    "    answer = []\n",
    "    gem_list = set(gems)\n",
    "    for i in range(0, len(gems)):\n",
    "        tmp = gem_list.copy()\n",
    "        for j in range(i, len(gems)):\n",
    "            tmp =  tmp - {gems[j]}\n",
    "            if not tmp :\n",
    "                if not answer:\n",
    "                    answer.append(i + 1)\n",
    "                    answer.append(j + 1)\n",
    "                else:\n",
    "                    tmp1 = answer[1]-answer[0]\n",
    "                    tmp2 = j - i\n",
    "                    if tmp2 < tmp1:\n",
    "                        answer[0] = i + 1\n",
    "                        answer[1] = j + 1\n",
    "                \n",
    "    return answer"
   ]
  },
  {
   "cell_type": "markdown",
   "metadata": {},
   "source": [
    "# 1번 "
   ]
  },
  {
   "cell_type": "code",
   "execution_count": null,
   "metadata": {},
   "outputs": [],
   "source": [
    "def solution(numbers, hand):\n",
    "    answer = ''\n",
    "    board = [[1,2,3], [4,5,6], [7,8,9], ['*',0,'#']]\n",
    "    lh = (3, 0)\n",
    "    rh = (3, 2)\n",
    "    idx = (0, 0)\n",
    "    for number in numbers:\n",
    "        if number in [1,4,7]:\n",
    "            if number == 1:\n",
    "                lh = (0, 0)\n",
    "                answer += \"L\"\n",
    "            elif number == 4:\n",
    "                lh = (1, 0)\n",
    "                answer += \"L\"\n",
    "            else:\n",
    "                lh = (2, 0)\n",
    "                answer += \"L\"\n",
    "        elif number in [3,6,9]:\n",
    "            if number == 3:\n",
    "                rh = (0, 2)\n",
    "                answer += \"R\"\n",
    "            elif number == 6:\n",
    "                rh = (1, 2)\n",
    "                answer += \"R\"\n",
    "            else:\n",
    "                rh = (2, 2)\n",
    "                answer += \"R\"\n",
    "        else:\n",
    "            for i, num_list in enumerate(board):\n",
    "                try:\n",
    "                    idx = (i, num_list.index(number))\n",
    "                except ValueError:\n",
    "                    continue\n",
    "            lh_to_num = abs(lh[0] - idx[0]) + abs(lh[1] - idx[1])\n",
    "            rh_to_num = abs(rh[0] - idx[0]) + abs(rh[1] - idx[1])\n",
    "            if lh_to_num > rh_to_num:\n",
    "                rh = idx\n",
    "                answer += \"R\"\n",
    "            elif lh_to_num < rh_to_num:\n",
    "                lh = idx\n",
    "                answer += \"L\"\n",
    "            else:\n",
    "                if hand == 'right':\n",
    "                    rh = idx\n",
    "                    answer += \"R\"\n",
    "                else:\n",
    "                    lh = idx\n",
    "                    answer += \"L\"\n",
    "    \n",
    "    return answer"
   ]
  },
  {
   "cell_type": "markdown",
   "metadata": {},
   "source": [
    "# 2번"
   ]
  },
  {
   "cell_type": "code",
   "execution_count": null,
   "metadata": {},
   "outputs": [],
   "source": [
    "import re\n",
    "from itertools import permutations\n",
    "\n",
    "def solution(expression):    \n",
    "    exp_list = re.findall('(\\d+|[*+-])', expression)\n",
    "    operator_list = list(set(re.findall('[*+-]', expression)))\n",
    "    result = 0\n",
    "    \n",
    "    for operators in list(permutations(operator_list, len(operator_list))):\n",
    "        tmp_list = exp_list.copy()\n",
    "        for operator in operators:\n",
    "            while True:\n",
    "                try:    \n",
    "                    idx = tmp_list.index(operator)\n",
    "                    value = eval(tmp_list[idx-1] + operator + tmp_list[idx+1])\n",
    "                    for i in range(3):\n",
    "                            tmp_list.pop(idx-1)\n",
    "                    tmp_list.insert(idx-1, str(value))                        \n",
    "                except ValueError:\n",
    "                    break\n",
    "\n",
    "        result = max(result, abs(int(tmp_list[0])))\n",
    "    return result"
   ]
  },
  {
   "cell_type": "markdown",
   "metadata": {},
   "source": [
    "# 3번"
   ]
  },
  {
   "cell_type": "code",
   "execution_count": 251,
   "metadata": {},
   "outputs": [],
   "source": [
    "def solution(gems):\n",
    "    answer = []\n",
    "    gem_list = set(gems)\n",
    "    for i in range(0, len(gems) - len(gem_list) + 1):\n",
    "        tmp = gem_list.copy()\n",
    "        for j in range(i, len(gems)):\n",
    "            tmp =  tmp - {gems[j]}\n",
    "            if not tmp :\n",
    "                if not answer:\n",
    "                    answer.append(i + 1)\n",
    "                    answer.append(j + 1)\n",
    "                else:\n",
    "                    tmp1 = answer[1]-answer[0]\n",
    "                    tmp2 = j - i\n",
    "                    if tmp2 < tmp1:\n",
    "                        answer[0] = i + 1\n",
    "                        answer[1] = j + 1                \n",
    "    return answer"
   ]
  },
  {
   "cell_type": "code",
   "execution_count": 252,
   "metadata": {},
   "outputs": [],
   "source": [
    "def solution1(gems):\n",
    "    answer = []\n",
    "    gem_list = set(gems)\n",
    "    for i in range(0, len(gems) - len(gem_list) + 1):\n",
    "        tmp = gem_list.copy()\n",
    "        for j in range(i, len(gems)):\n",
    "            tmp =  tmp - {gems[j]}\n",
    "            if not tmp :\n",
    "                if not answer:\n",
    "                    answer.append(i + 1)\n",
    "                    answer.append(j + 1)\n",
    "                else:\n",
    "                    tmp1 = answer[1]-answer[0]\n",
    "                    tmp2 = j - i\n",
    "                    if tmp2 < tmp1:\n",
    "                        answer[0] = i + 1\n",
    "                        answer[1] = j + 1                \n",
    "    return answer"
   ]
  },
  {
   "cell_type": "code",
   "execution_count": 254,
   "metadata": {},
   "outputs": [],
   "source": [
    "gems = gems"
   ]
  },
  {
   "cell_type": "code",
   "execution_count": 255,
   "metadata": {},
   "outputs": [
    {
     "data": {
      "text/plain": [
       "[3, 7]"
      ]
     },
     "execution_count": 255,
     "metadata": {},
     "output_type": "execute_result"
    }
   ],
   "source": [
    "solution1(gems)"
   ]
  },
  {
   "cell_type": "code",
   "execution_count": null,
   "metadata": {},
   "outputs": [],
   "source": []
  }
 ],
 "metadata": {
  "kernelspec": {
   "display_name": "Python 3",
   "language": "python",
   "name": "python3"
  },
  "language_info": {
   "codemirror_mode": {
    "name": "ipython",
    "version": 3
   },
   "file_extension": ".py",
   "mimetype": "text/x-python",
   "name": "python",
   "nbconvert_exporter": "python",
   "pygments_lexer": "ipython3",
   "version": "3.7.5"
  }
 },
 "nbformat": 4,
 "nbformat_minor": 2
}
